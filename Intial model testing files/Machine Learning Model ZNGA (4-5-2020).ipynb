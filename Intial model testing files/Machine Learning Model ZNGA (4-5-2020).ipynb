{
 "cells": [
  {
   "cell_type": "code",
   "execution_count": 1,
   "metadata": {},
   "outputs": [],
   "source": [
    "import pandas as pd\n",
    "import numpy as np\n",
    "import matplotlib.pyplot as plt"
   ]
  },
  {
   "cell_type": "code",
   "execution_count": null,
   "metadata": {},
   "outputs": [],
   "source": [
    "#read the file\n",
    "df = pd.read_json (r'ZNGA.json')\n",
    "\n",
    "#print the head\n",
    "df"
   ]
  },
  {
   "cell_type": "code",
   "execution_count": null,
   "metadata": {},
   "outputs": [],
   "source": [
    "df['t'] = pd.to_datetime(df['t'], unit='s')\n",
    "df = df.rename(columns={'c': 'Close', 'h': 'High', 'l':'Low',  'o': 'Open', 's': 'Status', 't': 'Date', 'v': 'Volume'})\n",
    "df.head()"
   ]
  },
  {
   "cell_type": "markdown",
   "metadata": {},
   "source": [
    "# Linear Regression"
   ]
  },
  {
   "cell_type": "code",
   "execution_count": 2,
   "metadata": {},
   "outputs": [
    {
     "data": {
      "text/html": [
       "<div>\n",
       "<style scoped>\n",
       "    .dataframe tbody tr th:only-of-type {\n",
       "        vertical-align: middle;\n",
       "    }\n",
       "\n",
       "    .dataframe tbody tr th {\n",
       "        vertical-align: top;\n",
       "    }\n",
       "\n",
       "    .dataframe thead th {\n",
       "        text-align: right;\n",
       "    }\n",
       "</style>\n",
       "<table border=\"1\" class=\"dataframe\">\n",
       "  <thead>\n",
       "    <tr style=\"text-align: right;\">\n",
       "      <th></th>\n",
       "      <th>c</th>\n",
       "      <th>h</th>\n",
       "      <th>l</th>\n",
       "      <th>o</th>\n",
       "      <th>s</th>\n",
       "      <th>t</th>\n",
       "      <th>v</th>\n",
       "    </tr>\n",
       "  </thead>\n",
       "  <tbody>\n",
       "    <tr>\n",
       "      <th>0</th>\n",
       "      <td>3.60</td>\n",
       "      <td>3.64</td>\n",
       "      <td>3.57</td>\n",
       "      <td>3.60</td>\n",
       "      <td>ok</td>\n",
       "      <td>1499779800</td>\n",
       "      <td>5023200</td>\n",
       "    </tr>\n",
       "    <tr>\n",
       "      <th>1</th>\n",
       "      <td>3.64</td>\n",
       "      <td>3.65</td>\n",
       "      <td>3.60</td>\n",
       "      <td>3.61</td>\n",
       "      <td>ok</td>\n",
       "      <td>1499866200</td>\n",
       "      <td>7218200</td>\n",
       "    </tr>\n",
       "    <tr>\n",
       "      <th>2</th>\n",
       "      <td>3.56</td>\n",
       "      <td>3.65</td>\n",
       "      <td>3.54</td>\n",
       "      <td>3.64</td>\n",
       "      <td>ok</td>\n",
       "      <td>1499952600</td>\n",
       "      <td>13526400</td>\n",
       "    </tr>\n",
       "    <tr>\n",
       "      <th>3</th>\n",
       "      <td>3.65</td>\n",
       "      <td>3.65</td>\n",
       "      <td>3.57</td>\n",
       "      <td>3.57</td>\n",
       "      <td>ok</td>\n",
       "      <td>1500039000</td>\n",
       "      <td>5939900</td>\n",
       "    </tr>\n",
       "    <tr>\n",
       "      <th>4</th>\n",
       "      <td>3.58</td>\n",
       "      <td>3.67</td>\n",
       "      <td>3.56</td>\n",
       "      <td>3.65</td>\n",
       "      <td>ok</td>\n",
       "      <td>1500298200</td>\n",
       "      <td>6962500</td>\n",
       "    </tr>\n",
       "    <tr>\n",
       "      <th>...</th>\n",
       "      <td>...</td>\n",
       "      <td>...</td>\n",
       "      <td>...</td>\n",
       "      <td>...</td>\n",
       "      <td>...</td>\n",
       "      <td>...</td>\n",
       "      <td>...</td>\n",
       "    </tr>\n",
       "    <tr>\n",
       "      <th>684</th>\n",
       "      <td>6.86</td>\n",
       "      <td>6.94</td>\n",
       "      <td>6.71</td>\n",
       "      <td>6.90</td>\n",
       "      <td>ok</td>\n",
       "      <td>1585575000</td>\n",
       "      <td>18205200</td>\n",
       "    </tr>\n",
       "    <tr>\n",
       "      <th>685</th>\n",
       "      <td>6.85</td>\n",
       "      <td>7.04</td>\n",
       "      <td>6.76</td>\n",
       "      <td>6.84</td>\n",
       "      <td>ok</td>\n",
       "      <td>1585661400</td>\n",
       "      <td>16357600</td>\n",
       "    </tr>\n",
       "    <tr>\n",
       "      <th>686</th>\n",
       "      <td>6.76</td>\n",
       "      <td>7.00</td>\n",
       "      <td>6.66</td>\n",
       "      <td>6.70</td>\n",
       "      <td>ok</td>\n",
       "      <td>1585747800</td>\n",
       "      <td>12252300</td>\n",
       "    </tr>\n",
       "    <tr>\n",
       "      <th>687</th>\n",
       "      <td>6.68</td>\n",
       "      <td>6.79</td>\n",
       "      <td>6.55</td>\n",
       "      <td>6.71</td>\n",
       "      <td>ok</td>\n",
       "      <td>1585834200</td>\n",
       "      <td>24294300</td>\n",
       "    </tr>\n",
       "    <tr>\n",
       "      <th>688</th>\n",
       "      <td>6.64</td>\n",
       "      <td>6.75</td>\n",
       "      <td>6.58</td>\n",
       "      <td>6.68</td>\n",
       "      <td>ok</td>\n",
       "      <td>1585920600</td>\n",
       "      <td>17778000</td>\n",
       "    </tr>\n",
       "  </tbody>\n",
       "</table>\n",
       "<p>689 rows × 7 columns</p>\n",
       "</div>"
      ],
      "text/plain": [
       "        c     h     l     o   s           t         v\n",
       "0    3.60  3.64  3.57  3.60  ok  1499779800   5023200\n",
       "1    3.64  3.65  3.60  3.61  ok  1499866200   7218200\n",
       "2    3.56  3.65  3.54  3.64  ok  1499952600  13526400\n",
       "3    3.65  3.65  3.57  3.57  ok  1500039000   5939900\n",
       "4    3.58  3.67  3.56  3.65  ok  1500298200   6962500\n",
       "..    ...   ...   ...   ...  ..         ...       ...\n",
       "684  6.86  6.94  6.71  6.90  ok  1585575000  18205200\n",
       "685  6.85  7.04  6.76  6.84  ok  1585661400  16357600\n",
       "686  6.76  7.00  6.66  6.70  ok  1585747800  12252300\n",
       "687  6.68  6.79  6.55  6.71  ok  1585834200  24294300\n",
       "688  6.64  6.75  6.58  6.68  ok  1585920600  17778000\n",
       "\n",
       "[689 rows x 7 columns]"
      ]
     },
     "execution_count": 2,
     "metadata": {},
     "output_type": "execute_result"
    }
   ],
   "source": [
    "#read the file\n",
    "df = pd.read_json (r'ZNGA.json')\n",
    "\n",
    "#print the head\n",
    "df"
   ]
  },
  {
   "cell_type": "code",
   "execution_count": 3,
   "metadata": {},
   "outputs": [],
   "source": [
    "df['t'] = pd.to_datetime(df['t'], unit='s')"
   ]
  },
  {
   "cell_type": "code",
   "execution_count": 4,
   "metadata": {},
   "outputs": [
    {
     "name": "stdout",
     "output_type": "stream",
     "text": [
      "(689, 1) (689, 1)\n"
     ]
    }
   ],
   "source": [
    "X = df[['t']]\n",
    "y = df['c'].values.reshape(-1, 1)\n",
    "print(X.shape, y.shape)"
   ]
  },
  {
   "cell_type": "code",
   "execution_count": 5,
   "metadata": {},
   "outputs": [
    {
     "data": {
      "text/html": [
       "<div>\n",
       "<style scoped>\n",
       "    .dataframe tbody tr th:only-of-type {\n",
       "        vertical-align: middle;\n",
       "    }\n",
       "\n",
       "    .dataframe tbody tr th {\n",
       "        vertical-align: top;\n",
       "    }\n",
       "\n",
       "    .dataframe thead th {\n",
       "        text-align: right;\n",
       "    }\n",
       "</style>\n",
       "<table border=\"1\" class=\"dataframe\">\n",
       "  <thead>\n",
       "    <tr style=\"text-align: right;\">\n",
       "      <th></th>\n",
       "      <th>t</th>\n",
       "    </tr>\n",
       "  </thead>\n",
       "  <tbody>\n",
       "    <tr>\n",
       "      <th>0</th>\n",
       "      <td>2017-07-11 13:30:00</td>\n",
       "    </tr>\n",
       "    <tr>\n",
       "      <th>1</th>\n",
       "      <td>2017-07-12 13:30:00</td>\n",
       "    </tr>\n",
       "    <tr>\n",
       "      <th>2</th>\n",
       "      <td>2017-07-13 13:30:00</td>\n",
       "    </tr>\n",
       "    <tr>\n",
       "      <th>3</th>\n",
       "      <td>2017-07-14 13:30:00</td>\n",
       "    </tr>\n",
       "    <tr>\n",
       "      <th>4</th>\n",
       "      <td>2017-07-17 13:30:00</td>\n",
       "    </tr>\n",
       "  </tbody>\n",
       "</table>\n",
       "</div>"
      ],
      "text/plain": [
       "                    t\n",
       "0 2017-07-11 13:30:00\n",
       "1 2017-07-12 13:30:00\n",
       "2 2017-07-13 13:30:00\n",
       "3 2017-07-14 13:30:00\n",
       "4 2017-07-17 13:30:00"
      ]
     },
     "execution_count": 5,
     "metadata": {},
     "output_type": "execute_result"
    }
   ],
   "source": [
    "data = X.copy()\n",
    "\n",
    "data_binary_encoded = pd.get_dummies(data)\n",
    "data_binary_encoded.head()"
   ]
  },
  {
   "cell_type": "code",
   "execution_count": 6,
   "metadata": {},
   "outputs": [
    {
     "data": {
      "text/html": [
       "<div>\n",
       "<style scoped>\n",
       "    .dataframe tbody tr th:only-of-type {\n",
       "        vertical-align: middle;\n",
       "    }\n",
       "\n",
       "    .dataframe tbody tr th {\n",
       "        vertical-align: top;\n",
       "    }\n",
       "\n",
       "    .dataframe thead th {\n",
       "        text-align: right;\n",
       "    }\n",
       "</style>\n",
       "<table border=\"1\" class=\"dataframe\">\n",
       "  <thead>\n",
       "    <tr style=\"text-align: right;\">\n",
       "      <th></th>\n",
       "      <th>t</th>\n",
       "    </tr>\n",
       "  </thead>\n",
       "  <tbody>\n",
       "    <tr>\n",
       "      <th>645</th>\n",
       "      <td>2020-02-03 14:30:00</td>\n",
       "    </tr>\n",
       "    <tr>\n",
       "      <th>163</th>\n",
       "      <td>2018-03-05 14:30:00</td>\n",
       "    </tr>\n",
       "    <tr>\n",
       "      <th>380</th>\n",
       "      <td>2019-01-14 14:30:00</td>\n",
       "    </tr>\n",
       "    <tr>\n",
       "      <th>602</th>\n",
       "      <td>2019-11-29 14:30:00</td>\n",
       "    </tr>\n",
       "    <tr>\n",
       "      <th>431</th>\n",
       "      <td>2019-03-28 13:30:00</td>\n",
       "    </tr>\n",
       "  </tbody>\n",
       "</table>\n",
       "</div>"
      ],
      "text/plain": [
       "                      t\n",
       "645 2020-02-03 14:30:00\n",
       "163 2018-03-05 14:30:00\n",
       "380 2019-01-14 14:30:00\n",
       "602 2019-11-29 14:30:00\n",
       "431 2019-03-28 13:30:00"
      ]
     },
     "execution_count": 6,
     "metadata": {},
     "output_type": "execute_result"
    }
   ],
   "source": [
    "from sklearn.model_selection import train_test_split\n",
    "\n",
    "X = pd.get_dummies(X)\n",
    "\n",
    "X_train, X_test, y_train, y_test = train_test_split(X, y, random_state=42)\n",
    "\n",
    "X_train.head()"
   ]
  },
  {
   "cell_type": "code",
   "execution_count": 7,
   "metadata": {},
   "outputs": [],
   "source": [
    "from sklearn.preprocessing import StandardScaler\n",
    "X_scaler = StandardScaler().fit(X_train)\n",
    "y_scaler = StandardScaler().fit(y_train)"
   ]
  },
  {
   "cell_type": "code",
   "execution_count": 8,
   "metadata": {},
   "outputs": [],
   "source": [
    "X_train_scaled = X_scaler.transform(X_train)\n",
    "X_test_scaled = X_scaler.transform(X_test)\n",
    "y_train_scaled = y_scaler.transform(y_train)\n",
    "y_test_scaled = y_scaler.transform(y_test)"
   ]
  },
  {
   "cell_type": "code",
   "execution_count": 9,
   "metadata": {},
   "outputs": [
    {
     "data": {
      "image/png": "[encoded data removed]",
      "text/plain": [
       "<Figure size 432x288 with 1 Axes>"
      ]
     },
     "metadata": {
      "needs_background": "light"
     },
     "output_type": "display_data"
    }
   ],
   "source": [
    "from sklearn.linear_model import LinearRegression\n",
    "model = LinearRegression()\n",
    "model.fit(X_train_scaled, y_train_scaled)\n",
    "plt.scatter(model.predict(X_train_scaled), model.predict(X_train_scaled) - y_train_scaled, c=\"blue\", label=\"Training Data\")\n",
    "plt.scatter(model.predict(X_test_scaled), model.predict(X_test_scaled) - y_test_scaled, c=\"orange\", label=\"Testing Data\")\n",
    "plt.legend()\n",
    "plt.hlines(y=0, xmin=y_test_scaled.min(), xmax=y_test_scaled.max())\n",
    "plt.title(\"Residual Plot\")\n",
    "plt.show()"
   ]
  },
  {
   "cell_type": "code",
   "execution_count": null,
   "metadata": {},
   "outputs": [],
   "source": [
    "predictions = model.predict(X_test_scaled)\n",
    "predictions"
   ]
  },
  {
   "cell_type": "code",
   "execution_count": null,
   "metadata": {},
   "outputs": [],
   "source": []
  },
  {
   "cell_type": "code",
   "execution_count": null,
   "metadata": {},
   "outputs": [],
   "source": [
    "new_data['mon_fri'] = 0\n",
    "for i in range(0,len(new_data)):\n",
    "    if (new_data['Dayofweek'][i] == 0 or new_data['Dayofweek'][i] == 4):\n",
    "        new_data['mon_fri'][i] = 1\n",
    "    else:\n",
    "        new_data['mon_fri'][i] = 0"
   ]
  },
  {
   "cell_type": "code",
   "execution_count": null,
   "metadata": {},
   "outputs": [],
   "source": [
    "#split into train and validation\n",
    "train = new_data[:987]\n",
    "valid = new_data[987:]\n",
    "\n",
    "x_train = train.drop('Close', axis=1)\n",
    "y_train = train['Close']\n",
    "x_valid = valid.drop('Close', axis=1)\n",
    "y_valid = valid['Close']\n",
    "\n",
    "#implement linear regression\n",
    "from sklearn.linear_model import LinearRegression\n",
    "model = LinearRegression()\n",
    "model.fit(x_train,y_train)"
   ]
  },
  {
   "cell_type": "code",
   "execution_count": null,
   "metadata": {},
   "outputs": [],
   "source": [
    "#make predictions and find the rmse\n",
    "preds = model.predict(X_test_scaled)\n",
    "rms=np.sqrt(np.mean(np.power((np.array(y_test_scaled)-np.array(preds)),2)))\n",
    "rms"
   ]
  },
  {
   "cell_type": "code",
   "execution_count": null,
   "metadata": {},
   "outputs": [],
   "source": [
    "from sklearn.metrics import mean_squared_error\n",
    "\n",
    "predictions = model.predict(X_test_scaled)\n",
    "MSE = mean_squared_error(y_test_scaled, predictions)\n",
    "r2 = model.score(X_test_scaled, y_test_scaled)\n",
    "\n",
    "print(f\"MSE: {MSE}, R2: {r2}\")"
   ]
  },
  {
   "cell_type": "code",
   "execution_count": null,
   "metadata": {},
   "outputs": [],
   "source": [
    "#plot\n",
    "valid['Predictions'] = 0\n",
    "valid['Predictions'] = preds\n",
    "\n",
    "valid.index = new_data[987:].index\n",
    "train.index = new_data[:987].index\n",
    "\n",
    "plt.plot(train['Close'])\n",
    "plt.plot(valid[['Close', 'Predictions']])"
   ]
  },
  {
   "cell_type": "markdown",
   "metadata": {},
   "source": [
    "# K-Nearest Neighbours"
   ]
  },
  {
   "cell_type": "code",
   "execution_count": 10,
   "metadata": {},
   "outputs": [],
   "source": [
    "import matplotlib.pyplot as plt\n",
    "from sklearn.datasets import load_iris\n",
    "from sklearn.model_selection import train_test_split\n",
    "from sklearn.neighbors import KNeighborsClassifier\n",
    "from sklearn.metrics import accuracy_score"
   ]
  },
  {
   "cell_type": "code",
   "execution_count": 11,
   "metadata": {},
   "outputs": [
    {
     "data": {
      "text/html": [
       "<div>\n",
       "<style scoped>\n",
       "    .dataframe tbody tr th:only-of-type {\n",
       "        vertical-align: middle;\n",
       "    }\n",
       "\n",
       "    .dataframe tbody tr th {\n",
       "        vertical-align: top;\n",
       "    }\n",
       "\n",
       "    .dataframe thead th {\n",
       "        text-align: right;\n",
       "    }\n",
       "</style>\n",
       "<table border=\"1\" class=\"dataframe\">\n",
       "  <thead>\n",
       "    <tr style=\"text-align: right;\">\n",
       "      <th></th>\n",
       "      <th>c</th>\n",
       "      <th>h</th>\n",
       "      <th>l</th>\n",
       "      <th>o</th>\n",
       "      <th>s</th>\n",
       "      <th>t</th>\n",
       "      <th>v</th>\n",
       "    </tr>\n",
       "  </thead>\n",
       "  <tbody>\n",
       "    <tr>\n",
       "      <th>0</th>\n",
       "      <td>3.60</td>\n",
       "      <td>3.64</td>\n",
       "      <td>3.57</td>\n",
       "      <td>3.60</td>\n",
       "      <td>ok</td>\n",
       "      <td>1499779800</td>\n",
       "      <td>5023200</td>\n",
       "    </tr>\n",
       "    <tr>\n",
       "      <th>1</th>\n",
       "      <td>3.64</td>\n",
       "      <td>3.65</td>\n",
       "      <td>3.60</td>\n",
       "      <td>3.61</td>\n",
       "      <td>ok</td>\n",
       "      <td>1499866200</td>\n",
       "      <td>7218200</td>\n",
       "    </tr>\n",
       "    <tr>\n",
       "      <th>2</th>\n",
       "      <td>3.56</td>\n",
       "      <td>3.65</td>\n",
       "      <td>3.54</td>\n",
       "      <td>3.64</td>\n",
       "      <td>ok</td>\n",
       "      <td>1499952600</td>\n",
       "      <td>13526400</td>\n",
       "    </tr>\n",
       "    <tr>\n",
       "      <th>3</th>\n",
       "      <td>3.65</td>\n",
       "      <td>3.65</td>\n",
       "      <td>3.57</td>\n",
       "      <td>3.57</td>\n",
       "      <td>ok</td>\n",
       "      <td>1500039000</td>\n",
       "      <td>5939900</td>\n",
       "    </tr>\n",
       "    <tr>\n",
       "      <th>4</th>\n",
       "      <td>3.58</td>\n",
       "      <td>3.67</td>\n",
       "      <td>3.56</td>\n",
       "      <td>3.65</td>\n",
       "      <td>ok</td>\n",
       "      <td>1500298200</td>\n",
       "      <td>6962500</td>\n",
       "    </tr>\n",
       "    <tr>\n",
       "      <th>...</th>\n",
       "      <td>...</td>\n",
       "      <td>...</td>\n",
       "      <td>...</td>\n",
       "      <td>...</td>\n",
       "      <td>...</td>\n",
       "      <td>...</td>\n",
       "      <td>...</td>\n",
       "    </tr>\n",
       "    <tr>\n",
       "      <th>684</th>\n",
       "      <td>6.86</td>\n",
       "      <td>6.94</td>\n",
       "      <td>6.71</td>\n",
       "      <td>6.90</td>\n",
       "      <td>ok</td>\n",
       "      <td>1585575000</td>\n",
       "      <td>18205200</td>\n",
       "    </tr>\n",
       "    <tr>\n",
       "      <th>685</th>\n",
       "      <td>6.85</td>\n",
       "      <td>7.04</td>\n",
       "      <td>6.76</td>\n",
       "      <td>6.84</td>\n",
       "      <td>ok</td>\n",
       "      <td>1585661400</td>\n",
       "      <td>16357600</td>\n",
       "    </tr>\n",
       "    <tr>\n",
       "      <th>686</th>\n",
       "      <td>6.76</td>\n",
       "      <td>7.00</td>\n",
       "      <td>6.66</td>\n",
       "      <td>6.70</td>\n",
       "      <td>ok</td>\n",
       "      <td>1585747800</td>\n",
       "      <td>12252300</td>\n",
       "    </tr>\n",
       "    <tr>\n",
       "      <th>687</th>\n",
       "      <td>6.68</td>\n",
       "      <td>6.79</td>\n",
       "      <td>6.55</td>\n",
       "      <td>6.71</td>\n",
       "      <td>ok</td>\n",
       "      <td>1585834200</td>\n",
       "      <td>24294300</td>\n",
       "    </tr>\n",
       "    <tr>\n",
       "      <th>688</th>\n",
       "      <td>6.64</td>\n",
       "      <td>6.75</td>\n",
       "      <td>6.58</td>\n",
       "      <td>6.68</td>\n",
       "      <td>ok</td>\n",
       "      <td>1585920600</td>\n",
       "      <td>17778000</td>\n",
       "    </tr>\n",
       "  </tbody>\n",
       "</table>\n",
       "<p>689 rows × 7 columns</p>\n",
       "</div>"
      ],
      "text/plain": [
       "        c     h     l     o   s           t         v\n",
       "0    3.60  3.64  3.57  3.60  ok  1499779800   5023200\n",
       "1    3.64  3.65  3.60  3.61  ok  1499866200   7218200\n",
       "2    3.56  3.65  3.54  3.64  ok  1499952600  13526400\n",
       "3    3.65  3.65  3.57  3.57  ok  1500039000   5939900\n",
       "4    3.58  3.67  3.56  3.65  ok  1500298200   6962500\n",
       "..    ...   ...   ...   ...  ..         ...       ...\n",
       "684  6.86  6.94  6.71  6.90  ok  1585575000  18205200\n",
       "685  6.85  7.04  6.76  6.84  ok  1585661400  16357600\n",
       "686  6.76  7.00  6.66  6.70  ok  1585747800  12252300\n",
       "687  6.68  6.79  6.55  6.71  ok  1585834200  24294300\n",
       "688  6.64  6.75  6.58  6.68  ok  1585920600  17778000\n",
       "\n",
       "[689 rows x 7 columns]"
      ]
     },
     "execution_count": 11,
     "metadata": {},
     "output_type": "execute_result"
    }
   ],
   "source": [
    "#read the file\n",
    "df = pd.read_json (r'ZNGA.json')\n",
    "\n",
    "#print the head\n",
    "df"
   ]
  },
  {
   "cell_type": "code",
   "execution_count": 12,
   "metadata": {},
   "outputs": [
    {
     "data": {
      "text/html": [
       "<div>\n",
       "<style scoped>\n",
       "    .dataframe tbody tr th:only-of-type {\n",
       "        vertical-align: middle;\n",
       "    }\n",
       "\n",
       "    .dataframe tbody tr th {\n",
       "        vertical-align: top;\n",
       "    }\n",
       "\n",
       "    .dataframe thead th {\n",
       "        text-align: right;\n",
       "    }\n",
       "</style>\n",
       "<table border=\"1\" class=\"dataframe\">\n",
       "  <thead>\n",
       "    <tr style=\"text-align: right;\">\n",
       "      <th></th>\n",
       "      <th>Close</th>\n",
       "      <th>High</th>\n",
       "      <th>Low</th>\n",
       "      <th>Open</th>\n",
       "      <th>Status</th>\n",
       "      <th>Date</th>\n",
       "      <th>Volume</th>\n",
       "    </tr>\n",
       "  </thead>\n",
       "  <tbody>\n",
       "    <tr>\n",
       "      <th>0</th>\n",
       "      <td>3.60</td>\n",
       "      <td>3.64</td>\n",
       "      <td>3.57</td>\n",
       "      <td>3.60</td>\n",
       "      <td>ok</td>\n",
       "      <td>2017-07-11 13:30:00</td>\n",
       "      <td>5023200</td>\n",
       "    </tr>\n",
       "    <tr>\n",
       "      <th>1</th>\n",
       "      <td>3.64</td>\n",
       "      <td>3.65</td>\n",
       "      <td>3.60</td>\n",
       "      <td>3.61</td>\n",
       "      <td>ok</td>\n",
       "      <td>2017-07-12 13:30:00</td>\n",
       "      <td>7218200</td>\n",
       "    </tr>\n",
       "    <tr>\n",
       "      <th>2</th>\n",
       "      <td>3.56</td>\n",
       "      <td>3.65</td>\n",
       "      <td>3.54</td>\n",
       "      <td>3.64</td>\n",
       "      <td>ok</td>\n",
       "      <td>2017-07-13 13:30:00</td>\n",
       "      <td>13526400</td>\n",
       "    </tr>\n",
       "    <tr>\n",
       "      <th>3</th>\n",
       "      <td>3.65</td>\n",
       "      <td>3.65</td>\n",
       "      <td>3.57</td>\n",
       "      <td>3.57</td>\n",
       "      <td>ok</td>\n",
       "      <td>2017-07-14 13:30:00</td>\n",
       "      <td>5939900</td>\n",
       "    </tr>\n",
       "    <tr>\n",
       "      <th>4</th>\n",
       "      <td>3.58</td>\n",
       "      <td>3.67</td>\n",
       "      <td>3.56</td>\n",
       "      <td>3.65</td>\n",
       "      <td>ok</td>\n",
       "      <td>2017-07-17 13:30:00</td>\n",
       "      <td>6962500</td>\n",
       "    </tr>\n",
       "  </tbody>\n",
       "</table>\n",
       "</div>"
      ],
      "text/plain": [
       "   Close  High   Low  Open Status                Date    Volume\n",
       "0   3.60  3.64  3.57  3.60     ok 2017-07-11 13:30:00   5023200\n",
       "1   3.64  3.65  3.60  3.61     ok 2017-07-12 13:30:00   7218200\n",
       "2   3.56  3.65  3.54  3.64     ok 2017-07-13 13:30:00  13526400\n",
       "3   3.65  3.65  3.57  3.57     ok 2017-07-14 13:30:00   5939900\n",
       "4   3.58  3.67  3.56  3.65     ok 2017-07-17 13:30:00   6962500"
      ]
     },
     "execution_count": 12,
     "metadata": {},
     "output_type": "execute_result"
    }
   ],
   "source": [
    "df['t'] = pd.to_datetime(df['t'], unit='s')\n",
    "df = df.rename(columns={'c': 'Close', 'h': 'High', 'l':'Low',  'o': 'Open', 's': 'Status', 't': 'Date', 'v': 'Volume'})\n",
    "df.head()"
   ]
  },
  {
   "cell_type": "code",
   "execution_count": 13,
   "metadata": {},
   "outputs": [
    {
     "data": {
      "text/html": [
       "<div>\n",
       "<style scoped>\n",
       "    .dataframe tbody tr th:only-of-type {\n",
       "        vertical-align: middle;\n",
       "    }\n",
       "\n",
       "    .dataframe tbody tr th {\n",
       "        vertical-align: top;\n",
       "    }\n",
       "\n",
       "    .dataframe thead th {\n",
       "        text-align: right;\n",
       "    }\n",
       "</style>\n",
       "<table border=\"1\" class=\"dataframe\">\n",
       "  <thead>\n",
       "    <tr style=\"text-align: right;\">\n",
       "      <th></th>\n",
       "      <th>Open-Close</th>\n",
       "      <th>High-Low</th>\n",
       "    </tr>\n",
       "  </thead>\n",
       "  <tbody>\n",
       "    <tr>\n",
       "      <th>0</th>\n",
       "      <td>0.00</td>\n",
       "      <td>0.07</td>\n",
       "    </tr>\n",
       "    <tr>\n",
       "      <th>1</th>\n",
       "      <td>-0.03</td>\n",
       "      <td>0.05</td>\n",
       "    </tr>\n",
       "    <tr>\n",
       "      <th>2</th>\n",
       "      <td>0.08</td>\n",
       "      <td>0.11</td>\n",
       "    </tr>\n",
       "    <tr>\n",
       "      <th>3</th>\n",
       "      <td>-0.08</td>\n",
       "      <td>0.08</td>\n",
       "    </tr>\n",
       "    <tr>\n",
       "      <th>4</th>\n",
       "      <td>0.07</td>\n",
       "      <td>0.11</td>\n",
       "    </tr>\n",
       "  </tbody>\n",
       "</table>\n",
       "</div>"
      ],
      "text/plain": [
       "   Open-Close  High-Low\n",
       "0        0.00      0.07\n",
       "1       -0.03      0.05\n",
       "2        0.08      0.11\n",
       "3       -0.08      0.08\n",
       "4        0.07      0.11"
      ]
     },
     "execution_count": 13,
     "metadata": {},
     "output_type": "execute_result"
    }
   ],
   "source": [
    "# Predictor variables\n",
    "df['Open-Close']= df.Open -df.Close\n",
    "df['High-Low']  = df.High - df.Low\n",
    "df =df.dropna()\n",
    "X= df[['Open-Close', 'High-Low']]\n",
    "X.head()"
   ]
  },
  {
   "cell_type": "code",
   "execution_count": 14,
   "metadata": {},
   "outputs": [],
   "source": [
    "# Target variable\n",
    "Y= np.where(df['Close'].shift(-1)>df['Close'],1,-1)"
   ]
  },
  {
   "cell_type": "code",
   "execution_count": 15,
   "metadata": {},
   "outputs": [],
   "source": [
    "# Splitting the dataset\n",
    "split_percentage = 0.7\n",
    "split = int(split_percentage*len(df))\n",
    "\n",
    "X_train = X[:split]\n",
    "Y_train = Y[:split]\n",
    "\n",
    "X_test = X[split:]\n",
    "Y_test = Y[split:]"
   ]
  },
  {
   "cell_type": "code",
   "execution_count": null,
   "metadata": {},
   "outputs": [],
   "source": []
  },
  {
   "cell_type": "code",
   "execution_count": 16,
   "metadata": {},
   "outputs": [
    {
     "name": "stdout",
     "output_type": "stream",
     "text": [
      "k: 1, Train/Test Score: 0.898/0.478\n",
      "k: 3, Train/Test Score: 0.726/0.440\n",
      "k: 5, Train/Test Score: 0.689/0.430\n",
      "k: 7, Train/Test Score: 0.678/0.449\n",
      "k: 9, Train/Test Score: 0.633/0.440\n",
      "k: 11, Train/Test Score: 0.627/0.420\n",
      "k: 13, Train/Test Score: 0.606/0.430\n",
      "k: 15, Train/Test Score: 0.606/0.469\n",
      "k: 17, Train/Test Score: 0.583/0.493\n",
      "k: 19, Train/Test Score: 0.564/0.502\n",
      "k: 21, Train/Test Score: 0.556/0.522\n",
      "k: 23, Train/Test Score: 0.560/0.522\n",
      "k: 25, Train/Test Score: 0.571/0.517\n",
      "k: 27, Train/Test Score: 0.591/0.522\n",
      "k: 29, Train/Test Score: 0.566/0.536\n",
      "k: 31, Train/Test Score: 0.571/0.551\n",
      "k: 33, Train/Test Score: 0.562/0.498\n",
      "k: 35, Train/Test Score: 0.554/0.483\n",
      "k: 37, Train/Test Score: 0.552/0.493\n",
      "k: 39, Train/Test Score: 0.554/0.444\n",
      "k: 41, Train/Test Score: 0.554/0.469\n",
      "k: 43, Train/Test Score: 0.554/0.415\n",
      "k: 45, Train/Test Score: 0.544/0.411\n",
      "k: 47, Train/Test Score: 0.527/0.406\n",
      "k: 49, Train/Test Score: 0.546/0.425\n"
     ]
    }
   ],
   "source": [
    "train_scores = []\n",
    "test_scores = []\n",
    "for k in range(1, 50, 2):\n",
    "    knn = KNeighborsClassifier(n_neighbors=k)\n",
    "    knn.fit(X_train, Y_train)\n",
    "    train_score = knn.score(X_train, Y_train)\n",
    "    test_score = knn.score(X_test, Y_test)\n",
    "    train_scores.append(train_score)\n",
    "    test_scores.append(test_score)\n",
    "    print(f\"k: {k}, Train/Test Score: {train_score:.3f}/{test_score:.3f}\")"
   ]
  },
  {
   "cell_type": "code",
   "execution_count": 17,
   "metadata": {},
   "outputs": [
    {
     "data": {
      "image/png": "[encoded data removed]",
      "text/plain": [
       "<Figure size 432x288 with 1 Axes>"
      ]
     },
     "metadata": {
      "needs_background": "light"
     },
     "output_type": "display_data"
    }
   ],
   "source": [
    "plt.plot(range(1, 50, 2), train_scores, marker='o')\n",
    "plt.plot(range(1, 50, 2), test_scores, marker=\"x\")\n",
    "plt.xlabel(\"k neighbors\")\n",
    "plt.ylabel(\"Testing accuracy Score\")\n",
    "plt.show()"
   ]
  },
  {
   "cell_type": "code",
   "execution_count": 18,
   "metadata": {},
   "outputs": [
    {
     "name": "stdout",
     "output_type": "stream",
     "text": [
      "Train_data Accuracy: 0.61\n",
      "Test_data Accuracy: 0.47\n"
     ]
    }
   ],
   "source": [
    "# Instantiate KNN learning model(k=15)\n",
    "knn = KNeighborsClassifier(n_neighbors=15)\n",
    "# fit the model\n",
    "knn.fit(X_train, Y_train)\n",
    "\n",
    "# Accuracy Score\n",
    "accuracy_train = accuracy_score(Y_train, knn.predict(X_train))\n",
    "accuracy_test = accuracy_score(Y_test, knn.predict(X_test))\n",
    "\n",
    "print ('Train_data Accuracy: %.2f' %accuracy_train)\n",
    "print ('Test_data Accuracy: %.2f' %accuracy_test)"
   ]
  },
  {
   "cell_type": "code",
   "execution_count": 19,
   "metadata": {},
   "outputs": [
    {
     "data": {
      "text/plain": [
       "482"
      ]
     },
     "execution_count": 19,
     "metadata": {},
     "output_type": "execute_result"
    }
   ],
   "source": [
    "len(Y_train)"
   ]
  },
  {
   "cell_type": "code",
   "execution_count": 20,
   "metadata": {},
   "outputs": [
    {
     "data": {
      "text/plain": [
       "array([-1,  1,  1, -1, -1,  1,  1, -1, -1,  1,  1,  1,  1, -1, -1,  1,  1,\n",
       "        1,  1, -1,  1, -1,  1,  1,  1,  1, -1, -1, -1,  1, -1,  1,  1,  1,\n",
       "        1,  1,  1,  1,  1,  1, -1, -1,  1,  1,  1,  1,  1,  1,  1, -1,  1,\n",
       "        1, -1, -1, -1, -1,  1,  1,  1, -1, -1,  1,  1,  1, -1,  1,  1, -1,\n",
       "        1, -1, -1, -1,  1,  1, -1, -1,  1, -1, -1, -1,  1,  1, -1,  1, -1,\n",
       "       -1,  1, -1, -1, -1, -1, -1,  1,  1, -1,  1,  1,  1,  1,  1,  1,  1,\n",
       "        1, -1, -1, -1, -1,  1,  1, -1,  1, -1, -1, -1, -1,  1,  1,  1, -1,\n",
       "        1, -1,  1, -1,  1, -1,  1, -1, -1, -1,  1,  1, -1, -1, -1,  1, -1,\n",
       "        1,  1,  1,  1, -1,  1,  1,  1, -1,  1,  1, -1,  1, -1,  1,  1, -1,\n",
       "        1, -1,  1,  1,  1,  1,  1, -1, -1, -1,  1,  1,  1,  1,  1, -1, -1,\n",
       "        1,  1, -1,  1,  1,  1, -1,  1,  1, -1,  1,  1, -1,  1,  1,  1,  1,\n",
       "        1,  1,  1,  1,  1,  1,  1,  1,  1,  1,  1,  1,  1,  1,  1,  1,  1,\n",
       "        1,  1, -1])"
      ]
     },
     "execution_count": 20,
     "metadata": {},
     "output_type": "execute_result"
    }
   ],
   "source": [
    "pred = knn.predict(X_test)\n",
    "pred"
   ]
  },
  {
   "cell_type": "code",
   "execution_count": 21,
   "metadata": {},
   "outputs": [
    {
     "data": {
      "text/html": [
       "<div>\n",
       "<style scoped>\n",
       "    .dataframe tbody tr th:only-of-type {\n",
       "        vertical-align: middle;\n",
       "    }\n",
       "\n",
       "    .dataframe tbody tr th {\n",
       "        vertical-align: top;\n",
       "    }\n",
       "\n",
       "    .dataframe thead th {\n",
       "        text-align: right;\n",
       "    }\n",
       "</style>\n",
       "<table border=\"1\" class=\"dataframe\">\n",
       "  <thead>\n",
       "    <tr style=\"text-align: right;\">\n",
       "      <th></th>\n",
       "      <th>Prediction</th>\n",
       "      <th>Actual</th>\n",
       "    </tr>\n",
       "  </thead>\n",
       "  <tbody>\n",
       "    <tr>\n",
       "      <th>0</th>\n",
       "      <td>-1</td>\n",
       "      <td>-1</td>\n",
       "    </tr>\n",
       "    <tr>\n",
       "      <th>1</th>\n",
       "      <td>1</td>\n",
       "      <td>1</td>\n",
       "    </tr>\n",
       "    <tr>\n",
       "      <th>2</th>\n",
       "      <td>1</td>\n",
       "      <td>-1</td>\n",
       "    </tr>\n",
       "    <tr>\n",
       "      <th>3</th>\n",
       "      <td>-1</td>\n",
       "      <td>-1</td>\n",
       "    </tr>\n",
       "    <tr>\n",
       "      <th>4</th>\n",
       "      <td>-1</td>\n",
       "      <td>1</td>\n",
       "    </tr>\n",
       "    <tr>\n",
       "      <th>...</th>\n",
       "      <td>...</td>\n",
       "      <td>...</td>\n",
       "    </tr>\n",
       "    <tr>\n",
       "      <th>202</th>\n",
       "      <td>1</td>\n",
       "      <td>-1</td>\n",
       "    </tr>\n",
       "    <tr>\n",
       "      <th>203</th>\n",
       "      <td>1</td>\n",
       "      <td>-1</td>\n",
       "    </tr>\n",
       "    <tr>\n",
       "      <th>204</th>\n",
       "      <td>1</td>\n",
       "      <td>-1</td>\n",
       "    </tr>\n",
       "    <tr>\n",
       "      <th>205</th>\n",
       "      <td>1</td>\n",
       "      <td>-1</td>\n",
       "    </tr>\n",
       "    <tr>\n",
       "      <th>206</th>\n",
       "      <td>-1</td>\n",
       "      <td>-1</td>\n",
       "    </tr>\n",
       "  </tbody>\n",
       "</table>\n",
       "<p>207 rows × 2 columns</p>\n",
       "</div>"
      ],
      "text/plain": [
       "     Prediction  Actual\n",
       "0            -1      -1\n",
       "1             1       1\n",
       "2             1      -1\n",
       "3            -1      -1\n",
       "4            -1       1\n",
       "..          ...     ...\n",
       "202           1      -1\n",
       "203           1      -1\n",
       "204           1      -1\n",
       "205           1      -1\n",
       "206          -1      -1\n",
       "\n",
       "[207 rows x 2 columns]"
      ]
     },
     "execution_count": 21,
     "metadata": {},
     "output_type": "execute_result"
    }
   ],
   "source": [
    "pd.DataFrame({\"Prediction\": pred, 'Actual': Y_test})"
   ]
  },
  {
   "cell_type": "code",
   "execution_count": 22,
   "metadata": {},
   "outputs": [
    {
     "data": {
      "image/png": "[encoded data removed]",
      "text/plain": [
       "<Figure size 720x360 with 1 Axes>"
      ]
     },
     "metadata": {
      "needs_background": "light"
     },
     "output_type": "display_data"
    }
   ],
   "source": [
    "# Predicted Signal\n",
    "df['Predicted_Signal'] = knn.predict(X)\n",
    "\n",
    "# SPY Cumulative Returns\n",
    "df['SPY_returns'] = np.log(df['Close']/df['Close'].shift(1))\n",
    "Cumulative_SPY_returns = df[split:]['SPY_returns'].cumsum()*100\n",
    "\n",
    "# Cumulative Strategy Returns \n",
    "df['Startegy_returns'] = df['SPY_returns']* df['Predicted_Signal'].shift(1)\n",
    "Cumulative_Strategy_returns = df[split:]['Startegy_returns'].cumsum()*100\n",
    "\n",
    "# Plot the results to visualize the performance\n",
    "\n",
    "plt.figure(figsize=(10,5))\n",
    "plt.plot(Cumulative_SPY_returns, color='r',label = 'SPY Returns')\n",
    "plt.plot(Cumulative_Strategy_returns, color='g', label = 'Strategy Returns')\n",
    "plt.legend()\n",
    "plt.show()"
   ]
  },
  {
   "cell_type": "code",
   "execution_count": 23,
   "metadata": {},
   "outputs": [
    {
     "data": {
      "text/html": [
       "<div>\n",
       "<style scoped>\n",
       "    .dataframe tbody tr th:only-of-type {\n",
       "        vertical-align: middle;\n",
       "    }\n",
       "\n",
       "    .dataframe tbody tr th {\n",
       "        vertical-align: top;\n",
       "    }\n",
       "\n",
       "    .dataframe thead th {\n",
       "        text-align: right;\n",
       "    }\n",
       "</style>\n",
       "<table border=\"1\" class=\"dataframe\">\n",
       "  <thead>\n",
       "    <tr style=\"text-align: right;\">\n",
       "      <th></th>\n",
       "      <th>Close</th>\n",
       "      <th>High</th>\n",
       "      <th>Low</th>\n",
       "      <th>Open</th>\n",
       "      <th>Status</th>\n",
       "      <th>Date</th>\n",
       "      <th>Volume</th>\n",
       "      <th>Open-Close</th>\n",
       "      <th>High-Low</th>\n",
       "      <th>Predicted_Signal</th>\n",
       "      <th>SPY_returns</th>\n",
       "      <th>Startegy_returns</th>\n",
       "    </tr>\n",
       "  </thead>\n",
       "  <tbody>\n",
       "    <tr>\n",
       "      <th>0</th>\n",
       "      <td>3.60</td>\n",
       "      <td>3.64</td>\n",
       "      <td>3.57</td>\n",
       "      <td>3.60</td>\n",
       "      <td>ok</td>\n",
       "      <td>2017-07-11 13:30:00</td>\n",
       "      <td>5023200</td>\n",
       "      <td>0.00</td>\n",
       "      <td>0.07</td>\n",
       "      <td>1</td>\n",
       "      <td>NaN</td>\n",
       "      <td>NaN</td>\n",
       "    </tr>\n",
       "    <tr>\n",
       "      <th>1</th>\n",
       "      <td>3.64</td>\n",
       "      <td>3.65</td>\n",
       "      <td>3.60</td>\n",
       "      <td>3.61</td>\n",
       "      <td>ok</td>\n",
       "      <td>2017-07-12 13:30:00</td>\n",
       "      <td>7218200</td>\n",
       "      <td>-0.03</td>\n",
       "      <td>0.05</td>\n",
       "      <td>-1</td>\n",
       "      <td>0.011050</td>\n",
       "      <td>0.011050</td>\n",
       "    </tr>\n",
       "    <tr>\n",
       "      <th>2</th>\n",
       "      <td>3.56</td>\n",
       "      <td>3.65</td>\n",
       "      <td>3.54</td>\n",
       "      <td>3.64</td>\n",
       "      <td>ok</td>\n",
       "      <td>2017-07-13 13:30:00</td>\n",
       "      <td>13526400</td>\n",
       "      <td>0.08</td>\n",
       "      <td>0.11</td>\n",
       "      <td>1</td>\n",
       "      <td>-0.022223</td>\n",
       "      <td>0.022223</td>\n",
       "    </tr>\n",
       "    <tr>\n",
       "      <th>3</th>\n",
       "      <td>3.65</td>\n",
       "      <td>3.65</td>\n",
       "      <td>3.57</td>\n",
       "      <td>3.57</td>\n",
       "      <td>ok</td>\n",
       "      <td>2017-07-14 13:30:00</td>\n",
       "      <td>5939900</td>\n",
       "      <td>-0.08</td>\n",
       "      <td>0.08</td>\n",
       "      <td>1</td>\n",
       "      <td>0.024967</td>\n",
       "      <td>0.024967</td>\n",
       "    </tr>\n",
       "    <tr>\n",
       "      <th>4</th>\n",
       "      <td>3.58</td>\n",
       "      <td>3.67</td>\n",
       "      <td>3.56</td>\n",
       "      <td>3.65</td>\n",
       "      <td>ok</td>\n",
       "      <td>2017-07-17 13:30:00</td>\n",
       "      <td>6962500</td>\n",
       "      <td>0.07</td>\n",
       "      <td>0.11</td>\n",
       "      <td>-1</td>\n",
       "      <td>-0.019364</td>\n",
       "      <td>-0.019364</td>\n",
       "    </tr>\n",
       "    <tr>\n",
       "      <th>...</th>\n",
       "      <td>...</td>\n",
       "      <td>...</td>\n",
       "      <td>...</td>\n",
       "      <td>...</td>\n",
       "      <td>...</td>\n",
       "      <td>...</td>\n",
       "      <td>...</td>\n",
       "      <td>...</td>\n",
       "      <td>...</td>\n",
       "      <td>...</td>\n",
       "      <td>...</td>\n",
       "      <td>...</td>\n",
       "    </tr>\n",
       "    <tr>\n",
       "      <th>684</th>\n",
       "      <td>6.86</td>\n",
       "      <td>6.94</td>\n",
       "      <td>6.71</td>\n",
       "      <td>6.90</td>\n",
       "      <td>ok</td>\n",
       "      <td>2020-03-30 13:30:00</td>\n",
       "      <td>18205200</td>\n",
       "      <td>0.04</td>\n",
       "      <td>0.23</td>\n",
       "      <td>1</td>\n",
       "      <td>0.023600</td>\n",
       "      <td>0.023600</td>\n",
       "    </tr>\n",
       "    <tr>\n",
       "      <th>685</th>\n",
       "      <td>6.85</td>\n",
       "      <td>7.04</td>\n",
       "      <td>6.76</td>\n",
       "      <td>6.84</td>\n",
       "      <td>ok</td>\n",
       "      <td>2020-03-31 13:30:00</td>\n",
       "      <td>16357600</td>\n",
       "      <td>-0.01</td>\n",
       "      <td>0.28</td>\n",
       "      <td>1</td>\n",
       "      <td>-0.001459</td>\n",
       "      <td>-0.001459</td>\n",
       "    </tr>\n",
       "    <tr>\n",
       "      <th>686</th>\n",
       "      <td>6.76</td>\n",
       "      <td>7.00</td>\n",
       "      <td>6.66</td>\n",
       "      <td>6.70</td>\n",
       "      <td>ok</td>\n",
       "      <td>2020-04-01 13:30:00</td>\n",
       "      <td>12252300</td>\n",
       "      <td>-0.06</td>\n",
       "      <td>0.34</td>\n",
       "      <td>1</td>\n",
       "      <td>-0.013226</td>\n",
       "      <td>-0.013226</td>\n",
       "    </tr>\n",
       "    <tr>\n",
       "      <th>687</th>\n",
       "      <td>6.68</td>\n",
       "      <td>6.79</td>\n",
       "      <td>6.55</td>\n",
       "      <td>6.71</td>\n",
       "      <td>ok</td>\n",
       "      <td>2020-04-02 13:30:00</td>\n",
       "      <td>24294300</td>\n",
       "      <td>0.03</td>\n",
       "      <td>0.24</td>\n",
       "      <td>1</td>\n",
       "      <td>-0.011905</td>\n",
       "      <td>-0.011905</td>\n",
       "    </tr>\n",
       "    <tr>\n",
       "      <th>688</th>\n",
       "      <td>6.64</td>\n",
       "      <td>6.75</td>\n",
       "      <td>6.58</td>\n",
       "      <td>6.68</td>\n",
       "      <td>ok</td>\n",
       "      <td>2020-04-03 13:30:00</td>\n",
       "      <td>17778000</td>\n",
       "      <td>0.04</td>\n",
       "      <td>0.17</td>\n",
       "      <td>-1</td>\n",
       "      <td>-0.006006</td>\n",
       "      <td>-0.006006</td>\n",
       "    </tr>\n",
       "  </tbody>\n",
       "</table>\n",
       "<p>689 rows × 12 columns</p>\n",
       "</div>"
      ],
      "text/plain": [
       "     Close  High   Low  Open Status                Date    Volume  Open-Close  \\\n",
       "0     3.60  3.64  3.57  3.60     ok 2017-07-11 13:30:00   5023200        0.00   \n",
       "1     3.64  3.65  3.60  3.61     ok 2017-07-12 13:30:00   7218200       -0.03   \n",
       "2     3.56  3.65  3.54  3.64     ok 2017-07-13 13:30:00  13526400        0.08   \n",
       "3     3.65  3.65  3.57  3.57     ok 2017-07-14 13:30:00   5939900       -0.08   \n",
       "4     3.58  3.67  3.56  3.65     ok 2017-07-17 13:30:00   6962500        0.07   \n",
       "..     ...   ...   ...   ...    ...                 ...       ...         ...   \n",
       "684   6.86  6.94  6.71  6.90     ok 2020-03-30 13:30:00  18205200        0.04   \n",
       "685   6.85  7.04  6.76  6.84     ok 2020-03-31 13:30:00  16357600       -0.01   \n",
       "686   6.76  7.00  6.66  6.70     ok 2020-04-01 13:30:00  12252300       -0.06   \n",
       "687   6.68  6.79  6.55  6.71     ok 2020-04-02 13:30:00  24294300        0.03   \n",
       "688   6.64  6.75  6.58  6.68     ok 2020-04-03 13:30:00  17778000        0.04   \n",
       "\n",
       "     High-Low  Predicted_Signal  SPY_returns  Startegy_returns  \n",
       "0        0.07                 1          NaN               NaN  \n",
       "1        0.05                -1     0.011050          0.011050  \n",
       "2        0.11                 1    -0.022223          0.022223  \n",
       "3        0.08                 1     0.024967          0.024967  \n",
       "4        0.11                -1    -0.019364         -0.019364  \n",
       "..        ...               ...          ...               ...  \n",
       "684      0.23                 1     0.023600          0.023600  \n",
       "685      0.28                 1    -0.001459         -0.001459  \n",
       "686      0.34                 1    -0.013226         -0.013226  \n",
       "687      0.24                 1    -0.011905         -0.011905  \n",
       "688      0.17                -1    -0.006006         -0.006006  \n",
       "\n",
       "[689 rows x 12 columns]"
      ]
     },
     "execution_count": 23,
     "metadata": {},
     "output_type": "execute_result"
    }
   ],
   "source": [
    "df"
   ]
  },
  {
   "cell_type": "markdown",
   "metadata": {},
   "source": [
    "What is Sharpe Ratio?\n",
    "Sharpe ratio is a measure for calculating risk-adjusted return. It is the ratio of the excess expected return of investment (over risk-free rate) per unit of volatility or standard deviation.\n",
    "\n",
    "Let us see the formula for Sharpe ratio which will make things much clearer. The sharpe ratio calculation is done in the following manner\n",
    "\n",
    "Sharpe Ratio = (Rx – Rf) / StdDev(x)\n",
    "\n",
    "Where,\n",
    "x is the investment\n",
    "Rx is the average rate of return of x\n",
    "Rf is the risk-free rate of return\n",
    "StdDev(x) is the standard deviation of Rx\n",
    "Once you see the formula, you will understand that we deduct the risk-free rate of return as this helps us in figuring out if the strategy makes sense or not. If the Numerator turned out negative, wouldn’t it be better to invest in a government bond which guarantees you a risk-free rate of return? Some of you would recognise this as the risk-adjusted return.\n",
    "\n",
    "In the denominator, we have the standard deviation of the average return of the investment. It helps us in identifying the volatility as well as the risk associated with the investment.\n",
    "\n",
    "Thus, the Sharpe ratio helps us in identifying which strategy gives better returns in comparison to the volatility. There, that is all when it comes to sharpe ratio calculation.\n",
    "\n",
    "Let’s take an example now to see how the Sharpe ratio calculation helps us.\n",
    "\n",
    "You have devised a strategy and created a portfolio of different stocks. After backtesting, you observe that this portfolio, let’s call it Portfolio A, will give a return of 11%. However, you are concerned with the volatility at 8%. \n",
    "\n",
    "Now, you change certain parameters and pick different financial instruments to create another portfolio, Portfolio B. This portfolio gives an expected return of 8%, but the volatility now drops to 4%. "
   ]
  },
  {
   "cell_type": "code",
   "execution_count": 24,
   "metadata": {},
   "outputs": [
    {
     "name": "stdout",
     "output_type": "stream",
     "text": [
      "Sharpe ratio: -1.25\n"
     ]
    }
   ],
   "source": [
    "# Calculate Sharpe reatio\n",
    "Std = Cumulative_Strategy_returns.std()\n",
    "Sharpe = (Cumulative_Strategy_returns-Cumulative_SPY_returns)/Std\n",
    "Sharpe = Sharpe.mean()\n",
    "print ('Sharpe ratio: %.2f'%Sharpe )"
   ]
  },
  {
   "cell_type": "markdown",
   "metadata": {},
   "source": [
    "Tested many neighbours and the lowest sharpe ratio was for 15."
   ]
  },
  {
   "cell_type": "markdown",
   "metadata": {},
   "source": [
    "# Auto ARIMA"
   ]
  },
  {
   "cell_type": "code",
   "execution_count": 25,
   "metadata": {},
   "outputs": [],
   "source": [
    "import numpy as np \n",
    "import pandas as pd \n",
    "import matplotlib.pyplot as plt\n",
    "from pandas.plotting import lag_plot\n",
    "from pandas import datetime\n",
    "from statsmodels.tsa.arima_model import ARIMA\n",
    "from sklearn.metrics import mean_squared_error"
   ]
  },
  {
   "cell_type": "code",
   "execution_count": 26,
   "metadata": {},
   "outputs": [
    {
     "data": {
      "text/html": [
       "<div>\n",
       "<style scoped>\n",
       "    .dataframe tbody tr th:only-of-type {\n",
       "        vertical-align: middle;\n",
       "    }\n",
       "\n",
       "    .dataframe tbody tr th {\n",
       "        vertical-align: top;\n",
       "    }\n",
       "\n",
       "    .dataframe thead th {\n",
       "        text-align: right;\n",
       "    }\n",
       "</style>\n",
       "<table border=\"1\" class=\"dataframe\">\n",
       "  <thead>\n",
       "    <tr style=\"text-align: right;\">\n",
       "      <th></th>\n",
       "      <th>c</th>\n",
       "      <th>h</th>\n",
       "      <th>l</th>\n",
       "      <th>o</th>\n",
       "      <th>s</th>\n",
       "      <th>t</th>\n",
       "      <th>v</th>\n",
       "    </tr>\n",
       "  </thead>\n",
       "  <tbody>\n",
       "    <tr>\n",
       "      <th>0</th>\n",
       "      <td>3.60</td>\n",
       "      <td>3.64</td>\n",
       "      <td>3.57</td>\n",
       "      <td>3.60</td>\n",
       "      <td>ok</td>\n",
       "      <td>1499779800</td>\n",
       "      <td>5023200</td>\n",
       "    </tr>\n",
       "    <tr>\n",
       "      <th>1</th>\n",
       "      <td>3.64</td>\n",
       "      <td>3.65</td>\n",
       "      <td>3.60</td>\n",
       "      <td>3.61</td>\n",
       "      <td>ok</td>\n",
       "      <td>1499866200</td>\n",
       "      <td>7218200</td>\n",
       "    </tr>\n",
       "    <tr>\n",
       "      <th>2</th>\n",
       "      <td>3.56</td>\n",
       "      <td>3.65</td>\n",
       "      <td>3.54</td>\n",
       "      <td>3.64</td>\n",
       "      <td>ok</td>\n",
       "      <td>1499952600</td>\n",
       "      <td>13526400</td>\n",
       "    </tr>\n",
       "    <tr>\n",
       "      <th>3</th>\n",
       "      <td>3.65</td>\n",
       "      <td>3.65</td>\n",
       "      <td>3.57</td>\n",
       "      <td>3.57</td>\n",
       "      <td>ok</td>\n",
       "      <td>1500039000</td>\n",
       "      <td>5939900</td>\n",
       "    </tr>\n",
       "    <tr>\n",
       "      <th>4</th>\n",
       "      <td>3.58</td>\n",
       "      <td>3.67</td>\n",
       "      <td>3.56</td>\n",
       "      <td>3.65</td>\n",
       "      <td>ok</td>\n",
       "      <td>1500298200</td>\n",
       "      <td>6962500</td>\n",
       "    </tr>\n",
       "    <tr>\n",
       "      <th>...</th>\n",
       "      <td>...</td>\n",
       "      <td>...</td>\n",
       "      <td>...</td>\n",
       "      <td>...</td>\n",
       "      <td>...</td>\n",
       "      <td>...</td>\n",
       "      <td>...</td>\n",
       "    </tr>\n",
       "    <tr>\n",
       "      <th>684</th>\n",
       "      <td>6.86</td>\n",
       "      <td>6.94</td>\n",
       "      <td>6.71</td>\n",
       "      <td>6.90</td>\n",
       "      <td>ok</td>\n",
       "      <td>1585575000</td>\n",
       "      <td>18205200</td>\n",
       "    </tr>\n",
       "    <tr>\n",
       "      <th>685</th>\n",
       "      <td>6.85</td>\n",
       "      <td>7.04</td>\n",
       "      <td>6.76</td>\n",
       "      <td>6.84</td>\n",
       "      <td>ok</td>\n",
       "      <td>1585661400</td>\n",
       "      <td>16357600</td>\n",
       "    </tr>\n",
       "    <tr>\n",
       "      <th>686</th>\n",
       "      <td>6.76</td>\n",
       "      <td>7.00</td>\n",
       "      <td>6.66</td>\n",
       "      <td>6.70</td>\n",
       "      <td>ok</td>\n",
       "      <td>1585747800</td>\n",
       "      <td>12252300</td>\n",
       "    </tr>\n",
       "    <tr>\n",
       "      <th>687</th>\n",
       "      <td>6.68</td>\n",
       "      <td>6.79</td>\n",
       "      <td>6.55</td>\n",
       "      <td>6.71</td>\n",
       "      <td>ok</td>\n",
       "      <td>1585834200</td>\n",
       "      <td>24294300</td>\n",
       "    </tr>\n",
       "    <tr>\n",
       "      <th>688</th>\n",
       "      <td>6.64</td>\n",
       "      <td>6.75</td>\n",
       "      <td>6.58</td>\n",
       "      <td>6.68</td>\n",
       "      <td>ok</td>\n",
       "      <td>1585920600</td>\n",
       "      <td>17778000</td>\n",
       "    </tr>\n",
       "  </tbody>\n",
       "</table>\n",
       "<p>689 rows × 7 columns</p>\n",
       "</div>"
      ],
      "text/plain": [
       "        c     h     l     o   s           t         v\n",
       "0    3.60  3.64  3.57  3.60  ok  1499779800   5023200\n",
       "1    3.64  3.65  3.60  3.61  ok  1499866200   7218200\n",
       "2    3.56  3.65  3.54  3.64  ok  1499952600  13526400\n",
       "3    3.65  3.65  3.57  3.57  ok  1500039000   5939900\n",
       "4    3.58  3.67  3.56  3.65  ok  1500298200   6962500\n",
       "..    ...   ...   ...   ...  ..         ...       ...\n",
       "684  6.86  6.94  6.71  6.90  ok  1585575000  18205200\n",
       "685  6.85  7.04  6.76  6.84  ok  1585661400  16357600\n",
       "686  6.76  7.00  6.66  6.70  ok  1585747800  12252300\n",
       "687  6.68  6.79  6.55  6.71  ok  1585834200  24294300\n",
       "688  6.64  6.75  6.58  6.68  ok  1585920600  17778000\n",
       "\n",
       "[689 rows x 7 columns]"
      ]
     },
     "execution_count": 26,
     "metadata": {},
     "output_type": "execute_result"
    }
   ],
   "source": [
    "#read the file\n",
    "df = pd.read_json (r'ZNGA.json')\n",
    "\n",
    "#print the head\n",
    "df"
   ]
  },
  {
   "cell_type": "code",
   "execution_count": 27,
   "metadata": {},
   "outputs": [
    {
     "data": {
      "text/plain": [
       "Text(0.5, 1.0, 'Microsoft Autocorrelation plot')"
      ]
     },
     "execution_count": 27,
     "metadata": {},
     "output_type": "execute_result"
    },
    {
     "data": {
      "image/png": "[encoded data removed]",
      "text/plain": [
       "<Figure size 720x720 with 1 Axes>"
      ]
     },
     "metadata": {
      "needs_background": "light"
     },
     "output_type": "display_data"
    }
   ],
   "source": [
    "plt.figure(figsize=(10,10))\n",
    "lag_plot(df['c'], lag=5)\n",
    "plt.title('Microsoft Autocorrelation plot')"
   ]
  },
  {
   "cell_type": "code",
   "execution_count": 28,
   "metadata": {},
   "outputs": [],
   "source": [
    "size = len(df)"
   ]
  },
  {
   "cell_type": "code",
   "execution_count": 29,
   "metadata": {},
   "outputs": [
    {
     "data": {
      "text/plain": [
       "<matplotlib.legend.Legend at 0x2259801fa20>"
      ]
     },
     "execution_count": 29,
     "metadata": {},
     "output_type": "execute_result"
    },
    {
     "data": {
      "image/png": "[encoded data removed]",
      "text/plain": [
       "<Figure size 864x504 with 1 Axes>"
      ]
     },
     "metadata": {
      "needs_background": "light"
     },
     "output_type": "display_data"
    }
   ],
   "source": [
    "train_data, test_data = df[0:int(len(df)*0.8)], df[int(len(df)*0.8):]\n",
    "plt.figure(figsize=(12,7))\n",
    "plt.title('Microsoft Prices')\n",
    "plt.xlabel('Dates')\n",
    "plt.ylabel('Prices')\n",
    "plt.plot(df['c'], 'blue', label='Training Data')\n",
    "plt.plot(test_data['c'], 'green', label='Testing Data')\n",
    "plt.xticks(np.arange(0,size, 300), df['t'][0:size:300])\n",
    "plt.legend()"
   ]
  },
  {
   "cell_type": "code",
   "execution_count": 30,
   "metadata": {},
   "outputs": [],
   "source": [
    "def smape_kun(y_true, y_pred):\n",
    "    return np.mean((np.abs(y_pred - y_true) * 200/ (np.abs(y_pred) +       np.abs(y_true))))"
   ]
  },
  {
   "cell_type": "code",
   "execution_count": 31,
   "metadata": {},
   "outputs": [
    {
     "name": "stdout",
     "output_type": "stream",
     "text": [
      "<class 'list'>\n",
      "Testing Mean Squared Error: 0.029\n",
      "Symmetric mean absolute percentage error: 5.806\n"
     ]
    }
   ],
   "source": [
    "train_ar = train_data['c'].values\n",
    "test_ar = test_data['c'].values\n",
    "history = [x for x in train_ar]\n",
    "print(type(history))\n",
    "predictions = list()\n",
    "for t in range(len(test_ar)):\n",
    "    model = ARIMA(history, order=(5,1,0))\n",
    "    model_fit = model.fit(disp=0)\n",
    "    output = model_fit.forecast()\n",
    "    yhat = output[0]\n",
    "    predictions.append(yhat)\n",
    "    obs = test_ar[t]\n",
    "    history.append(obs)\n",
    "error = mean_squared_error(test_ar, predictions)\n",
    "print('Testing Mean Squared Error: %.3f' % error)\n",
    "error2 = smape_kun(test_ar, predictions)\n",
    "print('Symmetric mean absolute percentage error: %.3f' % error2)"
   ]
  },
  {
   "cell_type": "code",
   "execution_count": 32,
   "metadata": {},
   "outputs": [
    {
     "data": {
      "text/html": [
       "<div>\n",
       "<style scoped>\n",
       "    .dataframe tbody tr th:only-of-type {\n",
       "        vertical-align: middle;\n",
       "    }\n",
       "\n",
       "    .dataframe tbody tr th {\n",
       "        vertical-align: top;\n",
       "    }\n",
       "\n",
       "    .dataframe thead th {\n",
       "        text-align: right;\n",
       "    }\n",
       "</style>\n",
       "<table border=\"1\" class=\"dataframe\">\n",
       "  <thead>\n",
       "    <tr style=\"text-align: right;\">\n",
       "      <th></th>\n",
       "      <th>Prediction</th>\n",
       "      <th>Actual</th>\n",
       "    </tr>\n",
       "  </thead>\n",
       "  <tbody>\n",
       "    <tr>\n",
       "      <th>0</th>\n",
       "      <td>[6.040818186916507]</td>\n",
       "      <td>6.04</td>\n",
       "    </tr>\n",
       "    <tr>\n",
       "      <th>1</th>\n",
       "      <td>[6.029562929711459]</td>\n",
       "      <td>6.12</td>\n",
       "    </tr>\n",
       "    <tr>\n",
       "      <th>2</th>\n",
       "      <td>[6.11446389025567]</td>\n",
       "      <td>6.16</td>\n",
       "    </tr>\n",
       "    <tr>\n",
       "      <th>3</th>\n",
       "      <td>[6.15797640285423]</td>\n",
       "      <td>6.16</td>\n",
       "    </tr>\n",
       "    <tr>\n",
       "      <th>4</th>\n",
       "      <td>[6.15291145900586]</td>\n",
       "      <td>6.03</td>\n",
       "    </tr>\n",
       "    <tr>\n",
       "      <th>...</th>\n",
       "      <td>...</td>\n",
       "      <td>...</td>\n",
       "    </tr>\n",
       "    <tr>\n",
       "      <th>133</th>\n",
       "      <td>[6.691927285140042]</td>\n",
       "      <td>6.86</td>\n",
       "    </tr>\n",
       "    <tr>\n",
       "      <th>134</th>\n",
       "      <td>[6.852546413747764]</td>\n",
       "      <td>6.85</td>\n",
       "    </tr>\n",
       "    <tr>\n",
       "      <th>135</th>\n",
       "      <td>[6.85616284338307]</td>\n",
       "      <td>6.76</td>\n",
       "    </tr>\n",
       "    <tr>\n",
       "      <th>136</th>\n",
       "      <td>[6.757449853503582]</td>\n",
       "      <td>6.68</td>\n",
       "    </tr>\n",
       "    <tr>\n",
       "      <th>137</th>\n",
       "      <td>[6.692892022685347]</td>\n",
       "      <td>6.64</td>\n",
       "    </tr>\n",
       "  </tbody>\n",
       "</table>\n",
       "<p>138 rows × 2 columns</p>\n",
       "</div>"
      ],
      "text/plain": [
       "              Prediction  Actual\n",
       "0    [6.040818186916507]    6.04\n",
       "1    [6.029562929711459]    6.12\n",
       "2     [6.11446389025567]    6.16\n",
       "3     [6.15797640285423]    6.16\n",
       "4     [6.15291145900586]    6.03\n",
       "..                   ...     ...\n",
       "133  [6.691927285140042]    6.86\n",
       "134  [6.852546413747764]    6.85\n",
       "135   [6.85616284338307]    6.76\n",
       "136  [6.757449853503582]    6.68\n",
       "137  [6.692892022685347]    6.64\n",
       "\n",
       "[138 rows x 2 columns]"
      ]
     },
     "execution_count": 32,
     "metadata": {},
     "output_type": "execute_result"
    }
   ],
   "source": [
    "pd.DataFrame({\"Prediction\": predictions, 'Actual': test_ar})"
   ]
  },
  {
   "cell_type": "code",
   "execution_count": 33,
   "metadata": {},
   "outputs": [
    {
     "data": {
      "text/plain": [
       "<matplotlib.legend.Legend at 0x22598400fd0>"
      ]
     },
     "execution_count": 33,
     "metadata": {},
     "output_type": "execute_result"
    },
    {
     "data": {
      "image/png": "[encoded data removed]",
      "text/plain": [
       "<Figure size 864x504 with 1 Axes>"
      ]
     },
     "metadata": {
      "needs_background": "light"
     },
     "output_type": "display_data"
    }
   ],
   "source": [
    "plt.figure(figsize=(12,7))\n",
    "plt.plot(df['c'], 'green', color='blue', label='Training Data')\n",
    "plt.plot(test_data.index, predictions, color='green', marker='o', linestyle='dashed', \n",
    "         label='Predicted Price')\n",
    "plt.plot(test_data.index, test_data['c'], color='red', label='Actual Price')\n",
    "plt.title('Microsoft Prices Prediction')\n",
    "plt.xlabel('Dates')\n",
    "plt.ylabel('Prices')\n",
    "plt.xticks(np.arange(0,size, 1300), df['t'][0:size:1300])\n",
    "plt.legend()"
   ]
  },
  {
   "cell_type": "markdown",
   "metadata": {},
   "source": [
    "# Prophet"
   ]
  },
  {
   "cell_type": "code",
   "execution_count": 34,
   "metadata": {},
   "outputs": [
    {
     "data": {
      "text/html": [
       "<div>\n",
       "<style scoped>\n",
       "    .dataframe tbody tr th:only-of-type {\n",
       "        vertical-align: middle;\n",
       "    }\n",
       "\n",
       "    .dataframe tbody tr th {\n",
       "        vertical-align: top;\n",
       "    }\n",
       "\n",
       "    .dataframe thead th {\n",
       "        text-align: right;\n",
       "    }\n",
       "</style>\n",
       "<table border=\"1\" class=\"dataframe\">\n",
       "  <thead>\n",
       "    <tr style=\"text-align: right;\">\n",
       "      <th></th>\n",
       "      <th>c</th>\n",
       "      <th>h</th>\n",
       "      <th>l</th>\n",
       "      <th>o</th>\n",
       "      <th>s</th>\n",
       "      <th>t</th>\n",
       "      <th>v</th>\n",
       "    </tr>\n",
       "  </thead>\n",
       "  <tbody>\n",
       "    <tr>\n",
       "      <th>0</th>\n",
       "      <td>3.60</td>\n",
       "      <td>3.64</td>\n",
       "      <td>3.57</td>\n",
       "      <td>3.60</td>\n",
       "      <td>ok</td>\n",
       "      <td>1499779800</td>\n",
       "      <td>5023200</td>\n",
       "    </tr>\n",
       "    <tr>\n",
       "      <th>1</th>\n",
       "      <td>3.64</td>\n",
       "      <td>3.65</td>\n",
       "      <td>3.60</td>\n",
       "      <td>3.61</td>\n",
       "      <td>ok</td>\n",
       "      <td>1499866200</td>\n",
       "      <td>7218200</td>\n",
       "    </tr>\n",
       "    <tr>\n",
       "      <th>2</th>\n",
       "      <td>3.56</td>\n",
       "      <td>3.65</td>\n",
       "      <td>3.54</td>\n",
       "      <td>3.64</td>\n",
       "      <td>ok</td>\n",
       "      <td>1499952600</td>\n",
       "      <td>13526400</td>\n",
       "    </tr>\n",
       "    <tr>\n",
       "      <th>3</th>\n",
       "      <td>3.65</td>\n",
       "      <td>3.65</td>\n",
       "      <td>3.57</td>\n",
       "      <td>3.57</td>\n",
       "      <td>ok</td>\n",
       "      <td>1500039000</td>\n",
       "      <td>5939900</td>\n",
       "    </tr>\n",
       "    <tr>\n",
       "      <th>4</th>\n",
       "      <td>3.58</td>\n",
       "      <td>3.67</td>\n",
       "      <td>3.56</td>\n",
       "      <td>3.65</td>\n",
       "      <td>ok</td>\n",
       "      <td>1500298200</td>\n",
       "      <td>6962500</td>\n",
       "    </tr>\n",
       "    <tr>\n",
       "      <th>...</th>\n",
       "      <td>...</td>\n",
       "      <td>...</td>\n",
       "      <td>...</td>\n",
       "      <td>...</td>\n",
       "      <td>...</td>\n",
       "      <td>...</td>\n",
       "      <td>...</td>\n",
       "    </tr>\n",
       "    <tr>\n",
       "      <th>684</th>\n",
       "      <td>6.86</td>\n",
       "      <td>6.94</td>\n",
       "      <td>6.71</td>\n",
       "      <td>6.90</td>\n",
       "      <td>ok</td>\n",
       "      <td>1585575000</td>\n",
       "      <td>18205200</td>\n",
       "    </tr>\n",
       "    <tr>\n",
       "      <th>685</th>\n",
       "      <td>6.85</td>\n",
       "      <td>7.04</td>\n",
       "      <td>6.76</td>\n",
       "      <td>6.84</td>\n",
       "      <td>ok</td>\n",
       "      <td>1585661400</td>\n",
       "      <td>16357600</td>\n",
       "    </tr>\n",
       "    <tr>\n",
       "      <th>686</th>\n",
       "      <td>6.76</td>\n",
       "      <td>7.00</td>\n",
       "      <td>6.66</td>\n",
       "      <td>6.70</td>\n",
       "      <td>ok</td>\n",
       "      <td>1585747800</td>\n",
       "      <td>12252300</td>\n",
       "    </tr>\n",
       "    <tr>\n",
       "      <th>687</th>\n",
       "      <td>6.68</td>\n",
       "      <td>6.79</td>\n",
       "      <td>6.55</td>\n",
       "      <td>6.71</td>\n",
       "      <td>ok</td>\n",
       "      <td>1585834200</td>\n",
       "      <td>24294300</td>\n",
       "    </tr>\n",
       "    <tr>\n",
       "      <th>688</th>\n",
       "      <td>6.64</td>\n",
       "      <td>6.75</td>\n",
       "      <td>6.58</td>\n",
       "      <td>6.68</td>\n",
       "      <td>ok</td>\n",
       "      <td>1585920600</td>\n",
       "      <td>17778000</td>\n",
       "    </tr>\n",
       "  </tbody>\n",
       "</table>\n",
       "<p>689 rows × 7 columns</p>\n",
       "</div>"
      ],
      "text/plain": [
       "        c     h     l     o   s           t         v\n",
       "0    3.60  3.64  3.57  3.60  ok  1499779800   5023200\n",
       "1    3.64  3.65  3.60  3.61  ok  1499866200   7218200\n",
       "2    3.56  3.65  3.54  3.64  ok  1499952600  13526400\n",
       "3    3.65  3.65  3.57  3.57  ok  1500039000   5939900\n",
       "4    3.58  3.67  3.56  3.65  ok  1500298200   6962500\n",
       "..    ...   ...   ...   ...  ..         ...       ...\n",
       "684  6.86  6.94  6.71  6.90  ok  1585575000  18205200\n",
       "685  6.85  7.04  6.76  6.84  ok  1585661400  16357600\n",
       "686  6.76  7.00  6.66  6.70  ok  1585747800  12252300\n",
       "687  6.68  6.79  6.55  6.71  ok  1585834200  24294300\n",
       "688  6.64  6.75  6.58  6.68  ok  1585920600  17778000\n",
       "\n",
       "[689 rows x 7 columns]"
      ]
     },
     "execution_count": 34,
     "metadata": {},
     "output_type": "execute_result"
    }
   ],
   "source": [
    "#read the file\n",
    "df = pd.read_json (r'ZNGA.json')\n",
    "\n",
    "#print the head\n",
    "df"
   ]
  },
  {
   "cell_type": "code",
   "execution_count": 35,
   "metadata": {},
   "outputs": [
    {
     "data": {
      "text/html": [
       "<div>\n",
       "<style scoped>\n",
       "    .dataframe tbody tr th:only-of-type {\n",
       "        vertical-align: middle;\n",
       "    }\n",
       "\n",
       "    .dataframe tbody tr th {\n",
       "        vertical-align: top;\n",
       "    }\n",
       "\n",
       "    .dataframe thead th {\n",
       "        text-align: right;\n",
       "    }\n",
       "</style>\n",
       "<table border=\"1\" class=\"dataframe\">\n",
       "  <thead>\n",
       "    <tr style=\"text-align: right;\">\n",
       "      <th></th>\n",
       "      <th>Close</th>\n",
       "      <th>High</th>\n",
       "      <th>Low</th>\n",
       "      <th>Open</th>\n",
       "      <th>Status</th>\n",
       "      <th>Date</th>\n",
       "      <th>Volume</th>\n",
       "    </tr>\n",
       "  </thead>\n",
       "  <tbody>\n",
       "    <tr>\n",
       "      <th>0</th>\n",
       "      <td>3.60</td>\n",
       "      <td>3.64</td>\n",
       "      <td>3.57</td>\n",
       "      <td>3.60</td>\n",
       "      <td>ok</td>\n",
       "      <td>2017-07-11 13:30:00</td>\n",
       "      <td>5023200</td>\n",
       "    </tr>\n",
       "    <tr>\n",
       "      <th>1</th>\n",
       "      <td>3.64</td>\n",
       "      <td>3.65</td>\n",
       "      <td>3.60</td>\n",
       "      <td>3.61</td>\n",
       "      <td>ok</td>\n",
       "      <td>2017-07-12 13:30:00</td>\n",
       "      <td>7218200</td>\n",
       "    </tr>\n",
       "    <tr>\n",
       "      <th>2</th>\n",
       "      <td>3.56</td>\n",
       "      <td>3.65</td>\n",
       "      <td>3.54</td>\n",
       "      <td>3.64</td>\n",
       "      <td>ok</td>\n",
       "      <td>2017-07-13 13:30:00</td>\n",
       "      <td>13526400</td>\n",
       "    </tr>\n",
       "    <tr>\n",
       "      <th>3</th>\n",
       "      <td>3.65</td>\n",
       "      <td>3.65</td>\n",
       "      <td>3.57</td>\n",
       "      <td>3.57</td>\n",
       "      <td>ok</td>\n",
       "      <td>2017-07-14 13:30:00</td>\n",
       "      <td>5939900</td>\n",
       "    </tr>\n",
       "    <tr>\n",
       "      <th>4</th>\n",
       "      <td>3.58</td>\n",
       "      <td>3.67</td>\n",
       "      <td>3.56</td>\n",
       "      <td>3.65</td>\n",
       "      <td>ok</td>\n",
       "      <td>2017-07-17 13:30:00</td>\n",
       "      <td>6962500</td>\n",
       "    </tr>\n",
       "  </tbody>\n",
       "</table>\n",
       "</div>"
      ],
      "text/plain": [
       "   Close  High   Low  Open Status                Date    Volume\n",
       "0   3.60  3.64  3.57  3.60     ok 2017-07-11 13:30:00   5023200\n",
       "1   3.64  3.65  3.60  3.61     ok 2017-07-12 13:30:00   7218200\n",
       "2   3.56  3.65  3.54  3.64     ok 2017-07-13 13:30:00  13526400\n",
       "3   3.65  3.65  3.57  3.57     ok 2017-07-14 13:30:00   5939900\n",
       "4   3.58  3.67  3.56  3.65     ok 2017-07-17 13:30:00   6962500"
      ]
     },
     "execution_count": 35,
     "metadata": {},
     "output_type": "execute_result"
    }
   ],
   "source": [
    "df['t'] = pd.to_datetime(df['t'], unit='s')\n",
    "df = df.rename(columns={'c': 'Close', 'h': 'High', 'l':'Low',  'o': 'Open', 's': 'Status', 't': 'Date', 'v': 'Volume'})\n",
    "df.head()"
   ]
  },
  {
   "cell_type": "code",
   "execution_count": 36,
   "metadata": {},
   "outputs": [],
   "source": [
    "size = len(df)\n",
    "tsize = int(size/2)"
   ]
  },
  {
   "cell_type": "code",
   "execution_count": 37,
   "metadata": {},
   "outputs": [
    {
     "name": "stderr",
     "output_type": "stream",
     "text": [
      "Importing plotly failed. Interactive plots will not work.\n"
     ]
    }
   ],
   "source": [
    "#importing prophet\n",
    "from fbprophet import Prophet\n",
    "\n",
    "#creating dataframe\n",
    "new_data = pd.DataFrame(index=range(0,len(df)),columns=['Date', 'Close'])\n",
    "\n",
    "for i in range(0,len(df)):\n",
    "    new_data['Date'][i] = df['Date'][i]\n",
    "    new_data['Close'][i] = df['Close'][i]\n",
    "\n",
    "new_data['Date'] = pd.to_datetime(new_data.Date,format='%Y-%m-%d')\n",
    "new_data.index = new_data['Date']\n",
    "\n",
    "#preparing data\n",
    "new_data.rename(columns={'Close': 'y', 'Date': 'ds'}, inplace=True)"
   ]
  },
  {
   "cell_type": "code",
   "execution_count": 38,
   "metadata": {
    "scrolled": true
   },
   "outputs": [
    {
     "data": {
      "text/html": [
       "<div>\n",
       "<style scoped>\n",
       "    .dataframe tbody tr th:only-of-type {\n",
       "        vertical-align: middle;\n",
       "    }\n",
       "\n",
       "    .dataframe tbody tr th {\n",
       "        vertical-align: top;\n",
       "    }\n",
       "\n",
       "    .dataframe thead th {\n",
       "        text-align: right;\n",
       "    }\n",
       "</style>\n",
       "<table border=\"1\" class=\"dataframe\">\n",
       "  <thead>\n",
       "    <tr style=\"text-align: right;\">\n",
       "      <th></th>\n",
       "      <th>ds</th>\n",
       "      <th>y</th>\n",
       "    </tr>\n",
       "    <tr>\n",
       "      <th>Date</th>\n",
       "      <th></th>\n",
       "      <th></th>\n",
       "    </tr>\n",
       "  </thead>\n",
       "  <tbody>\n",
       "    <tr>\n",
       "      <th>2017-07-11 13:30:00</th>\n",
       "      <td>2017-07-11 13:30:00</td>\n",
       "      <td>3.6</td>\n",
       "    </tr>\n",
       "    <tr>\n",
       "      <th>2017-07-12 13:30:00</th>\n",
       "      <td>2017-07-12 13:30:00</td>\n",
       "      <td>3.64</td>\n",
       "    </tr>\n",
       "    <tr>\n",
       "      <th>2017-07-13 13:30:00</th>\n",
       "      <td>2017-07-13 13:30:00</td>\n",
       "      <td>3.56</td>\n",
       "    </tr>\n",
       "    <tr>\n",
       "      <th>2017-07-14 13:30:00</th>\n",
       "      <td>2017-07-14 13:30:00</td>\n",
       "      <td>3.65</td>\n",
       "    </tr>\n",
       "    <tr>\n",
       "      <th>2017-07-17 13:30:00</th>\n",
       "      <td>2017-07-17 13:30:00</td>\n",
       "      <td>3.58</td>\n",
       "    </tr>\n",
       "    <tr>\n",
       "      <th>...</th>\n",
       "      <td>...</td>\n",
       "      <td>...</td>\n",
       "    </tr>\n",
       "    <tr>\n",
       "      <th>2020-03-30 13:30:00</th>\n",
       "      <td>2020-03-30 13:30:00</td>\n",
       "      <td>6.86</td>\n",
       "    </tr>\n",
       "    <tr>\n",
       "      <th>2020-03-31 13:30:00</th>\n",
       "      <td>2020-03-31 13:30:00</td>\n",
       "      <td>6.85</td>\n",
       "    </tr>\n",
       "    <tr>\n",
       "      <th>2020-04-01 13:30:00</th>\n",
       "      <td>2020-04-01 13:30:00</td>\n",
       "      <td>6.76</td>\n",
       "    </tr>\n",
       "    <tr>\n",
       "      <th>2020-04-02 13:30:00</th>\n",
       "      <td>2020-04-02 13:30:00</td>\n",
       "      <td>6.68</td>\n",
       "    </tr>\n",
       "    <tr>\n",
       "      <th>2020-04-03 13:30:00</th>\n",
       "      <td>2020-04-03 13:30:00</td>\n",
       "      <td>6.64</td>\n",
       "    </tr>\n",
       "  </tbody>\n",
       "</table>\n",
       "<p>689 rows × 2 columns</p>\n",
       "</div>"
      ],
      "text/plain": [
       "                                     ds     y\n",
       "Date                                         \n",
       "2017-07-11 13:30:00 2017-07-11 13:30:00   3.6\n",
       "2017-07-12 13:30:00 2017-07-12 13:30:00  3.64\n",
       "2017-07-13 13:30:00 2017-07-13 13:30:00  3.56\n",
       "2017-07-14 13:30:00 2017-07-14 13:30:00  3.65\n",
       "2017-07-17 13:30:00 2017-07-17 13:30:00  3.58\n",
       "...                                 ...   ...\n",
       "2020-03-30 13:30:00 2020-03-30 13:30:00  6.86\n",
       "2020-03-31 13:30:00 2020-03-31 13:30:00  6.85\n",
       "2020-04-01 13:30:00 2020-04-01 13:30:00  6.76\n",
       "2020-04-02 13:30:00 2020-04-02 13:30:00  6.68\n",
       "2020-04-03 13:30:00 2020-04-03 13:30:00  6.64\n",
       "\n",
       "[689 rows x 2 columns]"
      ]
     },
     "execution_count": 38,
     "metadata": {},
     "output_type": "execute_result"
    }
   ],
   "source": [
    "new_data[:size]"
   ]
  },
  {
   "cell_type": "code",
   "execution_count": 40,
   "metadata": {},
   "outputs": [],
   "source": [
    "#train and validation\n",
    "train = new_data[:tsize]\n",
    "valid = new_data[tsize:]"
   ]
  },
  {
   "cell_type": "code",
   "execution_count": 41,
   "metadata": {},
   "outputs": [
    {
     "data": {
      "text/plain": [
       "345"
      ]
     },
     "execution_count": 41,
     "metadata": {},
     "output_type": "execute_result"
    }
   ],
   "source": [
    "len(valid)"
   ]
  },
  {
   "cell_type": "code",
   "execution_count": 42,
   "metadata": {},
   "outputs": [
    {
     "name": "stderr",
     "output_type": "stream",
     "text": [
      "INFO:fbprophet:Disabling yearly seasonality. Run prophet with yearly_seasonality=True to override this.\n",
      "INFO:fbprophet:Disabling daily seasonality. Run prophet with daily_seasonality=True to override this.\n"
     ]
    }
   ],
   "source": [
    "#fit the model\n",
    "model = Prophet()\n",
    "model.fit(train)\n",
    "\n",
    "#predictions\n",
    "close_prices = model.make_future_dataframe(periods=len(valid))\n",
    "forecast = model.predict(close_prices)"
   ]
  },
  {
   "cell_type": "code",
   "execution_count": 43,
   "metadata": {},
   "outputs": [
    {
     "data": {
      "text/html": [
       "<div>\n",
       "<style scoped>\n",
       "    .dataframe tbody tr th:only-of-type {\n",
       "        vertical-align: middle;\n",
       "    }\n",
       "\n",
       "    .dataframe tbody tr th {\n",
       "        vertical-align: top;\n",
       "    }\n",
       "\n",
       "    .dataframe thead th {\n",
       "        text-align: right;\n",
       "    }\n",
       "</style>\n",
       "<table border=\"1\" class=\"dataframe\">\n",
       "  <thead>\n",
       "    <tr style=\"text-align: right;\">\n",
       "      <th></th>\n",
       "      <th>ds</th>\n",
       "    </tr>\n",
       "  </thead>\n",
       "  <tbody>\n",
       "    <tr>\n",
       "      <th>687</th>\n",
       "      <td>2019-10-26 14:30:00</td>\n",
       "    </tr>\n",
       "    <tr>\n",
       "      <th>688</th>\n",
       "      <td>2019-10-27 14:30:00</td>\n",
       "    </tr>\n",
       "  </tbody>\n",
       "</table>\n",
       "</div>"
      ],
      "text/plain": [
       "                     ds\n",
       "687 2019-10-26 14:30:00\n",
       "688 2019-10-27 14:30:00"
      ]
     },
     "execution_count": 43,
     "metadata": {},
     "output_type": "execute_result"
    }
   ],
   "source": [
    "close_prices.tail(2)"
   ]
  },
  {
   "cell_type": "code",
   "execution_count": 44,
   "metadata": {},
   "outputs": [],
   "source": [
    "#rmse\n",
    "forecast_valid = forecast['yhat'][tsize:]"
   ]
  },
  {
   "cell_type": "code",
   "execution_count": 45,
   "metadata": {},
   "outputs": [
    {
     "name": "stdout",
     "output_type": "stream",
     "text": [
      "(345,) (345,)\n"
     ]
    }
   ],
   "source": [
    "print(forecast_valid.shape, valid['y'].shape)"
   ]
  },
  {
   "cell_type": "code",
   "execution_count": 46,
   "metadata": {},
   "outputs": [
    {
     "data": {
      "text/plain": [
       "2.7402031611362556"
      ]
     },
     "execution_count": 46,
     "metadata": {},
     "output_type": "execute_result"
    }
   ],
   "source": [
    "rms=np.sqrt(np.mean(np.power((np.array(valid['y'])-np.array(forecast_valid)),2)))\n",
    "rms"
   ]
  },
  {
   "cell_type": "code",
   "execution_count": 47,
   "metadata": {},
   "outputs": [
    {
     "name": "stderr",
     "output_type": "stream",
     "text": [
      "C:\\Users\\layla\\anaconda\\envs\\PythonData\\lib\\site-packages\\ipykernel_launcher.py:1: SettingWithCopyWarning: \n",
      "A value is trying to be set on a copy of a slice from a DataFrame.\n",
      "Try using .loc[row_indexer,col_indexer] = value instead\n",
      "\n",
      "See the caveats in the documentation: http://pandas.pydata.org/pandas-docs/stable/user_guide/indexing.html#returning-a-view-versus-a-copy\n",
      "  \"\"\"Entry point for launching an IPython kernel.\n"
     ]
    }
   ],
   "source": [
    "valid['yhat'] = forecast['yhat']"
   ]
  },
  {
   "cell_type": "code",
   "execution_count": 48,
   "metadata": {},
   "outputs": [
    {
     "name": "stderr",
     "output_type": "stream",
     "text": [
      "C:\\Users\\layla\\anaconda\\envs\\PythonData\\lib\\site-packages\\ipykernel_launcher.py:2: SettingWithCopyWarning: \n",
      "A value is trying to be set on a copy of a slice from a DataFrame.\n",
      "Try using .loc[row_indexer,col_indexer] = value instead\n",
      "\n",
      "See the caveats in the documentation: http://pandas.pydata.org/pandas-docs/stable/user_guide/indexing.html#returning-a-view-versus-a-copy\n",
      "  \n",
      "C:\\Users\\layla\\anaconda\\envs\\PythonData\\lib\\site-packages\\ipykernel_launcher.py:3: SettingWithCopyWarning: \n",
      "A value is trying to be set on a copy of a slice from a DataFrame.\n",
      "Try using .loc[row_indexer,col_indexer] = value instead\n",
      "\n",
      "See the caveats in the documentation: http://pandas.pydata.org/pandas-docs/stable/user_guide/indexing.html#returning-a-view-versus-a-copy\n",
      "  This is separate from the ipykernel package so we can avoid doing imports until\n"
     ]
    },
    {
     "data": {
      "text/plain": [
       "[<matplotlib.lines.Line2D at 0x225979b8e10>,\n",
       " <matplotlib.lines.Line2D at 0x2259af7d2b0>]"
      ]
     },
     "execution_count": 48,
     "metadata": {},
     "output_type": "execute_result"
    },
    {
     "data": {
      "image/png": "[encoded data removed]",
      "text/plain": [
       "<Figure size 432x288 with 1 Axes>"
      ]
     },
     "metadata": {
      "needs_background": "light"
     },
     "output_type": "display_data"
    }
   ],
   "source": [
    "#plot\n",
    "valid['Predictions'] = 0\n",
    "valid['Predictions'] = forecast_valid.values\n",
    "\n",
    "plt.plot(train['y'])\n",
    "plt.plot(valid[['y', 'Predictions']])"
   ]
  },
  {
   "cell_type": "code",
   "execution_count": 49,
   "metadata": {},
   "outputs": [
    {
     "data": {
      "text/plain": [
       "Date\n",
       "2018-11-19 14:30:00    3.311995\n",
       "2018-11-20 14:30:00    3.469169\n",
       "2018-11-21 14:30:00    3.780522\n",
       "2018-11-23 14:30:00    3.789271\n",
       "2018-11-26 14:30:00    3.795018\n",
       "                         ...   \n",
       "2020-03-30 13:30:00    2.914830\n",
       "2020-03-31 13:30:00    2.921205\n",
       "2020-04-01 13:30:00    2.901723\n",
       "2020-04-02 13:30:00    2.413469\n",
       "2020-04-03 13:30:00    2.570643\n",
       "Name: Predictions, Length: 345, dtype: float64"
      ]
     },
     "execution_count": 49,
     "metadata": {},
     "output_type": "execute_result"
    }
   ],
   "source": [
    "valid['Predictions']"
   ]
  },
  {
   "cell_type": "code",
   "execution_count": 50,
   "metadata": {},
   "outputs": [
    {
     "data": {
      "text/html": [
       "<div>\n",
       "<style scoped>\n",
       "    .dataframe tbody tr th:only-of-type {\n",
       "        vertical-align: middle;\n",
       "    }\n",
       "\n",
       "    .dataframe tbody tr th {\n",
       "        vertical-align: top;\n",
       "    }\n",
       "\n",
       "    .dataframe thead th {\n",
       "        text-align: right;\n",
       "    }\n",
       "</style>\n",
       "<table border=\"1\" class=\"dataframe\">\n",
       "  <thead>\n",
       "    <tr style=\"text-align: right;\">\n",
       "      <th></th>\n",
       "      <th>Prediction</th>\n",
       "      <th>Actual</th>\n",
       "    </tr>\n",
       "    <tr>\n",
       "      <th>Date</th>\n",
       "      <th></th>\n",
       "      <th></th>\n",
       "    </tr>\n",
       "  </thead>\n",
       "  <tbody>\n",
       "    <tr>\n",
       "      <th>2018-11-19 14:30:00</th>\n",
       "      <td>3.311995</td>\n",
       "      <td>3.44</td>\n",
       "    </tr>\n",
       "    <tr>\n",
       "      <th>2018-11-20 14:30:00</th>\n",
       "      <td>3.469169</td>\n",
       "      <td>3.49</td>\n",
       "    </tr>\n",
       "    <tr>\n",
       "      <th>2018-11-21 14:30:00</th>\n",
       "      <td>3.780522</td>\n",
       "      <td>3.49</td>\n",
       "    </tr>\n",
       "    <tr>\n",
       "      <th>2018-11-23 14:30:00</th>\n",
       "      <td>3.789271</td>\n",
       "      <td>3.48</td>\n",
       "    </tr>\n",
       "    <tr>\n",
       "      <th>2018-11-26 14:30:00</th>\n",
       "      <td>3.795018</td>\n",
       "      <td>3.54</td>\n",
       "    </tr>\n",
       "    <tr>\n",
       "      <th>...</th>\n",
       "      <td>...</td>\n",
       "      <td>...</td>\n",
       "    </tr>\n",
       "    <tr>\n",
       "      <th>2020-03-30 13:30:00</th>\n",
       "      <td>2.914830</td>\n",
       "      <td>6.86</td>\n",
       "    </tr>\n",
       "    <tr>\n",
       "      <th>2020-03-31 13:30:00</th>\n",
       "      <td>2.921205</td>\n",
       "      <td>6.85</td>\n",
       "    </tr>\n",
       "    <tr>\n",
       "      <th>2020-04-01 13:30:00</th>\n",
       "      <td>2.901723</td>\n",
       "      <td>6.76</td>\n",
       "    </tr>\n",
       "    <tr>\n",
       "      <th>2020-04-02 13:30:00</th>\n",
       "      <td>2.413469</td>\n",
       "      <td>6.68</td>\n",
       "    </tr>\n",
       "    <tr>\n",
       "      <th>2020-04-03 13:30:00</th>\n",
       "      <td>2.570643</td>\n",
       "      <td>6.64</td>\n",
       "    </tr>\n",
       "  </tbody>\n",
       "</table>\n",
       "<p>345 rows × 2 columns</p>\n",
       "</div>"
      ],
      "text/plain": [
       "                     Prediction Actual\n",
       "Date                                  \n",
       "2018-11-19 14:30:00    3.311995   3.44\n",
       "2018-11-20 14:30:00    3.469169   3.49\n",
       "2018-11-21 14:30:00    3.780522   3.49\n",
       "2018-11-23 14:30:00    3.789271   3.48\n",
       "2018-11-26 14:30:00    3.795018   3.54\n",
       "...                         ...    ...\n",
       "2020-03-30 13:30:00    2.914830   6.86\n",
       "2020-03-31 13:30:00    2.921205   6.85\n",
       "2020-04-01 13:30:00    2.901723   6.76\n",
       "2020-04-02 13:30:00    2.413469   6.68\n",
       "2020-04-03 13:30:00    2.570643   6.64\n",
       "\n",
       "[345 rows x 2 columns]"
      ]
     },
     "execution_count": 50,
     "metadata": {},
     "output_type": "execute_result"
    }
   ],
   "source": [
    "pd.DataFrame({\"Prediction\": valid['Predictions'], \"Actual\": valid['y']})"
   ]
  },
  {
   "cell_type": "code",
   "execution_count": 51,
   "metadata": {},
   "outputs": [
    {
     "data": {
      "image/png": "[encoded data removed]",
      "text/plain": [
       "<Figure size 720x432 with 1 Axes>"
      ]
     },
     "metadata": {},
     "output_type": "display_data"
    }
   ],
   "source": [
    "fig1 =model.plot(forecast)"
   ]
  },
  {
   "cell_type": "code",
   "execution_count": 52,
   "metadata": {},
   "outputs": [
    {
     "data": {
      "image/png": "[encoded data removed]",
      "text/plain": [
       "<Figure size 648x432 with 2 Axes>"
      ]
     },
     "metadata": {},
     "output_type": "display_data"
    }
   ],
   "source": [
    "# to view  the forecast components\n",
    "fig1 = model.plot_components(forecast)"
   ]
  },
  {
   "cell_type": "code",
   "execution_count": null,
   "metadata": {},
   "outputs": [],
   "source": []
  }
 ],
 "metadata": {
  "kernelspec": {
   "display_name": "PythonData",
   "language": "python",
   "name": "pythondata"
  },
  "language_info": {
   "codemirror_mode": {
    "name": "ipython",
    "version": 3
   },
   "file_extension": ".py",
   "mimetype": "text/x-python",
   "name": "python",
   "nbconvert_exporter": "python",
   "pygments_lexer": "ipython3",
   "version": "3.6.9"
  }
 },
 "nbformat": 4,
 "nbformat_minor": 2
}
