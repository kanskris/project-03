{
 "cells": [
  {
   "cell_type": "code",
   "execution_count": null,
   "metadata": {},
   "outputs": [],
   "source": [
    "from finnhub import client as Finnhub\n",
    "\n",
    "client = Finnhub.Client(api_key=\"********************\")\n",
    "\n",
    "# List supported stocks\n",
    "client.stock_symbol(exchange=\"US\")\n",
    "\n",
    "# Get quote data\n",
    "client.quote(symbol=\"NFLX\")\n",
    "\n",
    "# Get candlestick data for stocks\n",
    "client.stock_candle(symbol=\"NFLX\", resolution=\"D\", count=200)\n",
    "client.stock_candle(symbol=\"NFLX\", resolution=\"D\", **{'from':'1575968404', 'to': '1575968424'})\n",
    "\n",
    "# [PREMIUM] Get tick data\n",
    "client.stock_tick(symbol=\"NFLX\", resolution=\"D\", **{'from':'1575968404', 'to': '1575968424'})\n"
   ]
  }
 ],
 "metadata": {
  "kernelspec": {
   "display_name": "PythonData",
   "language": "python",
   "name": "pythondata"
  },
  "language_info": {
   "codemirror_mode": {
    "name": "ipython",
    "version": 3
   },
   "file_extension": ".py",
   "mimetype": "text/x-python",
   "name": "python",
   "nbconvert_exporter": "python",
   "pygments_lexer": "ipython3",
   "version": "3.6.9"
  }
 },
 "nbformat": 4,
 "nbformat_minor": 2
}
