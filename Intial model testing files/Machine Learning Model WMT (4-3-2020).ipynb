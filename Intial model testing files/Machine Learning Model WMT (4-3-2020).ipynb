{
 "cells": [
  {
   "cell_type": "code",
   "execution_count": 1,
   "metadata": {},
   "outputs": [],
   "source": [
    "import pandas as pd\n",
    "import numpy as np\n",
    "import matplotlib.pyplot as plt"
   ]
  },
  {
   "cell_type": "code",
   "execution_count": null,
   "metadata": {},
   "outputs": [],
   "source": [
    "#read the file\n",
    "df = pd.read_json (r'WMT.json')\n",
    "\n",
    "#print the head\n",
    "df"
   ]
  },
  {
   "cell_type": "code",
   "execution_count": null,
   "metadata": {},
   "outputs": [],
   "source": [
    "df['t'] = pd.to_datetime(df['t'], unit='s')\n",
    "df = df.rename(columns={'c': 'Close', 'h': 'High', 'l':'Low',  'o': 'Open', 's': 'Status', 't': 'Date', 'v': 'Volume'})\n",
    "df.head()"
   ]
  },
  {
   "cell_type": "markdown",
   "metadata": {},
   "source": [
    "# Linear Regression"
   ]
  },
  {
   "cell_type": "code",
   "execution_count": 2,
   "metadata": {},
   "outputs": [
    {
     "data": {
      "text/html": [
       "<div>\n",
       "<style scoped>\n",
       "    .dataframe tbody tr th:only-of-type {\n",
       "        vertical-align: middle;\n",
       "    }\n",
       "\n",
       "    .dataframe tbody tr th {\n",
       "        vertical-align: top;\n",
       "    }\n",
       "\n",
       "    .dataframe thead th {\n",
       "        text-align: right;\n",
       "    }\n",
       "</style>\n",
       "<table border=\"1\" class=\"dataframe\">\n",
       "  <thead>\n",
       "    <tr style=\"text-align: right;\">\n",
       "      <th></th>\n",
       "      <th>c</th>\n",
       "      <th>h</th>\n",
       "      <th>l</th>\n",
       "      <th>o</th>\n",
       "      <th>s</th>\n",
       "      <th>t</th>\n",
       "      <th>v</th>\n",
       "    </tr>\n",
       "  </thead>\n",
       "  <tbody>\n",
       "    <tr>\n",
       "      <th>0</th>\n",
       "      <td>73.23</td>\n",
       "      <td>75.31</td>\n",
       "      <td>73.13</td>\n",
       "      <td>75.15</td>\n",
       "      <td>ok</td>\n",
       "      <td>1499693400</td>\n",
       "      <td>15066700</td>\n",
       "    </tr>\n",
       "    <tr>\n",
       "      <th>1</th>\n",
       "      <td>73.47</td>\n",
       "      <td>74.05</td>\n",
       "      <td>73.33</td>\n",
       "      <td>73.38</td>\n",
       "      <td>ok</td>\n",
       "      <td>1499779800</td>\n",
       "      <td>7532600</td>\n",
       "    </tr>\n",
       "    <tr>\n",
       "      <th>2</th>\n",
       "      <td>73.94</td>\n",
       "      <td>74.21</td>\n",
       "      <td>73.66</td>\n",
       "      <td>73.66</td>\n",
       "      <td>ok</td>\n",
       "      <td>1499866200</td>\n",
       "      <td>5700200</td>\n",
       "    </tr>\n",
       "    <tr>\n",
       "      <th>3</th>\n",
       "      <td>75.05</td>\n",
       "      <td>75.25</td>\n",
       "      <td>74.51</td>\n",
       "      <td>74.67</td>\n",
       "      <td>ok</td>\n",
       "      <td>1499952600</td>\n",
       "      <td>8160500</td>\n",
       "    </tr>\n",
       "    <tr>\n",
       "      <th>4</th>\n",
       "      <td>76.34</td>\n",
       "      <td>76.56</td>\n",
       "      <td>75.91</td>\n",
       "      <td>76.27</td>\n",
       "      <td>ok</td>\n",
       "      <td>1500039000</td>\n",
       "      <td>9151900</td>\n",
       "    </tr>\n",
       "    <tr>\n",
       "      <th>...</th>\n",
       "      <td>...</td>\n",
       "      <td>...</td>\n",
       "      <td>...</td>\n",
       "      <td>...</td>\n",
       "      <td>...</td>\n",
       "      <td>...</td>\n",
       "      <td>...</td>\n",
       "    </tr>\n",
       "    <tr>\n",
       "      <th>685</th>\n",
       "      <td>115.19</td>\n",
       "      <td>115.80</td>\n",
       "      <td>110.94</td>\n",
       "      <td>111.86</td>\n",
       "      <td>ok</td>\n",
       "      <td>1585575000</td>\n",
       "      <td>9737500</td>\n",
       "    </tr>\n",
       "    <tr>\n",
       "      <th>686</th>\n",
       "      <td>113.62</td>\n",
       "      <td>116.19</td>\n",
       "      <td>112.64</td>\n",
       "      <td>114.31</td>\n",
       "      <td>ok</td>\n",
       "      <td>1585661400</td>\n",
       "      <td>8752800</td>\n",
       "    </tr>\n",
       "    <tr>\n",
       "      <th>687</th>\n",
       "      <td>114.14</td>\n",
       "      <td>115.53</td>\n",
       "      <td>111.80</td>\n",
       "      <td>112.15</td>\n",
       "      <td>ok</td>\n",
       "      <td>1585747800</td>\n",
       "      <td>9423200</td>\n",
       "    </tr>\n",
       "    <tr>\n",
       "      <th>688</th>\n",
       "      <td>118.65</td>\n",
       "      <td>119.11</td>\n",
       "      <td>112.34</td>\n",
       "      <td>113.18</td>\n",
       "      <td>ok</td>\n",
       "      <td>1585834200</td>\n",
       "      <td>9838500</td>\n",
       "    </tr>\n",
       "    <tr>\n",
       "      <th>689</th>\n",
       "      <td>118.31</td>\n",
       "      <td>119.91</td>\n",
       "      <td>117.03</td>\n",
       "      <td>117.21</td>\n",
       "      <td>ok</td>\n",
       "      <td>1585920600</td>\n",
       "      <td>9538200</td>\n",
       "    </tr>\n",
       "  </tbody>\n",
       "</table>\n",
       "<p>690 rows × 7 columns</p>\n",
       "</div>"
      ],
      "text/plain": [
       "          c       h       l       o   s           t         v\n",
       "0     73.23   75.31   73.13   75.15  ok  1499693400  15066700\n",
       "1     73.47   74.05   73.33   73.38  ok  1499779800   7532600\n",
       "2     73.94   74.21   73.66   73.66  ok  1499866200   5700200\n",
       "3     75.05   75.25   74.51   74.67  ok  1499952600   8160500\n",
       "4     76.34   76.56   75.91   76.27  ok  1500039000   9151900\n",
       "..      ...     ...     ...     ...  ..         ...       ...\n",
       "685  115.19  115.80  110.94  111.86  ok  1585575000   9737500\n",
       "686  113.62  116.19  112.64  114.31  ok  1585661400   8752800\n",
       "687  114.14  115.53  111.80  112.15  ok  1585747800   9423200\n",
       "688  118.65  119.11  112.34  113.18  ok  1585834200   9838500\n",
       "689  118.31  119.91  117.03  117.21  ok  1585920600   9538200\n",
       "\n",
       "[690 rows x 7 columns]"
      ]
     },
     "execution_count": 2,
     "metadata": {},
     "output_type": "execute_result"
    }
   ],
   "source": [
    "#read the file\n",
    "df = pd.read_json (r'WMT.json')\n",
    "\n",
    "#print the head\n",
    "df"
   ]
  },
  {
   "cell_type": "code",
   "execution_count": 3,
   "metadata": {},
   "outputs": [],
   "source": [
    "df['t'] = pd.to_datetime(df['t'], unit='s')"
   ]
  },
  {
   "cell_type": "code",
   "execution_count": 4,
   "metadata": {},
   "outputs": [
    {
     "name": "stdout",
     "output_type": "stream",
     "text": [
      "(690, 1) (690, 1)\n"
     ]
    }
   ],
   "source": [
    "X = df[['t']]\n",
    "y = df['c'].values.reshape(-1, 1)\n",
    "print(X.shape, y.shape)"
   ]
  },
  {
   "cell_type": "code",
   "execution_count": 5,
   "metadata": {},
   "outputs": [
    {
     "data": {
      "text/html": [
       "<div>\n",
       "<style scoped>\n",
       "    .dataframe tbody tr th:only-of-type {\n",
       "        vertical-align: middle;\n",
       "    }\n",
       "\n",
       "    .dataframe tbody tr th {\n",
       "        vertical-align: top;\n",
       "    }\n",
       "\n",
       "    .dataframe thead th {\n",
       "        text-align: right;\n",
       "    }\n",
       "</style>\n",
       "<table border=\"1\" class=\"dataframe\">\n",
       "  <thead>\n",
       "    <tr style=\"text-align: right;\">\n",
       "      <th></th>\n",
       "      <th>t</th>\n",
       "    </tr>\n",
       "  </thead>\n",
       "  <tbody>\n",
       "    <tr>\n",
       "      <th>0</th>\n",
       "      <td>2017-07-10 13:30:00</td>\n",
       "    </tr>\n",
       "    <tr>\n",
       "      <th>1</th>\n",
       "      <td>2017-07-11 13:30:00</td>\n",
       "    </tr>\n",
       "    <tr>\n",
       "      <th>2</th>\n",
       "      <td>2017-07-12 13:30:00</td>\n",
       "    </tr>\n",
       "    <tr>\n",
       "      <th>3</th>\n",
       "      <td>2017-07-13 13:30:00</td>\n",
       "    </tr>\n",
       "    <tr>\n",
       "      <th>4</th>\n",
       "      <td>2017-07-14 13:30:00</td>\n",
       "    </tr>\n",
       "  </tbody>\n",
       "</table>\n",
       "</div>"
      ],
      "text/plain": [
       "                    t\n",
       "0 2017-07-10 13:30:00\n",
       "1 2017-07-11 13:30:00\n",
       "2 2017-07-12 13:30:00\n",
       "3 2017-07-13 13:30:00\n",
       "4 2017-07-14 13:30:00"
      ]
     },
     "execution_count": 5,
     "metadata": {},
     "output_type": "execute_result"
    }
   ],
   "source": [
    "data = X.copy()\n",
    "\n",
    "data_binary_encoded = pd.get_dummies(data)\n",
    "data_binary_encoded.head()"
   ]
  },
  {
   "cell_type": "code",
   "execution_count": 6,
   "metadata": {},
   "outputs": [
    {
     "data": {
      "text/html": [
       "<div>\n",
       "<style scoped>\n",
       "    .dataframe tbody tr th:only-of-type {\n",
       "        vertical-align: middle;\n",
       "    }\n",
       "\n",
       "    .dataframe tbody tr th {\n",
       "        vertical-align: top;\n",
       "    }\n",
       "\n",
       "    .dataframe thead th {\n",
       "        text-align: right;\n",
       "    }\n",
       "</style>\n",
       "<table border=\"1\" class=\"dataframe\">\n",
       "  <thead>\n",
       "    <tr style=\"text-align: right;\">\n",
       "      <th></th>\n",
       "      <th>t</th>\n",
       "    </tr>\n",
       "  </thead>\n",
       "  <tbody>\n",
       "    <tr>\n",
       "      <th>647</th>\n",
       "      <td>2020-02-04 14:30:00</td>\n",
       "    </tr>\n",
       "    <tr>\n",
       "      <th>163</th>\n",
       "      <td>2018-03-02 14:30:00</td>\n",
       "    </tr>\n",
       "    <tr>\n",
       "      <th>380</th>\n",
       "      <td>2019-01-11 14:30:00</td>\n",
       "    </tr>\n",
       "    <tr>\n",
       "      <th>603</th>\n",
       "      <td>2019-11-29 14:30:00</td>\n",
       "    </tr>\n",
       "    <tr>\n",
       "      <th>432</th>\n",
       "      <td>2019-03-28 13:30:00</td>\n",
       "    </tr>\n",
       "  </tbody>\n",
       "</table>\n",
       "</div>"
      ],
      "text/plain": [
       "                      t\n",
       "647 2020-02-04 14:30:00\n",
       "163 2018-03-02 14:30:00\n",
       "380 2019-01-11 14:30:00\n",
       "603 2019-11-29 14:30:00\n",
       "432 2019-03-28 13:30:00"
      ]
     },
     "execution_count": 6,
     "metadata": {},
     "output_type": "execute_result"
    }
   ],
   "source": [
    "from sklearn.model_selection import train_test_split\n",
    "\n",
    "X = pd.get_dummies(X)\n",
    "\n",
    "X_train, X_test, y_train, y_test = train_test_split(X, y, random_state=42)\n",
    "\n",
    "X_train.head()"
   ]
  },
  {
   "cell_type": "code",
   "execution_count": 7,
   "metadata": {},
   "outputs": [],
   "source": [
    "from sklearn.preprocessing import StandardScaler\n",
    "X_scaler = StandardScaler().fit(X_train)\n",
    "y_scaler = StandardScaler().fit(y_train)"
   ]
  },
  {
   "cell_type": "code",
   "execution_count": 8,
   "metadata": {},
   "outputs": [],
   "source": [
    "X_train_scaled = X_scaler.transform(X_train)\n",
    "X_test_scaled = X_scaler.transform(X_test)\n",
    "y_train_scaled = y_scaler.transform(y_train)\n",
    "y_test_scaled = y_scaler.transform(y_test)"
   ]
  },
  {
   "cell_type": "code",
   "execution_count": 9,
   "metadata": {},
   "outputs": [
    {
     "data": {
      "image/png": "[encoded data removed]",
      "text/plain": [
       "<Figure size 432x288 with 1 Axes>"
      ]
     },
     "metadata": {
      "needs_background": "light"
     },
     "output_type": "display_data"
    }
   ],
   "source": [
    "from sklearn.linear_model import LinearRegression\n",
    "model = LinearRegression()\n",
    "model.fit(X_train_scaled, y_train_scaled)\n",
    "plt.scatter(model.predict(X_train_scaled), model.predict(X_train_scaled) - y_train_scaled, c=\"blue\", label=\"Training Data\")\n",
    "plt.scatter(model.predict(X_test_scaled), model.predict(X_test_scaled) - y_test_scaled, c=\"orange\", label=\"Testing Data\")\n",
    "plt.legend()\n",
    "plt.hlines(y=0, xmin=y_test_scaled.min(), xmax=y_test_scaled.max())\n",
    "plt.title(\"Residual Plot\")\n",
    "plt.show()"
   ]
  },
  {
   "cell_type": "code",
   "execution_count": 10,
   "metadata": {},
   "outputs": [
    {
     "data": {
      "text/plain": [
       "array([[-0.26939206],\n",
       "       [ 0.71810297],\n",
       "       [-0.39245375],\n",
       "       [-0.05616016],\n",
       "       [-0.13432435],\n",
       "       [-0.59655606],\n",
       "       [ 1.20447179],\n",
       "       [-0.7466313 ],\n",
       "       [ 0.49899313],\n",
       "       [-0.39545525],\n",
       "       [ 1.37555755],\n",
       "       [-0.7915288 ],\n",
       "       [ 1.18946426],\n",
       "       [-1.18184947],\n",
       "       [ 1.43546258],\n",
       "       [ 0.65507137],\n",
       "       [ 1.45647311],\n",
       "       [-0.23637551],\n",
       "       [ 1.29751843],\n",
       "       [ 0.21697676],\n",
       "       [ 0.02788197],\n",
       "       [-0.06829125],\n",
       "       [-0.26038754],\n",
       "       [ 0.97623237],\n",
       "       [-0.29040259],\n",
       "       [-0.09530479],\n",
       "       [-0.4254703 ],\n",
       "       [-1.27789762],\n",
       "       [ 1.33053498],\n",
       "       [-0.05916167],\n",
       "       [-0.93259952],\n",
       "       [ 0.66707739],\n",
       "       [-0.917592  ],\n",
       "       [-1.04365519],\n",
       "       [ 1.06640257],\n",
       "       [-0.4915034 ],\n",
       "       [-0.59355456],\n",
       "       [ 0.82615714],\n",
       "       [-0.45248384],\n",
       "       [-0.93560103],\n",
       "       [-0.4284718 ],\n",
       "       [-1.20586151],\n",
       "       [ 0.01587595],\n",
       "       [ 0.95822334],\n",
       "       [ 1.2765079 ],\n",
       "       [ 1.03638753],\n",
       "       [ 1.35454702],\n",
       "       [ 0.2469918 ],\n",
       "       [-1.18785248],\n",
       "       [ 0.57403075],\n",
       "       [-0.30841162],\n",
       "       [-1.12769732],\n",
       "       [ 1.39956959],\n",
       "       [-1.46699241],\n",
       "       [-1.24488107],\n",
       "       [ 0.15094366],\n",
       "       [ 0.9942414 ],\n",
       "       [-0.03214813],\n",
       "       [ 0.87718272],\n",
       "       [ 1.35754852],\n",
       "       [-1.37994878],\n",
       "       [-0.5575365 ],\n",
       "       [ 0.66107438],\n",
       "       [-1.18485097],\n",
       "       [ 1.12343116],\n",
       "       [ 0.96122485],\n",
       "       [-0.59955757],\n",
       "       [-1.27489611],\n",
       "       [-0.9205935 ],\n",
       "       [-0.16433939],\n",
       "       [-0.52151845],\n",
       "       [-1.50301047],\n",
       "       [ 0.45697207],\n",
       "       [-1.16684195],\n",
       "       [-0.20035745],\n",
       "       [ 1.47448214],\n",
       "       [-0.12231833],\n",
       "       [ 1.07540709],\n",
       "       [-0.99563112],\n",
       "       [ 1.41445205],\n",
       "       [-0.43747632],\n",
       "       [ 0.89819325],\n",
       "       [ 1.43846409],\n",
       "       [ 1.16545223],\n",
       "       [-0.93860253],\n",
       "       [ 0.051894  ],\n",
       "       [-1.25388558],\n",
       "       [-0.86956792],\n",
       "       [-1.38295028],\n",
       "       [-1.21486602],\n",
       "       [ 0.63706235],\n",
       "       [-0.53952747],\n",
       "       [-1.31991868],\n",
       "       [ 0.78413607],\n",
       "       [-1.21186452],\n",
       "       [-0.72261926],\n",
       "       [-0.79453031],\n",
       "       [ 0.78113457],\n",
       "       [ 0.03388497],\n",
       "       [ 1.3395395 ],\n",
       "       [ 0.25899782],\n",
       "       [-0.11931682],\n",
       "       [-0.43447481],\n",
       "       [ 0.82315563],\n",
       "       [-1.23287505],\n",
       "       [ 0.77213005],\n",
       "       [-1.29890815],\n",
       "       [-1.00163413],\n",
       "       [-0.36544021],\n",
       "       [-1.34993373],\n",
       "       [ 1.16845373],\n",
       "       [-0.67759669],\n",
       "       [-1.48500144],\n",
       "       [-1.07967325],\n",
       "       [-0.83354987],\n",
       "       [-0.22436949],\n",
       "       [-0.50951243],\n",
       "       [-0.64458014],\n",
       "       [-0.28139808],\n",
       "       [-0.87857244],\n",
       "       [-0.03514963],\n",
       "       [ 0.05489551],\n",
       "       [-0.58455004],\n",
       "       [ 1.47748365],\n",
       "       [ 1.40257109],\n",
       "       [-1.14570635],\n",
       "       [ 0.02488046],\n",
       "       [ 1.14444169],\n",
       "       [ 0.91019927],\n",
       "       [-1.33492621],\n",
       "       [-1.0466567 ],\n",
       "       [ 1.27350639],\n",
       "       [-1.27189461],\n",
       "       [-0.07129275],\n",
       "       [ 0.70009394],\n",
       "       [-1.41296533],\n",
       "       [-0.82454535],\n",
       "       [ 0.74511651],\n",
       "       [-0.30541011],\n",
       "       [-1.04065369],\n",
       "       [-1.16384044],\n",
       "       [-1.29290514],\n",
       "       [-0.56353951],\n",
       "       [ 0.89219024],\n",
       "       [ 0.42995853],\n",
       "       [-0.24237852],\n",
       "       [-0.15233338],\n",
       "       [ 0.81114962],\n",
       "       [-1.43697736],\n",
       "       [ 1.31852896],\n",
       "       [ 0.61305031],\n",
       "       [ 0.33991339],\n",
       "       [ 1.12943417],\n",
       "       [-1.25088408],\n",
       "       [ 1.23448683],\n",
       "       [ 0.67608191],\n",
       "       [-1.39195479],\n",
       "       [-0.72562076],\n",
       "       [ 0.28601136],\n",
       "       [ 0.52000366],\n",
       "       [ 0.62205482],\n",
       "       [ 0.36692693],\n",
       "       [ 0.32190436],\n",
       "       [ 0.06690153],\n",
       "       [-0.05015716],\n",
       "       [ 0.13293463],\n",
       "       [ 0.34291489],\n",
       "       [ 1.08741311],\n",
       "       [ 0.03688648],\n",
       "       [-0.57854704],\n",
       "       [ 1.22848382],\n",
       "       [ 0.19296472],\n",
       "       [-0.7526343 ]])"
      ]
     },
     "execution_count": 10,
     "metadata": {},
     "output_type": "execute_result"
    }
   ],
   "source": [
    "predictions = model.predict(X_test_scaled)\n",
    "predictions"
   ]
  },
  {
   "cell_type": "code",
   "execution_count": null,
   "metadata": {},
   "outputs": [],
   "source": []
  },
  {
   "cell_type": "code",
   "execution_count": null,
   "metadata": {},
   "outputs": [],
   "source": [
    "new_data['mon_fri'] = 0\n",
    "for i in range(0,len(new_data)):\n",
    "    if (new_data['Dayofweek'][i] == 0 or new_data['Dayofweek'][i] == 4):\n",
    "        new_data['mon_fri'][i] = 1\n",
    "    else:\n",
    "        new_data['mon_fri'][i] = 0"
   ]
  },
  {
   "cell_type": "code",
   "execution_count": null,
   "metadata": {},
   "outputs": [],
   "source": [
    "#split into train and validation\n",
    "train = new_data[:987]\n",
    "valid = new_data[987:]\n",
    "\n",
    "x_train = train.drop('Close', axis=1)\n",
    "y_train = train['Close']\n",
    "x_valid = valid.drop('Close', axis=1)\n",
    "y_valid = valid['Close']\n",
    "\n",
    "#implement linear regression\n",
    "from sklearn.linear_model import LinearRegression\n",
    "model = LinearRegression()\n",
    "model.fit(x_train,y_train)"
   ]
  },
  {
   "cell_type": "code",
   "execution_count": null,
   "metadata": {},
   "outputs": [],
   "source": [
    "#make predictions and find the rmse\n",
    "preds = model.predict(X_test_scaled)\n",
    "rms=np.sqrt(np.mean(np.power((np.array(y_test_scaled)-np.array(preds)),2)))\n",
    "rms"
   ]
  },
  {
   "cell_type": "code",
   "execution_count": null,
   "metadata": {},
   "outputs": [],
   "source": [
    "from sklearn.metrics import mean_squared_error\n",
    "\n",
    "predictions = model.predict(X_test_scaled)\n",
    "MSE = mean_squared_error(y_test_scaled, predictions)\n",
    "r2 = model.score(X_test_scaled, y_test_scaled)\n",
    "\n",
    "print(f\"MSE: {MSE}, R2: {r2}\")"
   ]
  },
  {
   "cell_type": "code",
   "execution_count": null,
   "metadata": {},
   "outputs": [],
   "source": [
    "#plot\n",
    "valid['Predictions'] = 0\n",
    "valid['Predictions'] = preds\n",
    "\n",
    "valid.index = new_data[987:].index\n",
    "train.index = new_data[:987].index\n",
    "\n",
    "plt.plot(train['Close'])\n",
    "plt.plot(valid[['Close', 'Predictions']])"
   ]
  },
  {
   "cell_type": "markdown",
   "metadata": {},
   "source": [
    "# K-Nearest Neighbours"
   ]
  },
  {
   "cell_type": "code",
   "execution_count": 11,
   "metadata": {},
   "outputs": [],
   "source": [
    "import matplotlib.pyplot as plt\n",
    "from sklearn.datasets import load_iris\n",
    "from sklearn.model_selection import train_test_split\n",
    "from sklearn.neighbors import KNeighborsClassifier\n",
    "from sklearn.metrics import accuracy_score"
   ]
  },
  {
   "cell_type": "code",
   "execution_count": 12,
   "metadata": {},
   "outputs": [
    {
     "data": {
      "text/html": [
       "<div>\n",
       "<style scoped>\n",
       "    .dataframe tbody tr th:only-of-type {\n",
       "        vertical-align: middle;\n",
       "    }\n",
       "\n",
       "    .dataframe tbody tr th {\n",
       "        vertical-align: top;\n",
       "    }\n",
       "\n",
       "    .dataframe thead th {\n",
       "        text-align: right;\n",
       "    }\n",
       "</style>\n",
       "<table border=\"1\" class=\"dataframe\">\n",
       "  <thead>\n",
       "    <tr style=\"text-align: right;\">\n",
       "      <th></th>\n",
       "      <th>c</th>\n",
       "      <th>h</th>\n",
       "      <th>l</th>\n",
       "      <th>o</th>\n",
       "      <th>s</th>\n",
       "      <th>t</th>\n",
       "      <th>v</th>\n",
       "    </tr>\n",
       "  </thead>\n",
       "  <tbody>\n",
       "    <tr>\n",
       "      <th>0</th>\n",
       "      <td>73.23</td>\n",
       "      <td>75.31</td>\n",
       "      <td>73.13</td>\n",
       "      <td>75.15</td>\n",
       "      <td>ok</td>\n",
       "      <td>1499693400</td>\n",
       "      <td>15066700</td>\n",
       "    </tr>\n",
       "    <tr>\n",
       "      <th>1</th>\n",
       "      <td>73.47</td>\n",
       "      <td>74.05</td>\n",
       "      <td>73.33</td>\n",
       "      <td>73.38</td>\n",
       "      <td>ok</td>\n",
       "      <td>1499779800</td>\n",
       "      <td>7532600</td>\n",
       "    </tr>\n",
       "    <tr>\n",
       "      <th>2</th>\n",
       "      <td>73.94</td>\n",
       "      <td>74.21</td>\n",
       "      <td>73.66</td>\n",
       "      <td>73.66</td>\n",
       "      <td>ok</td>\n",
       "      <td>1499866200</td>\n",
       "      <td>5700200</td>\n",
       "    </tr>\n",
       "    <tr>\n",
       "      <th>3</th>\n",
       "      <td>75.05</td>\n",
       "      <td>75.25</td>\n",
       "      <td>74.51</td>\n",
       "      <td>74.67</td>\n",
       "      <td>ok</td>\n",
       "      <td>1499952600</td>\n",
       "      <td>8160500</td>\n",
       "    </tr>\n",
       "    <tr>\n",
       "      <th>4</th>\n",
       "      <td>76.34</td>\n",
       "      <td>76.56</td>\n",
       "      <td>75.91</td>\n",
       "      <td>76.27</td>\n",
       "      <td>ok</td>\n",
       "      <td>1500039000</td>\n",
       "      <td>9151900</td>\n",
       "    </tr>\n",
       "    <tr>\n",
       "      <th>...</th>\n",
       "      <td>...</td>\n",
       "      <td>...</td>\n",
       "      <td>...</td>\n",
       "      <td>...</td>\n",
       "      <td>...</td>\n",
       "      <td>...</td>\n",
       "      <td>...</td>\n",
       "    </tr>\n",
       "    <tr>\n",
       "      <th>685</th>\n",
       "      <td>115.19</td>\n",
       "      <td>115.80</td>\n",
       "      <td>110.94</td>\n",
       "      <td>111.86</td>\n",
       "      <td>ok</td>\n",
       "      <td>1585575000</td>\n",
       "      <td>9737500</td>\n",
       "    </tr>\n",
       "    <tr>\n",
       "      <th>686</th>\n",
       "      <td>113.62</td>\n",
       "      <td>116.19</td>\n",
       "      <td>112.64</td>\n",
       "      <td>114.31</td>\n",
       "      <td>ok</td>\n",
       "      <td>1585661400</td>\n",
       "      <td>8752800</td>\n",
       "    </tr>\n",
       "    <tr>\n",
       "      <th>687</th>\n",
       "      <td>114.14</td>\n",
       "      <td>115.53</td>\n",
       "      <td>111.80</td>\n",
       "      <td>112.15</td>\n",
       "      <td>ok</td>\n",
       "      <td>1585747800</td>\n",
       "      <td>9423200</td>\n",
       "    </tr>\n",
       "    <tr>\n",
       "      <th>688</th>\n",
       "      <td>118.65</td>\n",
       "      <td>119.11</td>\n",
       "      <td>112.34</td>\n",
       "      <td>113.18</td>\n",
       "      <td>ok</td>\n",
       "      <td>1585834200</td>\n",
       "      <td>9838500</td>\n",
       "    </tr>\n",
       "    <tr>\n",
       "      <th>689</th>\n",
       "      <td>118.31</td>\n",
       "      <td>119.91</td>\n",
       "      <td>117.03</td>\n",
       "      <td>117.21</td>\n",
       "      <td>ok</td>\n",
       "      <td>1585920600</td>\n",
       "      <td>9538200</td>\n",
       "    </tr>\n",
       "  </tbody>\n",
       "</table>\n",
       "<p>690 rows × 7 columns</p>\n",
       "</div>"
      ],
      "text/plain": [
       "          c       h       l       o   s           t         v\n",
       "0     73.23   75.31   73.13   75.15  ok  1499693400  15066700\n",
       "1     73.47   74.05   73.33   73.38  ok  1499779800   7532600\n",
       "2     73.94   74.21   73.66   73.66  ok  1499866200   5700200\n",
       "3     75.05   75.25   74.51   74.67  ok  1499952600   8160500\n",
       "4     76.34   76.56   75.91   76.27  ok  1500039000   9151900\n",
       "..      ...     ...     ...     ...  ..         ...       ...\n",
       "685  115.19  115.80  110.94  111.86  ok  1585575000   9737500\n",
       "686  113.62  116.19  112.64  114.31  ok  1585661400   8752800\n",
       "687  114.14  115.53  111.80  112.15  ok  1585747800   9423200\n",
       "688  118.65  119.11  112.34  113.18  ok  1585834200   9838500\n",
       "689  118.31  119.91  117.03  117.21  ok  1585920600   9538200\n",
       "\n",
       "[690 rows x 7 columns]"
      ]
     },
     "execution_count": 12,
     "metadata": {},
     "output_type": "execute_result"
    }
   ],
   "source": [
    "#read the file\n",
    "df = pd.read_json (r'WMT.json')\n",
    "\n",
    "#print the head\n",
    "df"
   ]
  },
  {
   "cell_type": "code",
   "execution_count": 13,
   "metadata": {},
   "outputs": [
    {
     "data": {
      "text/html": [
       "<div>\n",
       "<style scoped>\n",
       "    .dataframe tbody tr th:only-of-type {\n",
       "        vertical-align: middle;\n",
       "    }\n",
       "\n",
       "    .dataframe tbody tr th {\n",
       "        vertical-align: top;\n",
       "    }\n",
       "\n",
       "    .dataframe thead th {\n",
       "        text-align: right;\n",
       "    }\n",
       "</style>\n",
       "<table border=\"1\" class=\"dataframe\">\n",
       "  <thead>\n",
       "    <tr style=\"text-align: right;\">\n",
       "      <th></th>\n",
       "      <th>Close</th>\n",
       "      <th>High</th>\n",
       "      <th>Low</th>\n",
       "      <th>Open</th>\n",
       "      <th>Status</th>\n",
       "      <th>Date</th>\n",
       "      <th>Volume</th>\n",
       "    </tr>\n",
       "  </thead>\n",
       "  <tbody>\n",
       "    <tr>\n",
       "      <th>0</th>\n",
       "      <td>73.23</td>\n",
       "      <td>75.31</td>\n",
       "      <td>73.13</td>\n",
       "      <td>75.15</td>\n",
       "      <td>ok</td>\n",
       "      <td>2017-07-10 13:30:00</td>\n",
       "      <td>15066700</td>\n",
       "    </tr>\n",
       "    <tr>\n",
       "      <th>1</th>\n",
       "      <td>73.47</td>\n",
       "      <td>74.05</td>\n",
       "      <td>73.33</td>\n",
       "      <td>73.38</td>\n",
       "      <td>ok</td>\n",
       "      <td>2017-07-11 13:30:00</td>\n",
       "      <td>7532600</td>\n",
       "    </tr>\n",
       "    <tr>\n",
       "      <th>2</th>\n",
       "      <td>73.94</td>\n",
       "      <td>74.21</td>\n",
       "      <td>73.66</td>\n",
       "      <td>73.66</td>\n",
       "      <td>ok</td>\n",
       "      <td>2017-07-12 13:30:00</td>\n",
       "      <td>5700200</td>\n",
       "    </tr>\n",
       "    <tr>\n",
       "      <th>3</th>\n",
       "      <td>75.05</td>\n",
       "      <td>75.25</td>\n",
       "      <td>74.51</td>\n",
       "      <td>74.67</td>\n",
       "      <td>ok</td>\n",
       "      <td>2017-07-13 13:30:00</td>\n",
       "      <td>8160500</td>\n",
       "    </tr>\n",
       "    <tr>\n",
       "      <th>4</th>\n",
       "      <td>76.34</td>\n",
       "      <td>76.56</td>\n",
       "      <td>75.91</td>\n",
       "      <td>76.27</td>\n",
       "      <td>ok</td>\n",
       "      <td>2017-07-14 13:30:00</td>\n",
       "      <td>9151900</td>\n",
       "    </tr>\n",
       "  </tbody>\n",
       "</table>\n",
       "</div>"
      ],
      "text/plain": [
       "   Close   High    Low   Open Status                Date    Volume\n",
       "0  73.23  75.31  73.13  75.15     ok 2017-07-10 13:30:00  15066700\n",
       "1  73.47  74.05  73.33  73.38     ok 2017-07-11 13:30:00   7532600\n",
       "2  73.94  74.21  73.66  73.66     ok 2017-07-12 13:30:00   5700200\n",
       "3  75.05  75.25  74.51  74.67     ok 2017-07-13 13:30:00   8160500\n",
       "4  76.34  76.56  75.91  76.27     ok 2017-07-14 13:30:00   9151900"
      ]
     },
     "execution_count": 13,
     "metadata": {},
     "output_type": "execute_result"
    }
   ],
   "source": [
    "df['t'] = pd.to_datetime(df['t'], unit='s')\n",
    "df = df.rename(columns={'c': 'Close', 'h': 'High', 'l':'Low',  'o': 'Open', 's': 'Status', 't': 'Date', 'v': 'Volume'})\n",
    "df.head()"
   ]
  },
  {
   "cell_type": "code",
   "execution_count": 14,
   "metadata": {},
   "outputs": [
    {
     "data": {
      "text/html": [
       "<div>\n",
       "<style scoped>\n",
       "    .dataframe tbody tr th:only-of-type {\n",
       "        vertical-align: middle;\n",
       "    }\n",
       "\n",
       "    .dataframe tbody tr th {\n",
       "        vertical-align: top;\n",
       "    }\n",
       "\n",
       "    .dataframe thead th {\n",
       "        text-align: right;\n",
       "    }\n",
       "</style>\n",
       "<table border=\"1\" class=\"dataframe\">\n",
       "  <thead>\n",
       "    <tr style=\"text-align: right;\">\n",
       "      <th></th>\n",
       "      <th>Open-Close</th>\n",
       "      <th>High-Low</th>\n",
       "    </tr>\n",
       "  </thead>\n",
       "  <tbody>\n",
       "    <tr>\n",
       "      <th>0</th>\n",
       "      <td>1.92</td>\n",
       "      <td>2.18</td>\n",
       "    </tr>\n",
       "    <tr>\n",
       "      <th>1</th>\n",
       "      <td>-0.09</td>\n",
       "      <td>0.72</td>\n",
       "    </tr>\n",
       "    <tr>\n",
       "      <th>2</th>\n",
       "      <td>-0.28</td>\n",
       "      <td>0.55</td>\n",
       "    </tr>\n",
       "    <tr>\n",
       "      <th>3</th>\n",
       "      <td>-0.38</td>\n",
       "      <td>0.74</td>\n",
       "    </tr>\n",
       "    <tr>\n",
       "      <th>4</th>\n",
       "      <td>-0.07</td>\n",
       "      <td>0.65</td>\n",
       "    </tr>\n",
       "  </tbody>\n",
       "</table>\n",
       "</div>"
      ],
      "text/plain": [
       "   Open-Close  High-Low\n",
       "0        1.92      2.18\n",
       "1       -0.09      0.72\n",
       "2       -0.28      0.55\n",
       "3       -0.38      0.74\n",
       "4       -0.07      0.65"
      ]
     },
     "execution_count": 14,
     "metadata": {},
     "output_type": "execute_result"
    }
   ],
   "source": [
    "# Predictor variables\n",
    "df['Open-Close']= df.Open -df.Close\n",
    "df['High-Low']  = df.High - df.Low\n",
    "df =df.dropna()\n",
    "X= df[['Open-Close', 'High-Low']]\n",
    "X.head()"
   ]
  },
  {
   "cell_type": "code",
   "execution_count": 15,
   "metadata": {},
   "outputs": [],
   "source": [
    "# Target variable\n",
    "Y= np.where(df['Close'].shift(-1)>df['Close'],1,-1)"
   ]
  },
  {
   "cell_type": "code",
   "execution_count": 16,
   "metadata": {},
   "outputs": [],
   "source": [
    "# Splitting the dataset\n",
    "split_percentage = 0.7\n",
    "split = int(split_percentage*len(df))\n",
    "\n",
    "X_train = X[:split]\n",
    "Y_train = Y[:split]\n",
    "\n",
    "X_test = X[split:]\n",
    "Y_test = Y[split:]"
   ]
  },
  {
   "cell_type": "code",
   "execution_count": null,
   "metadata": {},
   "outputs": [],
   "source": []
  },
  {
   "cell_type": "code",
   "execution_count": 17,
   "metadata": {},
   "outputs": [
    {
     "name": "stdout",
     "output_type": "stream",
     "text": [
      "k: 1, Train/Test Score: 0.998/0.505\n",
      "k: 3, Train/Test Score: 0.763/0.510\n",
      "k: 5, Train/Test Score: 0.699/0.481\n",
      "k: 7, Train/Test Score: 0.645/0.490\n",
      "k: 9, Train/Test Score: 0.631/0.505\n",
      "k: 11, Train/Test Score: 0.635/0.514\n",
      "k: 13, Train/Test Score: 0.645/0.524\n",
      "k: 15, Train/Test Score: 0.637/0.524\n",
      "k: 17, Train/Test Score: 0.612/0.510\n",
      "k: 19, Train/Test Score: 0.635/0.524\n",
      "k: 21, Train/Test Score: 0.629/0.524\n",
      "k: 23, Train/Test Score: 0.647/0.490\n",
      "k: 25, Train/Test Score: 0.635/0.495\n",
      "k: 27, Train/Test Score: 0.620/0.500\n",
      "k: 29, Train/Test Score: 0.604/0.514\n",
      "k: 31, Train/Test Score: 0.593/0.500\n",
      "k: 33, Train/Test Score: 0.606/0.500\n",
      "k: 35, Train/Test Score: 0.604/0.510\n",
      "k: 37, Train/Test Score: 0.587/0.505\n",
      "k: 39, Train/Test Score: 0.593/0.510\n",
      "k: 41, Train/Test Score: 0.577/0.500\n",
      "k: 43, Train/Test Score: 0.587/0.510\n",
      "k: 45, Train/Test Score: 0.581/0.519\n",
      "k: 47, Train/Test Score: 0.583/0.510\n",
      "k: 49, Train/Test Score: 0.577/0.505\n"
     ]
    }
   ],
   "source": [
    "train_scores = []\n",
    "test_scores = []\n",
    "for k in range(1, 50, 2):\n",
    "    knn = KNeighborsClassifier(n_neighbors=k)\n",
    "    knn.fit(X_train, Y_train)\n",
    "    train_score = knn.score(X_train, Y_train)\n",
    "    test_score = knn.score(X_test, Y_test)\n",
    "    train_scores.append(train_score)\n",
    "    test_scores.append(test_score)\n",
    "    print(f\"k: {k}, Train/Test Score: {train_score:.3f}/{test_score:.3f}\")"
   ]
  },
  {
   "cell_type": "code",
   "execution_count": 18,
   "metadata": {},
   "outputs": [
    {
     "data": {
      "image/png": "[encoded data removed]",
      "text/plain": [
       "<Figure size 432x288 with 1 Axes>"
      ]
     },
     "metadata": {
      "needs_background": "light"
     },
     "output_type": "display_data"
    }
   ],
   "source": [
    "plt.plot(range(1, 50, 2), train_scores, marker='o')\n",
    "plt.plot(range(1, 50, 2), test_scores, marker=\"x\")\n",
    "plt.xlabel(\"k neighbors\")\n",
    "plt.ylabel(\"Testing accuracy Score\")\n",
    "plt.show()"
   ]
  },
  {
   "cell_type": "code",
   "execution_count": 19,
   "metadata": {},
   "outputs": [
    {
     "name": "stdout",
     "output_type": "stream",
     "text": [
      "Train_data Accuracy: 0.64\n",
      "Test_data Accuracy: 0.52\n"
     ]
    }
   ],
   "source": [
    "# Instantiate KNN learning model(k=15)\n",
    "knn = KNeighborsClassifier(n_neighbors=15)\n",
    "# fit the model\n",
    "knn.fit(X_train, Y_train)\n",
    "\n",
    "# Accuracy Score\n",
    "accuracy_train = accuracy_score(Y_train, knn.predict(X_train))\n",
    "accuracy_test = accuracy_score(Y_test, knn.predict(X_test))\n",
    "\n",
    "print ('Train_data Accuracy: %.2f' %accuracy_train)\n",
    "print ('Test_data Accuracy: %.2f' %accuracy_test)"
   ]
  },
  {
   "cell_type": "code",
   "execution_count": 20,
   "metadata": {},
   "outputs": [
    {
     "data": {
      "text/plain": [
       "482"
      ]
     },
     "execution_count": 20,
     "metadata": {},
     "output_type": "execute_result"
    }
   ],
   "source": [
    "len(Y_train)"
   ]
  },
  {
   "cell_type": "code",
   "execution_count": 21,
   "metadata": {},
   "outputs": [
    {
     "data": {
      "text/plain": [
       "array([-1, -1,  1, -1,  1,  1, -1, -1,  1,  1,  1, -1,  1,  1,  1,  1,  1,\n",
       "       -1, -1,  1,  1,  1,  1,  1,  1,  1, -1,  1, -1, -1, -1, -1,  1,  1,\n",
       "        1,  1,  1, -1, -1,  1,  1,  1,  1,  1, -1, -1,  1, -1, -1,  1,  1,\n",
       "        1, -1,  1,  1,  1,  1,  1,  1,  1,  1,  1,  1,  1,  1,  1,  1,  1,\n",
       "       -1, -1, -1,  1,  1,  1, -1, -1,  1,  1,  1, -1, -1, -1, -1,  1,  1,\n",
       "        1,  1,  1,  1,  1,  1,  1, -1,  1,  1,  1, -1,  1, -1, -1,  1,  1,\n",
       "       -1,  1, -1, -1,  1,  1,  1,  1, -1, -1,  1, -1,  1, -1,  1,  1, -1,\n",
       "        1,  1, -1,  1,  1, -1,  1,  1,  1,  1,  1,  1, -1, -1,  1, -1,  1,\n",
       "       -1, -1,  1, -1, -1, -1,  1,  1, -1,  1,  1, -1, -1,  1,  1, -1,  1,\n",
       "        1, -1,  1,  1,  1, -1, -1,  1,  1,  1, -1,  1,  1, -1,  1,  1,  1,\n",
       "       -1,  1,  1,  1,  1,  1,  1, -1, -1,  1,  1, -1, -1, -1, -1, -1, -1,\n",
       "       -1, -1, -1, -1, -1, -1,  1, -1, -1, -1, -1, -1, -1, -1, -1, -1, -1,\n",
       "       -1, -1, -1,  1])"
      ]
     },
     "execution_count": 21,
     "metadata": {},
     "output_type": "execute_result"
    }
   ],
   "source": [
    "pred = knn.predict(X_test)\n",
    "pred"
   ]
  },
  {
   "cell_type": "code",
   "execution_count": 22,
   "metadata": {},
   "outputs": [
    {
     "data": {
      "text/html": [
       "<div>\n",
       "<style scoped>\n",
       "    .dataframe tbody tr th:only-of-type {\n",
       "        vertical-align: middle;\n",
       "    }\n",
       "\n",
       "    .dataframe tbody tr th {\n",
       "        vertical-align: top;\n",
       "    }\n",
       "\n",
       "    .dataframe thead th {\n",
       "        text-align: right;\n",
       "    }\n",
       "</style>\n",
       "<table border=\"1\" class=\"dataframe\">\n",
       "  <thead>\n",
       "    <tr style=\"text-align: right;\">\n",
       "      <th></th>\n",
       "      <th>Prediction</th>\n",
       "      <th>Actual</th>\n",
       "    </tr>\n",
       "  </thead>\n",
       "  <tbody>\n",
       "    <tr>\n",
       "      <th>0</th>\n",
       "      <td>-1</td>\n",
       "      <td>1</td>\n",
       "    </tr>\n",
       "    <tr>\n",
       "      <th>1</th>\n",
       "      <td>-1</td>\n",
       "      <td>1</td>\n",
       "    </tr>\n",
       "    <tr>\n",
       "      <th>2</th>\n",
       "      <td>1</td>\n",
       "      <td>-1</td>\n",
       "    </tr>\n",
       "    <tr>\n",
       "      <th>3</th>\n",
       "      <td>-1</td>\n",
       "      <td>1</td>\n",
       "    </tr>\n",
       "    <tr>\n",
       "      <th>4</th>\n",
       "      <td>1</td>\n",
       "      <td>1</td>\n",
       "    </tr>\n",
       "    <tr>\n",
       "      <th>...</th>\n",
       "      <td>...</td>\n",
       "      <td>...</td>\n",
       "    </tr>\n",
       "    <tr>\n",
       "      <th>203</th>\n",
       "      <td>-1</td>\n",
       "      <td>-1</td>\n",
       "    </tr>\n",
       "    <tr>\n",
       "      <th>204</th>\n",
       "      <td>-1</td>\n",
       "      <td>1</td>\n",
       "    </tr>\n",
       "    <tr>\n",
       "      <th>205</th>\n",
       "      <td>-1</td>\n",
       "      <td>1</td>\n",
       "    </tr>\n",
       "    <tr>\n",
       "      <th>206</th>\n",
       "      <td>-1</td>\n",
       "      <td>-1</td>\n",
       "    </tr>\n",
       "    <tr>\n",
       "      <th>207</th>\n",
       "      <td>1</td>\n",
       "      <td>-1</td>\n",
       "    </tr>\n",
       "  </tbody>\n",
       "</table>\n",
       "<p>208 rows × 2 columns</p>\n",
       "</div>"
      ],
      "text/plain": [
       "     Prediction  Actual\n",
       "0            -1       1\n",
       "1            -1       1\n",
       "2             1      -1\n",
       "3            -1       1\n",
       "4             1       1\n",
       "..          ...     ...\n",
       "203          -1      -1\n",
       "204          -1       1\n",
       "205          -1       1\n",
       "206          -1      -1\n",
       "207           1      -1\n",
       "\n",
       "[208 rows x 2 columns]"
      ]
     },
     "execution_count": 22,
     "metadata": {},
     "output_type": "execute_result"
    }
   ],
   "source": [
    "pd.DataFrame({\"Prediction\": pred, 'Actual': Y_test})"
   ]
  },
  {
   "cell_type": "code",
   "execution_count": 23,
   "metadata": {},
   "outputs": [
    {
     "data": {
      "image/png": "[encoded data removed]",
      "text/plain": [
       "<Figure size 720x360 with 1 Axes>"
      ]
     },
     "metadata": {
      "needs_background": "light"
     },
     "output_type": "display_data"
    }
   ],
   "source": [
    "# Predicted Signal\n",
    "df['Predicted_Signal'] = knn.predict(X)\n",
    "\n",
    "# SPY Cumulative Returns\n",
    "df['SPY_returns'] = np.log(df['Close']/df['Close'].shift(1))\n",
    "Cumulative_SPY_returns = df[split:]['SPY_returns'].cumsum()*100\n",
    "\n",
    "# Cumulative Strategy Returns \n",
    "df['Startegy_returns'] = df['SPY_returns']* df['Predicted_Signal'].shift(1)\n",
    "Cumulative_Strategy_returns = df[split:]['Startegy_returns'].cumsum()*100\n",
    "\n",
    "# Plot the results to visualize the performance\n",
    "\n",
    "plt.figure(figsize=(10,5))\n",
    "plt.plot(Cumulative_SPY_returns, color='r',label = 'SPY Returns')\n",
    "plt.plot(Cumulative_Strategy_returns, color='g', label = 'Strategy Returns')\n",
    "plt.legend()\n",
    "plt.show()"
   ]
  },
  {
   "cell_type": "code",
   "execution_count": 24,
   "metadata": {},
   "outputs": [
    {
     "data": {
      "text/html": [
       "<div>\n",
       "<style scoped>\n",
       "    .dataframe tbody tr th:only-of-type {\n",
       "        vertical-align: middle;\n",
       "    }\n",
       "\n",
       "    .dataframe tbody tr th {\n",
       "        vertical-align: top;\n",
       "    }\n",
       "\n",
       "    .dataframe thead th {\n",
       "        text-align: right;\n",
       "    }\n",
       "</style>\n",
       "<table border=\"1\" class=\"dataframe\">\n",
       "  <thead>\n",
       "    <tr style=\"text-align: right;\">\n",
       "      <th></th>\n",
       "      <th>Close</th>\n",
       "      <th>High</th>\n",
       "      <th>Low</th>\n",
       "      <th>Open</th>\n",
       "      <th>Status</th>\n",
       "      <th>Date</th>\n",
       "      <th>Volume</th>\n",
       "      <th>Open-Close</th>\n",
       "      <th>High-Low</th>\n",
       "      <th>Predicted_Signal</th>\n",
       "      <th>SPY_returns</th>\n",
       "      <th>Startegy_returns</th>\n",
       "    </tr>\n",
       "  </thead>\n",
       "  <tbody>\n",
       "    <tr>\n",
       "      <th>0</th>\n",
       "      <td>73.23</td>\n",
       "      <td>75.31</td>\n",
       "      <td>73.13</td>\n",
       "      <td>75.15</td>\n",
       "      <td>ok</td>\n",
       "      <td>2017-07-10 13:30:00</td>\n",
       "      <td>15066700</td>\n",
       "      <td>1.92</td>\n",
       "      <td>2.18</td>\n",
       "      <td>1</td>\n",
       "      <td>NaN</td>\n",
       "      <td>NaN</td>\n",
       "    </tr>\n",
       "    <tr>\n",
       "      <th>1</th>\n",
       "      <td>73.47</td>\n",
       "      <td>74.05</td>\n",
       "      <td>73.33</td>\n",
       "      <td>73.38</td>\n",
       "      <td>ok</td>\n",
       "      <td>2017-07-11 13:30:00</td>\n",
       "      <td>7532600</td>\n",
       "      <td>-0.09</td>\n",
       "      <td>0.72</td>\n",
       "      <td>1</td>\n",
       "      <td>0.003272</td>\n",
       "      <td>0.003272</td>\n",
       "    </tr>\n",
       "    <tr>\n",
       "      <th>2</th>\n",
       "      <td>73.94</td>\n",
       "      <td>74.21</td>\n",
       "      <td>73.66</td>\n",
       "      <td>73.66</td>\n",
       "      <td>ok</td>\n",
       "      <td>2017-07-12 13:30:00</td>\n",
       "      <td>5700200</td>\n",
       "      <td>-0.28</td>\n",
       "      <td>0.55</td>\n",
       "      <td>1</td>\n",
       "      <td>0.006377</td>\n",
       "      <td>0.006377</td>\n",
       "    </tr>\n",
       "    <tr>\n",
       "      <th>3</th>\n",
       "      <td>75.05</td>\n",
       "      <td>75.25</td>\n",
       "      <td>74.51</td>\n",
       "      <td>74.67</td>\n",
       "      <td>ok</td>\n",
       "      <td>2017-07-13 13:30:00</td>\n",
       "      <td>8160500</td>\n",
       "      <td>-0.38</td>\n",
       "      <td>0.74</td>\n",
       "      <td>1</td>\n",
       "      <td>0.014901</td>\n",
       "      <td>0.014901</td>\n",
       "    </tr>\n",
       "    <tr>\n",
       "      <th>4</th>\n",
       "      <td>76.34</td>\n",
       "      <td>76.56</td>\n",
       "      <td>75.91</td>\n",
       "      <td>76.27</td>\n",
       "      <td>ok</td>\n",
       "      <td>2017-07-14 13:30:00</td>\n",
       "      <td>9151900</td>\n",
       "      <td>-0.07</td>\n",
       "      <td>0.65</td>\n",
       "      <td>1</td>\n",
       "      <td>0.017042</td>\n",
       "      <td>0.017042</td>\n",
       "    </tr>\n",
       "    <tr>\n",
       "      <th>...</th>\n",
       "      <td>...</td>\n",
       "      <td>...</td>\n",
       "      <td>...</td>\n",
       "      <td>...</td>\n",
       "      <td>...</td>\n",
       "      <td>...</td>\n",
       "      <td>...</td>\n",
       "      <td>...</td>\n",
       "      <td>...</td>\n",
       "      <td>...</td>\n",
       "      <td>...</td>\n",
       "      <td>...</td>\n",
       "    </tr>\n",
       "    <tr>\n",
       "      <th>685</th>\n",
       "      <td>115.19</td>\n",
       "      <td>115.80</td>\n",
       "      <td>110.94</td>\n",
       "      <td>111.86</td>\n",
       "      <td>ok</td>\n",
       "      <td>2020-03-30 13:30:00</td>\n",
       "      <td>9737500</td>\n",
       "      <td>-3.33</td>\n",
       "      <td>4.86</td>\n",
       "      <td>-1</td>\n",
       "      <td>0.049928</td>\n",
       "      <td>-0.049928</td>\n",
       "    </tr>\n",
       "    <tr>\n",
       "      <th>686</th>\n",
       "      <td>113.62</td>\n",
       "      <td>116.19</td>\n",
       "      <td>112.64</td>\n",
       "      <td>114.31</td>\n",
       "      <td>ok</td>\n",
       "      <td>2020-03-31 13:30:00</td>\n",
       "      <td>8752800</td>\n",
       "      <td>0.69</td>\n",
       "      <td>3.55</td>\n",
       "      <td>-1</td>\n",
       "      <td>-0.013723</td>\n",
       "      <td>0.013723</td>\n",
       "    </tr>\n",
       "    <tr>\n",
       "      <th>687</th>\n",
       "      <td>114.14</td>\n",
       "      <td>115.53</td>\n",
       "      <td>111.80</td>\n",
       "      <td>112.15</td>\n",
       "      <td>ok</td>\n",
       "      <td>2020-04-01 13:30:00</td>\n",
       "      <td>9423200</td>\n",
       "      <td>-1.99</td>\n",
       "      <td>3.73</td>\n",
       "      <td>-1</td>\n",
       "      <td>0.004566</td>\n",
       "      <td>-0.004566</td>\n",
       "    </tr>\n",
       "    <tr>\n",
       "      <th>688</th>\n",
       "      <td>118.65</td>\n",
       "      <td>119.11</td>\n",
       "      <td>112.34</td>\n",
       "      <td>113.18</td>\n",
       "      <td>ok</td>\n",
       "      <td>2020-04-02 13:30:00</td>\n",
       "      <td>9838500</td>\n",
       "      <td>-5.47</td>\n",
       "      <td>6.77</td>\n",
       "      <td>-1</td>\n",
       "      <td>0.038752</td>\n",
       "      <td>-0.038752</td>\n",
       "    </tr>\n",
       "    <tr>\n",
       "      <th>689</th>\n",
       "      <td>118.31</td>\n",
       "      <td>119.91</td>\n",
       "      <td>117.03</td>\n",
       "      <td>117.21</td>\n",
       "      <td>ok</td>\n",
       "      <td>2020-04-03 13:30:00</td>\n",
       "      <td>9538200</td>\n",
       "      <td>-1.10</td>\n",
       "      <td>2.88</td>\n",
       "      <td>1</td>\n",
       "      <td>-0.002870</td>\n",
       "      <td>0.002870</td>\n",
       "    </tr>\n",
       "  </tbody>\n",
       "</table>\n",
       "<p>690 rows × 12 columns</p>\n",
       "</div>"
      ],
      "text/plain": [
       "      Close    High     Low    Open Status                Date    Volume  \\\n",
       "0     73.23   75.31   73.13   75.15     ok 2017-07-10 13:30:00  15066700   \n",
       "1     73.47   74.05   73.33   73.38     ok 2017-07-11 13:30:00   7532600   \n",
       "2     73.94   74.21   73.66   73.66     ok 2017-07-12 13:30:00   5700200   \n",
       "3     75.05   75.25   74.51   74.67     ok 2017-07-13 13:30:00   8160500   \n",
       "4     76.34   76.56   75.91   76.27     ok 2017-07-14 13:30:00   9151900   \n",
       "..      ...     ...     ...     ...    ...                 ...       ...   \n",
       "685  115.19  115.80  110.94  111.86     ok 2020-03-30 13:30:00   9737500   \n",
       "686  113.62  116.19  112.64  114.31     ok 2020-03-31 13:30:00   8752800   \n",
       "687  114.14  115.53  111.80  112.15     ok 2020-04-01 13:30:00   9423200   \n",
       "688  118.65  119.11  112.34  113.18     ok 2020-04-02 13:30:00   9838500   \n",
       "689  118.31  119.91  117.03  117.21     ok 2020-04-03 13:30:00   9538200   \n",
       "\n",
       "     Open-Close  High-Low  Predicted_Signal  SPY_returns  Startegy_returns  \n",
       "0          1.92      2.18                 1          NaN               NaN  \n",
       "1         -0.09      0.72                 1     0.003272          0.003272  \n",
       "2         -0.28      0.55                 1     0.006377          0.006377  \n",
       "3         -0.38      0.74                 1     0.014901          0.014901  \n",
       "4         -0.07      0.65                 1     0.017042          0.017042  \n",
       "..          ...       ...               ...          ...               ...  \n",
       "685       -3.33      4.86                -1     0.049928         -0.049928  \n",
       "686        0.69      3.55                -1    -0.013723          0.013723  \n",
       "687       -1.99      3.73                -1     0.004566         -0.004566  \n",
       "688       -5.47      6.77                -1     0.038752         -0.038752  \n",
       "689       -1.10      2.88                 1    -0.002870          0.002870  \n",
       "\n",
       "[690 rows x 12 columns]"
      ]
     },
     "execution_count": 24,
     "metadata": {},
     "output_type": "execute_result"
    }
   ],
   "source": [
    "df"
   ]
  },
  {
   "cell_type": "markdown",
   "metadata": {},
   "source": [
    "What is Sharpe Ratio?\n",
    "Sharpe ratio is a measure for calculating risk-adjusted return. It is the ratio of the excess expected return of investment (over risk-free rate) per unit of volatility or standard deviation.\n",
    "\n",
    "Let us see the formula for Sharpe ratio which will make things much clearer. The sharpe ratio calculation is done in the following manner\n",
    "\n",
    "Sharpe Ratio = (Rx – Rf) / StdDev(x)\n",
    "\n",
    "Where,\n",
    "x is the investment\n",
    "Rx is the average rate of return of x\n",
    "Rf is the risk-free rate of return\n",
    "StdDev(x) is the standard deviation of Rx\n",
    "Once you see the formula, you will understand that we deduct the risk-free rate of return as this helps us in figuring out if the strategy makes sense or not. If the Numerator turned out negative, wouldn’t it be better to invest in a government bond which guarantees you a risk-free rate of return? Some of you would recognise this as the risk-adjusted return.\n",
    "\n",
    "In the denominator, we have the standard deviation of the average return of the investment. It helps us in identifying the volatility as well as the risk associated with the investment.\n",
    "\n",
    "Thus, the Sharpe ratio helps us in identifying which strategy gives better returns in comparison to the volatility. There, that is all when it comes to sharpe ratio calculation.\n",
    "\n",
    "Let’s take an example now to see how the Sharpe ratio calculation helps us.\n",
    "\n",
    "You have devised a strategy and created a portfolio of different stocks. After backtesting, you observe that this portfolio, let’s call it Portfolio A, will give a return of 11%. However, you are concerned with the volatility at 8%. \n",
    "\n",
    "Now, you change certain parameters and pick different financial instruments to create another portfolio, Portfolio B. This portfolio gives an expected return of 8%, but the volatility now drops to 4%. "
   ]
  },
  {
   "cell_type": "code",
   "execution_count": 25,
   "metadata": {},
   "outputs": [
    {
     "name": "stdout",
     "output_type": "stream",
     "text": [
      "Sharpe ratio: 0.40\n"
     ]
    }
   ],
   "source": [
    "# Calculate Sharpe reatio\n",
    "Std = Cumulative_Strategy_returns.std()\n",
    "Sharpe = (Cumulative_Strategy_returns-Cumulative_SPY_returns)/Std\n",
    "Sharpe = Sharpe.mean()\n",
    "print ('Sharpe ratio: %.2f'%Sharpe )"
   ]
  },
  {
   "cell_type": "markdown",
   "metadata": {},
   "source": [
    "Tested many neighbours and the lowest sharpe ratio was for 15."
   ]
  },
  {
   "cell_type": "markdown",
   "metadata": {},
   "source": [
    "# Auto ARIMA"
   ]
  },
  {
   "cell_type": "code",
   "execution_count": 26,
   "metadata": {},
   "outputs": [],
   "source": [
    "import numpy as np \n",
    "import pandas as pd \n",
    "import matplotlib.pyplot as plt\n",
    "from pandas.plotting import lag_plot\n",
    "from pandas import datetime\n",
    "from statsmodels.tsa.arima_model import ARIMA\n",
    "from sklearn.metrics import mean_squared_error"
   ]
  },
  {
   "cell_type": "code",
   "execution_count": 27,
   "metadata": {},
   "outputs": [
    {
     "data": {
      "text/html": [
       "<div>\n",
       "<style scoped>\n",
       "    .dataframe tbody tr th:only-of-type {\n",
       "        vertical-align: middle;\n",
       "    }\n",
       "\n",
       "    .dataframe tbody tr th {\n",
       "        vertical-align: top;\n",
       "    }\n",
       "\n",
       "    .dataframe thead th {\n",
       "        text-align: right;\n",
       "    }\n",
       "</style>\n",
       "<table border=\"1\" class=\"dataframe\">\n",
       "  <thead>\n",
       "    <tr style=\"text-align: right;\">\n",
       "      <th></th>\n",
       "      <th>c</th>\n",
       "      <th>h</th>\n",
       "      <th>l</th>\n",
       "      <th>o</th>\n",
       "      <th>s</th>\n",
       "      <th>t</th>\n",
       "      <th>v</th>\n",
       "    </tr>\n",
       "  </thead>\n",
       "  <tbody>\n",
       "    <tr>\n",
       "      <th>0</th>\n",
       "      <td>73.23</td>\n",
       "      <td>75.31</td>\n",
       "      <td>73.13</td>\n",
       "      <td>75.15</td>\n",
       "      <td>ok</td>\n",
       "      <td>1499693400</td>\n",
       "      <td>15066700</td>\n",
       "    </tr>\n",
       "    <tr>\n",
       "      <th>1</th>\n",
       "      <td>73.47</td>\n",
       "      <td>74.05</td>\n",
       "      <td>73.33</td>\n",
       "      <td>73.38</td>\n",
       "      <td>ok</td>\n",
       "      <td>1499779800</td>\n",
       "      <td>7532600</td>\n",
       "    </tr>\n",
       "    <tr>\n",
       "      <th>2</th>\n",
       "      <td>73.94</td>\n",
       "      <td>74.21</td>\n",
       "      <td>73.66</td>\n",
       "      <td>73.66</td>\n",
       "      <td>ok</td>\n",
       "      <td>1499866200</td>\n",
       "      <td>5700200</td>\n",
       "    </tr>\n",
       "    <tr>\n",
       "      <th>3</th>\n",
       "      <td>75.05</td>\n",
       "      <td>75.25</td>\n",
       "      <td>74.51</td>\n",
       "      <td>74.67</td>\n",
       "      <td>ok</td>\n",
       "      <td>1499952600</td>\n",
       "      <td>8160500</td>\n",
       "    </tr>\n",
       "    <tr>\n",
       "      <th>4</th>\n",
       "      <td>76.34</td>\n",
       "      <td>76.56</td>\n",
       "      <td>75.91</td>\n",
       "      <td>76.27</td>\n",
       "      <td>ok</td>\n",
       "      <td>1500039000</td>\n",
       "      <td>9151900</td>\n",
       "    </tr>\n",
       "    <tr>\n",
       "      <th>...</th>\n",
       "      <td>...</td>\n",
       "      <td>...</td>\n",
       "      <td>...</td>\n",
       "      <td>...</td>\n",
       "      <td>...</td>\n",
       "      <td>...</td>\n",
       "      <td>...</td>\n",
       "    </tr>\n",
       "    <tr>\n",
       "      <th>685</th>\n",
       "      <td>115.19</td>\n",
       "      <td>115.80</td>\n",
       "      <td>110.94</td>\n",
       "      <td>111.86</td>\n",
       "      <td>ok</td>\n",
       "      <td>1585575000</td>\n",
       "      <td>9737500</td>\n",
       "    </tr>\n",
       "    <tr>\n",
       "      <th>686</th>\n",
       "      <td>113.62</td>\n",
       "      <td>116.19</td>\n",
       "      <td>112.64</td>\n",
       "      <td>114.31</td>\n",
       "      <td>ok</td>\n",
       "      <td>1585661400</td>\n",
       "      <td>8752800</td>\n",
       "    </tr>\n",
       "    <tr>\n",
       "      <th>687</th>\n",
       "      <td>114.14</td>\n",
       "      <td>115.53</td>\n",
       "      <td>111.80</td>\n",
       "      <td>112.15</td>\n",
       "      <td>ok</td>\n",
       "      <td>1585747800</td>\n",
       "      <td>9423200</td>\n",
       "    </tr>\n",
       "    <tr>\n",
       "      <th>688</th>\n",
       "      <td>118.65</td>\n",
       "      <td>119.11</td>\n",
       "      <td>112.34</td>\n",
       "      <td>113.18</td>\n",
       "      <td>ok</td>\n",
       "      <td>1585834200</td>\n",
       "      <td>9838500</td>\n",
       "    </tr>\n",
       "    <tr>\n",
       "      <th>689</th>\n",
       "      <td>118.31</td>\n",
       "      <td>119.91</td>\n",
       "      <td>117.03</td>\n",
       "      <td>117.21</td>\n",
       "      <td>ok</td>\n",
       "      <td>1585920600</td>\n",
       "      <td>9538200</td>\n",
       "    </tr>\n",
       "  </tbody>\n",
       "</table>\n",
       "<p>690 rows × 7 columns</p>\n",
       "</div>"
      ],
      "text/plain": [
       "          c       h       l       o   s           t         v\n",
       "0     73.23   75.31   73.13   75.15  ok  1499693400  15066700\n",
       "1     73.47   74.05   73.33   73.38  ok  1499779800   7532600\n",
       "2     73.94   74.21   73.66   73.66  ok  1499866200   5700200\n",
       "3     75.05   75.25   74.51   74.67  ok  1499952600   8160500\n",
       "4     76.34   76.56   75.91   76.27  ok  1500039000   9151900\n",
       "..      ...     ...     ...     ...  ..         ...       ...\n",
       "685  115.19  115.80  110.94  111.86  ok  1585575000   9737500\n",
       "686  113.62  116.19  112.64  114.31  ok  1585661400   8752800\n",
       "687  114.14  115.53  111.80  112.15  ok  1585747800   9423200\n",
       "688  118.65  119.11  112.34  113.18  ok  1585834200   9838500\n",
       "689  118.31  119.91  117.03  117.21  ok  1585920600   9538200\n",
       "\n",
       "[690 rows x 7 columns]"
      ]
     },
     "execution_count": 27,
     "metadata": {},
     "output_type": "execute_result"
    }
   ],
   "source": [
    "#read the file\n",
    "df = pd.read_json (r'WMT.json')\n",
    "\n",
    "#print the head\n",
    "df"
   ]
  },
  {
   "cell_type": "code",
   "execution_count": 28,
   "metadata": {},
   "outputs": [
    {
     "data": {
      "text/plain": [
       "Text(0.5, 1.0, 'Microsoft Autocorrelation plot')"
      ]
     },
     "execution_count": 28,
     "metadata": {},
     "output_type": "execute_result"
    },
    {
     "data": {
      "image/png": "[encoded data removed]",
      "text/plain": [
       "<Figure size 720x720 with 1 Axes>"
      ]
     },
     "metadata": {
      "needs_background": "light"
     },
     "output_type": "display_data"
    }
   ],
   "source": [
    "plt.figure(figsize=(10,10))\n",
    "lag_plot(df['c'], lag=5)\n",
    "plt.title('Microsoft Autocorrelation plot')"
   ]
  },
  {
   "cell_type": "code",
   "execution_count": 29,
   "metadata": {},
   "outputs": [],
   "source": [
    "size = len(df)"
   ]
  },
  {
   "cell_type": "code",
   "execution_count": 30,
   "metadata": {},
   "outputs": [
    {
     "data": {
      "text/plain": [
       "<matplotlib.legend.Legend at 0x203cdd7d630>"
      ]
     },
     "execution_count": 30,
     "metadata": {},
     "output_type": "execute_result"
    },
    {
     "data": {
      "image/png": "[encoded data removed]",
      "text/plain": [
       "<Figure size 864x504 with 1 Axes>"
      ]
     },
     "metadata": {
      "needs_background": "light"
     },
     "output_type": "display_data"
    }
   ],
   "source": [
    "train_data, test_data = df[0:int(len(df)*0.8)], df[int(len(df)*0.8):]\n",
    "plt.figure(figsize=(12,7))\n",
    "plt.title('Microsoft Prices')\n",
    "plt.xlabel('Dates')\n",
    "plt.ylabel('Prices')\n",
    "plt.plot(df['c'], 'blue', label='Training Data')\n",
    "plt.plot(test_data['c'], 'green', label='Testing Data')\n",
    "plt.xticks(np.arange(0,size, 300), df['t'][0:size:300])\n",
    "plt.legend()"
   ]
  },
  {
   "cell_type": "code",
   "execution_count": 31,
   "metadata": {},
   "outputs": [],
   "source": [
    "def smape_kun(y_true, y_pred):\n",
    "    return np.mean((np.abs(y_pred - y_true) * 200/ (np.abs(y_pred) +       np.abs(y_true))))"
   ]
  },
  {
   "cell_type": "code",
   "execution_count": 32,
   "metadata": {},
   "outputs": [
    {
     "name": "stdout",
     "output_type": "stream",
     "text": [
      "<class 'list'>\n",
      "Testing Mean Squared Error: 5.758\n",
      "Symmetric mean absolute percentage error: 2.482\n"
     ]
    }
   ],
   "source": [
    "train_ar = train_data['c'].values\n",
    "test_ar = test_data['c'].values\n",
    "history = [x for x in train_ar]\n",
    "print(type(history))\n",
    "predictions = list()\n",
    "for t in range(len(test_ar)):\n",
    "    model = ARIMA(history, order=(5,1,0))\n",
    "    model_fit = model.fit(disp=0)\n",
    "    output = model_fit.forecast()\n",
    "    yhat = output[0]\n",
    "    predictions.append(yhat)\n",
    "    obs = test_ar[t]\n",
    "    history.append(obs)\n",
    "error = mean_squared_error(test_ar, predictions)\n",
    "print('Testing Mean Squared Error: %.3f' % error)\n",
    "error2 = smape_kun(test_ar, predictions)\n",
    "print('Symmetric mean absolute percentage error: %.3f' % error2)"
   ]
  },
  {
   "cell_type": "code",
   "execution_count": 33,
   "metadata": {},
   "outputs": [
    {
     "data": {
      "text/html": [
       "<div>\n",
       "<style scoped>\n",
       "    .dataframe tbody tr th:only-of-type {\n",
       "        vertical-align: middle;\n",
       "    }\n",
       "\n",
       "    .dataframe tbody tr th {\n",
       "        vertical-align: top;\n",
       "    }\n",
       "\n",
       "    .dataframe thead th {\n",
       "        text-align: right;\n",
       "    }\n",
       "</style>\n",
       "<table border=\"1\" class=\"dataframe\">\n",
       "  <thead>\n",
       "    <tr style=\"text-align: right;\">\n",
       "      <th></th>\n",
       "      <th>Prediction</th>\n",
       "      <th>Actual</th>\n",
       "    </tr>\n",
       "  </thead>\n",
       "  <tbody>\n",
       "    <tr>\n",
       "      <th>0</th>\n",
       "      <td>[116.5438454248179]</td>\n",
       "      <td>117.16</td>\n",
       "    </tr>\n",
       "    <tr>\n",
       "      <th>1</th>\n",
       "      <td>[117.18797296268022]</td>\n",
       "      <td>117.11</td>\n",
       "    </tr>\n",
       "    <tr>\n",
       "      <th>2</th>\n",
       "      <td>[117.22008169739243]</td>\n",
       "      <td>116.98</td>\n",
       "    </tr>\n",
       "    <tr>\n",
       "      <th>3</th>\n",
       "      <td>[117.07012629444797]</td>\n",
       "      <td>117.62</td>\n",
       "    </tr>\n",
       "    <tr>\n",
       "      <th>4</th>\n",
       "      <td>[117.64868835293738]</td>\n",
       "      <td>118.40</td>\n",
       "    </tr>\n",
       "    <tr>\n",
       "      <th>...</th>\n",
       "      <td>...</td>\n",
       "      <td>...</td>\n",
       "    </tr>\n",
       "    <tr>\n",
       "      <th>133</th>\n",
       "      <td>[109.89350393196385]</td>\n",
       "      <td>115.19</td>\n",
       "    </tr>\n",
       "    <tr>\n",
       "      <th>134</th>\n",
       "      <td>[114.68206616503507]</td>\n",
       "      <td>113.62</td>\n",
       "    </tr>\n",
       "    <tr>\n",
       "      <th>135</th>\n",
       "      <td>[114.25125723545801]</td>\n",
       "      <td>114.14</td>\n",
       "    </tr>\n",
       "    <tr>\n",
       "      <th>136</th>\n",
       "      <td>[113.74851438025169]</td>\n",
       "      <td>118.65</td>\n",
       "    </tr>\n",
       "    <tr>\n",
       "      <th>137</th>\n",
       "      <td>[117.37397682662495]</td>\n",
       "      <td>118.31</td>\n",
       "    </tr>\n",
       "  </tbody>\n",
       "</table>\n",
       "<p>138 rows × 2 columns</p>\n",
       "</div>"
      ],
      "text/plain": [
       "               Prediction  Actual\n",
       "0     [116.5438454248179]  117.16\n",
       "1    [117.18797296268022]  117.11\n",
       "2    [117.22008169739243]  116.98\n",
       "3    [117.07012629444797]  117.62\n",
       "4    [117.64868835293738]  118.40\n",
       "..                    ...     ...\n",
       "133  [109.89350393196385]  115.19\n",
       "134  [114.68206616503507]  113.62\n",
       "135  [114.25125723545801]  114.14\n",
       "136  [113.74851438025169]  118.65\n",
       "137  [117.37397682662495]  118.31\n",
       "\n",
       "[138 rows x 2 columns]"
      ]
     },
     "execution_count": 33,
     "metadata": {},
     "output_type": "execute_result"
    }
   ],
   "source": [
    "pd.DataFrame({\"Prediction\": predictions, 'Actual': test_ar})"
   ]
  },
  {
   "cell_type": "code",
   "execution_count": 34,
   "metadata": {},
   "outputs": [
    {
     "data": {
      "text/plain": [
       "<matplotlib.legend.Legend at 0x203cdbb34e0>"
      ]
     },
     "execution_count": 34,
     "metadata": {},
     "output_type": "execute_result"
    },
    {
     "data": {
      "image/png": "[encoded data removed]",
      "text/plain": [
       "<Figure size 864x504 with 1 Axes>"
      ]
     },
     "metadata": {
      "needs_background": "light"
     },
     "output_type": "display_data"
    }
   ],
   "source": [
    "plt.figure(figsize=(12,7))\n",
    "plt.plot(df['c'], 'green', color='blue', label='Training Data')\n",
    "plt.plot(test_data.index, predictions, color='green', marker='o', linestyle='dashed', \n",
    "         label='Predicted Price')\n",
    "plt.plot(test_data.index, test_data['c'], color='red', label='Actual Price')\n",
    "plt.title('Microsoft Prices Prediction')\n",
    "plt.xlabel('Dates')\n",
    "plt.ylabel('Prices')\n",
    "plt.xticks(np.arange(0,size, 1300), df['t'][0:size:1300])\n",
    "plt.legend()"
   ]
  },
  {
   "cell_type": "markdown",
   "metadata": {},
   "source": [
    "# Prophet"
   ]
  },
  {
   "cell_type": "code",
   "execution_count": 35,
   "metadata": {},
   "outputs": [
    {
     "data": {
      "text/html": [
       "<div>\n",
       "<style scoped>\n",
       "    .dataframe tbody tr th:only-of-type {\n",
       "        vertical-align: middle;\n",
       "    }\n",
       "\n",
       "    .dataframe tbody tr th {\n",
       "        vertical-align: top;\n",
       "    }\n",
       "\n",
       "    .dataframe thead th {\n",
       "        text-align: right;\n",
       "    }\n",
       "</style>\n",
       "<table border=\"1\" class=\"dataframe\">\n",
       "  <thead>\n",
       "    <tr style=\"text-align: right;\">\n",
       "      <th></th>\n",
       "      <th>c</th>\n",
       "      <th>h</th>\n",
       "      <th>l</th>\n",
       "      <th>o</th>\n",
       "      <th>s</th>\n",
       "      <th>t</th>\n",
       "      <th>v</th>\n",
       "    </tr>\n",
       "  </thead>\n",
       "  <tbody>\n",
       "    <tr>\n",
       "      <th>0</th>\n",
       "      <td>73.23</td>\n",
       "      <td>75.31</td>\n",
       "      <td>73.13</td>\n",
       "      <td>75.15</td>\n",
       "      <td>ok</td>\n",
       "      <td>1499693400</td>\n",
       "      <td>15066700</td>\n",
       "    </tr>\n",
       "    <tr>\n",
       "      <th>1</th>\n",
       "      <td>73.47</td>\n",
       "      <td>74.05</td>\n",
       "      <td>73.33</td>\n",
       "      <td>73.38</td>\n",
       "      <td>ok</td>\n",
       "      <td>1499779800</td>\n",
       "      <td>7532600</td>\n",
       "    </tr>\n",
       "    <tr>\n",
       "      <th>2</th>\n",
       "      <td>73.94</td>\n",
       "      <td>74.21</td>\n",
       "      <td>73.66</td>\n",
       "      <td>73.66</td>\n",
       "      <td>ok</td>\n",
       "      <td>1499866200</td>\n",
       "      <td>5700200</td>\n",
       "    </tr>\n",
       "    <tr>\n",
       "      <th>3</th>\n",
       "      <td>75.05</td>\n",
       "      <td>75.25</td>\n",
       "      <td>74.51</td>\n",
       "      <td>74.67</td>\n",
       "      <td>ok</td>\n",
       "      <td>1499952600</td>\n",
       "      <td>8160500</td>\n",
       "    </tr>\n",
       "    <tr>\n",
       "      <th>4</th>\n",
       "      <td>76.34</td>\n",
       "      <td>76.56</td>\n",
       "      <td>75.91</td>\n",
       "      <td>76.27</td>\n",
       "      <td>ok</td>\n",
       "      <td>1500039000</td>\n",
       "      <td>9151900</td>\n",
       "    </tr>\n",
       "    <tr>\n",
       "      <th>...</th>\n",
       "      <td>...</td>\n",
       "      <td>...</td>\n",
       "      <td>...</td>\n",
       "      <td>...</td>\n",
       "      <td>...</td>\n",
       "      <td>...</td>\n",
       "      <td>...</td>\n",
       "    </tr>\n",
       "    <tr>\n",
       "      <th>685</th>\n",
       "      <td>115.19</td>\n",
       "      <td>115.80</td>\n",
       "      <td>110.94</td>\n",
       "      <td>111.86</td>\n",
       "      <td>ok</td>\n",
       "      <td>1585575000</td>\n",
       "      <td>9737500</td>\n",
       "    </tr>\n",
       "    <tr>\n",
       "      <th>686</th>\n",
       "      <td>113.62</td>\n",
       "      <td>116.19</td>\n",
       "      <td>112.64</td>\n",
       "      <td>114.31</td>\n",
       "      <td>ok</td>\n",
       "      <td>1585661400</td>\n",
       "      <td>8752800</td>\n",
       "    </tr>\n",
       "    <tr>\n",
       "      <th>687</th>\n",
       "      <td>114.14</td>\n",
       "      <td>115.53</td>\n",
       "      <td>111.80</td>\n",
       "      <td>112.15</td>\n",
       "      <td>ok</td>\n",
       "      <td>1585747800</td>\n",
       "      <td>9423200</td>\n",
       "    </tr>\n",
       "    <tr>\n",
       "      <th>688</th>\n",
       "      <td>118.65</td>\n",
       "      <td>119.11</td>\n",
       "      <td>112.34</td>\n",
       "      <td>113.18</td>\n",
       "      <td>ok</td>\n",
       "      <td>1585834200</td>\n",
       "      <td>9838500</td>\n",
       "    </tr>\n",
       "    <tr>\n",
       "      <th>689</th>\n",
       "      <td>118.31</td>\n",
       "      <td>119.91</td>\n",
       "      <td>117.03</td>\n",
       "      <td>117.21</td>\n",
       "      <td>ok</td>\n",
       "      <td>1585920600</td>\n",
       "      <td>9538200</td>\n",
       "    </tr>\n",
       "  </tbody>\n",
       "</table>\n",
       "<p>690 rows × 7 columns</p>\n",
       "</div>"
      ],
      "text/plain": [
       "          c       h       l       o   s           t         v\n",
       "0     73.23   75.31   73.13   75.15  ok  1499693400  15066700\n",
       "1     73.47   74.05   73.33   73.38  ok  1499779800   7532600\n",
       "2     73.94   74.21   73.66   73.66  ok  1499866200   5700200\n",
       "3     75.05   75.25   74.51   74.67  ok  1499952600   8160500\n",
       "4     76.34   76.56   75.91   76.27  ok  1500039000   9151900\n",
       "..      ...     ...     ...     ...  ..         ...       ...\n",
       "685  115.19  115.80  110.94  111.86  ok  1585575000   9737500\n",
       "686  113.62  116.19  112.64  114.31  ok  1585661400   8752800\n",
       "687  114.14  115.53  111.80  112.15  ok  1585747800   9423200\n",
       "688  118.65  119.11  112.34  113.18  ok  1585834200   9838500\n",
       "689  118.31  119.91  117.03  117.21  ok  1585920600   9538200\n",
       "\n",
       "[690 rows x 7 columns]"
      ]
     },
     "execution_count": 35,
     "metadata": {},
     "output_type": "execute_result"
    }
   ],
   "source": [
    "#read the file\n",
    "df = pd.read_json (r'WMT.json')\n",
    "\n",
    "#print the head\n",
    "df"
   ]
  },
  {
   "cell_type": "code",
   "execution_count": 36,
   "metadata": {},
   "outputs": [
    {
     "data": {
      "text/html": [
       "<div>\n",
       "<style scoped>\n",
       "    .dataframe tbody tr th:only-of-type {\n",
       "        vertical-align: middle;\n",
       "    }\n",
       "\n",
       "    .dataframe tbody tr th {\n",
       "        vertical-align: top;\n",
       "    }\n",
       "\n",
       "    .dataframe thead th {\n",
       "        text-align: right;\n",
       "    }\n",
       "</style>\n",
       "<table border=\"1\" class=\"dataframe\">\n",
       "  <thead>\n",
       "    <tr style=\"text-align: right;\">\n",
       "      <th></th>\n",
       "      <th>Close</th>\n",
       "      <th>High</th>\n",
       "      <th>Low</th>\n",
       "      <th>Open</th>\n",
       "      <th>Status</th>\n",
       "      <th>Date</th>\n",
       "      <th>Volume</th>\n",
       "    </tr>\n",
       "  </thead>\n",
       "  <tbody>\n",
       "    <tr>\n",
       "      <th>0</th>\n",
       "      <td>73.23</td>\n",
       "      <td>75.31</td>\n",
       "      <td>73.13</td>\n",
       "      <td>75.15</td>\n",
       "      <td>ok</td>\n",
       "      <td>2017-07-10 13:30:00</td>\n",
       "      <td>15066700</td>\n",
       "    </tr>\n",
       "    <tr>\n",
       "      <th>1</th>\n",
       "      <td>73.47</td>\n",
       "      <td>74.05</td>\n",
       "      <td>73.33</td>\n",
       "      <td>73.38</td>\n",
       "      <td>ok</td>\n",
       "      <td>2017-07-11 13:30:00</td>\n",
       "      <td>7532600</td>\n",
       "    </tr>\n",
       "    <tr>\n",
       "      <th>2</th>\n",
       "      <td>73.94</td>\n",
       "      <td>74.21</td>\n",
       "      <td>73.66</td>\n",
       "      <td>73.66</td>\n",
       "      <td>ok</td>\n",
       "      <td>2017-07-12 13:30:00</td>\n",
       "      <td>5700200</td>\n",
       "    </tr>\n",
       "    <tr>\n",
       "      <th>3</th>\n",
       "      <td>75.05</td>\n",
       "      <td>75.25</td>\n",
       "      <td>74.51</td>\n",
       "      <td>74.67</td>\n",
       "      <td>ok</td>\n",
       "      <td>2017-07-13 13:30:00</td>\n",
       "      <td>8160500</td>\n",
       "    </tr>\n",
       "    <tr>\n",
       "      <th>4</th>\n",
       "      <td>76.34</td>\n",
       "      <td>76.56</td>\n",
       "      <td>75.91</td>\n",
       "      <td>76.27</td>\n",
       "      <td>ok</td>\n",
       "      <td>2017-07-14 13:30:00</td>\n",
       "      <td>9151900</td>\n",
       "    </tr>\n",
       "  </tbody>\n",
       "</table>\n",
       "</div>"
      ],
      "text/plain": [
       "   Close   High    Low   Open Status                Date    Volume\n",
       "0  73.23  75.31  73.13  75.15     ok 2017-07-10 13:30:00  15066700\n",
       "1  73.47  74.05  73.33  73.38     ok 2017-07-11 13:30:00   7532600\n",
       "2  73.94  74.21  73.66  73.66     ok 2017-07-12 13:30:00   5700200\n",
       "3  75.05  75.25  74.51  74.67     ok 2017-07-13 13:30:00   8160500\n",
       "4  76.34  76.56  75.91  76.27     ok 2017-07-14 13:30:00   9151900"
      ]
     },
     "execution_count": 36,
     "metadata": {},
     "output_type": "execute_result"
    }
   ],
   "source": [
    "df['t'] = pd.to_datetime(df['t'], unit='s')\n",
    "df = df.rename(columns={'c': 'Close', 'h': 'High', 'l':'Low',  'o': 'Open', 's': 'Status', 't': 'Date', 'v': 'Volume'})\n",
    "df.head()"
   ]
  },
  {
   "cell_type": "code",
   "execution_count": 37,
   "metadata": {},
   "outputs": [],
   "source": [
    "size = len(df)"
   ]
  },
  {
   "cell_type": "code",
   "execution_count": 38,
   "metadata": {},
   "outputs": [
    {
     "name": "stderr",
     "output_type": "stream",
     "text": [
      "Importing plotly failed. Interactive plots will not work.\n"
     ]
    }
   ],
   "source": [
    "#importing prophet\n",
    "from fbprophet import Prophet\n",
    "\n",
    "#creating dataframe\n",
    "new_data = pd.DataFrame(index=range(0,len(df)),columns=['Date', 'Close'])\n",
    "\n",
    "for i in range(0,len(df)):\n",
    "    new_data['Date'][i] = df['Date'][i]\n",
    "    new_data['Close'][i] = df['Close'][i]\n",
    "\n",
    "new_data['Date'] = pd.to_datetime(new_data.Date,format='%Y-%m-%d')\n",
    "new_data.index = new_data['Date']\n",
    "\n",
    "#preparing data\n",
    "new_data.rename(columns={'Close': 'y', 'Date': 'ds'}, inplace=True)"
   ]
  },
  {
   "cell_type": "code",
   "execution_count": 39,
   "metadata": {
    "scrolled": true
   },
   "outputs": [
    {
     "data": {
      "text/html": [
       "<div>\n",
       "<style scoped>\n",
       "    .dataframe tbody tr th:only-of-type {\n",
       "        vertical-align: middle;\n",
       "    }\n",
       "\n",
       "    .dataframe tbody tr th {\n",
       "        vertical-align: top;\n",
       "    }\n",
       "\n",
       "    .dataframe thead th {\n",
       "        text-align: right;\n",
       "    }\n",
       "</style>\n",
       "<table border=\"1\" class=\"dataframe\">\n",
       "  <thead>\n",
       "    <tr style=\"text-align: right;\">\n",
       "      <th></th>\n",
       "      <th>ds</th>\n",
       "      <th>y</th>\n",
       "    </tr>\n",
       "    <tr>\n",
       "      <th>Date</th>\n",
       "      <th></th>\n",
       "      <th></th>\n",
       "    </tr>\n",
       "  </thead>\n",
       "  <tbody>\n",
       "    <tr>\n",
       "      <th>2017-07-10 13:30:00</th>\n",
       "      <td>2017-07-10 13:30:00</td>\n",
       "      <td>73.23</td>\n",
       "    </tr>\n",
       "    <tr>\n",
       "      <th>2017-07-11 13:30:00</th>\n",
       "      <td>2017-07-11 13:30:00</td>\n",
       "      <td>73.47</td>\n",
       "    </tr>\n",
       "    <tr>\n",
       "      <th>2017-07-12 13:30:00</th>\n",
       "      <td>2017-07-12 13:30:00</td>\n",
       "      <td>73.94</td>\n",
       "    </tr>\n",
       "    <tr>\n",
       "      <th>2017-07-13 13:30:00</th>\n",
       "      <td>2017-07-13 13:30:00</td>\n",
       "      <td>75.05</td>\n",
       "    </tr>\n",
       "    <tr>\n",
       "      <th>2017-07-14 13:30:00</th>\n",
       "      <td>2017-07-14 13:30:00</td>\n",
       "      <td>76.34</td>\n",
       "    </tr>\n",
       "    <tr>\n",
       "      <th>...</th>\n",
       "      <td>...</td>\n",
       "      <td>...</td>\n",
       "    </tr>\n",
       "    <tr>\n",
       "      <th>2020-03-30 13:30:00</th>\n",
       "      <td>2020-03-30 13:30:00</td>\n",
       "      <td>115.19</td>\n",
       "    </tr>\n",
       "    <tr>\n",
       "      <th>2020-03-31 13:30:00</th>\n",
       "      <td>2020-03-31 13:30:00</td>\n",
       "      <td>113.62</td>\n",
       "    </tr>\n",
       "    <tr>\n",
       "      <th>2020-04-01 13:30:00</th>\n",
       "      <td>2020-04-01 13:30:00</td>\n",
       "      <td>114.14</td>\n",
       "    </tr>\n",
       "    <tr>\n",
       "      <th>2020-04-02 13:30:00</th>\n",
       "      <td>2020-04-02 13:30:00</td>\n",
       "      <td>118.65</td>\n",
       "    </tr>\n",
       "    <tr>\n",
       "      <th>2020-04-03 13:30:00</th>\n",
       "      <td>2020-04-03 13:30:00</td>\n",
       "      <td>118.31</td>\n",
       "    </tr>\n",
       "  </tbody>\n",
       "</table>\n",
       "<p>690 rows × 2 columns</p>\n",
       "</div>"
      ],
      "text/plain": [
       "                                     ds       y\n",
       "Date                                           \n",
       "2017-07-10 13:30:00 2017-07-10 13:30:00   73.23\n",
       "2017-07-11 13:30:00 2017-07-11 13:30:00   73.47\n",
       "2017-07-12 13:30:00 2017-07-12 13:30:00   73.94\n",
       "2017-07-13 13:30:00 2017-07-13 13:30:00   75.05\n",
       "2017-07-14 13:30:00 2017-07-14 13:30:00   76.34\n",
       "...                                 ...     ...\n",
       "2020-03-30 13:30:00 2020-03-30 13:30:00  115.19\n",
       "2020-03-31 13:30:00 2020-03-31 13:30:00  113.62\n",
       "2020-04-01 13:30:00 2020-04-01 13:30:00  114.14\n",
       "2020-04-02 13:30:00 2020-04-02 13:30:00  118.65\n",
       "2020-04-03 13:30:00 2020-04-03 13:30:00  118.31\n",
       "\n",
       "[690 rows x 2 columns]"
      ]
     },
     "execution_count": 39,
     "metadata": {},
     "output_type": "execute_result"
    }
   ],
   "source": [
    "new_data[:size]"
   ]
  },
  {
   "cell_type": "code",
   "execution_count": 40,
   "metadata": {},
   "outputs": [],
   "source": [
    "#train and validation\n",
    "train = new_data[:size]\n",
    "valid = new_data[size:]"
   ]
  },
  {
   "cell_type": "code",
   "execution_count": 41,
   "metadata": {},
   "outputs": [
    {
     "data": {
      "text/plain": [
       "0"
      ]
     },
     "execution_count": 41,
     "metadata": {},
     "output_type": "execute_result"
    }
   ],
   "source": [
    "len(valid)"
   ]
  },
  {
   "cell_type": "code",
   "execution_count": 42,
   "metadata": {},
   "outputs": [
    {
     "name": "stderr",
     "output_type": "stream",
     "text": [
      "INFO:fbprophet:Disabling daily seasonality. Run prophet with daily_seasonality=True to override this.\n"
     ]
    }
   ],
   "source": [
    "#fit the model\n",
    "model = Prophet()\n",
    "model.fit(train)\n",
    "\n",
    "#predictions\n",
    "close_prices = model.make_future_dataframe(periods=size)\n",
    "forecast = model.predict(close_prices)"
   ]
  },
  {
   "cell_type": "code",
   "execution_count": 43,
   "metadata": {},
   "outputs": [
    {
     "data": {
      "text/html": [
       "<div>\n",
       "<style scoped>\n",
       "    .dataframe tbody tr th:only-of-type {\n",
       "        vertical-align: middle;\n",
       "    }\n",
       "\n",
       "    .dataframe tbody tr th {\n",
       "        vertical-align: top;\n",
       "    }\n",
       "\n",
       "    .dataframe thead th {\n",
       "        text-align: right;\n",
       "    }\n",
       "</style>\n",
       "<table border=\"1\" class=\"dataframe\">\n",
       "  <thead>\n",
       "    <tr style=\"text-align: right;\">\n",
       "      <th></th>\n",
       "      <th>ds</th>\n",
       "    </tr>\n",
       "  </thead>\n",
       "  <tbody>\n",
       "    <tr>\n",
       "      <th>1378</th>\n",
       "      <td>2022-02-21 13:30:00</td>\n",
       "    </tr>\n",
       "    <tr>\n",
       "      <th>1379</th>\n",
       "      <td>2022-02-22 13:30:00</td>\n",
       "    </tr>\n",
       "  </tbody>\n",
       "</table>\n",
       "</div>"
      ],
      "text/plain": [
       "                      ds\n",
       "1378 2022-02-21 13:30:00\n",
       "1379 2022-02-22 13:30:00"
      ]
     },
     "execution_count": 43,
     "metadata": {},
     "output_type": "execute_result"
    }
   ],
   "source": [
    "close_prices.tail(2)"
   ]
  },
  {
   "cell_type": "code",
   "execution_count": 44,
   "metadata": {},
   "outputs": [],
   "source": [
    "#rmse\n",
    "forecast_valid = forecast['yhat'][size:]"
   ]
  },
  {
   "cell_type": "code",
   "execution_count": 45,
   "metadata": {},
   "outputs": [
    {
     "name": "stdout",
     "output_type": "stream",
     "text": [
      "(690,) (0,)\n"
     ]
    }
   ],
   "source": [
    "print(forecast_valid.shape, valid['y'].shape)"
   ]
  },
  {
   "cell_type": "code",
   "execution_count": 46,
   "metadata": {},
   "outputs": [
    {
     "data": {
      "text/plain": [
       "29.1184718469153"
      ]
     },
     "execution_count": 46,
     "metadata": {},
     "output_type": "execute_result"
    }
   ],
   "source": [
    "rms=np.sqrt(np.mean(np.power((np.array(new_data['y'])-np.array(forecast_valid)),2)))\n",
    "rms"
   ]
  },
  {
   "cell_type": "code",
   "execution_count": 47,
   "metadata": {},
   "outputs": [],
   "source": [
    "new_data['yhat'] = forecast['yhat']"
   ]
  },
  {
   "cell_type": "code",
   "execution_count": 48,
   "metadata": {},
   "outputs": [
    {
     "data": {
      "text/plain": [
       "[<matplotlib.lines.Line2D at 0x203cd7fc3c8>,\n",
       " <matplotlib.lines.Line2D at 0x203d0ad1748>]"
      ]
     },
     "execution_count": 48,
     "metadata": {},
     "output_type": "execute_result"
    },
    {
     "data": {
      "image/png": "[encoded data removed]",
      "text/plain": [
       "<Figure size 432x288 with 1 Axes>"
      ]
     },
     "metadata": {
      "needs_background": "light"
     },
     "output_type": "display_data"
    }
   ],
   "source": [
    "#plot\n",
    "new_data['Predictions'] = 0\n",
    "new_data['Predictions'] = forecast_valid.values\n",
    "\n",
    "plt.plot(train['y'])\n",
    "plt.plot(new_data[['y', 'Predictions']])"
   ]
  },
  {
   "cell_type": "code",
   "execution_count": 49,
   "metadata": {},
   "outputs": [
    {
     "data": {
      "text/plain": [
       "Date\n",
       "2017-07-10 13:30:00    107.872774\n",
       "2017-07-11 13:30:00    108.580464\n",
       "2017-07-12 13:30:00    113.727481\n",
       "2017-07-13 13:30:00    114.156089\n",
       "2017-07-14 13:30:00    114.140037\n",
       "                          ...    \n",
       "2020-03-30 13:30:00    137.549397\n",
       "2020-03-31 13:30:00    131.425055\n",
       "2020-04-01 13:30:00    131.835853\n",
       "2020-04-02 13:30:00    136.674456\n",
       "2020-04-03 13:30:00    136.785308\n",
       "Name: Predictions, Length: 690, dtype: float64"
      ]
     },
     "execution_count": 49,
     "metadata": {},
     "output_type": "execute_result"
    }
   ],
   "source": [
    "new_data['Predictions']"
   ]
  },
  {
   "cell_type": "code",
   "execution_count": 50,
   "metadata": {},
   "outputs": [
    {
     "data": {
      "text/html": [
       "<div>\n",
       "<style scoped>\n",
       "    .dataframe tbody tr th:only-of-type {\n",
       "        vertical-align: middle;\n",
       "    }\n",
       "\n",
       "    .dataframe tbody tr th {\n",
       "        vertical-align: top;\n",
       "    }\n",
       "\n",
       "    .dataframe thead th {\n",
       "        text-align: right;\n",
       "    }\n",
       "</style>\n",
       "<table border=\"1\" class=\"dataframe\">\n",
       "  <thead>\n",
       "    <tr style=\"text-align: right;\">\n",
       "      <th></th>\n",
       "      <th>Prediction</th>\n",
       "      <th>Actual</th>\n",
       "    </tr>\n",
       "    <tr>\n",
       "      <th>Date</th>\n",
       "      <th></th>\n",
       "      <th></th>\n",
       "    </tr>\n",
       "  </thead>\n",
       "  <tbody>\n",
       "    <tr>\n",
       "      <th>2017-07-10 13:30:00</th>\n",
       "      <td>107.872774</td>\n",
       "      <td>73.23</td>\n",
       "    </tr>\n",
       "    <tr>\n",
       "      <th>2017-07-11 13:30:00</th>\n",
       "      <td>108.580464</td>\n",
       "      <td>73.47</td>\n",
       "    </tr>\n",
       "    <tr>\n",
       "      <th>2017-07-12 13:30:00</th>\n",
       "      <td>113.727481</td>\n",
       "      <td>73.94</td>\n",
       "    </tr>\n",
       "    <tr>\n",
       "      <th>2017-07-13 13:30:00</th>\n",
       "      <td>114.156089</td>\n",
       "      <td>75.05</td>\n",
       "    </tr>\n",
       "    <tr>\n",
       "      <th>2017-07-14 13:30:00</th>\n",
       "      <td>114.140037</td>\n",
       "      <td>76.34</td>\n",
       "    </tr>\n",
       "    <tr>\n",
       "      <th>...</th>\n",
       "      <td>...</td>\n",
       "      <td>...</td>\n",
       "    </tr>\n",
       "    <tr>\n",
       "      <th>2020-03-30 13:30:00</th>\n",
       "      <td>137.549397</td>\n",
       "      <td>115.19</td>\n",
       "    </tr>\n",
       "    <tr>\n",
       "      <th>2020-03-31 13:30:00</th>\n",
       "      <td>131.425055</td>\n",
       "      <td>113.62</td>\n",
       "    </tr>\n",
       "    <tr>\n",
       "      <th>2020-04-01 13:30:00</th>\n",
       "      <td>131.835853</td>\n",
       "      <td>114.14</td>\n",
       "    </tr>\n",
       "    <tr>\n",
       "      <th>2020-04-02 13:30:00</th>\n",
       "      <td>136.674456</td>\n",
       "      <td>118.65</td>\n",
       "    </tr>\n",
       "    <tr>\n",
       "      <th>2020-04-03 13:30:00</th>\n",
       "      <td>136.785308</td>\n",
       "      <td>118.31</td>\n",
       "    </tr>\n",
       "  </tbody>\n",
       "</table>\n",
       "<p>690 rows × 2 columns</p>\n",
       "</div>"
      ],
      "text/plain": [
       "                     Prediction  Actual\n",
       "Date                                   \n",
       "2017-07-10 13:30:00  107.872774   73.23\n",
       "2017-07-11 13:30:00  108.580464   73.47\n",
       "2017-07-12 13:30:00  113.727481   73.94\n",
       "2017-07-13 13:30:00  114.156089   75.05\n",
       "2017-07-14 13:30:00  114.140037   76.34\n",
       "...                         ...     ...\n",
       "2020-03-30 13:30:00  137.549397  115.19\n",
       "2020-03-31 13:30:00  131.425055  113.62\n",
       "2020-04-01 13:30:00  131.835853  114.14\n",
       "2020-04-02 13:30:00  136.674456  118.65\n",
       "2020-04-03 13:30:00  136.785308  118.31\n",
       "\n",
       "[690 rows x 2 columns]"
      ]
     },
     "execution_count": 50,
     "metadata": {},
     "output_type": "execute_result"
    }
   ],
   "source": [
    "pd.DataFrame({\"Prediction\": new_data['Predictions'], \"Actual\": new_data['y']})"
   ]
  },
  {
   "cell_type": "code",
   "execution_count": 51,
   "metadata": {},
   "outputs": [
    {
     "data": {
      "image/png": "[encoded data removed]",
      "text/plain": [
       "<Figure size 720x432 with 1 Axes>"
      ]
     },
     "metadata": {},
     "output_type": "display_data"
    }
   ],
   "source": [
    "fig1 =model.plot(forecast)"
   ]
  },
  {
   "cell_type": "code",
   "execution_count": 52,
   "metadata": {},
   "outputs": [
    {
     "data": {
      "image/png": "[encoded data removed]",
      "text/plain": [
       "<Figure size 648x648 with 3 Axes>"
      ]
     },
     "metadata": {},
     "output_type": "display_data"
    }
   ],
   "source": [
    "# to view  the forecast components\n",
    "fig1 = model.plot_components(forecast)"
   ]
  },
  {
   "cell_type": "code",
   "execution_count": null,
   "metadata": {},
   "outputs": [],
   "source": []
  }
 ],
 "metadata": {
  "kernelspec": {
   "display_name": "PythonData",
   "language": "python",
   "name": "pythondata"
  },
  "language_info": {
   "codemirror_mode": {
    "name": "ipython",
    "version": 3
   },
   "file_extension": ".py",
   "mimetype": "text/x-python",
   "name": "python",
   "nbconvert_exporter": "python",
   "pygments_lexer": "ipython3",
   "version": "3.6.9"
  }
 },
 "nbformat": 4,
 "nbformat_minor": 2
}
