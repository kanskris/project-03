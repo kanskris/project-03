{
 "cells": [
  {
   "cell_type": "code",
   "execution_count": null,
   "metadata": {},
   "outputs": [],
   "source": [
    "class FinnhubAPIException(Exception):\n",
    "\n",
    "    def __init__(self, response):\n",
    "        self.code = 0\n",
    "\n",
    "        try:\n",
    "            json_response = response.json()\n",
    "        except ValueError:\n",
    "            self.message = \"JSON error message from Finnhub: {}\".format(response.text)\n",
    "        else:\n",
    "            if \"error\" not in json_response:\n",
    "                self.message = \"Wrong json format from FinnhubAPI\"\n",
    "            else:\n",
    "                self.message = json_response[\"error\"]\n",
    "\n",
    "        self.status_code = response.status_code\n",
    "        self.response = response\n",
    "\n",
    "    def __str__(self):\n",
    "        return \"FinnhubAPIException(status_code: {}): {}\".format(self.status_code, self.message)\n",
    "\n",
    "\n",
    "class FinnhubRequestException(Exception):\n",
    "\n",
    "    def __init__(self, message):\n",
    "        self.message = message\n",
    "\n",
    "    def __str__(self):\n",
    "        return \"FinnhubRequestException: {}\".format(self.message)"
   ]
  }
 ],
 "metadata": {
  "kernelspec": {
   "display_name": "PythonData",
   "language": "python",
   "name": "pythondata"
  },
  "language_info": {
   "codemirror_mode": {
    "name": "ipython",
    "version": 3
   },
   "file_extension": ".py",
   "mimetype": "text/x-python",
   "name": "python",
   "nbconvert_exporter": "python",
   "pygments_lexer": "ipython3",
   "version": "3.6.9"
  }
 },
 "nbformat": 4,
 "nbformat_minor": 2
}
