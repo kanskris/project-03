{
 "cells": [
  {
   "cell_type": "code",
   "execution_count": 9,
   "metadata": {},
   "outputs": [],
   "source": [
    "import pandas as pd\n",
    "import json\n",
    ""
   ]
  },
  {
   "cell_type": "code",
   "execution_count": 7,
   "metadata": {},
   "outputs": [
    {
     "output_type": "error",
     "ename": "ModuleNotFoundError",
     "evalue": "No module named 'finnhub'",
     "traceback": [
      "\u001b[1;31m---------------------------------------------------------------------------\u001b[0m",
      "\u001b[1;31mModuleNotFoundError\u001b[0m                       Traceback (most recent call last)",
      "\u001b[1;32m<ipython-input-7-f0a1251594ba>\u001b[0m in \u001b[0;36m<module>\u001b[1;34m\u001b[0m\n\u001b[1;32m----> 1\u001b[1;33m \u001b[1;32mfrom\u001b[0m \u001b[0mfinnhub\u001b[0m \u001b[1;32mimport\u001b[0m \u001b[0mclient\u001b[0m \u001b[1;32mas\u001b[0m \u001b[0mFinnhub\u001b[0m\u001b[1;33m\u001b[0m\u001b[1;33m\u001b[0m\u001b[0m\n\u001b[0m\u001b[0;32m      2\u001b[0m \u001b[1;33m\u001b[0m\u001b[0m\n\u001b[0;32m      3\u001b[0m \u001b[0mclient\u001b[0m \u001b[1;33m=\u001b[0m \u001b[0mFinnhub\u001b[0m\u001b[1;33m.\u001b[0m\u001b[0mClient\u001b[0m\u001b[1;33m(\u001b[0m\u001b[0mapi_key\u001b[0m\u001b[1;33m=\u001b[0m\u001b[1;34m\"bpvnul7rh5rddd65bos0\"\u001b[0m\u001b[1;33m)\u001b[0m\u001b[1;33m\u001b[0m\u001b[1;33m\u001b[0m\u001b[0m\n",
      "\u001b[1;31mModuleNotFoundError\u001b[0m: No module named 'finnhub'"
     ]
    }
   ],
   "source": [
    "from finnhub import client as Finnhub\n",
    "\n",
    "client = Finnhub.Client(api_key=\"bpvnul7rh5rddd65bos0\")"
   ]
  },
  {
   "cell_type": "code",
   "execution_count": 10,
   "metadata": {},
   "outputs": [
    {
     "output_type": "error",
     "ename": "NameError",
     "evalue": "name 'client' is not defined",
     "traceback": [
      "\u001b[1;31m---------------------------------------------------------------------------\u001b[0m",
      "\u001b[1;31mNameError\u001b[0m                                 Traceback (most recent call last)",
      "\u001b[1;32m<ipython-input-10-a97afeb39f75>\u001b[0m in \u001b[0;36m<module>\u001b[1;34m\u001b[0m\n\u001b[0;32m      6\u001b[0m \u001b[1;33m\u001b[0m\u001b[0m\n\u001b[0;32m      7\u001b[0m \u001b[1;31m# # Get candlestick data for stocks\u001b[0m\u001b[1;33m\u001b[0m\u001b[1;33m\u001b[0m\u001b[1;33m\u001b[0m\u001b[0m\n\u001b[1;32m----> 8\u001b[1;33m \u001b[0mdata\u001b[0m \u001b[1;33m=\u001b[0m \u001b[0mclient\u001b[0m\u001b[1;33m.\u001b[0m\u001b[0mstock_candle\u001b[0m\u001b[1;33m(\u001b[0m\u001b[0msymbol\u001b[0m\u001b[1;33m=\u001b[0m\u001b[1;34m\"SIRI\"\u001b[0m\u001b[1;33m,\u001b[0m \u001b[0mresolution\u001b[0m\u001b[1;33m=\u001b[0m\u001b[1;34m\"D\"\u001b[0m\u001b[1;33m,\u001b[0m \u001b[0mcount\u001b[0m\u001b[1;33m=\u001b[0m\u001b[1;36m600\u001b[0m\u001b[1;33m)\u001b[0m\u001b[1;33m\u001b[0m\u001b[1;33m\u001b[0m\u001b[0m\n\u001b[0m\u001b[0;32m      9\u001b[0m \u001b[1;31m# # client.stock_candle(symbol=\"NFLX\", resolution=\"W\", **{'from':'1601510400', 'to': '1585619984'})\u001b[0m\u001b[1;33m\u001b[0m\u001b[1;33m\u001b[0m\u001b[1;33m\u001b[0m\u001b[0m\n\u001b[0;32m     10\u001b[0m \u001b[1;33m\u001b[0m\u001b[0m\n",
      "\u001b[1;31mNameError\u001b[0m: name 'client' is not defined"
     ]
    }
   ],
   "source": [
    "# # # List supported stocks\n",
    "# client.stock_symbol(exchange=\"US\")\n",
    "\n",
    "# # # Get quote data\n",
    "# # data = client.quote(symbol=\"NFLX\")\n",
    "\n",
    "# # Get candlestick data for stocks\n",
    "data = client.stock_candle(symbol=\"SIRI\", resolution=\"D\", count=600)\n",
    "# # client.stock_candle(symbol=\"NFLX\", resolution=\"W\", **{'from':'1601510400', 'to': '1585619984'})\n",
    "\n",
    "# # # [PREMIUM] Get tick data\n",
    "# # data = client.stock_tick(symbol=\"NFLX\", resolution=\"D\", **{'from':'1585526400', 'to': '1585569600'})\n",
    "\n",
    "app_json = json.dumps(data)\n",
    "# # print(data)\n",
    "# # pd.DataFrame(data).reset_index()\n",
    "# # print(pd)\n",
    "\n",
    "print(json.dumps(data, sort_keys=True, indent=4))\n",
    "with open((\"SIRI\" + \".json\"), \"r+\") as outfile: \n",
    "    outfile.seek(0)\n",
    "    outfile.write(app_json)\n",
    "    outfile.truncate()\n",
    "    outfile.close()"
   ]
  },
  {
   "cell_type": "code",
   "execution_count": 11,
   "metadata": {},
   "outputs": [
    {
     "output_type": "execute_result",
     "data": {
      "text/plain": "    Symbol                                               Name  \\\n0     ATVI             Activision Blizzard, Inc. Common Stock   \n1     ADBE                            Adobe Inc. Common Stock   \n2      AMD          Advanced Micro Devices, Inc. Common Stock   \n3     ALXN         Alexion Pharmaceuticals, Inc. Common Stock   \n4     ALGN                Align Technology, Inc. Common Stock   \n5     GOOG                Alphabet Inc. Class C Capital Stock   \n6    GOOGL                 Alphabet Inc. Class A Common Stock   \n7     AMZN                      Amazon.com, Inc. Common Stock   \n8      AAL          American Airlines Group Inc. Common Stock   \n9     AMGN                            Amgen Inc. Common Stock   \n10     ADI                  Analog Devices, Inc. Common Stock   \n11    ANSS                           ANSYS, Inc. Common Stock   \n12    AAPL                            Apple Inc. Common Stock   \n13    AMAT               Applied Materials, Inc. Common Stock   \n14    ASML         ASML Holding N.V. New York Registry Shares   \n15    ADSK                        Autodesk, Inc. Common Stock   \n16     ADP       Automatic Data Processing, Inc. Common Stock   \n17    BIDU                                    Baidu, Inc. ADS   \n18    BIIB                           Biogen Inc. Common Stock   \n19    BMRN          BioMarin Pharmaceutical Inc. Common Stock   \n20    BKNG                 Booking Holdings Inc. Common Stock   \n21    AVGO                         Broadcom Inc. Common Stock   \n22    CDNS          Cadence Design Systems, Inc. Common Stock   \n23     CDW                       CDW Corporation Common Stock   \n24    CERN                    Cerner Corporation Common Stock   \n25    CHTR  Charter Communications, Inc. Class A Common St...   \n26    CHKP  Check Point Software Technologies Ltd. Ordinar...   \n27    CTAS                    Cintas Corporation Common Stock   \n28    CSCO                   Cisco Systems, Inc. Common Stock   \n29    CTXS                  Citrix Systems, Inc. Common Stock   \n..     ...                                                ...   \n73    PCAR                           PACCAR Inc. Common Stock   \n74    PAYX                         Paychex, Inc. Common Stock   \n75    PYPL                 PayPal Holdings, Inc. Common Stock   \n76     PEP                         PepsiCo, Inc. Common Stock   \n77    QCOM                 QUALCOMM Incorporated Common Stock   \n78    REGN       Regeneron Pharmaceuticals, Inc. Common Stock   \n79    ROST                     Ross Stores, Inc. Common Stock   \n80    SGEN                Seattle Genetics, Inc. Common Stock   \n81    SIRI               Sirius XM Holdings Inc. Common Stock   \n82    SWKS              Skyworks Solutions, Inc. Common Stock   \n83    SPLK                           Splunk Inc. Common Stock   \n84    SBUX                 Starbucks Corporation Common Stock   \n85    SNPS                        Synopsys, Inc. Common Stock   \n86    TMUS                     T-Mobile US, Inc. Common Stock   \n87    TTWO   Take-Two Interactive Software, Inc. Common Stock   \n88    TSLA                           Tesla, Inc. Common Stock   \n89     TXN        Texas Instruments Incorporated Common Stock   \n90     KHC               The Kraft Heinz Company Common Stock   \n91    TCOM  Trip.com Group Limited American Depositary Shares   \n92    ULTA                     Ulta Beauty, Inc. Common Stock   \n93     UAL        United Airlines Holdings, Inc. Common Stock   \n94    VRSN                        VeriSign, Inc. Common Stock   \n95    VRSK                Verisk Analytics, Inc. Common Stock   \n96    VRTX   Vertex Pharmaceuticals Incorporated Common Stock   \n97     WBA        Walgreens Boots Alliance, Inc. Common Stock   \n98     WDC           Western Digital Corporation Common Stock   \n99    WLTW  Willis Towers Watson Public Limited Company Or...   \n100   WDAY                 Workday, Inc. Class A Common Stock   \n101    XEL                      Xcel Energy Inc. Common Stock   \n102   XLNX                          Xilinx, Inc. Common Stock   \n\n             Market Cap  \n0       46,13,79,07,010  \n1     1,41,46,15,47,569  \n2       49,86,65,99,329  \n3       19,93,79,17,000  \n4       12,14,37,37,426  \n5     7,54,55,76,52,489  \n6     7,50,99,75,10,543  \n7     9,49,12,04,14,426  \n8        4,00,06,91,606  \n9     1,21,15,22,18,691  \n10      31,87,31,31,077  \n11      18,68,21,97,827  \n12   10,56,28,46,26,800  \n13      38,82,59,40,220  \n14    1,04,12,06,20,195  \n15      30,51,34,78,075  \n16      55,51,06,44,180  \n17      33,61,64,53,788  \n18      52,30,79,75,946  \n19      15,15,15,34,944  \n20      50,53,39,53,254  \n21      93,65,51,20,480  \n22      17,95,36,69,417  \n23      12,40,54,19,024  \n24      19,42,43,60,081  \n25    1,01,59,40,48,677  \n26      14,96,66,66,031  \n27      17,08,81,64,674  \n28    1,65,64,87,79,089  \n29      17,29,28,79,601  \n..                  ...  \n73      21,34,12,17,343  \n74      21,36,15,04,154  \n75    1,08,36,93,57,259  \n76    1,73,08,55,35,318  \n77      74,56,06,82,235  \n78      54,27,49,72,176  \n79      26,60,32,87,370  \n80      20,10,97,75,715  \n81      19,77,44,71,248  \n82      13,61,58,94,526  \n83      16,20,14,17,997  \n84      74,00,17,85,000  \n85      18,71,07,90,287  \n86    1,01,32,17,74,633  \n87      13,43,96,48,032  \n88      88,50,86,05,171  \n89      93,34,98,74,490  \n90      30,93,48,83,290  \n91      12,95,10,68,735  \n92       8,82,59,47,268  \n93       5,67,43,61,290  \n94      21,26,83,56,555  \n95      23,09,97,07,893  \n96      61,78,62,98,398  \n97      35,72,04,06,340  \n98      11,42,21,73,991  \n99      20,22,07,42,775  \n100     26,93,05,60,000  \n101     30,35,73,49,729  \n102     19,67,79,95,244  \n\n[103 rows x 3 columns]",
      "text/html": "<div>\n<style scoped>\n    .dataframe tbody tr th:only-of-type {\n        vertical-align: middle;\n    }\n\n    .dataframe tbody tr th {\n        vertical-align: top;\n    }\n\n    .dataframe thead th {\n        text-align: right;\n    }\n</style>\n<table border=\"1\" class=\"dataframe\">\n  <thead>\n    <tr style=\"text-align: right;\">\n      <th></th>\n      <th>Symbol</th>\n      <th>Name</th>\n      <th>Market Cap</th>\n    </tr>\n  </thead>\n  <tbody>\n    <tr>\n      <th>0</th>\n      <td>ATVI</td>\n      <td>Activision Blizzard, Inc. Common Stock</td>\n      <td>46,13,79,07,010</td>\n    </tr>\n    <tr>\n      <th>1</th>\n      <td>ADBE</td>\n      <td>Adobe Inc. Common Stock</td>\n      <td>1,41,46,15,47,569</td>\n    </tr>\n    <tr>\n      <th>2</th>\n      <td>AMD</td>\n      <td>Advanced Micro Devices, Inc. Common Stock</td>\n      <td>49,86,65,99,329</td>\n    </tr>\n    <tr>\n      <th>3</th>\n      <td>ALXN</td>\n      <td>Alexion Pharmaceuticals, Inc. Common Stock</td>\n      <td>19,93,79,17,000</td>\n    </tr>\n    <tr>\n      <th>4</th>\n      <td>ALGN</td>\n      <td>Align Technology, Inc. Common Stock</td>\n      <td>12,14,37,37,426</td>\n    </tr>\n    <tr>\n      <th>5</th>\n      <td>GOOG</td>\n      <td>Alphabet Inc. Class C Capital Stock</td>\n      <td>7,54,55,76,52,489</td>\n    </tr>\n    <tr>\n      <th>6</th>\n      <td>GOOGL</td>\n      <td>Alphabet Inc. Class A Common Stock</td>\n      <td>7,50,99,75,10,543</td>\n    </tr>\n    <tr>\n      <th>7</th>\n      <td>AMZN</td>\n      <td>Amazon.com, Inc. Common Stock</td>\n      <td>9,49,12,04,14,426</td>\n    </tr>\n    <tr>\n      <th>8</th>\n      <td>AAL</td>\n      <td>American Airlines Group Inc. Common Stock</td>\n      <td>4,00,06,91,606</td>\n    </tr>\n    <tr>\n      <th>9</th>\n      <td>AMGN</td>\n      <td>Amgen Inc. Common Stock</td>\n      <td>1,21,15,22,18,691</td>\n    </tr>\n    <tr>\n      <th>10</th>\n      <td>ADI</td>\n      <td>Analog Devices, Inc. Common Stock</td>\n      <td>31,87,31,31,077</td>\n    </tr>\n    <tr>\n      <th>11</th>\n      <td>ANSS</td>\n      <td>ANSYS, Inc. Common Stock</td>\n      <td>18,68,21,97,827</td>\n    </tr>\n    <tr>\n      <th>12</th>\n      <td>AAPL</td>\n      <td>Apple Inc. Common Stock</td>\n      <td>10,56,28,46,26,800</td>\n    </tr>\n    <tr>\n      <th>13</th>\n      <td>AMAT</td>\n      <td>Applied Materials, Inc. Common Stock</td>\n      <td>38,82,59,40,220</td>\n    </tr>\n    <tr>\n      <th>14</th>\n      <td>ASML</td>\n      <td>ASML Holding N.V. New York Registry Shares</td>\n      <td>1,04,12,06,20,195</td>\n    </tr>\n    <tr>\n      <th>15</th>\n      <td>ADSK</td>\n      <td>Autodesk, Inc. Common Stock</td>\n      <td>30,51,34,78,075</td>\n    </tr>\n    <tr>\n      <th>16</th>\n      <td>ADP</td>\n      <td>Automatic Data Processing, Inc. Common Stock</td>\n      <td>55,51,06,44,180</td>\n    </tr>\n    <tr>\n      <th>17</th>\n      <td>BIDU</td>\n      <td>Baidu, Inc. ADS</td>\n      <td>33,61,64,53,788</td>\n    </tr>\n    <tr>\n      <th>18</th>\n      <td>BIIB</td>\n      <td>Biogen Inc. Common Stock</td>\n      <td>52,30,79,75,946</td>\n    </tr>\n    <tr>\n      <th>19</th>\n      <td>BMRN</td>\n      <td>BioMarin Pharmaceutical Inc. Common Stock</td>\n      <td>15,15,15,34,944</td>\n    </tr>\n    <tr>\n      <th>20</th>\n      <td>BKNG</td>\n      <td>Booking Holdings Inc. Common Stock</td>\n      <td>50,53,39,53,254</td>\n    </tr>\n    <tr>\n      <th>21</th>\n      <td>AVGO</td>\n      <td>Broadcom Inc. Common Stock</td>\n      <td>93,65,51,20,480</td>\n    </tr>\n    <tr>\n      <th>22</th>\n      <td>CDNS</td>\n      <td>Cadence Design Systems, Inc. Common Stock</td>\n      <td>17,95,36,69,417</td>\n    </tr>\n    <tr>\n      <th>23</th>\n      <td>CDW</td>\n      <td>CDW Corporation Common Stock</td>\n      <td>12,40,54,19,024</td>\n    </tr>\n    <tr>\n      <th>24</th>\n      <td>CERN</td>\n      <td>Cerner Corporation Common Stock</td>\n      <td>19,42,43,60,081</td>\n    </tr>\n    <tr>\n      <th>25</th>\n      <td>CHTR</td>\n      <td>Charter Communications, Inc. Class A Common St...</td>\n      <td>1,01,59,40,48,677</td>\n    </tr>\n    <tr>\n      <th>26</th>\n      <td>CHKP</td>\n      <td>Check Point Software Technologies Ltd. Ordinar...</td>\n      <td>14,96,66,66,031</td>\n    </tr>\n    <tr>\n      <th>27</th>\n      <td>CTAS</td>\n      <td>Cintas Corporation Common Stock</td>\n      <td>17,08,81,64,674</td>\n    </tr>\n    <tr>\n      <th>28</th>\n      <td>CSCO</td>\n      <td>Cisco Systems, Inc. Common Stock</td>\n      <td>1,65,64,87,79,089</td>\n    </tr>\n    <tr>\n      <th>29</th>\n      <td>CTXS</td>\n      <td>Citrix Systems, Inc. Common Stock</td>\n      <td>17,29,28,79,601</td>\n    </tr>\n    <tr>\n      <th>...</th>\n      <td>...</td>\n      <td>...</td>\n      <td>...</td>\n    </tr>\n    <tr>\n      <th>73</th>\n      <td>PCAR</td>\n      <td>PACCAR Inc. Common Stock</td>\n      <td>21,34,12,17,343</td>\n    </tr>\n    <tr>\n      <th>74</th>\n      <td>PAYX</td>\n      <td>Paychex, Inc. Common Stock</td>\n      <td>21,36,15,04,154</td>\n    </tr>\n    <tr>\n      <th>75</th>\n      <td>PYPL</td>\n      <td>PayPal Holdings, Inc. Common Stock</td>\n      <td>1,08,36,93,57,259</td>\n    </tr>\n    <tr>\n      <th>76</th>\n      <td>PEP</td>\n      <td>PepsiCo, Inc. Common Stock</td>\n      <td>1,73,08,55,35,318</td>\n    </tr>\n    <tr>\n      <th>77</th>\n      <td>QCOM</td>\n      <td>QUALCOMM Incorporated Common Stock</td>\n      <td>74,56,06,82,235</td>\n    </tr>\n    <tr>\n      <th>78</th>\n      <td>REGN</td>\n      <td>Regeneron Pharmaceuticals, Inc. Common Stock</td>\n      <td>54,27,49,72,176</td>\n    </tr>\n    <tr>\n      <th>79</th>\n      <td>ROST</td>\n      <td>Ross Stores, Inc. Common Stock</td>\n      <td>26,60,32,87,370</td>\n    </tr>\n    <tr>\n      <th>80</th>\n      <td>SGEN</td>\n      <td>Seattle Genetics, Inc. Common Stock</td>\n      <td>20,10,97,75,715</td>\n    </tr>\n    <tr>\n      <th>81</th>\n      <td>SIRI</td>\n      <td>Sirius XM Holdings Inc. Common Stock</td>\n      <td>19,77,44,71,248</td>\n    </tr>\n    <tr>\n      <th>82</th>\n      <td>SWKS</td>\n      <td>Skyworks Solutions, Inc. Common Stock</td>\n      <td>13,61,58,94,526</td>\n    </tr>\n    <tr>\n      <th>83</th>\n      <td>SPLK</td>\n      <td>Splunk Inc. Common Stock</td>\n      <td>16,20,14,17,997</td>\n    </tr>\n    <tr>\n      <th>84</th>\n      <td>SBUX</td>\n      <td>Starbucks Corporation Common Stock</td>\n      <td>74,00,17,85,000</td>\n    </tr>\n    <tr>\n      <th>85</th>\n      <td>SNPS</td>\n      <td>Synopsys, Inc. Common Stock</td>\n      <td>18,71,07,90,287</td>\n    </tr>\n    <tr>\n      <th>86</th>\n      <td>TMUS</td>\n      <td>T-Mobile US, Inc. Common Stock</td>\n      <td>1,01,32,17,74,633</td>\n    </tr>\n    <tr>\n      <th>87</th>\n      <td>TTWO</td>\n      <td>Take-Two Interactive Software, Inc. Common Stock</td>\n      <td>13,43,96,48,032</td>\n    </tr>\n    <tr>\n      <th>88</th>\n      <td>TSLA</td>\n      <td>Tesla, Inc. Common Stock</td>\n      <td>88,50,86,05,171</td>\n    </tr>\n    <tr>\n      <th>89</th>\n      <td>TXN</td>\n      <td>Texas Instruments Incorporated Common Stock</td>\n      <td>93,34,98,74,490</td>\n    </tr>\n    <tr>\n      <th>90</th>\n      <td>KHC</td>\n      <td>The Kraft Heinz Company Common Stock</td>\n      <td>30,93,48,83,290</td>\n    </tr>\n    <tr>\n      <th>91</th>\n      <td>TCOM</td>\n      <td>Trip.com Group Limited American Depositary Shares</td>\n      <td>12,95,10,68,735</td>\n    </tr>\n    <tr>\n      <th>92</th>\n      <td>ULTA</td>\n      <td>Ulta Beauty, Inc. Common Stock</td>\n      <td>8,82,59,47,268</td>\n    </tr>\n    <tr>\n      <th>93</th>\n      <td>UAL</td>\n      <td>United Airlines Holdings, Inc. Common Stock</td>\n      <td>5,67,43,61,290</td>\n    </tr>\n    <tr>\n      <th>94</th>\n      <td>VRSN</td>\n      <td>VeriSign, Inc. Common Stock</td>\n      <td>21,26,83,56,555</td>\n    </tr>\n    <tr>\n      <th>95</th>\n      <td>VRSK</td>\n      <td>Verisk Analytics, Inc. Common Stock</td>\n      <td>23,09,97,07,893</td>\n    </tr>\n    <tr>\n      <th>96</th>\n      <td>VRTX</td>\n      <td>Vertex Pharmaceuticals Incorporated Common Stock</td>\n      <td>61,78,62,98,398</td>\n    </tr>\n    <tr>\n      <th>97</th>\n      <td>WBA</td>\n      <td>Walgreens Boots Alliance, Inc. Common Stock</td>\n      <td>35,72,04,06,340</td>\n    </tr>\n    <tr>\n      <th>98</th>\n      <td>WDC</td>\n      <td>Western Digital Corporation Common Stock</td>\n      <td>11,42,21,73,991</td>\n    </tr>\n    <tr>\n      <th>99</th>\n      <td>WLTW</td>\n      <td>Willis Towers Watson Public Limited Company Or...</td>\n      <td>20,22,07,42,775</td>\n    </tr>\n    <tr>\n      <th>100</th>\n      <td>WDAY</td>\n      <td>Workday, Inc. Class A Common Stock</td>\n      <td>26,93,05,60,000</td>\n    </tr>\n    <tr>\n      <th>101</th>\n      <td>XEL</td>\n      <td>Xcel Energy Inc. Common Stock</td>\n      <td>30,35,73,49,729</td>\n    </tr>\n    <tr>\n      <th>102</th>\n      <td>XLNX</td>\n      <td>Xilinx, Inc. Common Stock</td>\n      <td>19,67,79,95,244</td>\n    </tr>\n  </tbody>\n</table>\n<p>103 rows × 3 columns</p>\n</div>"
     },
     "metadata": {},
     "execution_count": 11
    }
   ],
   "source": [
    "# Read ticker names from csv\n",
    "data_df = pd.read_csv(\"Nasdaq-100.csv\")\n",
    "\n",
    "data_df"
   ]
  },
  {
   "cell_type": "code",
   "execution_count": 12,
   "metadata": {},
   "outputs": [
    {
     "output_type": "execute_result",
     "data": {
      "text/plain": "  Symbol\n0   ATVI\n1   ADBE\n2    AMD\n3   ALXN\n4   ALGN",
      "text/html": "<div>\n<style scoped>\n    .dataframe tbody tr th:only-of-type {\n        vertical-align: middle;\n    }\n\n    .dataframe tbody tr th {\n        vertical-align: top;\n    }\n\n    .dataframe thead th {\n        text-align: right;\n    }\n</style>\n<table border=\"1\" class=\"dataframe\">\n  <thead>\n    <tr style=\"text-align: right;\">\n      <th></th>\n      <th>Symbol</th>\n    </tr>\n  </thead>\n  <tbody>\n    <tr>\n      <th>0</th>\n      <td>ATVI</td>\n    </tr>\n    <tr>\n      <th>1</th>\n      <td>ADBE</td>\n    </tr>\n    <tr>\n      <th>2</th>\n      <td>AMD</td>\n    </tr>\n    <tr>\n      <th>3</th>\n      <td>ALXN</td>\n    </tr>\n    <tr>\n      <th>4</th>\n      <td>ALGN</td>\n    </tr>\n  </tbody>\n</table>\n</div>"
     },
     "metadata": {},
     "execution_count": 12
    }
   ],
   "source": [
    "data_df[[\"Symbol\"]].head()"
   ]
  },
  {
   "cell_type": "code",
   "execution_count": 13,
   "metadata": {},
   "outputs": [
    {
     "output_type": "execute_result",
     "data": {
      "text/plain": "    Symbol                                               Name  \\\n0     ATVI             Activision Blizzard, Inc. Common Stock   \n1     ADBE                            Adobe Inc. Common Stock   \n2      AMD          Advanced Micro Devices, Inc. Common Stock   \n3     ALXN         Alexion Pharmaceuticals, Inc. Common Stock   \n4     ALGN                Align Technology, Inc. Common Stock   \n5     GOOG                Alphabet Inc. Class C Capital Stock   \n6    GOOGL                 Alphabet Inc. Class A Common Stock   \n7     AMZN                      Amazon.com, Inc. Common Stock   \n8      AAL          American Airlines Group Inc. Common Stock   \n9     AMGN                            Amgen Inc. Common Stock   \n10     ADI                  Analog Devices, Inc. Common Stock   \n11    ANSS                           ANSYS, Inc. Common Stock   \n12    AAPL                            Apple Inc. Common Stock   \n13    AMAT               Applied Materials, Inc. Common Stock   \n14    ASML         ASML Holding N.V. New York Registry Shares   \n15    ADSK                        Autodesk, Inc. Common Stock   \n16     ADP       Automatic Data Processing, Inc. Common Stock   \n17    BIDU                                    Baidu, Inc. ADS   \n18    BIIB                           Biogen Inc. Common Stock   \n19    BMRN          BioMarin Pharmaceutical Inc. Common Stock   \n20    BKNG                 Booking Holdings Inc. Common Stock   \n21    AVGO                         Broadcom Inc. Common Stock   \n22    CDNS          Cadence Design Systems, Inc. Common Stock   \n23     CDW                       CDW Corporation Common Stock   \n24    CERN                    Cerner Corporation Common Stock   \n25    CHTR  Charter Communications, Inc. Class A Common St...   \n26    CHKP  Check Point Software Technologies Ltd. Ordinar...   \n27    CTAS                    Cintas Corporation Common Stock   \n28    CSCO                   Cisco Systems, Inc. Common Stock   \n29    CTXS                  Citrix Systems, Inc. Common Stock   \n..     ...                                                ...   \n73    PCAR                           PACCAR Inc. Common Stock   \n74    PAYX                         Paychex, Inc. Common Stock   \n75    PYPL                 PayPal Holdings, Inc. Common Stock   \n76     PEP                         PepsiCo, Inc. Common Stock   \n77    QCOM                 QUALCOMM Incorporated Common Stock   \n78    REGN       Regeneron Pharmaceuticals, Inc. Common Stock   \n79    ROST                     Ross Stores, Inc. Common Stock   \n80    SGEN                Seattle Genetics, Inc. Common Stock   \n81    SIRI               Sirius XM Holdings Inc. Common Stock   \n82    SWKS              Skyworks Solutions, Inc. Common Stock   \n83    SPLK                           Splunk Inc. Common Stock   \n84    SBUX                 Starbucks Corporation Common Stock   \n85    SNPS                        Synopsys, Inc. Common Stock   \n86    TMUS                     T-Mobile US, Inc. Common Stock   \n87    TTWO   Take-Two Interactive Software, Inc. Common Stock   \n88    TSLA                           Tesla, Inc. Common Stock   \n89     TXN        Texas Instruments Incorporated Common Stock   \n90     KHC               The Kraft Heinz Company Common Stock   \n91    TCOM  Trip.com Group Limited American Depositary Shares   \n92    ULTA                     Ulta Beauty, Inc. Common Stock   \n93     UAL        United Airlines Holdings, Inc. Common Stock   \n94    VRSN                        VeriSign, Inc. Common Stock   \n95    VRSK                Verisk Analytics, Inc. Common Stock   \n96    VRTX   Vertex Pharmaceuticals Incorporated Common Stock   \n97     WBA        Walgreens Boots Alliance, Inc. Common Stock   \n98     WDC           Western Digital Corporation Common Stock   \n99    WLTW  Willis Towers Watson Public Limited Company Or...   \n100   WDAY                 Workday, Inc. Class A Common Stock   \n101    XEL                      Xcel Energy Inc. Common Stock   \n102   XLNX                          Xilinx, Inc. Common Stock   \n\n             Market Cap  \n0       46,13,79,07,010  \n1     1,41,46,15,47,569  \n2       49,86,65,99,329  \n3       19,93,79,17,000  \n4       12,14,37,37,426  \n5     7,54,55,76,52,489  \n6     7,50,99,75,10,543  \n7     9,49,12,04,14,426  \n8        4,00,06,91,606  \n9     1,21,15,22,18,691  \n10      31,87,31,31,077  \n11      18,68,21,97,827  \n12   10,56,28,46,26,800  \n13      38,82,59,40,220  \n14    1,04,12,06,20,195  \n15      30,51,34,78,075  \n16      55,51,06,44,180  \n17      33,61,64,53,788  \n18      52,30,79,75,946  \n19      15,15,15,34,944  \n20      50,53,39,53,254  \n21      93,65,51,20,480  \n22      17,95,36,69,417  \n23      12,40,54,19,024  \n24      19,42,43,60,081  \n25    1,01,59,40,48,677  \n26      14,96,66,66,031  \n27      17,08,81,64,674  \n28    1,65,64,87,79,089  \n29      17,29,28,79,601  \n..                  ...  \n73      21,34,12,17,343  \n74      21,36,15,04,154  \n75    1,08,36,93,57,259  \n76    1,73,08,55,35,318  \n77      74,56,06,82,235  \n78      54,27,49,72,176  \n79      26,60,32,87,370  \n80      20,10,97,75,715  \n81      19,77,44,71,248  \n82      13,61,58,94,526  \n83      16,20,14,17,997  \n84      74,00,17,85,000  \n85      18,71,07,90,287  \n86    1,01,32,17,74,633  \n87      13,43,96,48,032  \n88      88,50,86,05,171  \n89      93,34,98,74,490  \n90      30,93,48,83,290  \n91      12,95,10,68,735  \n92       8,82,59,47,268  \n93       5,67,43,61,290  \n94      21,26,83,56,555  \n95      23,09,97,07,893  \n96      61,78,62,98,398  \n97      35,72,04,06,340  \n98      11,42,21,73,991  \n99      20,22,07,42,775  \n100     26,93,05,60,000  \n101     30,35,73,49,729  \n102     19,67,79,95,244  \n\n[103 rows x 3 columns]",
      "text/html": "<div>\n<style scoped>\n    .dataframe tbody tr th:only-of-type {\n        vertical-align: middle;\n    }\n\n    .dataframe tbody tr th {\n        vertical-align: top;\n    }\n\n    .dataframe thead th {\n        text-align: right;\n    }\n</style>\n<table border=\"1\" class=\"dataframe\">\n  <thead>\n    <tr style=\"text-align: right;\">\n      <th></th>\n      <th>Symbol</th>\n      <th>Name</th>\n      <th>Market Cap</th>\n    </tr>\n  </thead>\n  <tbody>\n    <tr>\n      <th>0</th>\n      <td>ATVI</td>\n      <td>Activision Blizzard, Inc. Common Stock</td>\n      <td>46,13,79,07,010</td>\n    </tr>\n    <tr>\n      <th>1</th>\n      <td>ADBE</td>\n      <td>Adobe Inc. Common Stock</td>\n      <td>1,41,46,15,47,569</td>\n    </tr>\n    <tr>\n      <th>2</th>\n      <td>AMD</td>\n      <td>Advanced Micro Devices, Inc. Common Stock</td>\n      <td>49,86,65,99,329</td>\n    </tr>\n    <tr>\n      <th>3</th>\n      <td>ALXN</td>\n      <td>Alexion Pharmaceuticals, Inc. Common Stock</td>\n      <td>19,93,79,17,000</td>\n    </tr>\n    <tr>\n      <th>4</th>\n      <td>ALGN</td>\n      <td>Align Technology, Inc. Common Stock</td>\n      <td>12,14,37,37,426</td>\n    </tr>\n    <tr>\n      <th>5</th>\n      <td>GOOG</td>\n      <td>Alphabet Inc. Class C Capital Stock</td>\n      <td>7,54,55,76,52,489</td>\n    </tr>\n    <tr>\n      <th>6</th>\n      <td>GOOGL</td>\n      <td>Alphabet Inc. Class A Common Stock</td>\n      <td>7,50,99,75,10,543</td>\n    </tr>\n    <tr>\n      <th>7</th>\n      <td>AMZN</td>\n      <td>Amazon.com, Inc. Common Stock</td>\n      <td>9,49,12,04,14,426</td>\n    </tr>\n    <tr>\n      <th>8</th>\n      <td>AAL</td>\n      <td>American Airlines Group Inc. Common Stock</td>\n      <td>4,00,06,91,606</td>\n    </tr>\n    <tr>\n      <th>9</th>\n      <td>AMGN</td>\n      <td>Amgen Inc. Common Stock</td>\n      <td>1,21,15,22,18,691</td>\n    </tr>\n    <tr>\n      <th>10</th>\n      <td>ADI</td>\n      <td>Analog Devices, Inc. Common Stock</td>\n      <td>31,87,31,31,077</td>\n    </tr>\n    <tr>\n      <th>11</th>\n      <td>ANSS</td>\n      <td>ANSYS, Inc. Common Stock</td>\n      <td>18,68,21,97,827</td>\n    </tr>\n    <tr>\n      <th>12</th>\n      <td>AAPL</td>\n      <td>Apple Inc. Common Stock</td>\n      <td>10,56,28,46,26,800</td>\n    </tr>\n    <tr>\n      <th>13</th>\n      <td>AMAT</td>\n      <td>Applied Materials, Inc. Common Stock</td>\n      <td>38,82,59,40,220</td>\n    </tr>\n    <tr>\n      <th>14</th>\n      <td>ASML</td>\n      <td>ASML Holding N.V. New York Registry Shares</td>\n      <td>1,04,12,06,20,195</td>\n    </tr>\n    <tr>\n      <th>15</th>\n      <td>ADSK</td>\n      <td>Autodesk, Inc. Common Stock</td>\n      <td>30,51,34,78,075</td>\n    </tr>\n    <tr>\n      <th>16</th>\n      <td>ADP</td>\n      <td>Automatic Data Processing, Inc. Common Stock</td>\n      <td>55,51,06,44,180</td>\n    </tr>\n    <tr>\n      <th>17</th>\n      <td>BIDU</td>\n      <td>Baidu, Inc. ADS</td>\n      <td>33,61,64,53,788</td>\n    </tr>\n    <tr>\n      <th>18</th>\n      <td>BIIB</td>\n      <td>Biogen Inc. Common Stock</td>\n      <td>52,30,79,75,946</td>\n    </tr>\n    <tr>\n      <th>19</th>\n      <td>BMRN</td>\n      <td>BioMarin Pharmaceutical Inc. Common Stock</td>\n      <td>15,15,15,34,944</td>\n    </tr>\n    <tr>\n      <th>20</th>\n      <td>BKNG</td>\n      <td>Booking Holdings Inc. Common Stock</td>\n      <td>50,53,39,53,254</td>\n    </tr>\n    <tr>\n      <th>21</th>\n      <td>AVGO</td>\n      <td>Broadcom Inc. Common Stock</td>\n      <td>93,65,51,20,480</td>\n    </tr>\n    <tr>\n      <th>22</th>\n      <td>CDNS</td>\n      <td>Cadence Design Systems, Inc. Common Stock</td>\n      <td>17,95,36,69,417</td>\n    </tr>\n    <tr>\n      <th>23</th>\n      <td>CDW</td>\n      <td>CDW Corporation Common Stock</td>\n      <td>12,40,54,19,024</td>\n    </tr>\n    <tr>\n      <th>24</th>\n      <td>CERN</td>\n      <td>Cerner Corporation Common Stock</td>\n      <td>19,42,43,60,081</td>\n    </tr>\n    <tr>\n      <th>25</th>\n      <td>CHTR</td>\n      <td>Charter Communications, Inc. Class A Common St...</td>\n      <td>1,01,59,40,48,677</td>\n    </tr>\n    <tr>\n      <th>26</th>\n      <td>CHKP</td>\n      <td>Check Point Software Technologies Ltd. Ordinar...</td>\n      <td>14,96,66,66,031</td>\n    </tr>\n    <tr>\n      <th>27</th>\n      <td>CTAS</td>\n      <td>Cintas Corporation Common Stock</td>\n      <td>17,08,81,64,674</td>\n    </tr>\n    <tr>\n      <th>28</th>\n      <td>CSCO</td>\n      <td>Cisco Systems, Inc. Common Stock</td>\n      <td>1,65,64,87,79,089</td>\n    </tr>\n    <tr>\n      <th>29</th>\n      <td>CTXS</td>\n      <td>Citrix Systems, Inc. Common Stock</td>\n      <td>17,29,28,79,601</td>\n    </tr>\n    <tr>\n      <th>...</th>\n      <td>...</td>\n      <td>...</td>\n      <td>...</td>\n    </tr>\n    <tr>\n      <th>73</th>\n      <td>PCAR</td>\n      <td>PACCAR Inc. Common Stock</td>\n      <td>21,34,12,17,343</td>\n    </tr>\n    <tr>\n      <th>74</th>\n      <td>PAYX</td>\n      <td>Paychex, Inc. Common Stock</td>\n      <td>21,36,15,04,154</td>\n    </tr>\n    <tr>\n      <th>75</th>\n      <td>PYPL</td>\n      <td>PayPal Holdings, Inc. Common Stock</td>\n      <td>1,08,36,93,57,259</td>\n    </tr>\n    <tr>\n      <th>76</th>\n      <td>PEP</td>\n      <td>PepsiCo, Inc. Common Stock</td>\n      <td>1,73,08,55,35,318</td>\n    </tr>\n    <tr>\n      <th>77</th>\n      <td>QCOM</td>\n      <td>QUALCOMM Incorporated Common Stock</td>\n      <td>74,56,06,82,235</td>\n    </tr>\n    <tr>\n      <th>78</th>\n      <td>REGN</td>\n      <td>Regeneron Pharmaceuticals, Inc. Common Stock</td>\n      <td>54,27,49,72,176</td>\n    </tr>\n    <tr>\n      <th>79</th>\n      <td>ROST</td>\n      <td>Ross Stores, Inc. Common Stock</td>\n      <td>26,60,32,87,370</td>\n    </tr>\n    <tr>\n      <th>80</th>\n      <td>SGEN</td>\n      <td>Seattle Genetics, Inc. Common Stock</td>\n      <td>20,10,97,75,715</td>\n    </tr>\n    <tr>\n      <th>81</th>\n      <td>SIRI</td>\n      <td>Sirius XM Holdings Inc. Common Stock</td>\n      <td>19,77,44,71,248</td>\n    </tr>\n    <tr>\n      <th>82</th>\n      <td>SWKS</td>\n      <td>Skyworks Solutions, Inc. Common Stock</td>\n      <td>13,61,58,94,526</td>\n    </tr>\n    <tr>\n      <th>83</th>\n      <td>SPLK</td>\n      <td>Splunk Inc. Common Stock</td>\n      <td>16,20,14,17,997</td>\n    </tr>\n    <tr>\n      <th>84</th>\n      <td>SBUX</td>\n      <td>Starbucks Corporation Common Stock</td>\n      <td>74,00,17,85,000</td>\n    </tr>\n    <tr>\n      <th>85</th>\n      <td>SNPS</td>\n      <td>Synopsys, Inc. Common Stock</td>\n      <td>18,71,07,90,287</td>\n    </tr>\n    <tr>\n      <th>86</th>\n      <td>TMUS</td>\n      <td>T-Mobile US, Inc. Common Stock</td>\n      <td>1,01,32,17,74,633</td>\n    </tr>\n    <tr>\n      <th>87</th>\n      <td>TTWO</td>\n      <td>Take-Two Interactive Software, Inc. Common Stock</td>\n      <td>13,43,96,48,032</td>\n    </tr>\n    <tr>\n      <th>88</th>\n      <td>TSLA</td>\n      <td>Tesla, Inc. Common Stock</td>\n      <td>88,50,86,05,171</td>\n    </tr>\n    <tr>\n      <th>89</th>\n      <td>TXN</td>\n      <td>Texas Instruments Incorporated Common Stock</td>\n      <td>93,34,98,74,490</td>\n    </tr>\n    <tr>\n      <th>90</th>\n      <td>KHC</td>\n      <td>The Kraft Heinz Company Common Stock</td>\n      <td>30,93,48,83,290</td>\n    </tr>\n    <tr>\n      <th>91</th>\n      <td>TCOM</td>\n      <td>Trip.com Group Limited American Depositary Shares</td>\n      <td>12,95,10,68,735</td>\n    </tr>\n    <tr>\n      <th>92</th>\n      <td>ULTA</td>\n      <td>Ulta Beauty, Inc. Common Stock</td>\n      <td>8,82,59,47,268</td>\n    </tr>\n    <tr>\n      <th>93</th>\n      <td>UAL</td>\n      <td>United Airlines Holdings, Inc. Common Stock</td>\n      <td>5,67,43,61,290</td>\n    </tr>\n    <tr>\n      <th>94</th>\n      <td>VRSN</td>\n      <td>VeriSign, Inc. Common Stock</td>\n      <td>21,26,83,56,555</td>\n    </tr>\n    <tr>\n      <th>95</th>\n      <td>VRSK</td>\n      <td>Verisk Analytics, Inc. Common Stock</td>\n      <td>23,09,97,07,893</td>\n    </tr>\n    <tr>\n      <th>96</th>\n      <td>VRTX</td>\n      <td>Vertex Pharmaceuticals Incorporated Common Stock</td>\n      <td>61,78,62,98,398</td>\n    </tr>\n    <tr>\n      <th>97</th>\n      <td>WBA</td>\n      <td>Walgreens Boots Alliance, Inc. Common Stock</td>\n      <td>35,72,04,06,340</td>\n    </tr>\n    <tr>\n      <th>98</th>\n      <td>WDC</td>\n      <td>Western Digital Corporation Common Stock</td>\n      <td>11,42,21,73,991</td>\n    </tr>\n    <tr>\n      <th>99</th>\n      <td>WLTW</td>\n      <td>Willis Towers Watson Public Limited Company Or...</td>\n      <td>20,22,07,42,775</td>\n    </tr>\n    <tr>\n      <th>100</th>\n      <td>WDAY</td>\n      <td>Workday, Inc. Class A Common Stock</td>\n      <td>26,93,05,60,000</td>\n    </tr>\n    <tr>\n      <th>101</th>\n      <td>XEL</td>\n      <td>Xcel Energy Inc. Common Stock</td>\n      <td>30,35,73,49,729</td>\n    </tr>\n    <tr>\n      <th>102</th>\n      <td>XLNX</td>\n      <td>Xilinx, Inc. Common Stock</td>\n      <td>19,67,79,95,244</td>\n    </tr>\n  </tbody>\n</table>\n<p>103 rows × 3 columns</p>\n</div>"
     },
     "metadata": {},
     "execution_count": 13
    }
   ],
   "source": [
    "data = data_df.loc[:, ~data_df.columns.str.contains('^Unnamed')]\n",
    "\n",
    "data"
   ]
  },
  {
   "cell_type": "code",
   "execution_count": 15,
   "metadata": {},
   "outputs": [
    {
     "output_type": "execute_result",
     "data": {
      "text/plain": "['ATVI',\n 'ADBE',\n 'AMD',\n 'ALXN',\n 'ALGN',\n 'GOOG',\n 'GOOGL',\n 'AMZN',\n 'AAL',\n 'AMGN',\n 'ADI',\n 'ANSS',\n 'AAPL',\n 'AMAT',\n 'ASML',\n 'ADSK',\n 'ADP',\n 'BIDU',\n 'BIIB',\n 'BMRN',\n 'BKNG',\n 'AVGO',\n 'CDNS',\n 'CDW',\n 'CERN',\n 'CHTR',\n 'CHKP',\n 'CTAS',\n 'CSCO',\n 'CTXS',\n 'CTSH',\n 'CMCSA',\n 'CPRT',\n 'CSGP',\n 'COST',\n 'CSX',\n 'DLTR',\n 'EBAY',\n 'EA',\n 'EXC',\n 'EXPE',\n 'FB',\n 'FAST',\n 'FISV',\n 'FOX',\n 'FOXA',\n 'GILD',\n 'IDXX',\n 'ILMN',\n 'INCY',\n 'INTC',\n 'INTU',\n 'ISRG',\n 'JD',\n 'KLAC',\n 'LRCX',\n 'LBTYA',\n 'LBTYK',\n 'LULU',\n 'MAR',\n 'MXIM',\n 'MELI',\n 'MCHP',\n 'MU',\n 'MSFT',\n 'MDLZ',\n 'MNST',\n 'NTAP',\n 'NTES',\n 'NFLX',\n 'NVDA',\n 'NXPI',\n 'ORLY',\n 'PCAR',\n 'PAYX',\n 'PYPL',\n 'PEP',\n 'QCOM',\n 'REGN',\n 'ROST',\n 'SGEN',\n 'SIRI',\n 'SWKS',\n 'SPLK',\n 'SBUX',\n 'SNPS',\n 'TMUS',\n 'TTWO',\n 'TSLA',\n 'TXN',\n 'KHC',\n 'TCOM',\n 'ULTA',\n 'UAL',\n 'VRSN',\n 'VRSK',\n 'VRTX',\n 'WBA',\n 'WDC',\n 'WLTW',\n 'WDAY',\n 'XEL',\n 'XLNX']"
     },
     "metadata": {},
     "execution_count": 15
    }
   ],
   "source": [
    "# Convert it into a list\n",
    "data['Symbol'].values.tolist()\n",
    "data_list = data['Symbol'].values.tolist()\n",
    "data_list"
   ]
  },
  {
   "cell_type": "code",
   "execution_count": 4,
   "metadata": {},
   "outputs": [
    {
     "name": "stdout",
     "output_type": "stream",
     "text": [
      "SIRI\n",
      "ZNGA\n",
      "WMT\n",
      "VZ\n",
      "VEEV\n"
     ]
    }
   ],
   "source": [
    "new_list =['SIRI', 'ZNGA', 'WMT', 'VZ', 'VEEV']\n",
    "# Use that list to run the for loop\n",
    "\n",
    "for i in data_list:\n",
    "    \n",
    "    #Printing which stock running currently\n",
    "    print(i) \n",
    "    \n",
    "#     Getting the stock data\n",
    "    stock_data = client.stock_candle(symbol=i, resolution=\"D\", count=1000)\n",
    "    \n",
    "#     Converting to json\n",
    "    app_json = json.dumps(stock_data)\n",
    "    \n",
    "#     Writing it to the file\n",
    "    with open((i + \".json\"), \"r+\") as outfile: \n",
    "        outfile.seek(0)\n",
    "        outfile.write(app_json)\n",
    "        outfile.truncate()\n",
    "        outfile.close()\n",
    "    \n",
    "#Getting the ticker name\n",
    "# tickername = row['ticker']\n",
    "    \n",
    "# url = f'https://finnhub.io/api/v1/stock/tick?symbol=AAPL&from=1575968404&to=1575968424&token=bpvnul7rh5rddd65bos0'\n",
    "    \n",
    "    \n"
   ]
  },
  {
   "cell_type": "code",
   "execution_count": null,
   "metadata": {},
   "outputs": [],
   "source": [
    "# add the file writing code inside the for loop"
   ]
  },
  {
   "cell_type": "code",
   "execution_count": 4,
   "metadata": {},
   "outputs": [
    {
     "ename": "NameError",
     "evalue": "name 'data' is not defined",
     "output_type": "error",
     "traceback": [
      "\u001b[1;31m---------------------------------------------------------------------------\u001b[0m",
      "\u001b[1;31mNameError\u001b[0m                                 Traceback (most recent call last)",
      "\u001b[1;32m<ipython-input-4-84cfba363843>\u001b[0m in \u001b[0;36m<module>\u001b[1;34m\u001b[0m\n\u001b[1;32m----> 1\u001b[1;33m \u001b[0mdf\u001b[0m \u001b[1;33m=\u001b[0m \u001b[0mpd\u001b[0m\u001b[1;33m.\u001b[0m\u001b[0mio\u001b[0m\u001b[1;33m.\u001b[0m\u001b[0mjson\u001b[0m\u001b[1;33m.\u001b[0m\u001b[0mjson_normalize\u001b[0m\u001b[1;33m(\u001b[0m\u001b[0mdata\u001b[0m\u001b[1;33m)\u001b[0m\u001b[1;33m\u001b[0m\u001b[1;33m\u001b[0m\u001b[0m\n\u001b[0m",
      "\u001b[1;31mNameError\u001b[0m: name 'data' is not defined"
     ]
    }
   ],
   "source": [
    "df = pd.io.json.json_normalize(data)"
   ]
  },
  {
   "cell_type": "code",
   "execution_count": null,
   "metadata": {},
   "outputs": [],
   "source": [
    "df"
   ]
  },
  {
   "cell_type": "code",
   "execution_count": null,
   "metadata": {},
   "outputs": [],
   "source": [
    "\n",
    "\n",
    "\n",
    "    "
   ]
  }
 ],
 "metadata": {
  "kernelspec": {
   "display_name": "Python 3",
   "language": "python",
   "name": "python3"
  },
  "language_info": {
   "codemirror_mode": {
    "name": "ipython",
    "version": 3
   },
   "file_extension": ".py",
   "mimetype": "text/x-python",
   "name": "python",
   "nbconvert_exporter": "python",
   "pygments_lexer": "ipython3",
   "version": "3.7.3-final"
  }
 },
 "nbformat": 4,
 "nbformat_minor": 2
}