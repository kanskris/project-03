{
 "cells": [
  {
   "cell_type": "code",
   "execution_count": 1,
   "metadata": {},
   "outputs": [],
   "source": [
    "import pandas as pd\n",
    "import numpy as np\n",
    "import matplotlib.pyplot as plt"
   ]
  },
  {
   "cell_type": "code",
   "execution_count": null,
   "metadata": {},
   "outputs": [],
   "source": [
    "#read the file\n",
    "df = pd.read_json (r'VEEV.json')\n",
    "\n",
    "#print the head\n",
    "df"
   ]
  },
  {
   "cell_type": "code",
   "execution_count": null,
   "metadata": {},
   "outputs": [],
   "source": [
    "df['t'] = pd.to_datetime(df['t'], unit='s')\n",
    "df = df.rename(columns={'c': 'Close', 'h': 'High', 'l':'Low',  'o': 'Open', 's': 'Status', 't': 'Date', 'v': 'Volume'})\n",
    "df.head()"
   ]
  },
  {
   "cell_type": "markdown",
   "metadata": {},
   "source": [
    "# Linear Regression"
   ]
  },
  {
   "cell_type": "code",
   "execution_count": 2,
   "metadata": {},
   "outputs": [
    {
     "data": {
      "text/html": [
       "<div>\n",
       "<style scoped>\n",
       "    .dataframe tbody tr th:only-of-type {\n",
       "        vertical-align: middle;\n",
       "    }\n",
       "\n",
       "    .dataframe tbody tr th {\n",
       "        vertical-align: top;\n",
       "    }\n",
       "\n",
       "    .dataframe thead th {\n",
       "        text-align: right;\n",
       "    }\n",
       "</style>\n",
       "<table border=\"1\" class=\"dataframe\">\n",
       "  <thead>\n",
       "    <tr style=\"text-align: right;\">\n",
       "      <th></th>\n",
       "      <th>c</th>\n",
       "      <th>h</th>\n",
       "      <th>l</th>\n",
       "      <th>o</th>\n",
       "      <th>s</th>\n",
       "      <th>t</th>\n",
       "      <th>v</th>\n",
       "    </tr>\n",
       "  </thead>\n",
       "  <tbody>\n",
       "    <tr>\n",
       "      <th>0</th>\n",
       "      <td>63.98</td>\n",
       "      <td>64.97</td>\n",
       "      <td>63.27</td>\n",
       "      <td>63.65</td>\n",
       "      <td>ok</td>\n",
       "      <td>1499866200</td>\n",
       "      <td>1606200</td>\n",
       "    </tr>\n",
       "    <tr>\n",
       "      <th>1</th>\n",
       "      <td>63.60</td>\n",
       "      <td>63.97</td>\n",
       "      <td>62.57</td>\n",
       "      <td>63.97</td>\n",
       "      <td>ok</td>\n",
       "      <td>1499952600</td>\n",
       "      <td>1100200</td>\n",
       "    </tr>\n",
       "    <tr>\n",
       "      <th>2</th>\n",
       "      <td>64.25</td>\n",
       "      <td>64.72</td>\n",
       "      <td>63.01</td>\n",
       "      <td>63.60</td>\n",
       "      <td>ok</td>\n",
       "      <td>1500039000</td>\n",
       "      <td>1147600</td>\n",
       "    </tr>\n",
       "    <tr>\n",
       "      <th>3</th>\n",
       "      <td>63.85</td>\n",
       "      <td>64.86</td>\n",
       "      <td>63.15</td>\n",
       "      <td>64.68</td>\n",
       "      <td>ok</td>\n",
       "      <td>1500298200</td>\n",
       "      <td>1021100</td>\n",
       "    </tr>\n",
       "    <tr>\n",
       "      <th>4</th>\n",
       "      <td>63.08</td>\n",
       "      <td>63.75</td>\n",
       "      <td>62.74</td>\n",
       "      <td>63.41</td>\n",
       "      <td>ok</td>\n",
       "      <td>1500384600</td>\n",
       "      <td>1098900</td>\n",
       "    </tr>\n",
       "    <tr>\n",
       "      <th>...</th>\n",
       "      <td>...</td>\n",
       "      <td>...</td>\n",
       "      <td>...</td>\n",
       "      <td>...</td>\n",
       "      <td>...</td>\n",
       "      <td>...</td>\n",
       "      <td>...</td>\n",
       "    </tr>\n",
       "    <tr>\n",
       "      <th>684</th>\n",
       "      <td>156.37</td>\n",
       "      <td>159.12</td>\n",
       "      <td>154.48</td>\n",
       "      <td>156.87</td>\n",
       "      <td>ok</td>\n",
       "      <td>1585661400</td>\n",
       "      <td>1738200</td>\n",
       "    </tr>\n",
       "    <tr>\n",
       "      <th>685</th>\n",
       "      <td>153.51</td>\n",
       "      <td>159.48</td>\n",
       "      <td>149.00</td>\n",
       "      <td>150.34</td>\n",
       "      <td>ok</td>\n",
       "      <td>1585747800</td>\n",
       "      <td>1589800</td>\n",
       "    </tr>\n",
       "    <tr>\n",
       "      <th>686</th>\n",
       "      <td>156.16</td>\n",
       "      <td>158.59</td>\n",
       "      <td>148.25</td>\n",
       "      <td>148.52</td>\n",
       "      <td>ok</td>\n",
       "      <td>1585834200</td>\n",
       "      <td>1281900</td>\n",
       "    </tr>\n",
       "    <tr>\n",
       "      <th>687</th>\n",
       "      <td>150.11</td>\n",
       "      <td>157.72</td>\n",
       "      <td>148.50</td>\n",
       "      <td>154.75</td>\n",
       "      <td>ok</td>\n",
       "      <td>1585920600</td>\n",
       "      <td>1587100</td>\n",
       "    </tr>\n",
       "    <tr>\n",
       "      <th>688</th>\n",
       "      <td>156.81</td>\n",
       "      <td>157.62</td>\n",
       "      <td>151.87</td>\n",
       "      <td>152.39</td>\n",
       "      <td>ok</td>\n",
       "      <td>1586131200</td>\n",
       "      <td>1092500</td>\n",
       "    </tr>\n",
       "  </tbody>\n",
       "</table>\n",
       "<p>689 rows × 7 columns</p>\n",
       "</div>"
      ],
      "text/plain": [
       "          c       h       l       o   s           t        v\n",
       "0     63.98   64.97   63.27   63.65  ok  1499866200  1606200\n",
       "1     63.60   63.97   62.57   63.97  ok  1499952600  1100200\n",
       "2     64.25   64.72   63.01   63.60  ok  1500039000  1147600\n",
       "3     63.85   64.86   63.15   64.68  ok  1500298200  1021100\n",
       "4     63.08   63.75   62.74   63.41  ok  1500384600  1098900\n",
       "..      ...     ...     ...     ...  ..         ...      ...\n",
       "684  156.37  159.12  154.48  156.87  ok  1585661400  1738200\n",
       "685  153.51  159.48  149.00  150.34  ok  1585747800  1589800\n",
       "686  156.16  158.59  148.25  148.52  ok  1585834200  1281900\n",
       "687  150.11  157.72  148.50  154.75  ok  1585920600  1587100\n",
       "688  156.81  157.62  151.87  152.39  ok  1586131200  1092500\n",
       "\n",
       "[689 rows x 7 columns]"
      ]
     },
     "execution_count": 2,
     "metadata": {},
     "output_type": "execute_result"
    }
   ],
   "source": [
    "#read the file\n",
    "df = pd.read_json (r'VEEV.json')\n",
    "\n",
    "#print the head\n",
    "df"
   ]
  },
  {
   "cell_type": "code",
   "execution_count": 3,
   "metadata": {},
   "outputs": [],
   "source": [
    "df['t'] = pd.to_datetime(df['t'], unit='s')"
   ]
  },
  {
   "cell_type": "code",
   "execution_count": 4,
   "metadata": {},
   "outputs": [
    {
     "name": "stdout",
     "output_type": "stream",
     "text": [
      "(689, 1) (689, 1)\n"
     ]
    }
   ],
   "source": [
    "X = df[['t']]\n",
    "y = df['c'].values.reshape(-1, 1)\n",
    "print(X.shape, y.shape)"
   ]
  },
  {
   "cell_type": "code",
   "execution_count": 5,
   "metadata": {},
   "outputs": [
    {
     "data": {
      "text/html": [
       "<div>\n",
       "<style scoped>\n",
       "    .dataframe tbody tr th:only-of-type {\n",
       "        vertical-align: middle;\n",
       "    }\n",
       "\n",
       "    .dataframe tbody tr th {\n",
       "        vertical-align: top;\n",
       "    }\n",
       "\n",
       "    .dataframe thead th {\n",
       "        text-align: right;\n",
       "    }\n",
       "</style>\n",
       "<table border=\"1\" class=\"dataframe\">\n",
       "  <thead>\n",
       "    <tr style=\"text-align: right;\">\n",
       "      <th></th>\n",
       "      <th>t</th>\n",
       "    </tr>\n",
       "  </thead>\n",
       "  <tbody>\n",
       "    <tr>\n",
       "      <th>0</th>\n",
       "      <td>2017-07-12 13:30:00</td>\n",
       "    </tr>\n",
       "    <tr>\n",
       "      <th>1</th>\n",
       "      <td>2017-07-13 13:30:00</td>\n",
       "    </tr>\n",
       "    <tr>\n",
       "      <th>2</th>\n",
       "      <td>2017-07-14 13:30:00</td>\n",
       "    </tr>\n",
       "    <tr>\n",
       "      <th>3</th>\n",
       "      <td>2017-07-17 13:30:00</td>\n",
       "    </tr>\n",
       "    <tr>\n",
       "      <th>4</th>\n",
       "      <td>2017-07-18 13:30:00</td>\n",
       "    </tr>\n",
       "  </tbody>\n",
       "</table>\n",
       "</div>"
      ],
      "text/plain": [
       "                    t\n",
       "0 2017-07-12 13:30:00\n",
       "1 2017-07-13 13:30:00\n",
       "2 2017-07-14 13:30:00\n",
       "3 2017-07-17 13:30:00\n",
       "4 2017-07-18 13:30:00"
      ]
     },
     "execution_count": 5,
     "metadata": {},
     "output_type": "execute_result"
    }
   ],
   "source": [
    "data = X.copy()\n",
    "\n",
    "data_binary_encoded = pd.get_dummies(data)\n",
    "data_binary_encoded.head()"
   ]
  },
  {
   "cell_type": "code",
   "execution_count": 6,
   "metadata": {},
   "outputs": [
    {
     "data": {
      "text/html": [
       "<div>\n",
       "<style scoped>\n",
       "    .dataframe tbody tr th:only-of-type {\n",
       "        vertical-align: middle;\n",
       "    }\n",
       "\n",
       "    .dataframe tbody tr th {\n",
       "        vertical-align: top;\n",
       "    }\n",
       "\n",
       "    .dataframe thead th {\n",
       "        text-align: right;\n",
       "    }\n",
       "</style>\n",
       "<table border=\"1\" class=\"dataframe\">\n",
       "  <thead>\n",
       "    <tr style=\"text-align: right;\">\n",
       "      <th></th>\n",
       "      <th>t</th>\n",
       "    </tr>\n",
       "  </thead>\n",
       "  <tbody>\n",
       "    <tr>\n",
       "      <th>645</th>\n",
       "      <td>2020-02-04 14:30:00</td>\n",
       "    </tr>\n",
       "    <tr>\n",
       "      <th>163</th>\n",
       "      <td>2018-03-06 14:30:00</td>\n",
       "    </tr>\n",
       "    <tr>\n",
       "      <th>380</th>\n",
       "      <td>2019-01-15 14:30:00</td>\n",
       "    </tr>\n",
       "    <tr>\n",
       "      <th>602</th>\n",
       "      <td>2019-12-02 14:30:00</td>\n",
       "    </tr>\n",
       "    <tr>\n",
       "      <th>431</th>\n",
       "      <td>2019-03-29 13:30:00</td>\n",
       "    </tr>\n",
       "  </tbody>\n",
       "</table>\n",
       "</div>"
      ],
      "text/plain": [
       "                      t\n",
       "645 2020-02-04 14:30:00\n",
       "163 2018-03-06 14:30:00\n",
       "380 2019-01-15 14:30:00\n",
       "602 2019-12-02 14:30:00\n",
       "431 2019-03-29 13:30:00"
      ]
     },
     "execution_count": 6,
     "metadata": {},
     "output_type": "execute_result"
    }
   ],
   "source": [
    "from sklearn.model_selection import train_test_split\n",
    "\n",
    "X = pd.get_dummies(X)\n",
    "\n",
    "X_train, X_test, y_train, y_test = train_test_split(X, y, random_state=42)\n",
    "\n",
    "X_train.head()"
   ]
  },
  {
   "cell_type": "code",
   "execution_count": 7,
   "metadata": {},
   "outputs": [],
   "source": [
    "from sklearn.preprocessing import StandardScaler\n",
    "X_scaler = StandardScaler().fit(X_train)\n",
    "y_scaler = StandardScaler().fit(y_train)"
   ]
  },
  {
   "cell_type": "code",
   "execution_count": 8,
   "metadata": {},
   "outputs": [],
   "source": [
    "X_train_scaled = X_scaler.transform(X_train)\n",
    "X_test_scaled = X_scaler.transform(X_test)\n",
    "y_train_scaled = y_scaler.transform(y_train)\n",
    "y_test_scaled = y_scaler.transform(y_test)"
   ]
  },
  {
   "cell_type": "code",
   "execution_count": 10,
   "metadata": {},
   "outputs": [
    {
     "data": {
      "image/png": "[encoded data removed]",
      "text/plain": [
       "<Figure size 432x288 with 1 Axes>"
      ]
     },
     "metadata": {
      "needs_background": "light"
     },
     "output_type": "display_data"
    }
   ],
   "source": [
    "from sklearn.linear_model import LinearRegression\n",
    "model = LinearRegression()\n",
    "model.fit(X_train_scaled, y_train_scaled)\n",
    "plt.scatter(model.predict(X_train_scaled), model.predict(X_train_scaled) - y_train_scaled, c=\"blue\", label=\"Training Data\")\n",
    "plt.scatter(model.predict(X_test_scaled), model.predict(X_test_scaled) - y_test_scaled, c=\"orange\", label=\"Testing Data\")\n",
    "plt.legend()\n",
    "plt.hlines(y=0, xmin=y_test_scaled.min(), xmax=y_test_scaled.max())\n",
    "plt.title(\"Residual Plot\")\n",
    "plt.show()"
   ]
  },
  {
   "cell_type": "code",
   "execution_count": 12,
   "metadata": {},
   "outputs": [
    {
     "data": {
      "text/plain": [
       "array([[-0.29236515],\n",
       "       [ 1.46906011],\n",
       "       [-0.42634076],\n",
       "       [-0.06022245],\n",
       "       [-0.13878335],\n",
       "       [-0.64200881],\n",
       "       [ 1.31221062],\n",
       "       [-0.8119291 ],\n",
       "       [ 1.07680023],\n",
       "       [-0.42960846],\n",
       "       [ 1.54081331],\n",
       "       [-0.86080841],\n",
       "       [ 1.46579242],\n",
       "       [-1.27920988],\n",
       "       [ 1.5604195 ],\n",
       "       [ 0.85786447],\n",
       "       [ 0.43959916],\n",
       "       [-0.24988508],\n",
       "       [ 1.41677695],\n",
       "       [ 0.23713805],\n",
       "       [ 0.03454078],\n",
       "       [-0.06675785],\n",
       "       [-0.27275896],\n",
       "       [ 0.73695966],\n",
       "       [-0.31523903],\n",
       "       [-0.10283868],\n",
       "       [-0.45575004],\n",
       "       [-1.39031161],\n",
       "       [ 1.49846939],\n",
       "       [-0.06349015],\n",
       "       [-1.00785481],\n",
       "       [ 0.73042426],\n",
       "       [-0.99805172],\n",
       "       [-1.13529502],\n",
       "       [ 0.57684246],\n",
       "       [-0.52763939],\n",
       "       [-0.63874111],\n",
       "       [ 0.302492  ],\n",
       "       [-0.49169471],\n",
       "       [-1.0176579 ],\n",
       "       [-0.45901774],\n",
       "       [-1.30535146],\n",
       "       [ 0.02473769],\n",
       "       [ 1.04085555],\n",
       "       [ 1.39390307],\n",
       "       [ 1.12595185],\n",
       "       [ 1.47232781],\n",
       "       [ 0.27961812],\n",
       "       [-1.29228067],\n",
       "       [ 0.62259023],\n",
       "       [-0.33484522],\n",
       "       [-1.22679056],\n",
       "       [ 0.31883049],\n",
       "       [-1.59617657],\n",
       "       [-1.34783153],\n",
       "       [ 0.1652487 ],\n",
       "       [ 0.94282462],\n",
       "       [-0.03408087],\n",
       "       [ 1.43965083],\n",
       "       [ 0.78597512],\n",
       "       [-1.50141333],\n",
       "       [-0.60606414],\n",
       "       [ 1.16516422],\n",
       "       [-1.28247758],\n",
       "       [ 1.22071508],\n",
       "       [ 1.05065864],\n",
       "       [-0.65181191],\n",
       "       [-1.38704391],\n",
       "       [-1.00131941],\n",
       "       [-0.17799573],\n",
       "       [-0.56685176],\n",
       "       [-1.63538894],\n",
       "       [ 0.50168541],\n",
       "       [-1.26940679],\n",
       "       [-0.2172081 ],\n",
       "       [ 1.60289957],\n",
       "       [-0.13224796],\n",
       "       [ 1.16843192],\n",
       "       [-1.07320877],\n",
       "       [ 1.53754561],\n",
       "       [-0.47208853],\n",
       "       [ 1.44618623],\n",
       "       [ 1.5636872 ],\n",
       "       [ 1.26646285],\n",
       "       [-1.0209256 ],\n",
       "       [ 0.05741467],\n",
       "       [-1.36417002],\n",
       "       [-0.93923316],\n",
       "       [-1.50468103],\n",
       "       [-1.32168995],\n",
       "       [ 1.21744738],\n",
       "       [-0.58645795],\n",
       "       [-1.43605937],\n",
       "       [ 0.85132908],\n",
       "       [-1.31842225],\n",
       "       [-0.77598442],\n",
       "       [-0.86407611],\n",
       "       [ 1.3481553 ],\n",
       "       [ 0.04434388],\n",
       "       [ 1.47559551],\n",
       "       [ 0.64219642],\n",
       "       [-0.12898026],\n",
       "       [-0.46882083],\n",
       "       [ 0.89380915],\n",
       "       [-1.34129614],\n",
       "       [ 1.28280134],\n",
       "       [-1.41318549],\n",
       "       [-1.08954725],\n",
       "       [-0.39039608],\n",
       "       [-1.45893326],\n",
       "       [ 1.26973055],\n",
       "       [-0.73023665],\n",
       "       [-1.61578275],\n",
       "       [-1.167972  ],\n",
       "       [-0.90655618],\n",
       "       [-0.24334968],\n",
       "       [-0.54724558],\n",
       "       [-0.70082737],\n",
       "       [-0.29890054],\n",
       "       [-0.95557165],\n",
       "       [-0.03734857],\n",
       "       [ 0.06721776],\n",
       "       [-0.63547342],\n",
       "       [ 1.60616727],\n",
       "       [ 0.68467649],\n",
       "       [-1.24639675],\n",
       "       [ 0.03127309],\n",
       "       [ 1.24358897],\n",
       "       [ 0.83499059],\n",
       "       [-1.45239786],\n",
       "       [-1.13856272],\n",
       "       [ 1.38409997],\n",
       "       [-1.38377621],\n",
       "       [-0.07002554],\n",
       "       [ 0.75983354],\n",
       "       [-1.53082261],\n",
       "       [-0.89021769],\n",
       "       [ 0.80884901],\n",
       "       [-0.33157752],\n",
       "       [-1.13202733],\n",
       "       [-1.25946754],\n",
       "       [-1.40665009],\n",
       "       [-0.61259953],\n",
       "       [ 0.9689662 ],\n",
       "       [ 0.46574074],\n",
       "       [-0.26295587],\n",
       "       [-0.15838954],\n",
       "       [ 0.88073836],\n",
       "       [-1.55696419],\n",
       "       [ 0.74349505],\n",
       "       [ 0.6650703 ],\n",
       "       [ 1.08006792],\n",
       "       [ 1.23378587],\n",
       "       [-1.36090233],\n",
       "       [ 0.76310124],\n",
       "       [ 0.73369196],\n",
       "       [-1.50794873],\n",
       "       [-0.77925212],\n",
       "       [ 0.3090274 ],\n",
       "       [ 1.58329338],\n",
       "       [ 1.13248724],\n",
       "       [ 0.39711909],\n",
       "       [ 0.95916311],\n",
       "       [ 0.07375316],\n",
       "       [-0.04715166],\n",
       "       [ 0.14564251],\n",
       "       [ 0.3709775 ],\n",
       "       [ 1.1880381 ],\n",
       "       [ 0.04761158],\n",
       "       [-0.62893802],\n",
       "       [ 1.3350845 ],\n",
       "       [ 0.21099647],\n",
       "       [-0.81846449]])"
      ]
     },
     "execution_count": 12,
     "metadata": {},
     "output_type": "execute_result"
    }
   ],
   "source": [
    "predictions = model.predict(X_test_scaled)\n",
    "predictions"
   ]
  },
  {
   "cell_type": "code",
   "execution_count": 13,
   "metadata": {},
   "outputs": [],
   "source": [
    "from scipy import stats\n",
    "confidence = 0.95\n",
    "squared_errors = (predictions - y_test_scaled) ** 2 #y_test is real values, final_predictions is predicted values of y\n",
    "ci = np.sqrt(stats.t.interval(confidence, len(squared_errors) - 1, loc=squared_errors.mean(), scale=stats.sem(squared_errors)))"
   ]
  },
  {
   "cell_type": "code",
   "execution_count": 14,
   "metadata": {},
   "outputs": [
    {
     "data": {
      "text/plain": [
       "array([[0.324584  ],\n",
       "       [0.41752915]])"
      ]
     },
     "execution_count": 14,
     "metadata": {},
     "output_type": "execute_result"
    }
   ],
   "source": [
    "ci"
   ]
  },
  {
   "cell_type": "code",
   "execution_count": null,
   "metadata": {},
   "outputs": [],
   "source": []
  },
  {
   "cell_type": "code",
   "execution_count": null,
   "metadata": {},
   "outputs": [],
   "source": [
    "new_data['mon_fri'] = 0\n",
    "for i in range(0,len(new_data)):\n",
    "    if (new_data['Dayofweek'][i] == 0 or new_data['Dayofweek'][i] == 4):\n",
    "        new_data['mon_fri'][i] = 1\n",
    "    else:\n",
    "        new_data['mon_fri'][i] = 0"
   ]
  },
  {
   "cell_type": "code",
   "execution_count": null,
   "metadata": {},
   "outputs": [],
   "source": [
    "#split into train and validation\n",
    "train = new_data[:987]\n",
    "valid = new_data[987:]\n",
    "\n",
    "x_train = train.drop('Close', axis=1)\n",
    "y_train = train['Close']\n",
    "x_valid = valid.drop('Close', axis=1)\n",
    "y_valid = valid['Close']\n",
    "\n",
    "#implement linear regression\n",
    "from sklearn.linear_model import LinearRegression\n",
    "model = LinearRegression()\n",
    "model.fit(x_train,y_train)"
   ]
  },
  {
   "cell_type": "code",
   "execution_count": null,
   "metadata": {},
   "outputs": [],
   "source": [
    "#make predictions and find the rmse\n",
    "preds = model.predict(X_test_scaled)\n",
    "rms=np.sqrt(np.mean(np.power((np.array(y_test_scaled)-np.array(preds)),2)))\n",
    "rms"
   ]
  },
  {
   "cell_type": "code",
   "execution_count": null,
   "metadata": {},
   "outputs": [],
   "source": [
    "from sklearn.metrics import mean_squared_error\n",
    "\n",
    "predictions = model.predict(X_test_scaled)\n",
    "MSE = mean_squared_error(y_test_scaled, predictions)\n",
    "r2 = model.score(X_test_scaled, y_test_scaled)\n",
    "\n",
    "print(f\"MSE: {MSE}, R2: {r2}\")"
   ]
  },
  {
   "cell_type": "code",
   "execution_count": null,
   "metadata": {},
   "outputs": [],
   "source": [
    "#plot\n",
    "valid['Predictions'] = 0\n",
    "valid['Predictions'] = preds\n",
    "\n",
    "valid.index = new_data[987:].index\n",
    "train.index = new_data[:987].index\n",
    "\n",
    "plt.plot(train['Close'])\n",
    "plt.plot(valid[['Close', 'Predictions']])"
   ]
  },
  {
   "cell_type": "markdown",
   "metadata": {},
   "source": [
    "# K-Nearest Neighbours"
   ]
  },
  {
   "cell_type": "code",
   "execution_count": 15,
   "metadata": {},
   "outputs": [],
   "source": [
    "import matplotlib.pyplot as plt\n",
    "from sklearn.datasets import load_iris\n",
    "from sklearn.model_selection import train_test_split\n",
    "from sklearn.neighbors import KNeighborsClassifier\n",
    "from sklearn.metrics import accuracy_score"
   ]
  },
  {
   "cell_type": "code",
   "execution_count": 16,
   "metadata": {},
   "outputs": [
    {
     "data": {
      "text/html": [
       "<div>\n",
       "<style scoped>\n",
       "    .dataframe tbody tr th:only-of-type {\n",
       "        vertical-align: middle;\n",
       "    }\n",
       "\n",
       "    .dataframe tbody tr th {\n",
       "        vertical-align: top;\n",
       "    }\n",
       "\n",
       "    .dataframe thead th {\n",
       "        text-align: right;\n",
       "    }\n",
       "</style>\n",
       "<table border=\"1\" class=\"dataframe\">\n",
       "  <thead>\n",
       "    <tr style=\"text-align: right;\">\n",
       "      <th></th>\n",
       "      <th>c</th>\n",
       "      <th>h</th>\n",
       "      <th>l</th>\n",
       "      <th>o</th>\n",
       "      <th>s</th>\n",
       "      <th>t</th>\n",
       "      <th>v</th>\n",
       "    </tr>\n",
       "  </thead>\n",
       "  <tbody>\n",
       "    <tr>\n",
       "      <th>0</th>\n",
       "      <td>63.98</td>\n",
       "      <td>64.97</td>\n",
       "      <td>63.27</td>\n",
       "      <td>63.65</td>\n",
       "      <td>ok</td>\n",
       "      <td>1499866200</td>\n",
       "      <td>1606200</td>\n",
       "    </tr>\n",
       "    <tr>\n",
       "      <th>1</th>\n",
       "      <td>63.60</td>\n",
       "      <td>63.97</td>\n",
       "      <td>62.57</td>\n",
       "      <td>63.97</td>\n",
       "      <td>ok</td>\n",
       "      <td>1499952600</td>\n",
       "      <td>1100200</td>\n",
       "    </tr>\n",
       "    <tr>\n",
       "      <th>2</th>\n",
       "      <td>64.25</td>\n",
       "      <td>64.72</td>\n",
       "      <td>63.01</td>\n",
       "      <td>63.60</td>\n",
       "      <td>ok</td>\n",
       "      <td>1500039000</td>\n",
       "      <td>1147600</td>\n",
       "    </tr>\n",
       "    <tr>\n",
       "      <th>3</th>\n",
       "      <td>63.85</td>\n",
       "      <td>64.86</td>\n",
       "      <td>63.15</td>\n",
       "      <td>64.68</td>\n",
       "      <td>ok</td>\n",
       "      <td>1500298200</td>\n",
       "      <td>1021100</td>\n",
       "    </tr>\n",
       "    <tr>\n",
       "      <th>4</th>\n",
       "      <td>63.08</td>\n",
       "      <td>63.75</td>\n",
       "      <td>62.74</td>\n",
       "      <td>63.41</td>\n",
       "      <td>ok</td>\n",
       "      <td>1500384600</td>\n",
       "      <td>1098900</td>\n",
       "    </tr>\n",
       "    <tr>\n",
       "      <th>...</th>\n",
       "      <td>...</td>\n",
       "      <td>...</td>\n",
       "      <td>...</td>\n",
       "      <td>...</td>\n",
       "      <td>...</td>\n",
       "      <td>...</td>\n",
       "      <td>...</td>\n",
       "    </tr>\n",
       "    <tr>\n",
       "      <th>684</th>\n",
       "      <td>156.37</td>\n",
       "      <td>159.12</td>\n",
       "      <td>154.48</td>\n",
       "      <td>156.87</td>\n",
       "      <td>ok</td>\n",
       "      <td>1585661400</td>\n",
       "      <td>1738200</td>\n",
       "    </tr>\n",
       "    <tr>\n",
       "      <th>685</th>\n",
       "      <td>153.51</td>\n",
       "      <td>159.48</td>\n",
       "      <td>149.00</td>\n",
       "      <td>150.34</td>\n",
       "      <td>ok</td>\n",
       "      <td>1585747800</td>\n",
       "      <td>1589800</td>\n",
       "    </tr>\n",
       "    <tr>\n",
       "      <th>686</th>\n",
       "      <td>156.16</td>\n",
       "      <td>158.59</td>\n",
       "      <td>148.25</td>\n",
       "      <td>148.52</td>\n",
       "      <td>ok</td>\n",
       "      <td>1585834200</td>\n",
       "      <td>1281900</td>\n",
       "    </tr>\n",
       "    <tr>\n",
       "      <th>687</th>\n",
       "      <td>150.11</td>\n",
       "      <td>157.72</td>\n",
       "      <td>148.50</td>\n",
       "      <td>154.75</td>\n",
       "      <td>ok</td>\n",
       "      <td>1585920600</td>\n",
       "      <td>1587100</td>\n",
       "    </tr>\n",
       "    <tr>\n",
       "      <th>688</th>\n",
       "      <td>156.81</td>\n",
       "      <td>157.62</td>\n",
       "      <td>151.87</td>\n",
       "      <td>152.39</td>\n",
       "      <td>ok</td>\n",
       "      <td>1586131200</td>\n",
       "      <td>1092500</td>\n",
       "    </tr>\n",
       "  </tbody>\n",
       "</table>\n",
       "<p>689 rows × 7 columns</p>\n",
       "</div>"
      ],
      "text/plain": [
       "          c       h       l       o   s           t        v\n",
       "0     63.98   64.97   63.27   63.65  ok  1499866200  1606200\n",
       "1     63.60   63.97   62.57   63.97  ok  1499952600  1100200\n",
       "2     64.25   64.72   63.01   63.60  ok  1500039000  1147600\n",
       "3     63.85   64.86   63.15   64.68  ok  1500298200  1021100\n",
       "4     63.08   63.75   62.74   63.41  ok  1500384600  1098900\n",
       "..      ...     ...     ...     ...  ..         ...      ...\n",
       "684  156.37  159.12  154.48  156.87  ok  1585661400  1738200\n",
       "685  153.51  159.48  149.00  150.34  ok  1585747800  1589800\n",
       "686  156.16  158.59  148.25  148.52  ok  1585834200  1281900\n",
       "687  150.11  157.72  148.50  154.75  ok  1585920600  1587100\n",
       "688  156.81  157.62  151.87  152.39  ok  1586131200  1092500\n",
       "\n",
       "[689 rows x 7 columns]"
      ]
     },
     "execution_count": 16,
     "metadata": {},
     "output_type": "execute_result"
    }
   ],
   "source": [
    "#read the file\n",
    "df = pd.read_json (r'VEEV.json')\n",
    "\n",
    "#print the head\n",
    "df"
   ]
  },
  {
   "cell_type": "code",
   "execution_count": 17,
   "metadata": {},
   "outputs": [
    {
     "data": {
      "text/html": [
       "<div>\n",
       "<style scoped>\n",
       "    .dataframe tbody tr th:only-of-type {\n",
       "        vertical-align: middle;\n",
       "    }\n",
       "\n",
       "    .dataframe tbody tr th {\n",
       "        vertical-align: top;\n",
       "    }\n",
       "\n",
       "    .dataframe thead th {\n",
       "        text-align: right;\n",
       "    }\n",
       "</style>\n",
       "<table border=\"1\" class=\"dataframe\">\n",
       "  <thead>\n",
       "    <tr style=\"text-align: right;\">\n",
       "      <th></th>\n",
       "      <th>Close</th>\n",
       "      <th>High</th>\n",
       "      <th>Low</th>\n",
       "      <th>Open</th>\n",
       "      <th>Status</th>\n",
       "      <th>Date</th>\n",
       "      <th>Volume</th>\n",
       "    </tr>\n",
       "  </thead>\n",
       "  <tbody>\n",
       "    <tr>\n",
       "      <th>0</th>\n",
       "      <td>63.98</td>\n",
       "      <td>64.97</td>\n",
       "      <td>63.27</td>\n",
       "      <td>63.65</td>\n",
       "      <td>ok</td>\n",
       "      <td>2017-07-12 13:30:00</td>\n",
       "      <td>1606200</td>\n",
       "    </tr>\n",
       "    <tr>\n",
       "      <th>1</th>\n",
       "      <td>63.60</td>\n",
       "      <td>63.97</td>\n",
       "      <td>62.57</td>\n",
       "      <td>63.97</td>\n",
       "      <td>ok</td>\n",
       "      <td>2017-07-13 13:30:00</td>\n",
       "      <td>1100200</td>\n",
       "    </tr>\n",
       "    <tr>\n",
       "      <th>2</th>\n",
       "      <td>64.25</td>\n",
       "      <td>64.72</td>\n",
       "      <td>63.01</td>\n",
       "      <td>63.60</td>\n",
       "      <td>ok</td>\n",
       "      <td>2017-07-14 13:30:00</td>\n",
       "      <td>1147600</td>\n",
       "    </tr>\n",
       "    <tr>\n",
       "      <th>3</th>\n",
       "      <td>63.85</td>\n",
       "      <td>64.86</td>\n",
       "      <td>63.15</td>\n",
       "      <td>64.68</td>\n",
       "      <td>ok</td>\n",
       "      <td>2017-07-17 13:30:00</td>\n",
       "      <td>1021100</td>\n",
       "    </tr>\n",
       "    <tr>\n",
       "      <th>4</th>\n",
       "      <td>63.08</td>\n",
       "      <td>63.75</td>\n",
       "      <td>62.74</td>\n",
       "      <td>63.41</td>\n",
       "      <td>ok</td>\n",
       "      <td>2017-07-18 13:30:00</td>\n",
       "      <td>1098900</td>\n",
       "    </tr>\n",
       "  </tbody>\n",
       "</table>\n",
       "</div>"
      ],
      "text/plain": [
       "   Close   High    Low   Open Status                Date   Volume\n",
       "0  63.98  64.97  63.27  63.65     ok 2017-07-12 13:30:00  1606200\n",
       "1  63.60  63.97  62.57  63.97     ok 2017-07-13 13:30:00  1100200\n",
       "2  64.25  64.72  63.01  63.60     ok 2017-07-14 13:30:00  1147600\n",
       "3  63.85  64.86  63.15  64.68     ok 2017-07-17 13:30:00  1021100\n",
       "4  63.08  63.75  62.74  63.41     ok 2017-07-18 13:30:00  1098900"
      ]
     },
     "execution_count": 17,
     "metadata": {},
     "output_type": "execute_result"
    }
   ],
   "source": [
    "df['t'] = pd.to_datetime(df['t'], unit='s')\n",
    "df = df.rename(columns={'c': 'Close', 'h': 'High', 'l':'Low',  'o': 'Open', 's': 'Status', 't': 'Date', 'v': 'Volume'})\n",
    "df.head()"
   ]
  },
  {
   "cell_type": "code",
   "execution_count": 18,
   "metadata": {},
   "outputs": [
    {
     "data": {
      "text/html": [
       "<div>\n",
       "<style scoped>\n",
       "    .dataframe tbody tr th:only-of-type {\n",
       "        vertical-align: middle;\n",
       "    }\n",
       "\n",
       "    .dataframe tbody tr th {\n",
       "        vertical-align: top;\n",
       "    }\n",
       "\n",
       "    .dataframe thead th {\n",
       "        text-align: right;\n",
       "    }\n",
       "</style>\n",
       "<table border=\"1\" class=\"dataframe\">\n",
       "  <thead>\n",
       "    <tr style=\"text-align: right;\">\n",
       "      <th></th>\n",
       "      <th>Open-Close</th>\n",
       "      <th>High-Low</th>\n",
       "    </tr>\n",
       "  </thead>\n",
       "  <tbody>\n",
       "    <tr>\n",
       "      <th>0</th>\n",
       "      <td>-0.33</td>\n",
       "      <td>1.70</td>\n",
       "    </tr>\n",
       "    <tr>\n",
       "      <th>1</th>\n",
       "      <td>0.37</td>\n",
       "      <td>1.40</td>\n",
       "    </tr>\n",
       "    <tr>\n",
       "      <th>2</th>\n",
       "      <td>-0.65</td>\n",
       "      <td>1.71</td>\n",
       "    </tr>\n",
       "    <tr>\n",
       "      <th>3</th>\n",
       "      <td>0.83</td>\n",
       "      <td>1.71</td>\n",
       "    </tr>\n",
       "    <tr>\n",
       "      <th>4</th>\n",
       "      <td>0.33</td>\n",
       "      <td>1.01</td>\n",
       "    </tr>\n",
       "  </tbody>\n",
       "</table>\n",
       "</div>"
      ],
      "text/plain": [
       "   Open-Close  High-Low\n",
       "0       -0.33      1.70\n",
       "1        0.37      1.40\n",
       "2       -0.65      1.71\n",
       "3        0.83      1.71\n",
       "4        0.33      1.01"
      ]
     },
     "execution_count": 18,
     "metadata": {},
     "output_type": "execute_result"
    }
   ],
   "source": [
    "# Predictor variables\n",
    "df['Open-Close']= df.Open -df.Close\n",
    "df['High-Low']  = df.High - df.Low\n",
    "df =df.dropna()\n",
    "X= df[['Open-Close', 'High-Low']]\n",
    "X.head()"
   ]
  },
  {
   "cell_type": "code",
   "execution_count": 19,
   "metadata": {},
   "outputs": [],
   "source": [
    "# Target variable\n",
    "Y= np.where(df['Close'].shift(-1)>df['Close'],1,-1)"
   ]
  },
  {
   "cell_type": "code",
   "execution_count": 20,
   "metadata": {},
   "outputs": [],
   "source": [
    "# Splitting the dataset\n",
    "split_percentage = 0.7\n",
    "split = int(split_percentage*len(df))\n",
    "\n",
    "X_train = X[:split]\n",
    "Y_train = Y[:split]\n",
    "\n",
    "X_test = X[split:]\n",
    "Y_test = Y[split:]"
   ]
  },
  {
   "cell_type": "code",
   "execution_count": null,
   "metadata": {},
   "outputs": [],
   "source": []
  },
  {
   "cell_type": "code",
   "execution_count": 21,
   "metadata": {},
   "outputs": [
    {
     "name": "stdout",
     "output_type": "stream",
     "text": [
      "k: 1, Train/Test Score: 0.998/0.449\n",
      "k: 3, Train/Test Score: 0.726/0.478\n",
      "k: 5, Train/Test Score: 0.716/0.493\n",
      "k: 7, Train/Test Score: 0.672/0.507\n",
      "k: 9, Train/Test Score: 0.664/0.536\n",
      "k: 11, Train/Test Score: 0.654/0.498\n",
      "k: 13, Train/Test Score: 0.649/0.507\n",
      "k: 15, Train/Test Score: 0.641/0.502\n",
      "k: 17, Train/Test Score: 0.629/0.522\n",
      "k: 19, Train/Test Score: 0.635/0.551\n",
      "k: 21, Train/Test Score: 0.637/0.531\n",
      "k: 23, Train/Test Score: 0.624/0.507\n",
      "k: 25, Train/Test Score: 0.614/0.512\n",
      "k: 27, Train/Test Score: 0.618/0.512\n",
      "k: 29, Train/Test Score: 0.620/0.512\n",
      "k: 31, Train/Test Score: 0.604/0.531\n",
      "k: 33, Train/Test Score: 0.579/0.517\n",
      "k: 35, Train/Test Score: 0.595/0.507\n",
      "k: 37, Train/Test Score: 0.585/0.498\n",
      "k: 39, Train/Test Score: 0.585/0.498\n",
      "k: 41, Train/Test Score: 0.595/0.498\n",
      "k: 43, Train/Test Score: 0.585/0.498\n",
      "k: 45, Train/Test Score: 0.585/0.507\n",
      "k: 47, Train/Test Score: 0.593/0.512\n",
      "k: 49, Train/Test Score: 0.583/0.517\n"
     ]
    }
   ],
   "source": [
    "train_scores = []\n",
    "test_scores = []\n",
    "for k in range(1, 50, 2):\n",
    "    knn = KNeighborsClassifier(n_neighbors=k)\n",
    "    knn.fit(X_train, Y_train)\n",
    "    train_score = knn.score(X_train, Y_train)\n",
    "    test_score = knn.score(X_test, Y_test)\n",
    "    train_scores.append(train_score)\n",
    "    test_scores.append(test_score)\n",
    "    print(f\"k: {k}, Train/Test Score: {train_score:.3f}/{test_score:.3f}\")"
   ]
  },
  {
   "cell_type": "code",
   "execution_count": 22,
   "metadata": {},
   "outputs": [
    {
     "data": {
      "image/png": "[encoded data removed]",
      "text/plain": [
       "<Figure size 432x288 with 1 Axes>"
      ]
     },
     "metadata": {
      "needs_background": "light"
     },
     "output_type": "display_data"
    }
   ],
   "source": [
    "plt.plot(range(1, 50, 2), train_scores, marker='o')\n",
    "plt.plot(range(1, 50, 2), test_scores, marker=\"x\")\n",
    "plt.xlabel(\"k neighbors\")\n",
    "plt.ylabel(\"Testing accuracy Score\")\n",
    "plt.show()"
   ]
  },
  {
   "cell_type": "code",
   "execution_count": 23,
   "metadata": {},
   "outputs": [
    {
     "name": "stdout",
     "output_type": "stream",
     "text": [
      "Train_data Accuracy: 0.64\n",
      "Test_data Accuracy: 0.50\n"
     ]
    }
   ],
   "source": [
    "# Instantiate KNN learning model(k=15)\n",
    "knn = KNeighborsClassifier(n_neighbors=15)\n",
    "# fit the model\n",
    "knn.fit(X_train, Y_train)\n",
    "\n",
    "# Accuracy Score\n",
    "accuracy_train = accuracy_score(Y_train, knn.predict(X_train))\n",
    "accuracy_test = accuracy_score(Y_test, knn.predict(X_test))\n",
    "\n",
    "print ('Train_data Accuracy: %.2f' %accuracy_train)\n",
    "print ('Test_data Accuracy: %.2f' %accuracy_test)"
   ]
  },
  {
   "cell_type": "code",
   "execution_count": 24,
   "metadata": {},
   "outputs": [
    {
     "data": {
      "text/plain": [
       "482"
      ]
     },
     "execution_count": 24,
     "metadata": {},
     "output_type": "execute_result"
    }
   ],
   "source": [
    "len(Y_train)"
   ]
  },
  {
   "cell_type": "code",
   "execution_count": 25,
   "metadata": {},
   "outputs": [
    {
     "data": {
      "text/plain": [
       "array([ 1,  1, -1, -1,  1,  1,  1,  1,  1,  1,  1,  1,  1,  1,  1,  1,  1,\n",
       "       -1,  1,  1,  1,  1,  1,  1,  1,  1,  1, -1,  1,  1,  1,  1,  1,  1,\n",
       "        1,  1,  1,  1, -1,  1,  1,  1,  1,  1,  1,  1,  1,  1,  1,  1,  1,\n",
       "        1,  1,  1,  1,  1,  1,  1,  1,  1,  1,  1,  1,  1,  1,  1,  1,  1,\n",
       "        1,  1,  1,  1,  1,  1,  1,  1,  1,  1,  1,  1,  1, -1,  1,  1,  1,\n",
       "        1,  1,  1,  1,  1,  1,  1,  1,  1,  1,  1,  1,  1,  1,  1,  1,  1,\n",
       "        1,  1,  1,  1,  1, -1,  1, -1,  1,  1,  1,  1,  1,  1,  1,  1,  1,\n",
       "        1,  1,  1,  1,  1,  1,  1,  1, -1,  1,  1,  1,  1, -1,  1,  1,  1,\n",
       "        1, -1,  1,  1,  1, -1,  1,  1,  1,  1,  1, -1,  1, -1,  1,  1,  1,\n",
       "        1,  1, -1,  1,  1,  1, -1,  1,  1, -1,  1,  1,  1,  1,  1, -1,  1,\n",
       "        1,  1,  1,  1,  1,  1,  1,  1,  1,  1,  1,  1,  1,  1,  1,  1,  1,\n",
       "        1,  1, -1,  1,  1,  1,  1,  1,  1,  1,  1,  1,  1,  1,  1,  1,  1,\n",
       "        1,  1,  1])"
      ]
     },
     "execution_count": 25,
     "metadata": {},
     "output_type": "execute_result"
    }
   ],
   "source": [
    "pred = knn.predict(X_test)\n",
    "pred"
   ]
  },
  {
   "cell_type": "code",
   "execution_count": 26,
   "metadata": {},
   "outputs": [
    {
     "data": {
      "text/html": [
       "<div>\n",
       "<style scoped>\n",
       "    .dataframe tbody tr th:only-of-type {\n",
       "        vertical-align: middle;\n",
       "    }\n",
       "\n",
       "    .dataframe tbody tr th {\n",
       "        vertical-align: top;\n",
       "    }\n",
       "\n",
       "    .dataframe thead th {\n",
       "        text-align: right;\n",
       "    }\n",
       "</style>\n",
       "<table border=\"1\" class=\"dataframe\">\n",
       "  <thead>\n",
       "    <tr style=\"text-align: right;\">\n",
       "      <th></th>\n",
       "      <th>Prediction</th>\n",
       "      <th>Actual</th>\n",
       "    </tr>\n",
       "  </thead>\n",
       "  <tbody>\n",
       "    <tr>\n",
       "      <th>0</th>\n",
       "      <td>1</td>\n",
       "      <td>-1</td>\n",
       "    </tr>\n",
       "    <tr>\n",
       "      <th>1</th>\n",
       "      <td>1</td>\n",
       "      <td>-1</td>\n",
       "    </tr>\n",
       "    <tr>\n",
       "      <th>2</th>\n",
       "      <td>-1</td>\n",
       "      <td>1</td>\n",
       "    </tr>\n",
       "    <tr>\n",
       "      <th>3</th>\n",
       "      <td>-1</td>\n",
       "      <td>1</td>\n",
       "    </tr>\n",
       "    <tr>\n",
       "      <th>4</th>\n",
       "      <td>1</td>\n",
       "      <td>1</td>\n",
       "    </tr>\n",
       "    <tr>\n",
       "      <th>...</th>\n",
       "      <td>...</td>\n",
       "      <td>...</td>\n",
       "    </tr>\n",
       "    <tr>\n",
       "      <th>202</th>\n",
       "      <td>1</td>\n",
       "      <td>-1</td>\n",
       "    </tr>\n",
       "    <tr>\n",
       "      <th>203</th>\n",
       "      <td>1</td>\n",
       "      <td>1</td>\n",
       "    </tr>\n",
       "    <tr>\n",
       "      <th>204</th>\n",
       "      <td>1</td>\n",
       "      <td>-1</td>\n",
       "    </tr>\n",
       "    <tr>\n",
       "      <th>205</th>\n",
       "      <td>1</td>\n",
       "      <td>1</td>\n",
       "    </tr>\n",
       "    <tr>\n",
       "      <th>206</th>\n",
       "      <td>1</td>\n",
       "      <td>-1</td>\n",
       "    </tr>\n",
       "  </tbody>\n",
       "</table>\n",
       "<p>207 rows × 2 columns</p>\n",
       "</div>"
      ],
      "text/plain": [
       "     Prediction  Actual\n",
       "0             1      -1\n",
       "1             1      -1\n",
       "2            -1       1\n",
       "3            -1       1\n",
       "4             1       1\n",
       "..          ...     ...\n",
       "202           1      -1\n",
       "203           1       1\n",
       "204           1      -1\n",
       "205           1       1\n",
       "206           1      -1\n",
       "\n",
       "[207 rows x 2 columns]"
      ]
     },
     "execution_count": 26,
     "metadata": {},
     "output_type": "execute_result"
    }
   ],
   "source": [
    "pd.DataFrame({\"Prediction\": pred, 'Actual': Y_test})"
   ]
  },
  {
   "cell_type": "code",
   "execution_count": 28,
   "metadata": {},
   "outputs": [],
   "source": [
    "from scipy import stats\n",
    "confidence = 0.95\n",
    "squared_errors = (pred - Y_test) ** 2 #y_test is real values, final_predictions is predicted values of y\n",
    "ci = np.sqrt(stats.t.interval(confidence, len(squared_errors) - 1, loc=squared_errors.mean(), scale=stats.sem(squared_errors)))"
   ]
  },
  {
   "cell_type": "code",
   "execution_count": 29,
   "metadata": {},
   "outputs": [
    {
     "data": {
      "text/plain": [
       "array([1.30981412, 1.50501272])"
      ]
     },
     "execution_count": 29,
     "metadata": {},
     "output_type": "execute_result"
    }
   ],
   "source": [
    "ci"
   ]
  },
  {
   "cell_type": "code",
   "execution_count": 27,
   "metadata": {},
   "outputs": [
    {
     "data": {
      "image/png": "[encoded data removed]",
      "text/plain": [
       "<Figure size 720x360 with 1 Axes>"
      ]
     },
     "metadata": {
      "needs_background": "light"
     },
     "output_type": "display_data"
    }
   ],
   "source": [
    "# Predicted Signal\n",
    "df['Predicted_Signal'] = knn.predict(X)\n",
    "\n",
    "# SPY Cumulative Returns\n",
    "df['SPY_returns'] = np.log(df['Close']/df['Close'].shift(1))\n",
    "Cumulative_SPY_returns = df[split:]['SPY_returns'].cumsum()*100\n",
    "\n",
    "# Cumulative Strategy Returns \n",
    "df['Startegy_returns'] = df['SPY_returns']* df['Predicted_Signal'].shift(1)\n",
    "Cumulative_Strategy_returns = df[split:]['Startegy_returns'].cumsum()*100\n",
    "\n",
    "# Plot the results to visualize the performance\n",
    "\n",
    "plt.figure(figsize=(10,5))\n",
    "plt.plot(Cumulative_SPY_returns, color='r',label = 'SPY Returns')\n",
    "plt.plot(Cumulative_Strategy_returns, color='g', label = 'Strategy Returns')\n",
    "plt.legend()\n",
    "plt.show()"
   ]
  },
  {
   "cell_type": "code",
   "execution_count": null,
   "metadata": {},
   "outputs": [],
   "source": [
    "df"
   ]
  },
  {
   "cell_type": "markdown",
   "metadata": {},
   "source": [
    "What is Sharpe Ratio?\n",
    "Sharpe ratio is a measure for calculating risk-adjusted return. It is the ratio of the excess expected return of investment (over risk-free rate) per unit of volatility or standard deviation.\n",
    "\n",
    "Let us see the formula for Sharpe ratio which will make things much clearer. The sharpe ratio calculation is done in the following manner\n",
    "\n",
    "Sharpe Ratio = (Rx – Rf) / StdDev(x)\n",
    "\n",
    "Where,\n",
    "x is the investment\n",
    "Rx is the average rate of return of x\n",
    "Rf is the risk-free rate of return\n",
    "StdDev(x) is the standard deviation of Rx\n",
    "Once you see the formula, you will understand that we deduct the risk-free rate of return as this helps us in figuring out if the strategy makes sense or not. If the Numerator turned out negative, wouldn’t it be better to invest in a government bond which guarantees you a risk-free rate of return? Some of you would recognise this as the risk-adjusted return.\n",
    "\n",
    "In the denominator, we have the standard deviation of the average return of the investment. It helps us in identifying the volatility as well as the risk associated with the investment.\n",
    "\n",
    "Thus, the Sharpe ratio helps us in identifying which strategy gives better returns in comparison to the volatility. There, that is all when it comes to sharpe ratio calculation.\n",
    "\n",
    "Let’s take an example now to see how the Sharpe ratio calculation helps us.\n",
    "\n",
    "You have devised a strategy and created a portfolio of different stocks. After backtesting, you observe that this portfolio, let’s call it Portfolio A, will give a return of 11%. However, you are concerned with the volatility at 8%. \n",
    "\n",
    "Now, you change certain parameters and pick different financial instruments to create another portfolio, Portfolio B. This portfolio gives an expected return of 8%, but the volatility now drops to 4%. "
   ]
  },
  {
   "cell_type": "code",
   "execution_count": null,
   "metadata": {},
   "outputs": [],
   "source": [
    "# Calculate Sharpe reatio\n",
    "Std = Cumulative_Strategy_returns.std()\n",
    "Sharpe = (Cumulative_Strategy_returns-Cumulative_SPY_returns)/Std\n",
    "Sharpe = Sharpe.mean()\n",
    "print ('Sharpe ratio: %.2f'%Sharpe )"
   ]
  },
  {
   "cell_type": "markdown",
   "metadata": {},
   "source": [
    "Tested many neighbours and the lowest sharpe ratio was for 17."
   ]
  },
  {
   "cell_type": "markdown",
   "metadata": {},
   "source": [
    "# Auto ARIMA"
   ]
  },
  {
   "cell_type": "code",
   "execution_count": 30,
   "metadata": {},
   "outputs": [],
   "source": [
    "import numpy as np \n",
    "import pandas as pd \n",
    "import matplotlib.pyplot as plt\n",
    "from pandas.plotting import lag_plot\n",
    "from pandas import datetime\n",
    "from statsmodels.tsa.arima_model import ARIMA\n",
    "from sklearn.metrics import mean_squared_error"
   ]
  },
  {
   "cell_type": "code",
   "execution_count": 31,
   "metadata": {},
   "outputs": [
    {
     "data": {
      "text/html": [
       "<div>\n",
       "<style scoped>\n",
       "    .dataframe tbody tr th:only-of-type {\n",
       "        vertical-align: middle;\n",
       "    }\n",
       "\n",
       "    .dataframe tbody tr th {\n",
       "        vertical-align: top;\n",
       "    }\n",
       "\n",
       "    .dataframe thead th {\n",
       "        text-align: right;\n",
       "    }\n",
       "</style>\n",
       "<table border=\"1\" class=\"dataframe\">\n",
       "  <thead>\n",
       "    <tr style=\"text-align: right;\">\n",
       "      <th></th>\n",
       "      <th>c</th>\n",
       "      <th>h</th>\n",
       "      <th>l</th>\n",
       "      <th>o</th>\n",
       "      <th>s</th>\n",
       "      <th>t</th>\n",
       "      <th>v</th>\n",
       "    </tr>\n",
       "  </thead>\n",
       "  <tbody>\n",
       "    <tr>\n",
       "      <th>0</th>\n",
       "      <td>63.98</td>\n",
       "      <td>64.97</td>\n",
       "      <td>63.27</td>\n",
       "      <td>63.65</td>\n",
       "      <td>ok</td>\n",
       "      <td>1499866200</td>\n",
       "      <td>1606200</td>\n",
       "    </tr>\n",
       "    <tr>\n",
       "      <th>1</th>\n",
       "      <td>63.60</td>\n",
       "      <td>63.97</td>\n",
       "      <td>62.57</td>\n",
       "      <td>63.97</td>\n",
       "      <td>ok</td>\n",
       "      <td>1499952600</td>\n",
       "      <td>1100200</td>\n",
       "    </tr>\n",
       "    <tr>\n",
       "      <th>2</th>\n",
       "      <td>64.25</td>\n",
       "      <td>64.72</td>\n",
       "      <td>63.01</td>\n",
       "      <td>63.60</td>\n",
       "      <td>ok</td>\n",
       "      <td>1500039000</td>\n",
       "      <td>1147600</td>\n",
       "    </tr>\n",
       "    <tr>\n",
       "      <th>3</th>\n",
       "      <td>63.85</td>\n",
       "      <td>64.86</td>\n",
       "      <td>63.15</td>\n",
       "      <td>64.68</td>\n",
       "      <td>ok</td>\n",
       "      <td>1500298200</td>\n",
       "      <td>1021100</td>\n",
       "    </tr>\n",
       "    <tr>\n",
       "      <th>4</th>\n",
       "      <td>63.08</td>\n",
       "      <td>63.75</td>\n",
       "      <td>62.74</td>\n",
       "      <td>63.41</td>\n",
       "      <td>ok</td>\n",
       "      <td>1500384600</td>\n",
       "      <td>1098900</td>\n",
       "    </tr>\n",
       "    <tr>\n",
       "      <th>...</th>\n",
       "      <td>...</td>\n",
       "      <td>...</td>\n",
       "      <td>...</td>\n",
       "      <td>...</td>\n",
       "      <td>...</td>\n",
       "      <td>...</td>\n",
       "      <td>...</td>\n",
       "    </tr>\n",
       "    <tr>\n",
       "      <th>684</th>\n",
       "      <td>156.37</td>\n",
       "      <td>159.12</td>\n",
       "      <td>154.48</td>\n",
       "      <td>156.87</td>\n",
       "      <td>ok</td>\n",
       "      <td>1585661400</td>\n",
       "      <td>1738200</td>\n",
       "    </tr>\n",
       "    <tr>\n",
       "      <th>685</th>\n",
       "      <td>153.51</td>\n",
       "      <td>159.48</td>\n",
       "      <td>149.00</td>\n",
       "      <td>150.34</td>\n",
       "      <td>ok</td>\n",
       "      <td>1585747800</td>\n",
       "      <td>1589800</td>\n",
       "    </tr>\n",
       "    <tr>\n",
       "      <th>686</th>\n",
       "      <td>156.16</td>\n",
       "      <td>158.59</td>\n",
       "      <td>148.25</td>\n",
       "      <td>148.52</td>\n",
       "      <td>ok</td>\n",
       "      <td>1585834200</td>\n",
       "      <td>1281900</td>\n",
       "    </tr>\n",
       "    <tr>\n",
       "      <th>687</th>\n",
       "      <td>150.11</td>\n",
       "      <td>157.72</td>\n",
       "      <td>148.50</td>\n",
       "      <td>154.75</td>\n",
       "      <td>ok</td>\n",
       "      <td>1585920600</td>\n",
       "      <td>1587100</td>\n",
       "    </tr>\n",
       "    <tr>\n",
       "      <th>688</th>\n",
       "      <td>156.81</td>\n",
       "      <td>157.62</td>\n",
       "      <td>151.87</td>\n",
       "      <td>152.39</td>\n",
       "      <td>ok</td>\n",
       "      <td>1586131200</td>\n",
       "      <td>1092500</td>\n",
       "    </tr>\n",
       "  </tbody>\n",
       "</table>\n",
       "<p>689 rows × 7 columns</p>\n",
       "</div>"
      ],
      "text/plain": [
       "          c       h       l       o   s           t        v\n",
       "0     63.98   64.97   63.27   63.65  ok  1499866200  1606200\n",
       "1     63.60   63.97   62.57   63.97  ok  1499952600  1100200\n",
       "2     64.25   64.72   63.01   63.60  ok  1500039000  1147600\n",
       "3     63.85   64.86   63.15   64.68  ok  1500298200  1021100\n",
       "4     63.08   63.75   62.74   63.41  ok  1500384600  1098900\n",
       "..      ...     ...     ...     ...  ..         ...      ...\n",
       "684  156.37  159.12  154.48  156.87  ok  1585661400  1738200\n",
       "685  153.51  159.48  149.00  150.34  ok  1585747800  1589800\n",
       "686  156.16  158.59  148.25  148.52  ok  1585834200  1281900\n",
       "687  150.11  157.72  148.50  154.75  ok  1585920600  1587100\n",
       "688  156.81  157.62  151.87  152.39  ok  1586131200  1092500\n",
       "\n",
       "[689 rows x 7 columns]"
      ]
     },
     "execution_count": 31,
     "metadata": {},
     "output_type": "execute_result"
    }
   ],
   "source": [
    "#read the file\n",
    "df = pd.read_json (r'VEEV.json')\n",
    "\n",
    "#print the head\n",
    "df"
   ]
  },
  {
   "cell_type": "code",
   "execution_count": 32,
   "metadata": {},
   "outputs": [
    {
     "data": {
      "text/plain": [
       "Text(0.5, 1.0, 'Microsoft Autocorrelation plot')"
      ]
     },
     "execution_count": 32,
     "metadata": {},
     "output_type": "execute_result"
    },
    {
     "data": {
      "image/png": "[encoded data removed]",
      "text/plain": [
       "<Figure size 720x720 with 1 Axes>"
      ]
     },
     "metadata": {
      "needs_background": "light"
     },
     "output_type": "display_data"
    }
   ],
   "source": [
    "plt.figure(figsize=(10,10))\n",
    "lag_plot(df['c'], lag=5)\n",
    "plt.title('Microsoft Autocorrelation plot')"
   ]
  },
  {
   "cell_type": "code",
   "execution_count": 33,
   "metadata": {},
   "outputs": [],
   "source": [
    "size = len(df)"
   ]
  },
  {
   "cell_type": "code",
   "execution_count": 34,
   "metadata": {},
   "outputs": [
    {
     "data": {
      "text/plain": [
       "<matplotlib.legend.Legend at 0x1e535d2f630>"
      ]
     },
     "execution_count": 34,
     "metadata": {},
     "output_type": "execute_result"
    },
    {
     "data": {
      "image/png": "[encoded data removed]",
      "text/plain": [
       "<Figure size 864x504 with 1 Axes>"
      ]
     },
     "metadata": {
      "needs_background": "light"
     },
     "output_type": "display_data"
    }
   ],
   "source": [
    "train_data, test_data = df[0:int(len(df)*0.8)], df[int(len(df)*0.8):]\n",
    "plt.figure(figsize=(12,7))\n",
    "plt.title('Microsoft Prices')\n",
    "plt.xlabel('Dates')\n",
    "plt.ylabel('Prices')\n",
    "plt.plot(df['c'], 'blue', label='Training Data')\n",
    "plt.plot(test_data['c'], 'green', label='Testing Data')\n",
    "plt.xticks(np.arange(0,size, 300), df['t'][0:size:300])\n",
    "plt.legend()"
   ]
  },
  {
   "cell_type": "code",
   "execution_count": 35,
   "metadata": {},
   "outputs": [],
   "source": [
    "def smape_kun(y_true, y_pred):\n",
    "    return np.mean((np.abs(y_pred - y_true) * 200/ (np.abs(y_pred) +       np.abs(y_true))))"
   ]
  },
  {
   "cell_type": "code",
   "execution_count": 36,
   "metadata": {},
   "outputs": [
    {
     "name": "stdout",
     "output_type": "stream",
     "text": [
      "<class 'list'>\n",
      "Testing Mean Squared Error: 19.307\n",
      "Symmetric mean absolute percentage error: 4.731\n"
     ]
    }
   ],
   "source": [
    "train_ar = train_data['c'].values\n",
    "test_ar = test_data['c'].values\n",
    "history = [x for x in train_ar]\n",
    "print(type(history))\n",
    "predictions = list()\n",
    "for t in range(len(test_ar)):\n",
    "    model = ARIMA(history, order=(5,1,0))\n",
    "    model_fit = model.fit(disp=0)\n",
    "    output = model_fit.forecast()\n",
    "    yhat = output[0]\n",
    "    predictions.append(yhat)\n",
    "    obs = test_ar[t]\n",
    "    history.append(obs)\n",
    "error = mean_squared_error(test_ar, predictions)\n",
    "print('Testing Mean Squared Error: %.3f' % error)\n",
    "error2 = smape_kun(test_ar, predictions)\n",
    "print('Symmetric mean absolute percentage error: %.3f' % error2)"
   ]
  },
  {
   "cell_type": "code",
   "execution_count": 37,
   "metadata": {},
   "outputs": [
    {
     "data": {
      "text/html": [
       "<div>\n",
       "<style scoped>\n",
       "    .dataframe tbody tr th:only-of-type {\n",
       "        vertical-align: middle;\n",
       "    }\n",
       "\n",
       "    .dataframe tbody tr th {\n",
       "        vertical-align: top;\n",
       "    }\n",
       "\n",
       "    .dataframe thead th {\n",
       "        text-align: right;\n",
       "    }\n",
       "</style>\n",
       "<table border=\"1\" class=\"dataframe\">\n",
       "  <thead>\n",
       "    <tr style=\"text-align: right;\">\n",
       "      <th></th>\n",
       "      <th>Prediction</th>\n",
       "      <th>Actual</th>\n",
       "    </tr>\n",
       "  </thead>\n",
       "  <tbody>\n",
       "    <tr>\n",
       "      <th>0</th>\n",
       "      <td>[146.9574521871309]</td>\n",
       "      <td>147.43</td>\n",
       "    </tr>\n",
       "    <tr>\n",
       "      <th>1</th>\n",
       "      <td>[147.6978670453488]</td>\n",
       "      <td>149.63</td>\n",
       "    </tr>\n",
       "    <tr>\n",
       "      <th>2</th>\n",
       "      <td>[149.80190772269972]</td>\n",
       "      <td>152.69</td>\n",
       "    </tr>\n",
       "    <tr>\n",
       "      <th>3</th>\n",
       "      <td>[152.61766906144695]</td>\n",
       "      <td>151.31</td>\n",
       "    </tr>\n",
       "    <tr>\n",
       "      <th>4</th>\n",
       "      <td>[151.33509824658918]</td>\n",
       "      <td>155.30</td>\n",
       "    </tr>\n",
       "    <tr>\n",
       "      <th>...</th>\n",
       "      <td>...</td>\n",
       "      <td>...</td>\n",
       "    </tr>\n",
       "    <tr>\n",
       "      <th>133</th>\n",
       "      <td>[156.19847466219]</td>\n",
       "      <td>156.37</td>\n",
       "    </tr>\n",
       "    <tr>\n",
       "      <th>134</th>\n",
       "      <td>[156.10614357581017]</td>\n",
       "      <td>153.51</td>\n",
       "    </tr>\n",
       "    <tr>\n",
       "      <th>135</th>\n",
       "      <td>[154.58179530983753]</td>\n",
       "      <td>156.16</td>\n",
       "    </tr>\n",
       "    <tr>\n",
       "      <th>136</th>\n",
       "      <td>[156.04105000719318]</td>\n",
       "      <td>150.11</td>\n",
       "    </tr>\n",
       "    <tr>\n",
       "      <th>137</th>\n",
       "      <td>[151.73825854059572]</td>\n",
       "      <td>156.81</td>\n",
       "    </tr>\n",
       "  </tbody>\n",
       "</table>\n",
       "<p>138 rows × 2 columns</p>\n",
       "</div>"
      ],
      "text/plain": [
       "               Prediction  Actual\n",
       "0     [146.9574521871309]  147.43\n",
       "1     [147.6978670453488]  149.63\n",
       "2    [149.80190772269972]  152.69\n",
       "3    [152.61766906144695]  151.31\n",
       "4    [151.33509824658918]  155.30\n",
       "..                    ...     ...\n",
       "133     [156.19847466219]  156.37\n",
       "134  [156.10614357581017]  153.51\n",
       "135  [154.58179530983753]  156.16\n",
       "136  [156.04105000719318]  150.11\n",
       "137  [151.73825854059572]  156.81\n",
       "\n",
       "[138 rows x 2 columns]"
      ]
     },
     "execution_count": 37,
     "metadata": {},
     "output_type": "execute_result"
    }
   ],
   "source": [
    "pd.DataFrame({\"Prediction\": predictions, 'Actual': test_ar})"
   ]
  },
  {
   "cell_type": "code",
   "execution_count": 38,
   "metadata": {},
   "outputs": [],
   "source": [
    "from scipy import stats\n",
    "confidence = 0.95\n",
    "squared_errors = (predictions - test_ar) ** 2 #y_test is real values, final_predictions is predicted values of y\n",
    "ci = np.sqrt(stats.t.interval(confidence, len(squared_errors) - 1, loc=squared_errors.mean(), scale=stats.sem(squared_errors)))"
   ]
  },
  {
   "cell_type": "code",
   "execution_count": 39,
   "metadata": {},
   "outputs": [
    {
     "data": {
      "text/plain": [
       "array([[ 8.28411634,  8.20173189,  7.96183718,  8.08407172,  7.68651308,\n",
       "         7.76172039,  8.2045937 ,  7.96183718,  7.72165609,  8.10398296,\n",
       "         8.23607961,  7.82977915,  7.96849055,  8.28852949,  8.2182771 ,\n",
       "         8.16026499,  8.0218451 ,  7.90907345,  7.54890604,  8.18681727,\n",
       "         8.23971938,  8.14171277,  8.25951879,  8.01412297,  8.09402606,\n",
       "         8.2516691 ,  8.2894846 ,  8.26043758,  8.27842844,  8.28685347,\n",
       "         8.05783723,  8.23058528,  8.26523701,  7.95358345,  7.96979682,\n",
       "         7.98388395,  8.19846638,  8.24596387,  8.28947848,  8.26249031,\n",
       "         8.24829896,  7.91605211,  8.04639922,  8.00381491,  7.79446598,\n",
       "         8.13421267,  7.90506771,  7.49033476,  7.19700212,  7.90004236,\n",
       "         8.22597361,  8.22912734,  8.28513466,  8.21204805,  8.26126034,\n",
       "         8.24426564,  8.18519684,  8.14171277,  8.09163066,  8.12340391,\n",
       "         8.28518689,  8.27982719,  8.24253743,  8.23808686,  7.8626371 ,\n",
       "         8.06121851,  8.1550566 ,  8.0441366 ,  8.0679274 ,  7.95069552,\n",
       "         7.97545665,  7.95165904,  8.17571627,  8.11279216,  8.22211272,\n",
       "         7.80242864,  8.04672662,  8.27842844,  8.27338236,  8.24952088,\n",
       "         8.27745223,  8.23345272,  8.28566907,  8.26997862,  8.28504871,\n",
       "         8.27776413,  8.27491804,  8.26394346,  8.05358577,  8.27285388,\n",
       "         8.27093917,  8.1629655 ,  8.28935085,  8.25230516,  7.79986491,\n",
       "         8.06844446,  8.10006146,  8.05751522,  7.88891635,  7.82766071,\n",
       "         7.77925909,  7.83506273,  7.24490043,  6.80666986,  6.52607104,\n",
       "         6.35677261,  7.11726834,  7.82766071,  8.18183628,  8.28315956,\n",
       "         8.23345272,  8.06959335,  8.21421823,  8.02927942,  8.2179505 ,\n",
       "         8.28911577,  8.28699986,  7.78076372,  8.28758823,  8.23106768,\n",
       "         7.05872768,  7.71420022,  4.98899734,  7.02123559,  7.93906509,\n",
       "         8.28043049,  7.09178956,  6.8882573 ,  8.25476063,  7.20820286,\n",
       "         8.2880682 ,  8.27441446,  7.36593745,  7.56095885,  7.88076487,\n",
       "         7.58609771,  8.17223267,  7.50753916],\n",
       "       [ 9.67857163,  9.74848328,  9.94537487,  9.84627426, 10.15966776,\n",
       "        10.1023279 ,  9.74607483,  9.94537487, 10.13298375,  9.82989281,\n",
       "         9.71948173, 10.04967118,  9.94004481,  9.67479257,  9.73453922,\n",
       "         9.78322072,  9.89703661,  9.98738652, 10.26232674,  9.761012  ,\n",
       "         9.7163963 ,  9.7986655 ,  9.69957122,  9.90329063,  9.83809303,\n",
       "         9.70625002,  9.67397423,  9.69878876,  9.68343714,  9.67622819,\n",
       "         9.86775514,  9.72413484,  9.69469905,  9.95197682,  9.93899749,\n",
       "         9.92768501,  9.75122974,  9.71109738,  9.67397948,  9.69704008,\n",
       "         9.70911411,  9.98185611,  9.87708419,  9.91162344, 10.07708453,\n",
       "         9.80489248,  9.99055739, 10.3051549 , 10.51211172,  9.99453166,\n",
       "         9.72803631,  9.72536867,  9.67769994,  9.73979462,  9.69808796,\n",
       "         9.71253914,  9.76237088,  9.7986655 ,  9.8400633 ,  9.81384947,\n",
       "         9.67765522,  9.68224117,  9.71400583,  9.71778047, 10.02398475,\n",
       "         9.86499309,  9.78756273,  9.87892701,  9.85950708,  9.95428416,\n",
       "         9.93445639,  9.9535145 ,  9.77031197,  9.82262367,  9.73129975,\n",
       "        10.0709205 ,  9.87681746,  9.68343714,  9.6877488 ,  9.7080759 ,\n",
       "         9.68427163,  9.72170709,  9.6772424 ,  9.69065457,  9.67777352,\n",
       "         9.68400503,  9.6864371 ,  9.69580171,  9.87122528,  9.6882001 ,\n",
       "         9.68983476,  9.78096757,  9.67408884,  9.70570924, 10.07290622,\n",
       "         9.85908395,  9.83312447,  9.86801808, 10.00331602, 10.05132132,\n",
       "        10.0888285 , 10.04555247, 10.47915789, 10.76896364, 10.94128554,\n",
       "        11.04050608, 10.56625874, 10.05132132,  9.76518753,  9.67939048,\n",
       "         9.72170709,  9.85814362,  9.73796444,  9.89100624,  9.73481495,\n",
       "         9.67429027,  9.67610282, 10.08766814,  9.67559889,  9.72372651,\n",
       "        10.60545595, 10.13866103, 11.72225396, 10.63031435,  9.96356251,\n",
       "         9.68172522, 10.58337627, 10.71696057,  9.70362094, 10.50443449,\n",
       "         9.67518775,  9.68686728, 10.39443591, 10.25344984, 10.00973913,\n",
       "        10.23486463,  9.77322596, 10.29262785]])"
      ]
     },
     "execution_count": 39,
     "metadata": {},
     "output_type": "execute_result"
    }
   ],
   "source": [
    "ci"
   ]
  },
  {
   "cell_type": "code",
   "execution_count": null,
   "metadata": {},
   "outputs": [],
   "source": [
    "plt.figure(figsize=(12,7))\n",
    "plt.plot(df['c'], 'green', color='blue', label='Training Data')\n",
    "plt.plot(test_data.index, predictions, color='green', marker='o', linestyle='dashed', \n",
    "         label='Predicted Price')\n",
    "plt.plot(test_data.index, test_data['c'], color='red', label='Actual Price')\n",
    "plt.title('Microsoft Prices Prediction')\n",
    "plt.xlabel('Dates')\n",
    "plt.ylabel('Prices')\n",
    "plt.xticks(np.arange(0,size, 1300), df['t'][0:size:1300])\n",
    "plt.legend()"
   ]
  },
  {
   "cell_type": "markdown",
   "metadata": {},
   "source": [
    "# Prophet"
   ]
  },
  {
   "cell_type": "code",
   "execution_count": null,
   "metadata": {},
   "outputs": [],
   "source": [
    "#read the file\n",
    "df = pd.read_json (r'VEEV.json')\n",
    "\n",
    "#print the head\n",
    "df"
   ]
  },
  {
   "cell_type": "code",
   "execution_count": null,
   "metadata": {},
   "outputs": [],
   "source": [
    "df['t'] = pd.to_datetime(df['t'], unit='s')\n",
    "df = df.rename(columns={'c': 'Close', 'h': 'High', 'l':'Low',  'o': 'Open', 's': 'Status', 't': 'Date', 'v': 'Volume'})\n",
    "df.head()"
   ]
  },
  {
   "cell_type": "code",
   "execution_count": null,
   "metadata": {},
   "outputs": [],
   "source": [
    "size = len(df)\n",
    "tsize = int(size/2)"
   ]
  },
  {
   "cell_type": "code",
   "execution_count": null,
   "metadata": {},
   "outputs": [],
   "source": [
    "#importing prophet\n",
    "from fbprophet import Prophet\n",
    "\n",
    "#creating dataframe\n",
    "new_data = pd.DataFrame(index=range(0,len(df)),columns=['Date', 'Close'])\n",
    "\n",
    "for i in range(0,len(df)):\n",
    "    new_data['Date'][i] = df['Date'][i]\n",
    "    new_data['Close'][i] = df['Close'][i]\n",
    "\n",
    "new_data['Date'] = pd.to_datetime(new_data.Date,format='%Y-%m-%d')\n",
    "new_data.index = new_data['Date']\n",
    "\n",
    "#preparing data\n",
    "new_data.rename(columns={'Close': 'y', 'Date': 'ds'}, inplace=True)"
   ]
  },
  {
   "cell_type": "code",
   "execution_count": null,
   "metadata": {},
   "outputs": [],
   "source": [
    "new_data[:size]"
   ]
  },
  {
   "cell_type": "code",
   "execution_count": null,
   "metadata": {},
   "outputs": [],
   "source": [
    "#train and validation\n",
    "train = new_data[:tsize]\n",
    "valid = new_data[tsize:]"
   ]
  },
  {
   "cell_type": "code",
   "execution_count": null,
   "metadata": {},
   "outputs": [],
   "source": [
    "len(valid)"
   ]
  },
  {
   "cell_type": "code",
   "execution_count": null,
   "metadata": {},
   "outputs": [],
   "source": [
    "#fit the model\n",
    "model = Prophet()\n",
    "model.fit(train)\n",
    "\n",
    "#predictions\n",
    "close_prices = model.make_future_dataframe(periods=len(valid))\n",
    "forecast = model.predict(close_prices)"
   ]
  },
  {
   "cell_type": "code",
   "execution_count": null,
   "metadata": {},
   "outputs": [],
   "source": [
    "close_prices.tail(2)"
   ]
  },
  {
   "cell_type": "code",
   "execution_count": null,
   "metadata": {},
   "outputs": [],
   "source": [
    "#rmse\n",
    "forecast_valid = forecast['yhat'][tsize:]"
   ]
  },
  {
   "cell_type": "code",
   "execution_count": null,
   "metadata": {},
   "outputs": [],
   "source": [
    "print(forecast_valid.shape, valid['y'].shape)"
   ]
  },
  {
   "cell_type": "code",
   "execution_count": null,
   "metadata": {},
   "outputs": [],
   "source": [
    "rms=np.sqrt(np.mean(np.power((np.array(valid['y'])-np.array(forecast_valid)),2)))\n",
    "rms"
   ]
  },
  {
   "cell_type": "code",
   "execution_count": null,
   "metadata": {},
   "outputs": [],
   "source": [
    "valid['yhat'] = forecast['yhat']"
   ]
  },
  {
   "cell_type": "code",
   "execution_count": null,
   "metadata": {},
   "outputs": [],
   "source": [
    "#plot\n",
    "valid['Predictions'] = 0\n",
    "valid['Predictions'] = forecast_valid.values\n",
    "\n",
    "plt.plot(train['y'])\n",
    "plt.plot(valid[['y', 'Predictions']])"
   ]
  },
  {
   "cell_type": "code",
   "execution_count": null,
   "metadata": {},
   "outputs": [],
   "source": [
    "pd.DataFrame({\"Prediction\": valid['Predictions'], \"Actual\": valid['y']})"
   ]
  },
  {
   "cell_type": "code",
   "execution_count": null,
   "metadata": {},
   "outputs": [],
   "source": [
    "print(\"Accuracy of Linear Regerssion Model:\",clf_lr.score(x_test,y_test))\n",
    "print(\"Accuracy of KNN Model:%.2f' %accuracy_test)\n",
    "print(\"Accuracy of Auto ARIMA Model:\",clf_aa.score(x_test,y_test))\n",
    "print(\"Accuracy of Gradient Boosting Model:\",clf_p.score(x_test,y_test))"
   ]
  },
  {
   "cell_type": "code",
   "execution_count": null,
   "metadata": {},
   "outputs": [],
   "source": []
  }
 ],
 "metadata": {
  "kernelspec": {
   "display_name": "PythonData",
   "language": "python",
   "name": "pythondata"
  },
  "language_info": {
   "codemirror_mode": {
    "name": "ipython",
    "version": 3
   },
   "file_extension": ".py",
   "mimetype": "text/x-python",
   "name": "python",
   "nbconvert_exporter": "python",
   "pygments_lexer": "ipython3",
   "version": "3.6.9"
  }
 },
 "nbformat": 4,
 "nbformat_minor": 2
}
