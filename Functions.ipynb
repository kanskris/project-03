{
 "cells": [
  {
   "cell_type": "code",
   "execution_count": 1,
   "metadata": {},
   "outputs": [
    {
     "ename": "ModuleNotFoundError",
     "evalue": "No module named 'finnhub'",
     "output_type": "error",
     "traceback": [
      "\u001b[1;31m---------------------------------------------------------------------------\u001b[0m",
      "\u001b[1;31mModuleNotFoundError\u001b[0m                       Traceback (most recent call last)",
      "\u001b[1;32m<ipython-input-1-96ff97bb563e>\u001b[0m in \u001b[0;36m<module>\u001b[1;34m\u001b[0m\n\u001b[0;32m      1\u001b[0m \u001b[1;32mimport\u001b[0m \u001b[0mrequests\u001b[0m\u001b[1;33m\u001b[0m\u001b[1;33m\u001b[0m\u001b[0m\n\u001b[0;32m      2\u001b[0m \u001b[1;33m\u001b[0m\u001b[0m\n\u001b[1;32m----> 3\u001b[1;33m \u001b[1;32mfrom\u001b[0m \u001b[0mfinnhub\u001b[0m\u001b[1;33m.\u001b[0m\u001b[0mexceptions\u001b[0m \u001b[1;32mimport\u001b[0m \u001b[0mFinnhubAPIException\u001b[0m\u001b[1;33m\u001b[0m\u001b[1;33m\u001b[0m\u001b[0m\n\u001b[0m\u001b[0;32m      4\u001b[0m \u001b[1;32mfrom\u001b[0m \u001b[0mfinnhub\u001b[0m\u001b[1;33m.\u001b[0m\u001b[0mexceptions\u001b[0m \u001b[1;32mimport\u001b[0m \u001b[0mFinnhubRequestException\u001b[0m\u001b[1;33m\u001b[0m\u001b[1;33m\u001b[0m\u001b[0m\n\u001b[0;32m      5\u001b[0m \u001b[1;33m\u001b[0m\u001b[0m\n",
      "\u001b[1;31mModuleNotFoundError\u001b[0m: No module named 'finnhub'"
     ]
    }
   ],
   "source": [
    "import requests\n",
    "\n",
    "from finnhub.exceptions import FinnhubAPIException\n",
    "from finnhub.exceptions import FinnhubRequestException\n",
    "\n",
    "class Client:\n",
    "    API_URL = \"https://finnhub.io/api/v1\"\n",
    "\n",
    "    def __init__(self, api_key, requests_params=None):\n",
    "        self.api_key = api_key\n",
    "        self.session = self._init__session()\n",
    "        self._requests_params = requests_params\n",
    "\n",
    "    def _init__session(self):\n",
    "        session = requests.session()\n",
    "        session.headers.update({'Accept': 'application/json',\n",
    "                                'User-Agent': 'finnhub/python'})\n",
    "        return session\n",
    "\n",
    "    def _request(self, method, uri, **kwargs):\n",
    "        \n",
    "        kwargs['timeout'] = 10\n",
    "\n",
    "        data = kwargs.get('data', None)\n",
    "\n",
    "        if data and isinstance(data, dict):\n",
    "            kwargs['data'] = data\n",
    "        else:\n",
    "            kwargs['data'] = {}\n",
    "\n",
    "        kwargs['data']['token'] = self.api_key\n",
    "        kwargs['params'] = kwargs['data']\n",
    "\n",
    "        del(kwargs['data'])\n",
    "\n",
    "        response = getattr(self.session, method)(uri, **kwargs)\n",
    "\n",
    "        return self._handle_response(response)\n",
    "\n",
    "    def _create_api_uri(self, path):\n",
    "        return \"{}/{}\".format(self.API_URL, path)\n",
    "\n",
    "    def _request_api(self, method, path, **kwargs):\n",
    "        uri = self._create_api_uri(path)\n",
    "        return self._request(method, uri, **kwargs)\n",
    "\n",
    "    def _handle_response(self, response):\n",
    "        if not str(response.status_code).startswith('2'):\n",
    "            raise FinnhubAPIException(response)\n",
    "        try:\n",
    "            return response.json()\n",
    "        except ValueError:\n",
    "            raise FinnhubRequestException(\"Invalid Response: {}\".format(response.text))\n",
    "\n",
    "    def _get(self, path, **kwargs):\n",
    "        return self._request_api('get', path, **kwargs)\n",
    "\n",
    "    def exchange(self):\n",
    "        return self._get(\"stock/exchange\")\n",
    "\n",
    "    def stock_symbol(self, **params):\n",
    "        return self._get(\"stock/symbol\", data=params)\n",
    "\n",
    "    def quote(self, **params):\n",
    "        return self._get(\"quote\", data=params)\n",
    "\n",
    "    def stock_candle(self, **params):\n",
    "        return self._get(\"stock/candle\", data=params)\n",
    "\n",
    "    def stock_tick(self, **params):\n",
    "        return self._get(\"stock/tick\", data=params)"
   ]
  },
  {
   "cell_type": "code",
   "execution_count": null,
   "metadata": {},
   "outputs": [],
   "source": []
  }
 ],
 "metadata": {
  "kernelspec": {
   "display_name": "Python 3",
   "language": "python",
   "name": "python3"
  },
  "language_info": {
   "codemirror_mode": {
    "name": "ipython",
    "version": 3
   },
   "file_extension": ".py",
   "mimetype": "text/x-python",
   "name": "python",
   "nbconvert_exporter": "python",
   "pygments_lexer": "ipython3",
   "version": "3.7.4"
  }
 },
 "nbformat": 4,
 "nbformat_minor": 2
}
