{
 "cells": [
  {
   "cell_type": "code",
   "execution_count": 1,
   "metadata": {},
   "outputs": [],
   "source": [
    "import pandas as pd\n",
    "import numpy as np\n",
    "import matplotlib.pyplot as plt"
   ]
  },
  {
   "cell_type": "code",
   "execution_count": null,
   "metadata": {},
   "outputs": [],
   "source": [
    "#read the file\n",
    "df = pd.read_json (r'VZ.json')\n",
    "\n",
    "#print the head\n",
    "df"
   ]
  },
  {
   "cell_type": "code",
   "execution_count": null,
   "metadata": {},
   "outputs": [],
   "source": [
    "df['t'] = pd.to_datetime(df['t'], unit='s')\n",
    "df = df.rename(columns={'c': 'Close', 'h': 'High', 'l':'Low',  'o': 'Open', 's': 'Status', 't': 'Date', 'v': 'Volume'})\n",
    "df.head()"
   ]
  },
  {
   "cell_type": "markdown",
   "metadata": {},
   "source": [
    "# Linear Regression"
   ]
  },
  {
   "cell_type": "code",
   "execution_count": 2,
   "metadata": {},
   "outputs": [
    {
     "data": {
      "text/html": [
       "<div>\n",
       "<style scoped>\n",
       "    .dataframe tbody tr th:only-of-type {\n",
       "        vertical-align: middle;\n",
       "    }\n",
       "\n",
       "    .dataframe tbody tr th {\n",
       "        vertical-align: top;\n",
       "    }\n",
       "\n",
       "    .dataframe thead th {\n",
       "        text-align: right;\n",
       "    }\n",
       "</style>\n",
       "<table border=\"1\" class=\"dataframe\">\n",
       "  <thead>\n",
       "    <tr style=\"text-align: right;\">\n",
       "      <th></th>\n",
       "      <th>c</th>\n",
       "      <th>h</th>\n",
       "      <th>l</th>\n",
       "      <th>o</th>\n",
       "      <th>s</th>\n",
       "      <th>t</th>\n",
       "      <th>v</th>\n",
       "    </tr>\n",
       "  </thead>\n",
       "  <tbody>\n",
       "    <tr>\n",
       "      <th>0</th>\n",
       "      <td>42.89</td>\n",
       "      <td>43.22</td>\n",
       "      <td>42.80</td>\n",
       "      <td>43.21</td>\n",
       "      <td>ok</td>\n",
       "      <td>1499779800</td>\n",
       "      <td>13249500</td>\n",
       "    </tr>\n",
       "    <tr>\n",
       "      <th>1</th>\n",
       "      <td>43.22</td>\n",
       "      <td>43.38</td>\n",
       "      <td>43.00</td>\n",
       "      <td>43.04</td>\n",
       "      <td>ok</td>\n",
       "      <td>1499866200</td>\n",
       "      <td>11388900</td>\n",
       "    </tr>\n",
       "    <tr>\n",
       "      <th>2</th>\n",
       "      <td>43.49</td>\n",
       "      <td>43.54</td>\n",
       "      <td>43.04</td>\n",
       "      <td>43.15</td>\n",
       "      <td>ok</td>\n",
       "      <td>1499952600</td>\n",
       "      <td>12140500</td>\n",
       "    </tr>\n",
       "    <tr>\n",
       "      <th>3</th>\n",
       "      <td>43.56</td>\n",
       "      <td>43.82</td>\n",
       "      <td>43.41</td>\n",
       "      <td>43.63</td>\n",
       "      <td>ok</td>\n",
       "      <td>1500039000</td>\n",
       "      <td>11986800</td>\n",
       "    </tr>\n",
       "    <tr>\n",
       "      <th>4</th>\n",
       "      <td>43.66</td>\n",
       "      <td>43.86</td>\n",
       "      <td>43.56</td>\n",
       "      <td>43.63</td>\n",
       "      <td>ok</td>\n",
       "      <td>1500298200</td>\n",
       "      <td>10804200</td>\n",
       "    </tr>\n",
       "    <tr>\n",
       "      <th>...</th>\n",
       "      <td>...</td>\n",
       "      <td>...</td>\n",
       "      <td>...</td>\n",
       "      <td>...</td>\n",
       "      <td>...</td>\n",
       "      <td>...</td>\n",
       "      <td>...</td>\n",
       "    </tr>\n",
       "    <tr>\n",
       "      <th>684</th>\n",
       "      <td>54.77</td>\n",
       "      <td>55.03</td>\n",
       "      <td>52.94</td>\n",
       "      <td>53.49</td>\n",
       "      <td>ok</td>\n",
       "      <td>1585575000</td>\n",
       "      <td>20660200</td>\n",
       "    </tr>\n",
       "    <tr>\n",
       "      <th>685</th>\n",
       "      <td>53.73</td>\n",
       "      <td>54.54</td>\n",
       "      <td>53.55</td>\n",
       "      <td>54.07</td>\n",
       "      <td>ok</td>\n",
       "      <td>1585661400</td>\n",
       "      <td>21251800</td>\n",
       "    </tr>\n",
       "    <tr>\n",
       "      <th>686</th>\n",
       "      <td>52.92</td>\n",
       "      <td>53.45</td>\n",
       "      <td>52.16</td>\n",
       "      <td>52.50</td>\n",
       "      <td>ok</td>\n",
       "      <td>1585747800</td>\n",
       "      <td>18672600</td>\n",
       "    </tr>\n",
       "    <tr>\n",
       "      <th>687</th>\n",
       "      <td>55.25</td>\n",
       "      <td>55.50</td>\n",
       "      <td>53.09</td>\n",
       "      <td>53.56</td>\n",
       "      <td>ok</td>\n",
       "      <td>1585834200</td>\n",
       "      <td>20159400</td>\n",
       "    </tr>\n",
       "    <tr>\n",
       "      <th>688</th>\n",
       "      <td>54.70</td>\n",
       "      <td>55.24</td>\n",
       "      <td>54.28</td>\n",
       "      <td>55.00</td>\n",
       "      <td>ok</td>\n",
       "      <td>1585920600</td>\n",
       "      <td>17604300</td>\n",
       "    </tr>\n",
       "  </tbody>\n",
       "</table>\n",
       "<p>689 rows × 7 columns</p>\n",
       "</div>"
      ],
      "text/plain": [
       "         c      h      l      o   s           t         v\n",
       "0    42.89  43.22  42.80  43.21  ok  1499779800  13249500\n",
       "1    43.22  43.38  43.00  43.04  ok  1499866200  11388900\n",
       "2    43.49  43.54  43.04  43.15  ok  1499952600  12140500\n",
       "3    43.56  43.82  43.41  43.63  ok  1500039000  11986800\n",
       "4    43.66  43.86  43.56  43.63  ok  1500298200  10804200\n",
       "..     ...    ...    ...    ...  ..         ...       ...\n",
       "684  54.77  55.03  52.94  53.49  ok  1585575000  20660200\n",
       "685  53.73  54.54  53.55  54.07  ok  1585661400  21251800\n",
       "686  52.92  53.45  52.16  52.50  ok  1585747800  18672600\n",
       "687  55.25  55.50  53.09  53.56  ok  1585834200  20159400\n",
       "688  54.70  55.24  54.28  55.00  ok  1585920600  17604300\n",
       "\n",
       "[689 rows x 7 columns]"
      ]
     },
     "execution_count": 2,
     "metadata": {},
     "output_type": "execute_result"
    }
   ],
   "source": [
    "#read the file\n",
    "df = pd.read_json (r'VZ.json')\n",
    "\n",
    "#print the head\n",
    "df"
   ]
  },
  {
   "cell_type": "code",
   "execution_count": 3,
   "metadata": {},
   "outputs": [],
   "source": [
    "df['t'] = pd.to_datetime(df['t'], unit='s')"
   ]
  },
  {
   "cell_type": "code",
   "execution_count": 4,
   "metadata": {},
   "outputs": [
    {
     "name": "stdout",
     "output_type": "stream",
     "text": [
      "(689, 1) (689, 1)\n"
     ]
    }
   ],
   "source": [
    "X = df[['t']]\n",
    "y = df['c'].values.reshape(-1, 1)\n",
    "print(X.shape, y.shape)"
   ]
  },
  {
   "cell_type": "code",
   "execution_count": 5,
   "metadata": {},
   "outputs": [
    {
     "data": {
      "text/html": [
       "<div>\n",
       "<style scoped>\n",
       "    .dataframe tbody tr th:only-of-type {\n",
       "        vertical-align: middle;\n",
       "    }\n",
       "\n",
       "    .dataframe tbody tr th {\n",
       "        vertical-align: top;\n",
       "    }\n",
       "\n",
       "    .dataframe thead th {\n",
       "        text-align: right;\n",
       "    }\n",
       "</style>\n",
       "<table border=\"1\" class=\"dataframe\">\n",
       "  <thead>\n",
       "    <tr style=\"text-align: right;\">\n",
       "      <th></th>\n",
       "      <th>t</th>\n",
       "    </tr>\n",
       "  </thead>\n",
       "  <tbody>\n",
       "    <tr>\n",
       "      <th>0</th>\n",
       "      <td>2017-07-11 13:30:00</td>\n",
       "    </tr>\n",
       "    <tr>\n",
       "      <th>1</th>\n",
       "      <td>2017-07-12 13:30:00</td>\n",
       "    </tr>\n",
       "    <tr>\n",
       "      <th>2</th>\n",
       "      <td>2017-07-13 13:30:00</td>\n",
       "    </tr>\n",
       "    <tr>\n",
       "      <th>3</th>\n",
       "      <td>2017-07-14 13:30:00</td>\n",
       "    </tr>\n",
       "    <tr>\n",
       "      <th>4</th>\n",
       "      <td>2017-07-17 13:30:00</td>\n",
       "    </tr>\n",
       "  </tbody>\n",
       "</table>\n",
       "</div>"
      ],
      "text/plain": [
       "                    t\n",
       "0 2017-07-11 13:30:00\n",
       "1 2017-07-12 13:30:00\n",
       "2 2017-07-13 13:30:00\n",
       "3 2017-07-14 13:30:00\n",
       "4 2017-07-17 13:30:00"
      ]
     },
     "execution_count": 5,
     "metadata": {},
     "output_type": "execute_result"
    }
   ],
   "source": [
    "data = X.copy()\n",
    "\n",
    "data_binary_encoded = pd.get_dummies(data)\n",
    "data_binary_encoded.head()"
   ]
  },
  {
   "cell_type": "code",
   "execution_count": 6,
   "metadata": {},
   "outputs": [
    {
     "data": {
      "text/html": [
       "<div>\n",
       "<style scoped>\n",
       "    .dataframe tbody tr th:only-of-type {\n",
       "        vertical-align: middle;\n",
       "    }\n",
       "\n",
       "    .dataframe tbody tr th {\n",
       "        vertical-align: top;\n",
       "    }\n",
       "\n",
       "    .dataframe thead th {\n",
       "        text-align: right;\n",
       "    }\n",
       "</style>\n",
       "<table border=\"1\" class=\"dataframe\">\n",
       "  <thead>\n",
       "    <tr style=\"text-align: right;\">\n",
       "      <th></th>\n",
       "      <th>t</th>\n",
       "    </tr>\n",
       "  </thead>\n",
       "  <tbody>\n",
       "    <tr>\n",
       "      <th>645</th>\n",
       "      <td>2020-02-03 14:30:00</td>\n",
       "    </tr>\n",
       "    <tr>\n",
       "      <th>163</th>\n",
       "      <td>2018-03-05 14:30:00</td>\n",
       "    </tr>\n",
       "    <tr>\n",
       "      <th>380</th>\n",
       "      <td>2019-01-14 14:30:00</td>\n",
       "    </tr>\n",
       "    <tr>\n",
       "      <th>602</th>\n",
       "      <td>2019-11-29 14:30:00</td>\n",
       "    </tr>\n",
       "    <tr>\n",
       "      <th>431</th>\n",
       "      <td>2019-03-28 13:30:00</td>\n",
       "    </tr>\n",
       "  </tbody>\n",
       "</table>\n",
       "</div>"
      ],
      "text/plain": [
       "                      t\n",
       "645 2020-02-03 14:30:00\n",
       "163 2018-03-05 14:30:00\n",
       "380 2019-01-14 14:30:00\n",
       "602 2019-11-29 14:30:00\n",
       "431 2019-03-28 13:30:00"
      ]
     },
     "execution_count": 6,
     "metadata": {},
     "output_type": "execute_result"
    }
   ],
   "source": [
    "from sklearn.model_selection import train_test_split\n",
    "\n",
    "X = pd.get_dummies(X)\n",
    "\n",
    "X_train, X_test, y_train, y_test = train_test_split(X, y, random_state=42)\n",
    "\n",
    "X_train.head()"
   ]
  },
  {
   "cell_type": "code",
   "execution_count": 7,
   "metadata": {},
   "outputs": [],
   "source": [
    "from sklearn.preprocessing import StandardScaler\n",
    "X_scaler = StandardScaler().fit(X_train)\n",
    "y_scaler = StandardScaler().fit(y_train)"
   ]
  },
  {
   "cell_type": "code",
   "execution_count": 8,
   "metadata": {},
   "outputs": [],
   "source": [
    "X_train_scaled = X_scaler.transform(X_train)\n",
    "X_test_scaled = X_scaler.transform(X_test)\n",
    "y_train_scaled = y_scaler.transform(y_train)\n",
    "y_test_scaled = y_scaler.transform(y_test)"
   ]
  },
  {
   "cell_type": "code",
   "execution_count": 9,
   "metadata": {},
   "outputs": [
    {
     "data": {
      "image/png": "[encoded data removed]",
      "text/plain": [
       "<Figure size 432x288 with 1 Axes>"
      ]
     },
     "metadata": {
      "needs_background": "light"
     },
     "output_type": "display_data"
    }
   ],
   "source": [
    "from sklearn.linear_model import LinearRegression\n",
    "model = LinearRegression()\n",
    "model.fit(X_train_scaled, y_train_scaled)\n",
    "plt.scatter(model.predict(X_train_scaled), model.predict(X_train_scaled) - y_train_scaled, c=\"blue\", label=\"Training Data\")\n",
    "plt.scatter(model.predict(X_test_scaled), model.predict(X_test_scaled) - y_test_scaled, c=\"orange\", label=\"Testing Data\")\n",
    "plt.legend()\n",
    "plt.hlines(y=0, xmin=y_test_scaled.min(), xmax=y_test_scaled.max())\n",
    "plt.title(\"Residual Plot\")\n",
    "plt.show()"
   ]
  },
  {
   "cell_type": "code",
   "execution_count": 10,
   "metadata": {},
   "outputs": [
    {
     "data": {
      "text/plain": [
       "array([[-0.26107207],\n",
       "       [ 1.3198799 ],\n",
       "       [-0.38132072],\n",
       "       [-0.05271441],\n",
       "       [-0.12909185],\n",
       "       [-0.5807575 ],\n",
       "       [ 1.1761681 ],\n",
       "       [-0.72740219],\n",
       "       [ 0.96781044],\n",
       "       [-0.38425361],\n",
       "       [ 1.38428136],\n",
       "       [-0.77127339],\n",
       "       [ 1.30814832],\n",
       "       [-1.14680601],\n",
       "       [ 1.40187872],\n",
       "       [ 0.77130655],\n",
       "       [ 0.39589614],\n",
       "       [-0.22294445],\n",
       "       [ 1.26708781],\n",
       "       [ 0.21417893],\n",
       "       [ 0.03233951],\n",
       "       [-0.0585802 ],\n",
       "       [-0.25227339],\n",
       "       [ 0.66278948],\n",
       "       [-0.28160233],\n",
       "       [-0.09096423],\n",
       "       [-0.40771676],\n",
       "       [-1.2465244 ],\n",
       "       [ 1.34627594],\n",
       "       [-0.0556473 ],\n",
       "       [-0.9091194 ],\n",
       "       [ 0.6510579 ],\n",
       "       [-0.89445493],\n",
       "       [-1.01763647],\n",
       "       [ 0.51907768],\n",
       "       [-0.47810622],\n",
       "       [-0.57195882],\n",
       "       [ 0.2728368 ],\n",
       "       [-0.4399786 ],\n",
       "       [-0.9120523 ],\n",
       "       [-0.41651545],\n",
       "       [-1.17613494],\n",
       "       [ 0.02354083],\n",
       "       [ 0.9355486 ],\n",
       "       [ 1.24655755],\n",
       "       [ 1.01192605],\n",
       "       [ 1.32281279],\n",
       "       [ 0.25230655],\n",
       "       [-1.15853758],\n",
       "       [ 0.56013819],\n",
       "       [-0.29919969],\n",
       "       [-1.0997575 ],\n",
       "       [ 0.28163549],\n",
       "       [-1.43129671],\n",
       "       [-1.20839678],\n",
       "       [ 0.14965526],\n",
       "       [ 0.84756179],\n",
       "       [-0.02925126],\n",
       "       [ 1.28761806],\n",
       "       [ 0.70678289],\n",
       "       [-1.34624279],\n",
       "       [-0.54262988],\n",
       "       [ 1.04125498],\n",
       "       [-1.15560469],\n",
       "       [ 1.09697997],\n",
       "       [ 0.9384815 ],\n",
       "       [-0.58369039],\n",
       "       [-1.2435915 ],\n",
       "       [-0.89738783],\n",
       "       [-0.15842079],\n",
       "       [-0.50743515],\n",
       "       [-1.46649143],\n",
       "       [ 0.44575534],\n",
       "       [-1.13800732],\n",
       "       [-0.19361552],\n",
       "       [ 1.44000634],\n",
       "       [-0.11736028],\n",
       "       [ 1.05005367],\n",
       "       [-0.97071017],\n",
       "       [ 1.38134846],\n",
       "       [-0.42531413],\n",
       "       [ 1.29934964],\n",
       "       [ 1.40481161],\n",
       "       [ 1.13804048],\n",
       "       [-0.91498519],\n",
       "       [ 0.05286977],\n",
       "       [-1.22306124],\n",
       "       [-0.84752863],\n",
       "       [-1.34917568],\n",
       "       [-1.18493363],\n",
       "       [ 1.09404707],\n",
       "       [-0.52503252],\n",
       "       [-1.28758491],\n",
       "       [ 0.76544076],\n",
       "       [-1.18200073],\n",
       "       [-0.69514036],\n",
       "       [-0.77420629],\n",
       "       [ 1.20549704],\n",
       "       [ 0.03527241],\n",
       "       [ 1.32574568],\n",
       "       [ 0.57773556],\n",
       "       [-0.11442738],\n",
       "       [-0.41944834],\n",
       "       [ 0.80356838],\n",
       "       [-1.20253099],\n",
       "       [ 1.15270495],\n",
       "       [-1.26705465],\n",
       "       [-0.97657596],\n",
       "       [-0.35492468],\n",
       "       [-1.30811517],\n",
       "       [ 1.14097337],\n",
       "       [-0.65407984],\n",
       "       [-1.44889407],\n",
       "       [-1.0528312 ],\n",
       "       [-0.81233391],\n",
       "       [-0.21707867],\n",
       "       [-0.48983779],\n",
       "       [-0.6276838 ],\n",
       "       [-0.27280365],\n",
       "       [-0.85632731],\n",
       "       [-0.03218415],\n",
       "       [ 0.05580266],\n",
       "       [-0.56902592],\n",
       "       [ 1.44293923],\n",
       "       [ 0.60999739],\n",
       "       [-1.11735486],\n",
       "       [ 0.02647372],\n",
       "       [ 1.11751022],\n",
       "       [ 0.75077629],\n",
       "       [-1.30224938],\n",
       "       [-1.02056937],\n",
       "       [ 1.24362466],\n",
       "       [-1.24065861],\n",
       "       [-0.06750108],\n",
       "       [ 0.68331974],\n",
       "       [-1.37263883],\n",
       "       [-0.79766944],\n",
       "       [ 0.72731314],\n",
       "       [-0.2962668 ],\n",
       "       [-1.01470358],\n",
       "       [-1.13507443],\n",
       "       [-1.26118886],\n",
       "       [-0.54849567],\n",
       "       [ 0.87102494],\n",
       "       [ 0.41935929],\n",
       "       [-0.23467603],\n",
       "       [-0.14082343],\n",
       "       [ 0.79183681],\n",
       "       [-1.40196777],\n",
       "       [ 0.66865527],\n",
       "       [ 0.59826581],\n",
       "       [ 0.97074333],\n",
       "       [ 1.10284575],\n",
       "       [-1.22012835],\n",
       "       [ 0.68625263],\n",
       "       [ 0.65985658],\n",
       "       [-1.35210857],\n",
       "       [-0.70687193],\n",
       "       [ 0.27870259],\n",
       "       [ 1.42240898],\n",
       "       [ 1.01779183],\n",
       "       [ 0.35776852],\n",
       "       [ 0.85636047],\n",
       "       [ 0.06753424],\n",
       "       [-0.04684862],\n",
       "       [ 0.1320579 ],\n",
       "       [ 0.33430537],\n",
       "       [ 1.06178524],\n",
       "       [ 0.04407109],\n",
       "       [-0.56316014],\n",
       "       [ 1.19963125],\n",
       "       [ 0.19071578],\n",
       "       [-0.73326798]])"
      ]
     },
     "execution_count": 10,
     "metadata": {},
     "output_type": "execute_result"
    }
   ],
   "source": [
    "predictions = model.predict(X_test_scaled)\n",
    "predictions"
   ]
  },
  {
   "cell_type": "code",
   "execution_count": null,
   "metadata": {},
   "outputs": [],
   "source": []
  },
  {
   "cell_type": "code",
   "execution_count": null,
   "metadata": {},
   "outputs": [],
   "source": [
    "new_data['mon_fri'] = 0\n",
    "for i in range(0,len(new_data)):\n",
    "    if (new_data['Dayofweek'][i] == 0 or new_data['Dayofweek'][i] == 4):\n",
    "        new_data['mon_fri'][i] = 1\n",
    "    else:\n",
    "        new_data['mon_fri'][i] = 0"
   ]
  },
  {
   "cell_type": "code",
   "execution_count": null,
   "metadata": {},
   "outputs": [],
   "source": [
    "#split into train and validation\n",
    "train = new_data[:987]\n",
    "valid = new_data[987:]\n",
    "\n",
    "x_train = train.drop('Close', axis=1)\n",
    "y_train = train['Close']\n",
    "x_valid = valid.drop('Close', axis=1)\n",
    "y_valid = valid['Close']\n",
    "\n",
    "#implement linear regression\n",
    "from sklearn.linear_model import LinearRegression\n",
    "model = LinearRegression()\n",
    "model.fit(x_train,y_train)"
   ]
  },
  {
   "cell_type": "code",
   "execution_count": null,
   "metadata": {},
   "outputs": [],
   "source": [
    "#make predictions and find the rmse\n",
    "preds = model.predict(X_test_scaled)\n",
    "rms=np.sqrt(np.mean(np.power((np.array(y_test_scaled)-np.array(preds)),2)))\n",
    "rms"
   ]
  },
  {
   "cell_type": "code",
   "execution_count": null,
   "metadata": {},
   "outputs": [],
   "source": [
    "from sklearn.metrics import mean_squared_error\n",
    "\n",
    "predictions = model.predict(X_test_scaled)\n",
    "MSE = mean_squared_error(y_test_scaled, predictions)\n",
    "r2 = model.score(X_test_scaled, y_test_scaled)\n",
    "\n",
    "print(f\"MSE: {MSE}, R2: {r2}\")"
   ]
  },
  {
   "cell_type": "code",
   "execution_count": null,
   "metadata": {},
   "outputs": [],
   "source": [
    "#plot\n",
    "valid['Predictions'] = 0\n",
    "valid['Predictions'] = preds\n",
    "\n",
    "valid.index = new_data[987:].index\n",
    "train.index = new_data[:987].index\n",
    "\n",
    "plt.plot(train['Close'])\n",
    "plt.plot(valid[['Close', 'Predictions']])"
   ]
  },
  {
   "cell_type": "markdown",
   "metadata": {},
   "source": [
    "# K-Nearest Neighbours"
   ]
  },
  {
   "cell_type": "code",
   "execution_count": 11,
   "metadata": {},
   "outputs": [],
   "source": [
    "import matplotlib.pyplot as plt\n",
    "from sklearn.datasets import load_iris\n",
    "from sklearn.model_selection import train_test_split\n",
    "from sklearn.neighbors import KNeighborsClassifier\n",
    "from sklearn.metrics import accuracy_score"
   ]
  },
  {
   "cell_type": "code",
   "execution_count": 12,
   "metadata": {},
   "outputs": [
    {
     "data": {
      "text/html": [
       "<div>\n",
       "<style scoped>\n",
       "    .dataframe tbody tr th:only-of-type {\n",
       "        vertical-align: middle;\n",
       "    }\n",
       "\n",
       "    .dataframe tbody tr th {\n",
       "        vertical-align: top;\n",
       "    }\n",
       "\n",
       "    .dataframe thead th {\n",
       "        text-align: right;\n",
       "    }\n",
       "</style>\n",
       "<table border=\"1\" class=\"dataframe\">\n",
       "  <thead>\n",
       "    <tr style=\"text-align: right;\">\n",
       "      <th></th>\n",
       "      <th>c</th>\n",
       "      <th>h</th>\n",
       "      <th>l</th>\n",
       "      <th>o</th>\n",
       "      <th>s</th>\n",
       "      <th>t</th>\n",
       "      <th>v</th>\n",
       "    </tr>\n",
       "  </thead>\n",
       "  <tbody>\n",
       "    <tr>\n",
       "      <th>0</th>\n",
       "      <td>42.89</td>\n",
       "      <td>43.22</td>\n",
       "      <td>42.80</td>\n",
       "      <td>43.21</td>\n",
       "      <td>ok</td>\n",
       "      <td>1499779800</td>\n",
       "      <td>13249500</td>\n",
       "    </tr>\n",
       "    <tr>\n",
       "      <th>1</th>\n",
       "      <td>43.22</td>\n",
       "      <td>43.38</td>\n",
       "      <td>43.00</td>\n",
       "      <td>43.04</td>\n",
       "      <td>ok</td>\n",
       "      <td>1499866200</td>\n",
       "      <td>11388900</td>\n",
       "    </tr>\n",
       "    <tr>\n",
       "      <th>2</th>\n",
       "      <td>43.49</td>\n",
       "      <td>43.54</td>\n",
       "      <td>43.04</td>\n",
       "      <td>43.15</td>\n",
       "      <td>ok</td>\n",
       "      <td>1499952600</td>\n",
       "      <td>12140500</td>\n",
       "    </tr>\n",
       "    <tr>\n",
       "      <th>3</th>\n",
       "      <td>43.56</td>\n",
       "      <td>43.82</td>\n",
       "      <td>43.41</td>\n",
       "      <td>43.63</td>\n",
       "      <td>ok</td>\n",
       "      <td>1500039000</td>\n",
       "      <td>11986800</td>\n",
       "    </tr>\n",
       "    <tr>\n",
       "      <th>4</th>\n",
       "      <td>43.66</td>\n",
       "      <td>43.86</td>\n",
       "      <td>43.56</td>\n",
       "      <td>43.63</td>\n",
       "      <td>ok</td>\n",
       "      <td>1500298200</td>\n",
       "      <td>10804200</td>\n",
       "    </tr>\n",
       "    <tr>\n",
       "      <th>...</th>\n",
       "      <td>...</td>\n",
       "      <td>...</td>\n",
       "      <td>...</td>\n",
       "      <td>...</td>\n",
       "      <td>...</td>\n",
       "      <td>...</td>\n",
       "      <td>...</td>\n",
       "    </tr>\n",
       "    <tr>\n",
       "      <th>684</th>\n",
       "      <td>54.77</td>\n",
       "      <td>55.03</td>\n",
       "      <td>52.94</td>\n",
       "      <td>53.49</td>\n",
       "      <td>ok</td>\n",
       "      <td>1585575000</td>\n",
       "      <td>20660200</td>\n",
       "    </tr>\n",
       "    <tr>\n",
       "      <th>685</th>\n",
       "      <td>53.73</td>\n",
       "      <td>54.54</td>\n",
       "      <td>53.55</td>\n",
       "      <td>54.07</td>\n",
       "      <td>ok</td>\n",
       "      <td>1585661400</td>\n",
       "      <td>21251800</td>\n",
       "    </tr>\n",
       "    <tr>\n",
       "      <th>686</th>\n",
       "      <td>52.92</td>\n",
       "      <td>53.45</td>\n",
       "      <td>52.16</td>\n",
       "      <td>52.50</td>\n",
       "      <td>ok</td>\n",
       "      <td>1585747800</td>\n",
       "      <td>18672600</td>\n",
       "    </tr>\n",
       "    <tr>\n",
       "      <th>687</th>\n",
       "      <td>55.25</td>\n",
       "      <td>55.50</td>\n",
       "      <td>53.09</td>\n",
       "      <td>53.56</td>\n",
       "      <td>ok</td>\n",
       "      <td>1585834200</td>\n",
       "      <td>20159400</td>\n",
       "    </tr>\n",
       "    <tr>\n",
       "      <th>688</th>\n",
       "      <td>54.70</td>\n",
       "      <td>55.24</td>\n",
       "      <td>54.28</td>\n",
       "      <td>55.00</td>\n",
       "      <td>ok</td>\n",
       "      <td>1585920600</td>\n",
       "      <td>17604300</td>\n",
       "    </tr>\n",
       "  </tbody>\n",
       "</table>\n",
       "<p>689 rows × 7 columns</p>\n",
       "</div>"
      ],
      "text/plain": [
       "         c      h      l      o   s           t         v\n",
       "0    42.89  43.22  42.80  43.21  ok  1499779800  13249500\n",
       "1    43.22  43.38  43.00  43.04  ok  1499866200  11388900\n",
       "2    43.49  43.54  43.04  43.15  ok  1499952600  12140500\n",
       "3    43.56  43.82  43.41  43.63  ok  1500039000  11986800\n",
       "4    43.66  43.86  43.56  43.63  ok  1500298200  10804200\n",
       "..     ...    ...    ...    ...  ..         ...       ...\n",
       "684  54.77  55.03  52.94  53.49  ok  1585575000  20660200\n",
       "685  53.73  54.54  53.55  54.07  ok  1585661400  21251800\n",
       "686  52.92  53.45  52.16  52.50  ok  1585747800  18672600\n",
       "687  55.25  55.50  53.09  53.56  ok  1585834200  20159400\n",
       "688  54.70  55.24  54.28  55.00  ok  1585920600  17604300\n",
       "\n",
       "[689 rows x 7 columns]"
      ]
     },
     "execution_count": 12,
     "metadata": {},
     "output_type": "execute_result"
    }
   ],
   "source": [
    "#read the file\n",
    "df = pd.read_json (r'VZ.json')\n",
    "\n",
    "#print the head\n",
    "df"
   ]
  },
  {
   "cell_type": "code",
   "execution_count": 13,
   "metadata": {},
   "outputs": [
    {
     "data": {
      "text/html": [
       "<div>\n",
       "<style scoped>\n",
       "    .dataframe tbody tr th:only-of-type {\n",
       "        vertical-align: middle;\n",
       "    }\n",
       "\n",
       "    .dataframe tbody tr th {\n",
       "        vertical-align: top;\n",
       "    }\n",
       "\n",
       "    .dataframe thead th {\n",
       "        text-align: right;\n",
       "    }\n",
       "</style>\n",
       "<table border=\"1\" class=\"dataframe\">\n",
       "  <thead>\n",
       "    <tr style=\"text-align: right;\">\n",
       "      <th></th>\n",
       "      <th>Close</th>\n",
       "      <th>High</th>\n",
       "      <th>Low</th>\n",
       "      <th>Open</th>\n",
       "      <th>Status</th>\n",
       "      <th>Date</th>\n",
       "      <th>Volume</th>\n",
       "    </tr>\n",
       "  </thead>\n",
       "  <tbody>\n",
       "    <tr>\n",
       "      <th>0</th>\n",
       "      <td>42.89</td>\n",
       "      <td>43.22</td>\n",
       "      <td>42.80</td>\n",
       "      <td>43.21</td>\n",
       "      <td>ok</td>\n",
       "      <td>2017-07-11 13:30:00</td>\n",
       "      <td>13249500</td>\n",
       "    </tr>\n",
       "    <tr>\n",
       "      <th>1</th>\n",
       "      <td>43.22</td>\n",
       "      <td>43.38</td>\n",
       "      <td>43.00</td>\n",
       "      <td>43.04</td>\n",
       "      <td>ok</td>\n",
       "      <td>2017-07-12 13:30:00</td>\n",
       "      <td>11388900</td>\n",
       "    </tr>\n",
       "    <tr>\n",
       "      <th>2</th>\n",
       "      <td>43.49</td>\n",
       "      <td>43.54</td>\n",
       "      <td>43.04</td>\n",
       "      <td>43.15</td>\n",
       "      <td>ok</td>\n",
       "      <td>2017-07-13 13:30:00</td>\n",
       "      <td>12140500</td>\n",
       "    </tr>\n",
       "    <tr>\n",
       "      <th>3</th>\n",
       "      <td>43.56</td>\n",
       "      <td>43.82</td>\n",
       "      <td>43.41</td>\n",
       "      <td>43.63</td>\n",
       "      <td>ok</td>\n",
       "      <td>2017-07-14 13:30:00</td>\n",
       "      <td>11986800</td>\n",
       "    </tr>\n",
       "    <tr>\n",
       "      <th>4</th>\n",
       "      <td>43.66</td>\n",
       "      <td>43.86</td>\n",
       "      <td>43.56</td>\n",
       "      <td>43.63</td>\n",
       "      <td>ok</td>\n",
       "      <td>2017-07-17 13:30:00</td>\n",
       "      <td>10804200</td>\n",
       "    </tr>\n",
       "  </tbody>\n",
       "</table>\n",
       "</div>"
      ],
      "text/plain": [
       "   Close   High    Low   Open Status                Date    Volume\n",
       "0  42.89  43.22  42.80  43.21     ok 2017-07-11 13:30:00  13249500\n",
       "1  43.22  43.38  43.00  43.04     ok 2017-07-12 13:30:00  11388900\n",
       "2  43.49  43.54  43.04  43.15     ok 2017-07-13 13:30:00  12140500\n",
       "3  43.56  43.82  43.41  43.63     ok 2017-07-14 13:30:00  11986800\n",
       "4  43.66  43.86  43.56  43.63     ok 2017-07-17 13:30:00  10804200"
      ]
     },
     "execution_count": 13,
     "metadata": {},
     "output_type": "execute_result"
    }
   ],
   "source": [
    "df['t'] = pd.to_datetime(df['t'], unit='s')\n",
    "df = df.rename(columns={'c': 'Close', 'h': 'High', 'l':'Low',  'o': 'Open', 's': 'Status', 't': 'Date', 'v': 'Volume'})\n",
    "df.head()"
   ]
  },
  {
   "cell_type": "code",
   "execution_count": 14,
   "metadata": {},
   "outputs": [
    {
     "data": {
      "text/html": [
       "<div>\n",
       "<style scoped>\n",
       "    .dataframe tbody tr th:only-of-type {\n",
       "        vertical-align: middle;\n",
       "    }\n",
       "\n",
       "    .dataframe tbody tr th {\n",
       "        vertical-align: top;\n",
       "    }\n",
       "\n",
       "    .dataframe thead th {\n",
       "        text-align: right;\n",
       "    }\n",
       "</style>\n",
       "<table border=\"1\" class=\"dataframe\">\n",
       "  <thead>\n",
       "    <tr style=\"text-align: right;\">\n",
       "      <th></th>\n",
       "      <th>Open-Close</th>\n",
       "      <th>High-Low</th>\n",
       "    </tr>\n",
       "  </thead>\n",
       "  <tbody>\n",
       "    <tr>\n",
       "      <th>0</th>\n",
       "      <td>0.32</td>\n",
       "      <td>0.42</td>\n",
       "    </tr>\n",
       "    <tr>\n",
       "      <th>1</th>\n",
       "      <td>-0.18</td>\n",
       "      <td>0.38</td>\n",
       "    </tr>\n",
       "    <tr>\n",
       "      <th>2</th>\n",
       "      <td>-0.34</td>\n",
       "      <td>0.50</td>\n",
       "    </tr>\n",
       "    <tr>\n",
       "      <th>3</th>\n",
       "      <td>0.07</td>\n",
       "      <td>0.41</td>\n",
       "    </tr>\n",
       "    <tr>\n",
       "      <th>4</th>\n",
       "      <td>-0.03</td>\n",
       "      <td>0.30</td>\n",
       "    </tr>\n",
       "  </tbody>\n",
       "</table>\n",
       "</div>"
      ],
      "text/plain": [
       "   Open-Close  High-Low\n",
       "0        0.32      0.42\n",
       "1       -0.18      0.38\n",
       "2       -0.34      0.50\n",
       "3        0.07      0.41\n",
       "4       -0.03      0.30"
      ]
     },
     "execution_count": 14,
     "metadata": {},
     "output_type": "execute_result"
    }
   ],
   "source": [
    "# Predictor variables\n",
    "df['Open-Close']= df.Open -df.Close\n",
    "df['High-Low']  = df.High - df.Low\n",
    "df =df.dropna()\n",
    "X= df[['Open-Close', 'High-Low']]\n",
    "X.head()"
   ]
  },
  {
   "cell_type": "code",
   "execution_count": 15,
   "metadata": {},
   "outputs": [],
   "source": [
    "# Target variable\n",
    "Y= np.where(df['Close'].shift(-1)>df['Close'],1,-1)"
   ]
  },
  {
   "cell_type": "code",
   "execution_count": 16,
   "metadata": {},
   "outputs": [],
   "source": [
    "# Splitting the dataset\n",
    "split_percentage = 0.7\n",
    "split = int(split_percentage*len(df))\n",
    "\n",
    "X_train = X[:split]\n",
    "Y_train = Y[:split]\n",
    "\n",
    "X_test = X[split:]\n",
    "Y_test = Y[split:]"
   ]
  },
  {
   "cell_type": "code",
   "execution_count": null,
   "metadata": {},
   "outputs": [],
   "source": []
  },
  {
   "cell_type": "code",
   "execution_count": 17,
   "metadata": {},
   "outputs": [
    {
     "name": "stdout",
     "output_type": "stream",
     "text": [
      "k: 1, Train/Test Score: 0.998/0.493\n",
      "k: 3, Train/Test Score: 0.751/0.449\n",
      "k: 5, Train/Test Score: 0.674/0.473\n",
      "k: 7, Train/Test Score: 0.683/0.527\n",
      "k: 9, Train/Test Score: 0.664/0.546\n",
      "k: 11, Train/Test Score: 0.654/0.507\n",
      "k: 13, Train/Test Score: 0.624/0.512\n",
      "k: 15, Train/Test Score: 0.608/0.498\n",
      "k: 17, Train/Test Score: 0.593/0.531\n",
      "k: 19, Train/Test Score: 0.579/0.464\n",
      "k: 21, Train/Test Score: 0.591/0.469\n",
      "k: 23, Train/Test Score: 0.568/0.469\n",
      "k: 25, Train/Test Score: 0.564/0.440\n",
      "k: 27, Train/Test Score: 0.571/0.454\n",
      "k: 29, Train/Test Score: 0.541/0.440\n",
      "k: 31, Train/Test Score: 0.531/0.449\n",
      "k: 33, Train/Test Score: 0.539/0.454\n",
      "k: 35, Train/Test Score: 0.537/0.473\n",
      "k: 37, Train/Test Score: 0.519/0.478\n",
      "k: 39, Train/Test Score: 0.512/0.502\n",
      "k: 41, Train/Test Score: 0.523/0.493\n",
      "k: 43, Train/Test Score: 0.519/0.473\n",
      "k: 45, Train/Test Score: 0.512/0.483\n",
      "k: 47, Train/Test Score: 0.517/0.507\n",
      "k: 49, Train/Test Score: 0.512/0.507\n"
     ]
    }
   ],
   "source": [
    "train_scores = []\n",
    "test_scores = []\n",
    "for k in range(1, 50, 2):\n",
    "    knn = KNeighborsClassifier(n_neighbors=k)\n",
    "    knn.fit(X_train, Y_train)\n",
    "    train_score = knn.score(X_train, Y_train)\n",
    "    test_score = knn.score(X_test, Y_test)\n",
    "    train_scores.append(train_score)\n",
    "    test_scores.append(test_score)\n",
    "    print(f\"k: {k}, Train/Test Score: {train_score:.3f}/{test_score:.3f}\")"
   ]
  },
  {
   "cell_type": "code",
   "execution_count": 18,
   "metadata": {},
   "outputs": [
    {
     "data": {
      "image/png": "[encoded data removed]",
      "text/plain": [
       "<Figure size 432x288 with 1 Axes>"
      ]
     },
     "metadata": {
      "needs_background": "light"
     },
     "output_type": "display_data"
    }
   ],
   "source": [
    "plt.plot(range(1, 50, 2), train_scores, marker='o')\n",
    "plt.plot(range(1, 50, 2), test_scores, marker=\"x\")\n",
    "plt.xlabel(\"k neighbors\")\n",
    "plt.ylabel(\"Testing accuracy Score\")\n",
    "plt.show()"
   ]
  },
  {
   "cell_type": "code",
   "execution_count": 19,
   "metadata": {},
   "outputs": [
    {
     "name": "stdout",
     "output_type": "stream",
     "text": [
      "Train_data Accuracy: 0.61\n",
      "Test_data Accuracy: 0.50\n"
     ]
    }
   ],
   "source": [
    "# Instantiate KNN learning model(k=15)\n",
    "knn = KNeighborsClassifier(n_neighbors=15)\n",
    "# fit the model\n",
    "knn.fit(X_train, Y_train)\n",
    "\n",
    "# Accuracy Score\n",
    "accuracy_train = accuracy_score(Y_train, knn.predict(X_train))\n",
    "accuracy_test = accuracy_score(Y_test, knn.predict(X_test))\n",
    "\n",
    "print ('Train_data Accuracy: %.2f' %accuracy_train)\n",
    "print ('Test_data Accuracy: %.2f' %accuracy_test)"
   ]
  },
  {
   "cell_type": "code",
   "execution_count": 20,
   "metadata": {},
   "outputs": [
    {
     "data": {
      "text/plain": [
       "482"
      ]
     },
     "execution_count": 20,
     "metadata": {},
     "output_type": "execute_result"
    }
   ],
   "source": [
    "len(Y_train)"
   ]
  },
  {
   "cell_type": "code",
   "execution_count": 21,
   "metadata": {},
   "outputs": [
    {
     "data": {
      "text/plain": [
       "array([ 1,  1,  1, -1, -1,  1, -1, -1,  1, -1, -1,  1,  1,  1,  1,  1,  1,\n",
       "        1, -1, -1,  1,  1,  1,  1,  1,  1,  1, -1,  1, -1,  1,  1, -1,  1,\n",
       "       -1, -1,  1,  1, -1,  1,  1,  1,  1, -1, -1,  1, -1, -1, -1,  1,  1,\n",
       "        1,  1, -1, -1, -1,  1,  1,  1,  1, -1,  1, -1,  1, -1,  1,  1,  1,\n",
       "        1,  1,  1, -1, -1,  1, -1,  1,  1,  1, -1, -1, -1,  1, -1,  1, -1,\n",
       "        1, -1,  1, -1,  1,  1,  1, -1, -1, -1,  1,  1,  1, -1, -1,  1,  1,\n",
       "        1, -1,  1,  1, -1,  1,  1, -1,  1,  1, -1,  1,  1, -1, -1,  1, -1,\n",
       "       -1, -1, -1, -1,  1, -1,  1, -1, -1,  1,  1,  1,  1, -1,  1, -1, -1,\n",
       "        1,  1, -1,  1,  1,  1,  1,  1, -1,  1,  1,  1, -1,  1, -1, -1,  1,\n",
       "        1,  1,  1, -1, -1, -1, -1,  1, -1,  1,  1,  1,  1,  1,  1,  1,  1,\n",
       "        1,  1, -1, -1, -1, -1,  1,  1, -1,  1,  1, -1, -1,  1, -1,  1, -1,\n",
       "        1,  1,  1,  1, -1,  1, -1,  1, -1,  1,  1,  1,  1, -1,  1,  1,  1,\n",
       "        1, -1,  1])"
      ]
     },
     "execution_count": 21,
     "metadata": {},
     "output_type": "execute_result"
    }
   ],
   "source": [
    "pred = knn.predict(X_test)\n",
    "pred"
   ]
  },
  {
   "cell_type": "code",
   "execution_count": 22,
   "metadata": {},
   "outputs": [
    {
     "data": {
      "text/html": [
       "<div>\n",
       "<style scoped>\n",
       "    .dataframe tbody tr th:only-of-type {\n",
       "        vertical-align: middle;\n",
       "    }\n",
       "\n",
       "    .dataframe tbody tr th {\n",
       "        vertical-align: top;\n",
       "    }\n",
       "\n",
       "    .dataframe thead th {\n",
       "        text-align: right;\n",
       "    }\n",
       "</style>\n",
       "<table border=\"1\" class=\"dataframe\">\n",
       "  <thead>\n",
       "    <tr style=\"text-align: right;\">\n",
       "      <th></th>\n",
       "      <th>Prediction</th>\n",
       "      <th>Actual</th>\n",
       "    </tr>\n",
       "  </thead>\n",
       "  <tbody>\n",
       "    <tr>\n",
       "      <th>0</th>\n",
       "      <td>1</td>\n",
       "      <td>1</td>\n",
       "    </tr>\n",
       "    <tr>\n",
       "      <th>1</th>\n",
       "      <td>1</td>\n",
       "      <td>1</td>\n",
       "    </tr>\n",
       "    <tr>\n",
       "      <th>2</th>\n",
       "      <td>1</td>\n",
       "      <td>1</td>\n",
       "    </tr>\n",
       "    <tr>\n",
       "      <th>3</th>\n",
       "      <td>-1</td>\n",
       "      <td>-1</td>\n",
       "    </tr>\n",
       "    <tr>\n",
       "      <th>4</th>\n",
       "      <td>-1</td>\n",
       "      <td>-1</td>\n",
       "    </tr>\n",
       "    <tr>\n",
       "      <th>...</th>\n",
       "      <td>...</td>\n",
       "      <td>...</td>\n",
       "    </tr>\n",
       "    <tr>\n",
       "      <th>202</th>\n",
       "      <td>1</td>\n",
       "      <td>-1</td>\n",
       "    </tr>\n",
       "    <tr>\n",
       "      <th>203</th>\n",
       "      <td>1</td>\n",
       "      <td>-1</td>\n",
       "    </tr>\n",
       "    <tr>\n",
       "      <th>204</th>\n",
       "      <td>1</td>\n",
       "      <td>1</td>\n",
       "    </tr>\n",
       "    <tr>\n",
       "      <th>205</th>\n",
       "      <td>-1</td>\n",
       "      <td>-1</td>\n",
       "    </tr>\n",
       "    <tr>\n",
       "      <th>206</th>\n",
       "      <td>1</td>\n",
       "      <td>-1</td>\n",
       "    </tr>\n",
       "  </tbody>\n",
       "</table>\n",
       "<p>207 rows × 2 columns</p>\n",
       "</div>"
      ],
      "text/plain": [
       "     Prediction  Actual\n",
       "0             1       1\n",
       "1             1       1\n",
       "2             1       1\n",
       "3            -1      -1\n",
       "4            -1      -1\n",
       "..          ...     ...\n",
       "202           1      -1\n",
       "203           1      -1\n",
       "204           1       1\n",
       "205          -1      -1\n",
       "206           1      -1\n",
       "\n",
       "[207 rows x 2 columns]"
      ]
     },
     "execution_count": 22,
     "metadata": {},
     "output_type": "execute_result"
    }
   ],
   "source": [
    "pd.DataFrame({\"Prediction\": pred, 'Actual': Y_test})"
   ]
  },
  {
   "cell_type": "code",
   "execution_count": 23,
   "metadata": {},
   "outputs": [
    {
     "data": {
      "image/png": "[encoded data removed]",
      "text/plain": [
       "<Figure size 720x360 with 1 Axes>"
      ]
     },
     "metadata": {
      "needs_background": "light"
     },
     "output_type": "display_data"
    }
   ],
   "source": [
    "# Predicted Signal\n",
    "df['Predicted_Signal'] = knn.predict(X)\n",
    "\n",
    "# SPY Cumulative Returns\n",
    "df['SPY_returns'] = np.log(df['Close']/df['Close'].shift(1))\n",
    "Cumulative_SPY_returns = df[split:]['SPY_returns'].cumsum()*100\n",
    "\n",
    "# Cumulative Strategy Returns \n",
    "df['Startegy_returns'] = df['SPY_returns']* df['Predicted_Signal'].shift(1)\n",
    "Cumulative_Strategy_returns = df[split:]['Startegy_returns'].cumsum()*100\n",
    "\n",
    "# Plot the results to visualize the performance\n",
    "\n",
    "plt.figure(figsize=(10,5))\n",
    "plt.plot(Cumulative_SPY_returns, color='r',label = 'SPY Returns')\n",
    "plt.plot(Cumulative_Strategy_returns, color='g', label = 'Strategy Returns')\n",
    "plt.legend()\n",
    "plt.show()"
   ]
  },
  {
   "cell_type": "code",
   "execution_count": 24,
   "metadata": {},
   "outputs": [
    {
     "data": {
      "text/html": [
       "<div>\n",
       "<style scoped>\n",
       "    .dataframe tbody tr th:only-of-type {\n",
       "        vertical-align: middle;\n",
       "    }\n",
       "\n",
       "    .dataframe tbody tr th {\n",
       "        vertical-align: top;\n",
       "    }\n",
       "\n",
       "    .dataframe thead th {\n",
       "        text-align: right;\n",
       "    }\n",
       "</style>\n",
       "<table border=\"1\" class=\"dataframe\">\n",
       "  <thead>\n",
       "    <tr style=\"text-align: right;\">\n",
       "      <th></th>\n",
       "      <th>Close</th>\n",
       "      <th>High</th>\n",
       "      <th>Low</th>\n",
       "      <th>Open</th>\n",
       "      <th>Status</th>\n",
       "      <th>Date</th>\n",
       "      <th>Volume</th>\n",
       "      <th>Open-Close</th>\n",
       "      <th>High-Low</th>\n",
       "      <th>Predicted_Signal</th>\n",
       "      <th>SPY_returns</th>\n",
       "      <th>Startegy_returns</th>\n",
       "    </tr>\n",
       "  </thead>\n",
       "  <tbody>\n",
       "    <tr>\n",
       "      <th>0</th>\n",
       "      <td>42.89</td>\n",
       "      <td>43.22</td>\n",
       "      <td>42.80</td>\n",
       "      <td>43.21</td>\n",
       "      <td>ok</td>\n",
       "      <td>2017-07-11 13:30:00</td>\n",
       "      <td>13249500</td>\n",
       "      <td>0.32</td>\n",
       "      <td>0.42</td>\n",
       "      <td>1</td>\n",
       "      <td>NaN</td>\n",
       "      <td>NaN</td>\n",
       "    </tr>\n",
       "    <tr>\n",
       "      <th>1</th>\n",
       "      <td>43.22</td>\n",
       "      <td>43.38</td>\n",
       "      <td>43.00</td>\n",
       "      <td>43.04</td>\n",
       "      <td>ok</td>\n",
       "      <td>2017-07-12 13:30:00</td>\n",
       "      <td>11388900</td>\n",
       "      <td>-0.18</td>\n",
       "      <td>0.38</td>\n",
       "      <td>1</td>\n",
       "      <td>0.007665</td>\n",
       "      <td>0.007665</td>\n",
       "    </tr>\n",
       "    <tr>\n",
       "      <th>2</th>\n",
       "      <td>43.49</td>\n",
       "      <td>43.54</td>\n",
       "      <td>43.04</td>\n",
       "      <td>43.15</td>\n",
       "      <td>ok</td>\n",
       "      <td>2017-07-13 13:30:00</td>\n",
       "      <td>12140500</td>\n",
       "      <td>-0.34</td>\n",
       "      <td>0.50</td>\n",
       "      <td>1</td>\n",
       "      <td>0.006228</td>\n",
       "      <td>0.006228</td>\n",
       "    </tr>\n",
       "    <tr>\n",
       "      <th>3</th>\n",
       "      <td>43.56</td>\n",
       "      <td>43.82</td>\n",
       "      <td>43.41</td>\n",
       "      <td>43.63</td>\n",
       "      <td>ok</td>\n",
       "      <td>2017-07-14 13:30:00</td>\n",
       "      <td>11986800</td>\n",
       "      <td>0.07</td>\n",
       "      <td>0.41</td>\n",
       "      <td>-1</td>\n",
       "      <td>0.001608</td>\n",
       "      <td>0.001608</td>\n",
       "    </tr>\n",
       "    <tr>\n",
       "      <th>4</th>\n",
       "      <td>43.66</td>\n",
       "      <td>43.86</td>\n",
       "      <td>43.56</td>\n",
       "      <td>43.63</td>\n",
       "      <td>ok</td>\n",
       "      <td>2017-07-17 13:30:00</td>\n",
       "      <td>10804200</td>\n",
       "      <td>-0.03</td>\n",
       "      <td>0.30</td>\n",
       "      <td>-1</td>\n",
       "      <td>0.002293</td>\n",
       "      <td>-0.002293</td>\n",
       "    </tr>\n",
       "    <tr>\n",
       "      <th>...</th>\n",
       "      <td>...</td>\n",
       "      <td>...</td>\n",
       "      <td>...</td>\n",
       "      <td>...</td>\n",
       "      <td>...</td>\n",
       "      <td>...</td>\n",
       "      <td>...</td>\n",
       "      <td>...</td>\n",
       "      <td>...</td>\n",
       "      <td>...</td>\n",
       "      <td>...</td>\n",
       "      <td>...</td>\n",
       "    </tr>\n",
       "    <tr>\n",
       "      <th>684</th>\n",
       "      <td>54.77</td>\n",
       "      <td>55.03</td>\n",
       "      <td>52.94</td>\n",
       "      <td>53.49</td>\n",
       "      <td>ok</td>\n",
       "      <td>2020-03-30 13:30:00</td>\n",
       "      <td>20660200</td>\n",
       "      <td>-1.28</td>\n",
       "      <td>2.09</td>\n",
       "      <td>1</td>\n",
       "      <td>0.037200</td>\n",
       "      <td>0.037200</td>\n",
       "    </tr>\n",
       "    <tr>\n",
       "      <th>685</th>\n",
       "      <td>53.73</td>\n",
       "      <td>54.54</td>\n",
       "      <td>53.55</td>\n",
       "      <td>54.07</td>\n",
       "      <td>ok</td>\n",
       "      <td>2020-03-31 13:30:00</td>\n",
       "      <td>21251800</td>\n",
       "      <td>0.34</td>\n",
       "      <td>0.99</td>\n",
       "      <td>1</td>\n",
       "      <td>-0.019171</td>\n",
       "      <td>-0.019171</td>\n",
       "    </tr>\n",
       "    <tr>\n",
       "      <th>686</th>\n",
       "      <td>52.92</td>\n",
       "      <td>53.45</td>\n",
       "      <td>52.16</td>\n",
       "      <td>52.50</td>\n",
       "      <td>ok</td>\n",
       "      <td>2020-04-01 13:30:00</td>\n",
       "      <td>18672600</td>\n",
       "      <td>-0.42</td>\n",
       "      <td>1.29</td>\n",
       "      <td>1</td>\n",
       "      <td>-0.015190</td>\n",
       "      <td>-0.015190</td>\n",
       "    </tr>\n",
       "    <tr>\n",
       "      <th>687</th>\n",
       "      <td>55.25</td>\n",
       "      <td>55.50</td>\n",
       "      <td>53.09</td>\n",
       "      <td>53.56</td>\n",
       "      <td>ok</td>\n",
       "      <td>2020-04-02 13:30:00</td>\n",
       "      <td>20159400</td>\n",
       "      <td>-1.69</td>\n",
       "      <td>2.41</td>\n",
       "      <td>-1</td>\n",
       "      <td>0.043087</td>\n",
       "      <td>0.043087</td>\n",
       "    </tr>\n",
       "    <tr>\n",
       "      <th>688</th>\n",
       "      <td>54.70</td>\n",
       "      <td>55.24</td>\n",
       "      <td>54.28</td>\n",
       "      <td>55.00</td>\n",
       "      <td>ok</td>\n",
       "      <td>2020-04-03 13:30:00</td>\n",
       "      <td>17604300</td>\n",
       "      <td>0.30</td>\n",
       "      <td>0.96</td>\n",
       "      <td>1</td>\n",
       "      <td>-0.010005</td>\n",
       "      <td>0.010005</td>\n",
       "    </tr>\n",
       "  </tbody>\n",
       "</table>\n",
       "<p>689 rows × 12 columns</p>\n",
       "</div>"
      ],
      "text/plain": [
       "     Close   High    Low   Open Status                Date    Volume  \\\n",
       "0    42.89  43.22  42.80  43.21     ok 2017-07-11 13:30:00  13249500   \n",
       "1    43.22  43.38  43.00  43.04     ok 2017-07-12 13:30:00  11388900   \n",
       "2    43.49  43.54  43.04  43.15     ok 2017-07-13 13:30:00  12140500   \n",
       "3    43.56  43.82  43.41  43.63     ok 2017-07-14 13:30:00  11986800   \n",
       "4    43.66  43.86  43.56  43.63     ok 2017-07-17 13:30:00  10804200   \n",
       "..     ...    ...    ...    ...    ...                 ...       ...   \n",
       "684  54.77  55.03  52.94  53.49     ok 2020-03-30 13:30:00  20660200   \n",
       "685  53.73  54.54  53.55  54.07     ok 2020-03-31 13:30:00  21251800   \n",
       "686  52.92  53.45  52.16  52.50     ok 2020-04-01 13:30:00  18672600   \n",
       "687  55.25  55.50  53.09  53.56     ok 2020-04-02 13:30:00  20159400   \n",
       "688  54.70  55.24  54.28  55.00     ok 2020-04-03 13:30:00  17604300   \n",
       "\n",
       "     Open-Close  High-Low  Predicted_Signal  SPY_returns  Startegy_returns  \n",
       "0          0.32      0.42                 1          NaN               NaN  \n",
       "1         -0.18      0.38                 1     0.007665          0.007665  \n",
       "2         -0.34      0.50                 1     0.006228          0.006228  \n",
       "3          0.07      0.41                -1     0.001608          0.001608  \n",
       "4         -0.03      0.30                -1     0.002293         -0.002293  \n",
       "..          ...       ...               ...          ...               ...  \n",
       "684       -1.28      2.09                 1     0.037200          0.037200  \n",
       "685        0.34      0.99                 1    -0.019171         -0.019171  \n",
       "686       -0.42      1.29                 1    -0.015190         -0.015190  \n",
       "687       -1.69      2.41                -1     0.043087          0.043087  \n",
       "688        0.30      0.96                 1    -0.010005          0.010005  \n",
       "\n",
       "[689 rows x 12 columns]"
      ]
     },
     "execution_count": 24,
     "metadata": {},
     "output_type": "execute_result"
    }
   ],
   "source": [
    "df"
   ]
  },
  {
   "cell_type": "markdown",
   "metadata": {},
   "source": [
    "What is Sharpe Ratio?\n",
    "Sharpe ratio is a measure for calculating risk-adjusted return. It is the ratio of the excess expected return of investment (over risk-free rate) per unit of volatility or standard deviation.\n",
    "\n",
    "Let us see the formula for Sharpe ratio which will make things much clearer. The sharpe ratio calculation is done in the following manner\n",
    "\n",
    "Sharpe Ratio = (Rx – Rf) / StdDev(x)\n",
    "\n",
    "Where,\n",
    "x is the investment\n",
    "Rx is the average rate of return of x\n",
    "Rf is the risk-free rate of return\n",
    "StdDev(x) is the standard deviation of Rx\n",
    "Once you see the formula, you will understand that we deduct the risk-free rate of return as this helps us in figuring out if the strategy makes sense or not. If the Numerator turned out negative, wouldn’t it be better to invest in a government bond which guarantees you a risk-free rate of return? Some of you would recognise this as the risk-adjusted return.\n",
    "\n",
    "In the denominator, we have the standard deviation of the average return of the investment. It helps us in identifying the volatility as well as the risk associated with the investment.\n",
    "\n",
    "Thus, the Sharpe ratio helps us in identifying which strategy gives better returns in comparison to the volatility. There, that is all when it comes to sharpe ratio calculation.\n",
    "\n",
    "Let’s take an example now to see how the Sharpe ratio calculation helps us.\n",
    "\n",
    "You have devised a strategy and created a portfolio of different stocks. After backtesting, you observe that this portfolio, let’s call it Portfolio A, will give a return of 11%. However, you are concerned with the volatility at 8%. \n",
    "\n",
    "Now, you change certain parameters and pick different financial instruments to create another portfolio, Portfolio B. This portfolio gives an expected return of 8%, but the volatility now drops to 4%. "
   ]
  },
  {
   "cell_type": "code",
   "execution_count": 25,
   "metadata": {},
   "outputs": [
    {
     "name": "stdout",
     "output_type": "stream",
     "text": [
      "Sharpe ratio: 1.51\n"
     ]
    }
   ],
   "source": [
    "# Calculate Sharpe reatio\n",
    "Std = Cumulative_Strategy_returns.std()\n",
    "Sharpe = (Cumulative_Strategy_returns-Cumulative_SPY_returns)/Std\n",
    "Sharpe = Sharpe.mean()\n",
    "print ('Sharpe ratio: %.2f'%Sharpe )"
   ]
  },
  {
   "cell_type": "markdown",
   "metadata": {},
   "source": [
    "Tested many neighbours and the lowest sharpe ratio was for 15."
   ]
  },
  {
   "cell_type": "markdown",
   "metadata": {},
   "source": [
    "# Auto ARIMA"
   ]
  },
  {
   "cell_type": "code",
   "execution_count": 26,
   "metadata": {},
   "outputs": [],
   "source": [
    "import numpy as np \n",
    "import pandas as pd \n",
    "import matplotlib.pyplot as plt\n",
    "from pandas.plotting import lag_plot\n",
    "from pandas import datetime\n",
    "from statsmodels.tsa.arima_model import ARIMA\n",
    "from sklearn.metrics import mean_squared_error"
   ]
  },
  {
   "cell_type": "code",
   "execution_count": 27,
   "metadata": {},
   "outputs": [
    {
     "data": {
      "text/html": [
       "<div>\n",
       "<style scoped>\n",
       "    .dataframe tbody tr th:only-of-type {\n",
       "        vertical-align: middle;\n",
       "    }\n",
       "\n",
       "    .dataframe tbody tr th {\n",
       "        vertical-align: top;\n",
       "    }\n",
       "\n",
       "    .dataframe thead th {\n",
       "        text-align: right;\n",
       "    }\n",
       "</style>\n",
       "<table border=\"1\" class=\"dataframe\">\n",
       "  <thead>\n",
       "    <tr style=\"text-align: right;\">\n",
       "      <th></th>\n",
       "      <th>c</th>\n",
       "      <th>h</th>\n",
       "      <th>l</th>\n",
       "      <th>o</th>\n",
       "      <th>s</th>\n",
       "      <th>t</th>\n",
       "      <th>v</th>\n",
       "    </tr>\n",
       "  </thead>\n",
       "  <tbody>\n",
       "    <tr>\n",
       "      <th>0</th>\n",
       "      <td>42.89</td>\n",
       "      <td>43.22</td>\n",
       "      <td>42.80</td>\n",
       "      <td>43.21</td>\n",
       "      <td>ok</td>\n",
       "      <td>1499779800</td>\n",
       "      <td>13249500</td>\n",
       "    </tr>\n",
       "    <tr>\n",
       "      <th>1</th>\n",
       "      <td>43.22</td>\n",
       "      <td>43.38</td>\n",
       "      <td>43.00</td>\n",
       "      <td>43.04</td>\n",
       "      <td>ok</td>\n",
       "      <td>1499866200</td>\n",
       "      <td>11388900</td>\n",
       "    </tr>\n",
       "    <tr>\n",
       "      <th>2</th>\n",
       "      <td>43.49</td>\n",
       "      <td>43.54</td>\n",
       "      <td>43.04</td>\n",
       "      <td>43.15</td>\n",
       "      <td>ok</td>\n",
       "      <td>1499952600</td>\n",
       "      <td>12140500</td>\n",
       "    </tr>\n",
       "    <tr>\n",
       "      <th>3</th>\n",
       "      <td>43.56</td>\n",
       "      <td>43.82</td>\n",
       "      <td>43.41</td>\n",
       "      <td>43.63</td>\n",
       "      <td>ok</td>\n",
       "      <td>1500039000</td>\n",
       "      <td>11986800</td>\n",
       "    </tr>\n",
       "    <tr>\n",
       "      <th>4</th>\n",
       "      <td>43.66</td>\n",
       "      <td>43.86</td>\n",
       "      <td>43.56</td>\n",
       "      <td>43.63</td>\n",
       "      <td>ok</td>\n",
       "      <td>1500298200</td>\n",
       "      <td>10804200</td>\n",
       "    </tr>\n",
       "    <tr>\n",
       "      <th>...</th>\n",
       "      <td>...</td>\n",
       "      <td>...</td>\n",
       "      <td>...</td>\n",
       "      <td>...</td>\n",
       "      <td>...</td>\n",
       "      <td>...</td>\n",
       "      <td>...</td>\n",
       "    </tr>\n",
       "    <tr>\n",
       "      <th>684</th>\n",
       "      <td>54.77</td>\n",
       "      <td>55.03</td>\n",
       "      <td>52.94</td>\n",
       "      <td>53.49</td>\n",
       "      <td>ok</td>\n",
       "      <td>1585575000</td>\n",
       "      <td>20660200</td>\n",
       "    </tr>\n",
       "    <tr>\n",
       "      <th>685</th>\n",
       "      <td>53.73</td>\n",
       "      <td>54.54</td>\n",
       "      <td>53.55</td>\n",
       "      <td>54.07</td>\n",
       "      <td>ok</td>\n",
       "      <td>1585661400</td>\n",
       "      <td>21251800</td>\n",
       "    </tr>\n",
       "    <tr>\n",
       "      <th>686</th>\n",
       "      <td>52.92</td>\n",
       "      <td>53.45</td>\n",
       "      <td>52.16</td>\n",
       "      <td>52.50</td>\n",
       "      <td>ok</td>\n",
       "      <td>1585747800</td>\n",
       "      <td>18672600</td>\n",
       "    </tr>\n",
       "    <tr>\n",
       "      <th>687</th>\n",
       "      <td>55.25</td>\n",
       "      <td>55.50</td>\n",
       "      <td>53.09</td>\n",
       "      <td>53.56</td>\n",
       "      <td>ok</td>\n",
       "      <td>1585834200</td>\n",
       "      <td>20159400</td>\n",
       "    </tr>\n",
       "    <tr>\n",
       "      <th>688</th>\n",
       "      <td>54.70</td>\n",
       "      <td>55.24</td>\n",
       "      <td>54.28</td>\n",
       "      <td>55.00</td>\n",
       "      <td>ok</td>\n",
       "      <td>1585920600</td>\n",
       "      <td>17604300</td>\n",
       "    </tr>\n",
       "  </tbody>\n",
       "</table>\n",
       "<p>689 rows × 7 columns</p>\n",
       "</div>"
      ],
      "text/plain": [
       "         c      h      l      o   s           t         v\n",
       "0    42.89  43.22  42.80  43.21  ok  1499779800  13249500\n",
       "1    43.22  43.38  43.00  43.04  ok  1499866200  11388900\n",
       "2    43.49  43.54  43.04  43.15  ok  1499952600  12140500\n",
       "3    43.56  43.82  43.41  43.63  ok  1500039000  11986800\n",
       "4    43.66  43.86  43.56  43.63  ok  1500298200  10804200\n",
       "..     ...    ...    ...    ...  ..         ...       ...\n",
       "684  54.77  55.03  52.94  53.49  ok  1585575000  20660200\n",
       "685  53.73  54.54  53.55  54.07  ok  1585661400  21251800\n",
       "686  52.92  53.45  52.16  52.50  ok  1585747800  18672600\n",
       "687  55.25  55.50  53.09  53.56  ok  1585834200  20159400\n",
       "688  54.70  55.24  54.28  55.00  ok  1585920600  17604300\n",
       "\n",
       "[689 rows x 7 columns]"
      ]
     },
     "execution_count": 27,
     "metadata": {},
     "output_type": "execute_result"
    }
   ],
   "source": [
    "#read the file\n",
    "df = pd.read_json (r'VZ.json')\n",
    "\n",
    "#print the head\n",
    "df"
   ]
  },
  {
   "cell_type": "code",
   "execution_count": 28,
   "metadata": {},
   "outputs": [
    {
     "data": {
      "text/plain": [
       "Text(0.5, 1.0, 'Microsoft Autocorrelation plot')"
      ]
     },
     "execution_count": 28,
     "metadata": {},
     "output_type": "execute_result"
    },
    {
     "data": {
      "image/png": "[encoded data removed]",
      "text/plain": [
       "<Figure size 720x720 with 1 Axes>"
      ]
     },
     "metadata": {
      "needs_background": "light"
     },
     "output_type": "display_data"
    }
   ],
   "source": [
    "plt.figure(figsize=(10,10))\n",
    "lag_plot(df['c'], lag=5)\n",
    "plt.title('Microsoft Autocorrelation plot')"
   ]
  },
  {
   "cell_type": "code",
   "execution_count": 29,
   "metadata": {},
   "outputs": [],
   "source": [
    "size = len(df)"
   ]
  },
  {
   "cell_type": "code",
   "execution_count": 30,
   "metadata": {},
   "outputs": [
    {
     "data": {
      "text/plain": [
       "<matplotlib.legend.Legend at 0x215f54f9710>"
      ]
     },
     "execution_count": 30,
     "metadata": {},
     "output_type": "execute_result"
    },
    {
     "data": {
      "image/png": "[encoded data removed]",
      "text/plain": [
       "<Figure size 864x504 with 1 Axes>"
      ]
     },
     "metadata": {
      "needs_background": "light"
     },
     "output_type": "display_data"
    }
   ],
   "source": [
    "train_data, test_data = df[0:int(len(df)*0.8)], df[int(len(df)*0.8):]\n",
    "plt.figure(figsize=(12,7))\n",
    "plt.title('Microsoft Prices')\n",
    "plt.xlabel('Dates')\n",
    "plt.ylabel('Prices')\n",
    "plt.plot(df['c'], 'blue', label='Training Data')\n",
    "plt.plot(test_data['c'], 'green', label='Testing Data')\n",
    "plt.xticks(np.arange(0,size, 300), df['t'][0:size:300])\n",
    "plt.legend()"
   ]
  },
  {
   "cell_type": "code",
   "execution_count": 31,
   "metadata": {},
   "outputs": [],
   "source": [
    "def smape_kun(y_true, y_pred):\n",
    "    return np.mean((np.abs(y_pred - y_true) * 200/ (np.abs(y_pred) +       np.abs(y_true))))"
   ]
  },
  {
   "cell_type": "code",
   "execution_count": 32,
   "metadata": {},
   "outputs": [
    {
     "name": "stdout",
     "output_type": "stream",
     "text": [
      "<class 'list'>\n",
      "Testing Mean Squared Error: 0.920\n",
      "Symmetric mean absolute percentage error: 4.560\n"
     ]
    }
   ],
   "source": [
    "train_ar = train_data['c'].values\n",
    "test_ar = test_data['c'].values\n",
    "history = [x for x in train_ar]\n",
    "print(type(history))\n",
    "predictions = list()\n",
    "for t in range(len(test_ar)):\n",
    "    model = ARIMA(history, order=(5,1,0))\n",
    "    model_fit = model.fit(disp=0)\n",
    "    output = model_fit.forecast()\n",
    "    yhat = output[0]\n",
    "    predictions.append(yhat)\n",
    "    obs = test_ar[t]\n",
    "    history.append(obs)\n",
    "error = mean_squared_error(test_ar, predictions)\n",
    "print('Testing Mean Squared Error: %.3f' % error)\n",
    "error2 = smape_kun(test_ar, predictions)\n",
    "print('Symmetric mean absolute percentage error: %.3f' % error2)"
   ]
  },
  {
   "cell_type": "code",
   "execution_count": 33,
   "metadata": {},
   "outputs": [
    {
     "data": {
      "text/html": [
       "<div>\n",
       "<style scoped>\n",
       "    .dataframe tbody tr th:only-of-type {\n",
       "        vertical-align: middle;\n",
       "    }\n",
       "\n",
       "    .dataframe tbody tr th {\n",
       "        vertical-align: top;\n",
       "    }\n",
       "\n",
       "    .dataframe thead th {\n",
       "        text-align: right;\n",
       "    }\n",
       "</style>\n",
       "<table border=\"1\" class=\"dataframe\">\n",
       "  <thead>\n",
       "    <tr style=\"text-align: right;\">\n",
       "      <th></th>\n",
       "      <th>Prediction</th>\n",
       "      <th>Actual</th>\n",
       "    </tr>\n",
       "  </thead>\n",
       "  <tbody>\n",
       "    <tr>\n",
       "      <th>0</th>\n",
       "      <td>[59.94918880698984]</td>\n",
       "      <td>59.93</td>\n",
       "    </tr>\n",
       "    <tr>\n",
       "      <th>1</th>\n",
       "      <td>[59.96614427661481]</td>\n",
       "      <td>59.98</td>\n",
       "    </tr>\n",
       "    <tr>\n",
       "      <th>2</th>\n",
       "      <td>[60.0116711744098]</td>\n",
       "      <td>60.29</td>\n",
       "    </tr>\n",
       "    <tr>\n",
       "      <th>3</th>\n",
       "      <td>[60.27718674836732]</td>\n",
       "      <td>60.21</td>\n",
       "    </tr>\n",
       "    <tr>\n",
       "      <th>4</th>\n",
       "      <td>[60.235424463102426]</td>\n",
       "      <td>60.51</td>\n",
       "    </tr>\n",
       "    <tr>\n",
       "      <th>...</th>\n",
       "      <td>...</td>\n",
       "      <td>...</td>\n",
       "    </tr>\n",
       "    <tr>\n",
       "      <th>133</th>\n",
       "      <td>[52.7907545683766]</td>\n",
       "      <td>54.77</td>\n",
       "    </tr>\n",
       "    <tr>\n",
       "      <th>134</th>\n",
       "      <td>[54.4837054013358]</td>\n",
       "      <td>53.73</td>\n",
       "    </tr>\n",
       "    <tr>\n",
       "      <th>135</th>\n",
       "      <td>[53.53213522359068]</td>\n",
       "      <td>52.92</td>\n",
       "    </tr>\n",
       "    <tr>\n",
       "      <th>136</th>\n",
       "      <td>[53.099168406477965]</td>\n",
       "      <td>55.25</td>\n",
       "    </tr>\n",
       "    <tr>\n",
       "      <th>137</th>\n",
       "      <td>[54.7953989134785]</td>\n",
       "      <td>54.70</td>\n",
       "    </tr>\n",
       "  </tbody>\n",
       "</table>\n",
       "<p>138 rows × 2 columns</p>\n",
       "</div>"
      ],
      "text/plain": [
       "               Prediction  Actual\n",
       "0     [59.94918880698984]   59.93\n",
       "1     [59.96614427661481]   59.98\n",
       "2      [60.0116711744098]   60.29\n",
       "3     [60.27718674836732]   60.21\n",
       "4    [60.235424463102426]   60.51\n",
       "..                    ...     ...\n",
       "133    [52.7907545683766]   54.77\n",
       "134    [54.4837054013358]   53.73\n",
       "135   [53.53213522359068]   52.92\n",
       "136  [53.099168406477965]   55.25\n",
       "137    [54.7953989134785]   54.70\n",
       "\n",
       "[138 rows x 2 columns]"
      ]
     },
     "execution_count": 33,
     "metadata": {},
     "output_type": "execute_result"
    }
   ],
   "source": [
    "pd.DataFrame({\"Prediction\": predictions, 'Actual': test_ar})"
   ]
  },
  {
   "cell_type": "code",
   "execution_count": 34,
   "metadata": {},
   "outputs": [
    {
     "data": {
      "text/plain": [
       "<matplotlib.legend.Legend at 0x215f5525320>"
      ]
     },
     "execution_count": 34,
     "metadata": {},
     "output_type": "execute_result"
    },
    {
     "data": {
      "image/png": "[encoded data removed]",
      "text/plain": [
       "<Figure size 864x504 with 1 Axes>"
      ]
     },
     "metadata": {
      "needs_background": "light"
     },
     "output_type": "display_data"
    }
   ],
   "source": [
    "plt.figure(figsize=(12,7))\n",
    "plt.plot(df['c'], 'green', color='blue', label='Training Data')\n",
    "plt.plot(test_data.index, predictions, color='green', marker='o', linestyle='dashed', \n",
    "         label='Predicted Price')\n",
    "plt.plot(test_data.index, test_data['c'], color='red', label='Actual Price')\n",
    "plt.title('Microsoft Prices Prediction')\n",
    "plt.xlabel('Dates')\n",
    "plt.ylabel('Prices')\n",
    "plt.xticks(np.arange(0,size, 1300), df['t'][0:size:1300])\n",
    "plt.legend()"
   ]
  },
  {
   "cell_type": "markdown",
   "metadata": {},
   "source": [
    "# Prophet"
   ]
  },
  {
   "cell_type": "code",
   "execution_count": 35,
   "metadata": {},
   "outputs": [
    {
     "data": {
      "text/html": [
       "<div>\n",
       "<style scoped>\n",
       "    .dataframe tbody tr th:only-of-type {\n",
       "        vertical-align: middle;\n",
       "    }\n",
       "\n",
       "    .dataframe tbody tr th {\n",
       "        vertical-align: top;\n",
       "    }\n",
       "\n",
       "    .dataframe thead th {\n",
       "        text-align: right;\n",
       "    }\n",
       "</style>\n",
       "<table border=\"1\" class=\"dataframe\">\n",
       "  <thead>\n",
       "    <tr style=\"text-align: right;\">\n",
       "      <th></th>\n",
       "      <th>c</th>\n",
       "      <th>h</th>\n",
       "      <th>l</th>\n",
       "      <th>o</th>\n",
       "      <th>s</th>\n",
       "      <th>t</th>\n",
       "      <th>v</th>\n",
       "    </tr>\n",
       "  </thead>\n",
       "  <tbody>\n",
       "    <tr>\n",
       "      <th>0</th>\n",
       "      <td>42.89</td>\n",
       "      <td>43.22</td>\n",
       "      <td>42.80</td>\n",
       "      <td>43.21</td>\n",
       "      <td>ok</td>\n",
       "      <td>1499779800</td>\n",
       "      <td>13249500</td>\n",
       "    </tr>\n",
       "    <tr>\n",
       "      <th>1</th>\n",
       "      <td>43.22</td>\n",
       "      <td>43.38</td>\n",
       "      <td>43.00</td>\n",
       "      <td>43.04</td>\n",
       "      <td>ok</td>\n",
       "      <td>1499866200</td>\n",
       "      <td>11388900</td>\n",
       "    </tr>\n",
       "    <tr>\n",
       "      <th>2</th>\n",
       "      <td>43.49</td>\n",
       "      <td>43.54</td>\n",
       "      <td>43.04</td>\n",
       "      <td>43.15</td>\n",
       "      <td>ok</td>\n",
       "      <td>1499952600</td>\n",
       "      <td>12140500</td>\n",
       "    </tr>\n",
       "    <tr>\n",
       "      <th>3</th>\n",
       "      <td>43.56</td>\n",
       "      <td>43.82</td>\n",
       "      <td>43.41</td>\n",
       "      <td>43.63</td>\n",
       "      <td>ok</td>\n",
       "      <td>1500039000</td>\n",
       "      <td>11986800</td>\n",
       "    </tr>\n",
       "    <tr>\n",
       "      <th>4</th>\n",
       "      <td>43.66</td>\n",
       "      <td>43.86</td>\n",
       "      <td>43.56</td>\n",
       "      <td>43.63</td>\n",
       "      <td>ok</td>\n",
       "      <td>1500298200</td>\n",
       "      <td>10804200</td>\n",
       "    </tr>\n",
       "    <tr>\n",
       "      <th>...</th>\n",
       "      <td>...</td>\n",
       "      <td>...</td>\n",
       "      <td>...</td>\n",
       "      <td>...</td>\n",
       "      <td>...</td>\n",
       "      <td>...</td>\n",
       "      <td>...</td>\n",
       "    </tr>\n",
       "    <tr>\n",
       "      <th>684</th>\n",
       "      <td>54.77</td>\n",
       "      <td>55.03</td>\n",
       "      <td>52.94</td>\n",
       "      <td>53.49</td>\n",
       "      <td>ok</td>\n",
       "      <td>1585575000</td>\n",
       "      <td>20660200</td>\n",
       "    </tr>\n",
       "    <tr>\n",
       "      <th>685</th>\n",
       "      <td>53.73</td>\n",
       "      <td>54.54</td>\n",
       "      <td>53.55</td>\n",
       "      <td>54.07</td>\n",
       "      <td>ok</td>\n",
       "      <td>1585661400</td>\n",
       "      <td>21251800</td>\n",
       "    </tr>\n",
       "    <tr>\n",
       "      <th>686</th>\n",
       "      <td>52.92</td>\n",
       "      <td>53.45</td>\n",
       "      <td>52.16</td>\n",
       "      <td>52.50</td>\n",
       "      <td>ok</td>\n",
       "      <td>1585747800</td>\n",
       "      <td>18672600</td>\n",
       "    </tr>\n",
       "    <tr>\n",
       "      <th>687</th>\n",
       "      <td>55.25</td>\n",
       "      <td>55.50</td>\n",
       "      <td>53.09</td>\n",
       "      <td>53.56</td>\n",
       "      <td>ok</td>\n",
       "      <td>1585834200</td>\n",
       "      <td>20159400</td>\n",
       "    </tr>\n",
       "    <tr>\n",
       "      <th>688</th>\n",
       "      <td>54.70</td>\n",
       "      <td>55.24</td>\n",
       "      <td>54.28</td>\n",
       "      <td>55.00</td>\n",
       "      <td>ok</td>\n",
       "      <td>1585920600</td>\n",
       "      <td>17604300</td>\n",
       "    </tr>\n",
       "  </tbody>\n",
       "</table>\n",
       "<p>689 rows × 7 columns</p>\n",
       "</div>"
      ],
      "text/plain": [
       "         c      h      l      o   s           t         v\n",
       "0    42.89  43.22  42.80  43.21  ok  1499779800  13249500\n",
       "1    43.22  43.38  43.00  43.04  ok  1499866200  11388900\n",
       "2    43.49  43.54  43.04  43.15  ok  1499952600  12140500\n",
       "3    43.56  43.82  43.41  43.63  ok  1500039000  11986800\n",
       "4    43.66  43.86  43.56  43.63  ok  1500298200  10804200\n",
       "..     ...    ...    ...    ...  ..         ...       ...\n",
       "684  54.77  55.03  52.94  53.49  ok  1585575000  20660200\n",
       "685  53.73  54.54  53.55  54.07  ok  1585661400  21251800\n",
       "686  52.92  53.45  52.16  52.50  ok  1585747800  18672600\n",
       "687  55.25  55.50  53.09  53.56  ok  1585834200  20159400\n",
       "688  54.70  55.24  54.28  55.00  ok  1585920600  17604300\n",
       "\n",
       "[689 rows x 7 columns]"
      ]
     },
     "execution_count": 35,
     "metadata": {},
     "output_type": "execute_result"
    }
   ],
   "source": [
    "#read the file\n",
    "df = pd.read_json (r'VZ.json')\n",
    "\n",
    "#print the head\n",
    "df"
   ]
  },
  {
   "cell_type": "code",
   "execution_count": 36,
   "metadata": {},
   "outputs": [
    {
     "data": {
      "text/html": [
       "<div>\n",
       "<style scoped>\n",
       "    .dataframe tbody tr th:only-of-type {\n",
       "        vertical-align: middle;\n",
       "    }\n",
       "\n",
       "    .dataframe tbody tr th {\n",
       "        vertical-align: top;\n",
       "    }\n",
       "\n",
       "    .dataframe thead th {\n",
       "        text-align: right;\n",
       "    }\n",
       "</style>\n",
       "<table border=\"1\" class=\"dataframe\">\n",
       "  <thead>\n",
       "    <tr style=\"text-align: right;\">\n",
       "      <th></th>\n",
       "      <th>Close</th>\n",
       "      <th>High</th>\n",
       "      <th>Low</th>\n",
       "      <th>Open</th>\n",
       "      <th>Status</th>\n",
       "      <th>Date</th>\n",
       "      <th>Volume</th>\n",
       "    </tr>\n",
       "  </thead>\n",
       "  <tbody>\n",
       "    <tr>\n",
       "      <th>0</th>\n",
       "      <td>42.89</td>\n",
       "      <td>43.22</td>\n",
       "      <td>42.80</td>\n",
       "      <td>43.21</td>\n",
       "      <td>ok</td>\n",
       "      <td>2017-07-11 13:30:00</td>\n",
       "      <td>13249500</td>\n",
       "    </tr>\n",
       "    <tr>\n",
       "      <th>1</th>\n",
       "      <td>43.22</td>\n",
       "      <td>43.38</td>\n",
       "      <td>43.00</td>\n",
       "      <td>43.04</td>\n",
       "      <td>ok</td>\n",
       "      <td>2017-07-12 13:30:00</td>\n",
       "      <td>11388900</td>\n",
       "    </tr>\n",
       "    <tr>\n",
       "      <th>2</th>\n",
       "      <td>43.49</td>\n",
       "      <td>43.54</td>\n",
       "      <td>43.04</td>\n",
       "      <td>43.15</td>\n",
       "      <td>ok</td>\n",
       "      <td>2017-07-13 13:30:00</td>\n",
       "      <td>12140500</td>\n",
       "    </tr>\n",
       "    <tr>\n",
       "      <th>3</th>\n",
       "      <td>43.56</td>\n",
       "      <td>43.82</td>\n",
       "      <td>43.41</td>\n",
       "      <td>43.63</td>\n",
       "      <td>ok</td>\n",
       "      <td>2017-07-14 13:30:00</td>\n",
       "      <td>11986800</td>\n",
       "    </tr>\n",
       "    <tr>\n",
       "      <th>4</th>\n",
       "      <td>43.66</td>\n",
       "      <td>43.86</td>\n",
       "      <td>43.56</td>\n",
       "      <td>43.63</td>\n",
       "      <td>ok</td>\n",
       "      <td>2017-07-17 13:30:00</td>\n",
       "      <td>10804200</td>\n",
       "    </tr>\n",
       "  </tbody>\n",
       "</table>\n",
       "</div>"
      ],
      "text/plain": [
       "   Close   High    Low   Open Status                Date    Volume\n",
       "0  42.89  43.22  42.80  43.21     ok 2017-07-11 13:30:00  13249500\n",
       "1  43.22  43.38  43.00  43.04     ok 2017-07-12 13:30:00  11388900\n",
       "2  43.49  43.54  43.04  43.15     ok 2017-07-13 13:30:00  12140500\n",
       "3  43.56  43.82  43.41  43.63     ok 2017-07-14 13:30:00  11986800\n",
       "4  43.66  43.86  43.56  43.63     ok 2017-07-17 13:30:00  10804200"
      ]
     },
     "execution_count": 36,
     "metadata": {},
     "output_type": "execute_result"
    }
   ],
   "source": [
    "df['t'] = pd.to_datetime(df['t'], unit='s')\n",
    "df = df.rename(columns={'c': 'Close', 'h': 'High', 'l':'Low',  'o': 'Open', 's': 'Status', 't': 'Date', 'v': 'Volume'})\n",
    "df.head()"
   ]
  },
  {
   "cell_type": "code",
   "execution_count": 37,
   "metadata": {},
   "outputs": [],
   "source": [
    "size = len(df)\n",
    "tsize = int(size/2)"
   ]
  },
  {
   "cell_type": "code",
   "execution_count": 38,
   "metadata": {},
   "outputs": [
    {
     "name": "stderr",
     "output_type": "stream",
     "text": [
      "Importing plotly failed. Interactive plots will not work.\n"
     ]
    }
   ],
   "source": [
    "#importing prophet\n",
    "from fbprophet import Prophet\n",
    "\n",
    "#creating dataframe\n",
    "new_data = pd.DataFrame(index=range(0,len(df)),columns=['Date', 'Close'])\n",
    "\n",
    "for i in range(0,len(df)):\n",
    "    new_data['Date'][i] = df['Date'][i]\n",
    "    new_data['Close'][i] = df['Close'][i]\n",
    "\n",
    "new_data['Date'] = pd.to_datetime(new_data.Date,format='%Y-%m-%d')\n",
    "new_data.index = new_data['Date']\n",
    "\n",
    "#preparing data\n",
    "new_data.rename(columns={'Close': 'y', 'Date': 'ds'}, inplace=True)"
   ]
  },
  {
   "cell_type": "code",
   "execution_count": 39,
   "metadata": {
    "scrolled": true
   },
   "outputs": [
    {
     "data": {
      "text/html": [
       "<div>\n",
       "<style scoped>\n",
       "    .dataframe tbody tr th:only-of-type {\n",
       "        vertical-align: middle;\n",
       "    }\n",
       "\n",
       "    .dataframe tbody tr th {\n",
       "        vertical-align: top;\n",
       "    }\n",
       "\n",
       "    .dataframe thead th {\n",
       "        text-align: right;\n",
       "    }\n",
       "</style>\n",
       "<table border=\"1\" class=\"dataframe\">\n",
       "  <thead>\n",
       "    <tr style=\"text-align: right;\">\n",
       "      <th></th>\n",
       "      <th>ds</th>\n",
       "      <th>y</th>\n",
       "    </tr>\n",
       "    <tr>\n",
       "      <th>Date</th>\n",
       "      <th></th>\n",
       "      <th></th>\n",
       "    </tr>\n",
       "  </thead>\n",
       "  <tbody>\n",
       "    <tr>\n",
       "      <th>2017-07-11 13:30:00</th>\n",
       "      <td>2017-07-11 13:30:00</td>\n",
       "      <td>42.89</td>\n",
       "    </tr>\n",
       "    <tr>\n",
       "      <th>2017-07-12 13:30:00</th>\n",
       "      <td>2017-07-12 13:30:00</td>\n",
       "      <td>43.22</td>\n",
       "    </tr>\n",
       "    <tr>\n",
       "      <th>2017-07-13 13:30:00</th>\n",
       "      <td>2017-07-13 13:30:00</td>\n",
       "      <td>43.49</td>\n",
       "    </tr>\n",
       "    <tr>\n",
       "      <th>2017-07-14 13:30:00</th>\n",
       "      <td>2017-07-14 13:30:00</td>\n",
       "      <td>43.56</td>\n",
       "    </tr>\n",
       "    <tr>\n",
       "      <th>2017-07-17 13:30:00</th>\n",
       "      <td>2017-07-17 13:30:00</td>\n",
       "      <td>43.66</td>\n",
       "    </tr>\n",
       "    <tr>\n",
       "      <th>...</th>\n",
       "      <td>...</td>\n",
       "      <td>...</td>\n",
       "    </tr>\n",
       "    <tr>\n",
       "      <th>2020-03-30 13:30:00</th>\n",
       "      <td>2020-03-30 13:30:00</td>\n",
       "      <td>54.77</td>\n",
       "    </tr>\n",
       "    <tr>\n",
       "      <th>2020-03-31 13:30:00</th>\n",
       "      <td>2020-03-31 13:30:00</td>\n",
       "      <td>53.73</td>\n",
       "    </tr>\n",
       "    <tr>\n",
       "      <th>2020-04-01 13:30:00</th>\n",
       "      <td>2020-04-01 13:30:00</td>\n",
       "      <td>52.92</td>\n",
       "    </tr>\n",
       "    <tr>\n",
       "      <th>2020-04-02 13:30:00</th>\n",
       "      <td>2020-04-02 13:30:00</td>\n",
       "      <td>55.25</td>\n",
       "    </tr>\n",
       "    <tr>\n",
       "      <th>2020-04-03 13:30:00</th>\n",
       "      <td>2020-04-03 13:30:00</td>\n",
       "      <td>54.7</td>\n",
       "    </tr>\n",
       "  </tbody>\n",
       "</table>\n",
       "<p>689 rows × 2 columns</p>\n",
       "</div>"
      ],
      "text/plain": [
       "                                     ds      y\n",
       "Date                                          \n",
       "2017-07-11 13:30:00 2017-07-11 13:30:00  42.89\n",
       "2017-07-12 13:30:00 2017-07-12 13:30:00  43.22\n",
       "2017-07-13 13:30:00 2017-07-13 13:30:00  43.49\n",
       "2017-07-14 13:30:00 2017-07-14 13:30:00  43.56\n",
       "2017-07-17 13:30:00 2017-07-17 13:30:00  43.66\n",
       "...                                 ...    ...\n",
       "2020-03-30 13:30:00 2020-03-30 13:30:00  54.77\n",
       "2020-03-31 13:30:00 2020-03-31 13:30:00  53.73\n",
       "2020-04-01 13:30:00 2020-04-01 13:30:00  52.92\n",
       "2020-04-02 13:30:00 2020-04-02 13:30:00  55.25\n",
       "2020-04-03 13:30:00 2020-04-03 13:30:00   54.7\n",
       "\n",
       "[689 rows x 2 columns]"
      ]
     },
     "execution_count": 39,
     "metadata": {},
     "output_type": "execute_result"
    }
   ],
   "source": [
    "new_data[:size]"
   ]
  },
  {
   "cell_type": "code",
   "execution_count": 40,
   "metadata": {},
   "outputs": [],
   "source": [
    "#train and validation\n",
    "train = new_data[:tsize]\n",
    "valid = new_data[tsize:]"
   ]
  },
  {
   "cell_type": "code",
   "execution_count": 41,
   "metadata": {},
   "outputs": [
    {
     "data": {
      "text/plain": [
       "345"
      ]
     },
     "execution_count": 41,
     "metadata": {},
     "output_type": "execute_result"
    }
   ],
   "source": [
    "len(valid)"
   ]
  },
  {
   "cell_type": "code",
   "execution_count": 42,
   "metadata": {},
   "outputs": [
    {
     "name": "stderr",
     "output_type": "stream",
     "text": [
      "INFO:fbprophet:Disabling yearly seasonality. Run prophet with yearly_seasonality=True to override this.\n",
      "INFO:fbprophet:Disabling daily seasonality. Run prophet with daily_seasonality=True to override this.\n"
     ]
    }
   ],
   "source": [
    "#fit the model\n",
    "model = Prophet()\n",
    "model.fit(train)\n",
    "\n",
    "#predictions\n",
    "close_prices = model.make_future_dataframe(periods=len(valid))\n",
    "forecast = model.predict(close_prices)"
   ]
  },
  {
   "cell_type": "code",
   "execution_count": 43,
   "metadata": {},
   "outputs": [
    {
     "data": {
      "text/html": [
       "<div>\n",
       "<style scoped>\n",
       "    .dataframe tbody tr th:only-of-type {\n",
       "        vertical-align: middle;\n",
       "    }\n",
       "\n",
       "    .dataframe tbody tr th {\n",
       "        vertical-align: top;\n",
       "    }\n",
       "\n",
       "    .dataframe thead th {\n",
       "        text-align: right;\n",
       "    }\n",
       "</style>\n",
       "<table border=\"1\" class=\"dataframe\">\n",
       "  <thead>\n",
       "    <tr style=\"text-align: right;\">\n",
       "      <th></th>\n",
       "      <th>ds</th>\n",
       "    </tr>\n",
       "  </thead>\n",
       "  <tbody>\n",
       "    <tr>\n",
       "      <th>687</th>\n",
       "      <td>2019-10-26 14:30:00</td>\n",
       "    </tr>\n",
       "    <tr>\n",
       "      <th>688</th>\n",
       "      <td>2019-10-27 14:30:00</td>\n",
       "    </tr>\n",
       "  </tbody>\n",
       "</table>\n",
       "</div>"
      ],
      "text/plain": [
       "                     ds\n",
       "687 2019-10-26 14:30:00\n",
       "688 2019-10-27 14:30:00"
      ]
     },
     "execution_count": 43,
     "metadata": {},
     "output_type": "execute_result"
    }
   ],
   "source": [
    "close_prices.tail(2)"
   ]
  },
  {
   "cell_type": "code",
   "execution_count": 44,
   "metadata": {},
   "outputs": [],
   "source": [
    "#rmse\n",
    "forecast_valid = forecast['yhat'][tsize:]"
   ]
  },
  {
   "cell_type": "code",
   "execution_count": 45,
   "metadata": {},
   "outputs": [
    {
     "name": "stdout",
     "output_type": "stream",
     "text": [
      "(345,) (345,)\n"
     ]
    }
   ],
   "source": [
    "print(forecast_valid.shape, valid['y'].shape)"
   ]
  },
  {
   "cell_type": "code",
   "execution_count": 46,
   "metadata": {},
   "outputs": [
    {
     "data": {
      "text/plain": [
       "11.37710000568449"
      ]
     },
     "execution_count": 46,
     "metadata": {},
     "output_type": "execute_result"
    }
   ],
   "source": [
    "rms=np.sqrt(np.mean(np.power((np.array(valid['y'])-np.array(forecast_valid)),2)))\n",
    "rms"
   ]
  },
  {
   "cell_type": "code",
   "execution_count": 47,
   "metadata": {},
   "outputs": [
    {
     "name": "stderr",
     "output_type": "stream",
     "text": [
      "C:\\Users\\layla\\anaconda\\envs\\PythonData\\lib\\site-packages\\ipykernel_launcher.py:1: SettingWithCopyWarning: \n",
      "A value is trying to be set on a copy of a slice from a DataFrame.\n",
      "Try using .loc[row_indexer,col_indexer] = value instead\n",
      "\n",
      "See the caveats in the documentation: http://pandas.pydata.org/pandas-docs/stable/user_guide/indexing.html#returning-a-view-versus-a-copy\n",
      "  \"\"\"Entry point for launching an IPython kernel.\n"
     ]
    }
   ],
   "source": [
    "valid['yhat'] = forecast['yhat']"
   ]
  },
  {
   "cell_type": "code",
   "execution_count": 48,
   "metadata": {},
   "outputs": [
    {
     "name": "stderr",
     "output_type": "stream",
     "text": [
      "C:\\Users\\layla\\anaconda\\envs\\PythonData\\lib\\site-packages\\ipykernel_launcher.py:2: SettingWithCopyWarning: \n",
      "A value is trying to be set on a copy of a slice from a DataFrame.\n",
      "Try using .loc[row_indexer,col_indexer] = value instead\n",
      "\n",
      "See the caveats in the documentation: http://pandas.pydata.org/pandas-docs/stable/user_guide/indexing.html#returning-a-view-versus-a-copy\n",
      "  \n",
      "C:\\Users\\layla\\anaconda\\envs\\PythonData\\lib\\site-packages\\ipykernel_launcher.py:3: SettingWithCopyWarning: \n",
      "A value is trying to be set on a copy of a slice from a DataFrame.\n",
      "Try using .loc[row_indexer,col_indexer] = value instead\n",
      "\n",
      "See the caveats in the documentation: http://pandas.pydata.org/pandas-docs/stable/user_guide/indexing.html#returning-a-view-versus-a-copy\n",
      "  This is separate from the ipykernel package so we can avoid doing imports until\n"
     ]
    },
    {
     "data": {
      "text/plain": [
       "[<matplotlib.lines.Line2D at 0x215f848a390>,\n",
       " <matplotlib.lines.Line2D at 0x215f5197470>]"
      ]
     },
     "execution_count": 48,
     "metadata": {},
     "output_type": "execute_result"
    },
    {
     "data": {
      "image/png": "[encoded data removed]",
      "text/plain": [
       "<Figure size 432x288 with 1 Axes>"
      ]
     },
     "metadata": {
      "needs_background": "light"
     },
     "output_type": "display_data"
    }
   ],
   "source": [
    "#plot\n",
    "valid['Predictions'] = 0\n",
    "valid['Predictions'] = forecast_valid.values\n",
    "\n",
    "plt.plot(train['y'])\n",
    "plt.plot(valid[['y', 'Predictions']])"
   ]
  },
  {
   "cell_type": "code",
   "execution_count": 49,
   "metadata": {},
   "outputs": [
    {
     "data": {
      "text/plain": [
       "Date\n",
       "2018-11-19 14:30:00    60.542807\n",
       "2018-11-20 14:30:00    59.987811\n",
       "2018-11-21 14:30:00    57.733750\n",
       "2018-11-23 14:30:00    57.866647\n",
       "2018-11-26 14:30:00    57.810146\n",
       "                         ...    \n",
       "2020-03-30 13:30:00    76.028015\n",
       "2020-03-31 13:30:00    76.185616\n",
       "2020-04-01 13:30:00    76.368991\n",
       "2020-04-02 13:30:00    79.140215\n",
       "2020-04-03 13:30:00    78.585219\n",
       "Name: Predictions, Length: 345, dtype: float64"
      ]
     },
     "execution_count": 49,
     "metadata": {},
     "output_type": "execute_result"
    }
   ],
   "source": [
    "valid['Predictions']"
   ]
  },
  {
   "cell_type": "code",
   "execution_count": 50,
   "metadata": {},
   "outputs": [
    {
     "data": {
      "text/html": [
       "<div>\n",
       "<style scoped>\n",
       "    .dataframe tbody tr th:only-of-type {\n",
       "        vertical-align: middle;\n",
       "    }\n",
       "\n",
       "    .dataframe tbody tr th {\n",
       "        vertical-align: top;\n",
       "    }\n",
       "\n",
       "    .dataframe thead th {\n",
       "        text-align: right;\n",
       "    }\n",
       "</style>\n",
       "<table border=\"1\" class=\"dataframe\">\n",
       "  <thead>\n",
       "    <tr style=\"text-align: right;\">\n",
       "      <th></th>\n",
       "      <th>Prediction</th>\n",
       "      <th>Actual</th>\n",
       "    </tr>\n",
       "    <tr>\n",
       "      <th>Date</th>\n",
       "      <th></th>\n",
       "      <th></th>\n",
       "    </tr>\n",
       "  </thead>\n",
       "  <tbody>\n",
       "    <tr>\n",
       "      <th>2018-11-19 14:30:00</th>\n",
       "      <td>60.542807</td>\n",
       "      <td>60.62</td>\n",
       "    </tr>\n",
       "    <tr>\n",
       "      <th>2018-11-20 14:30:00</th>\n",
       "      <td>59.987811</td>\n",
       "      <td>59.46</td>\n",
       "    </tr>\n",
       "    <tr>\n",
       "      <th>2018-11-21 14:30:00</th>\n",
       "      <td>57.733750</td>\n",
       "      <td>59.16</td>\n",
       "    </tr>\n",
       "    <tr>\n",
       "      <th>2018-11-23 14:30:00</th>\n",
       "      <td>57.866647</td>\n",
       "      <td>58.64</td>\n",
       "    </tr>\n",
       "    <tr>\n",
       "      <th>2018-11-26 14:30:00</th>\n",
       "      <td>57.810146</td>\n",
       "      <td>59.17</td>\n",
       "    </tr>\n",
       "    <tr>\n",
       "      <th>...</th>\n",
       "      <td>...</td>\n",
       "      <td>...</td>\n",
       "    </tr>\n",
       "    <tr>\n",
       "      <th>2020-03-30 13:30:00</th>\n",
       "      <td>76.028015</td>\n",
       "      <td>54.77</td>\n",
       "    </tr>\n",
       "    <tr>\n",
       "      <th>2020-03-31 13:30:00</th>\n",
       "      <td>76.185616</td>\n",
       "      <td>53.73</td>\n",
       "    </tr>\n",
       "    <tr>\n",
       "      <th>2020-04-01 13:30:00</th>\n",
       "      <td>76.368991</td>\n",
       "      <td>52.92</td>\n",
       "    </tr>\n",
       "    <tr>\n",
       "      <th>2020-04-02 13:30:00</th>\n",
       "      <td>79.140215</td>\n",
       "      <td>55.25</td>\n",
       "    </tr>\n",
       "    <tr>\n",
       "      <th>2020-04-03 13:30:00</th>\n",
       "      <td>78.585219</td>\n",
       "      <td>54.7</td>\n",
       "    </tr>\n",
       "  </tbody>\n",
       "</table>\n",
       "<p>345 rows × 2 columns</p>\n",
       "</div>"
      ],
      "text/plain": [
       "                     Prediction Actual\n",
       "Date                                  \n",
       "2018-11-19 14:30:00   60.542807  60.62\n",
       "2018-11-20 14:30:00   59.987811  59.46\n",
       "2018-11-21 14:30:00   57.733750  59.16\n",
       "2018-11-23 14:30:00   57.866647  58.64\n",
       "2018-11-26 14:30:00   57.810146  59.17\n",
       "...                         ...    ...\n",
       "2020-03-30 13:30:00   76.028015  54.77\n",
       "2020-03-31 13:30:00   76.185616  53.73\n",
       "2020-04-01 13:30:00   76.368991  52.92\n",
       "2020-04-02 13:30:00   79.140215  55.25\n",
       "2020-04-03 13:30:00   78.585219   54.7\n",
       "\n",
       "[345 rows x 2 columns]"
      ]
     },
     "execution_count": 50,
     "metadata": {},
     "output_type": "execute_result"
    }
   ],
   "source": [
    "pd.DataFrame({\"Prediction\": valid['Predictions'], \"Actual\": valid['y']})"
   ]
  },
  {
   "cell_type": "code",
   "execution_count": 51,
   "metadata": {},
   "outputs": [
    {
     "data": {
      "image/png": "[encoded data removed]",
      "text/plain": [
       "<Figure size 720x432 with 1 Axes>"
      ]
     },
     "metadata": {},
     "output_type": "display_data"
    }
   ],
   "source": [
    "fig1 =model.plot(forecast)"
   ]
  },
  {
   "cell_type": "code",
   "execution_count": 52,
   "metadata": {},
   "outputs": [
    {
     "data": {
      "image/png": "[encoded data removed]",
      "text/plain": [
       "<Figure size 648x432 with 2 Axes>"
      ]
     },
     "metadata": {},
     "output_type": "display_data"
    }
   ],
   "source": [
    "# to view  the forecast components\n",
    "fig1 = model.plot_components(forecast)"
   ]
  },
  {
   "cell_type": "code",
   "execution_count": null,
   "metadata": {},
   "outputs": [],
   "source": []
  }
 ],
 "metadata": {
  "kernelspec": {
   "display_name": "PythonData",
   "language": "python",
   "name": "pythondata"
  },
  "language_info": {
   "codemirror_mode": {
    "name": "ipython",
    "version": 3
   },
   "file_extension": ".py",
   "mimetype": "text/x-python",
   "name": "python",
   "nbconvert_exporter": "python",
   "pygments_lexer": "ipython3",
   "version": "3.6.9"
  }
 },
 "nbformat": 4,
 "nbformat_minor": 2
}
