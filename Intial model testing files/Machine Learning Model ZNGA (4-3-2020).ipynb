{
 "cells": [
  {
   "cell_type": "code",
   "execution_count": 1,
   "metadata": {},
   "outputs": [],
   "source": [
    "import pandas as pd\n",
    "import numpy as np\n",
    "import matplotlib.pyplot as plt"
   ]
  },
  {
   "cell_type": "code",
   "execution_count": null,
   "metadata": {},
   "outputs": [],
   "source": [
    "#read the file\n",
    "df = pd.read_json (r'ZNGA.json')\n",
    "\n",
    "#print the head\n",
    "df"
   ]
  },
  {
   "cell_type": "code",
   "execution_count": null,
   "metadata": {},
   "outputs": [],
   "source": [
    "df['t'] = pd.to_datetime(df['t'], unit='s')\n",
    "df = df.rename(columns={'c': 'Close', 'h': 'High', 'l':'Low',  'o': 'Open', 's': 'Status', 't': 'Date', 'v': 'Volume'})\n",
    "df.head()"
   ]
  },
  {
   "cell_type": "markdown",
   "metadata": {},
   "source": [
    "# Linear Regression"
   ]
  },
  {
   "cell_type": "code",
   "execution_count": 2,
   "metadata": {},
   "outputs": [
    {
     "data": {
      "text/html": [
       "<div>\n",
       "<style scoped>\n",
       "    .dataframe tbody tr th:only-of-type {\n",
       "        vertical-align: middle;\n",
       "    }\n",
       "\n",
       "    .dataframe tbody tr th {\n",
       "        vertical-align: top;\n",
       "    }\n",
       "\n",
       "    .dataframe thead th {\n",
       "        text-align: right;\n",
       "    }\n",
       "</style>\n",
       "<table border=\"1\" class=\"dataframe\">\n",
       "  <thead>\n",
       "    <tr style=\"text-align: right;\">\n",
       "      <th></th>\n",
       "      <th>c</th>\n",
       "      <th>h</th>\n",
       "      <th>l</th>\n",
       "      <th>o</th>\n",
       "      <th>s</th>\n",
       "      <th>t</th>\n",
       "      <th>v</th>\n",
       "    </tr>\n",
       "  </thead>\n",
       "  <tbody>\n",
       "    <tr>\n",
       "      <th>0</th>\n",
       "      <td>3.62</td>\n",
       "      <td>3.67</td>\n",
       "      <td>3.56</td>\n",
       "      <td>3.58</td>\n",
       "      <td>ok</td>\n",
       "      <td>1499693400</td>\n",
       "      <td>5603100</td>\n",
       "    </tr>\n",
       "    <tr>\n",
       "      <th>1</th>\n",
       "      <td>3.60</td>\n",
       "      <td>3.64</td>\n",
       "      <td>3.57</td>\n",
       "      <td>3.60</td>\n",
       "      <td>ok</td>\n",
       "      <td>1499779800</td>\n",
       "      <td>5023200</td>\n",
       "    </tr>\n",
       "    <tr>\n",
       "      <th>2</th>\n",
       "      <td>3.64</td>\n",
       "      <td>3.65</td>\n",
       "      <td>3.60</td>\n",
       "      <td>3.61</td>\n",
       "      <td>ok</td>\n",
       "      <td>1499866200</td>\n",
       "      <td>7218200</td>\n",
       "    </tr>\n",
       "    <tr>\n",
       "      <th>3</th>\n",
       "      <td>3.56</td>\n",
       "      <td>3.65</td>\n",
       "      <td>3.54</td>\n",
       "      <td>3.64</td>\n",
       "      <td>ok</td>\n",
       "      <td>1499952600</td>\n",
       "      <td>13526400</td>\n",
       "    </tr>\n",
       "    <tr>\n",
       "      <th>4</th>\n",
       "      <td>3.65</td>\n",
       "      <td>3.65</td>\n",
       "      <td>3.57</td>\n",
       "      <td>3.57</td>\n",
       "      <td>ok</td>\n",
       "      <td>1500039000</td>\n",
       "      <td>5939900</td>\n",
       "    </tr>\n",
       "    <tr>\n",
       "      <th>...</th>\n",
       "      <td>...</td>\n",
       "      <td>...</td>\n",
       "      <td>...</td>\n",
       "      <td>...</td>\n",
       "      <td>...</td>\n",
       "      <td>...</td>\n",
       "      <td>...</td>\n",
       "    </tr>\n",
       "    <tr>\n",
       "      <th>685</th>\n",
       "      <td>6.86</td>\n",
       "      <td>6.94</td>\n",
       "      <td>6.71</td>\n",
       "      <td>6.90</td>\n",
       "      <td>ok</td>\n",
       "      <td>1585575000</td>\n",
       "      <td>18205200</td>\n",
       "    </tr>\n",
       "    <tr>\n",
       "      <th>686</th>\n",
       "      <td>6.85</td>\n",
       "      <td>7.04</td>\n",
       "      <td>6.76</td>\n",
       "      <td>6.84</td>\n",
       "      <td>ok</td>\n",
       "      <td>1585661400</td>\n",
       "      <td>16357600</td>\n",
       "    </tr>\n",
       "    <tr>\n",
       "      <th>687</th>\n",
       "      <td>6.76</td>\n",
       "      <td>7.00</td>\n",
       "      <td>6.66</td>\n",
       "      <td>6.70</td>\n",
       "      <td>ok</td>\n",
       "      <td>1585747800</td>\n",
       "      <td>12252300</td>\n",
       "    </tr>\n",
       "    <tr>\n",
       "      <th>688</th>\n",
       "      <td>6.68</td>\n",
       "      <td>6.79</td>\n",
       "      <td>6.55</td>\n",
       "      <td>6.71</td>\n",
       "      <td>ok</td>\n",
       "      <td>1585834200</td>\n",
       "      <td>24294300</td>\n",
       "    </tr>\n",
       "    <tr>\n",
       "      <th>689</th>\n",
       "      <td>6.65</td>\n",
       "      <td>6.75</td>\n",
       "      <td>6.58</td>\n",
       "      <td>6.68</td>\n",
       "      <td>ok</td>\n",
       "      <td>1585920600</td>\n",
       "      <td>17778000</td>\n",
       "    </tr>\n",
       "  </tbody>\n",
       "</table>\n",
       "<p>690 rows × 7 columns</p>\n",
       "</div>"
      ],
      "text/plain": [
       "        c     h     l     o   s           t         v\n",
       "0    3.62  3.67  3.56  3.58  ok  1499693400   5603100\n",
       "1    3.60  3.64  3.57  3.60  ok  1499779800   5023200\n",
       "2    3.64  3.65  3.60  3.61  ok  1499866200   7218200\n",
       "3    3.56  3.65  3.54  3.64  ok  1499952600  13526400\n",
       "4    3.65  3.65  3.57  3.57  ok  1500039000   5939900\n",
       "..    ...   ...   ...   ...  ..         ...       ...\n",
       "685  6.86  6.94  6.71  6.90  ok  1585575000  18205200\n",
       "686  6.85  7.04  6.76  6.84  ok  1585661400  16357600\n",
       "687  6.76  7.00  6.66  6.70  ok  1585747800  12252300\n",
       "688  6.68  6.79  6.55  6.71  ok  1585834200  24294300\n",
       "689  6.65  6.75  6.58  6.68  ok  1585920600  17778000\n",
       "\n",
       "[690 rows x 7 columns]"
      ]
     },
     "execution_count": 2,
     "metadata": {},
     "output_type": "execute_result"
    }
   ],
   "source": [
    "#read the file\n",
    "df = pd.read_json (r'ZNGA.json')\n",
    "\n",
    "#print the head\n",
    "df"
   ]
  },
  {
   "cell_type": "code",
   "execution_count": 3,
   "metadata": {},
   "outputs": [],
   "source": [
    "df['t'] = pd.to_datetime(df['t'], unit='s')"
   ]
  },
  {
   "cell_type": "code",
   "execution_count": 4,
   "metadata": {},
   "outputs": [
    {
     "name": "stdout",
     "output_type": "stream",
     "text": [
      "(690, 1) (690, 1)\n"
     ]
    }
   ],
   "source": [
    "X = df[['t']]\n",
    "y = df['c'].values.reshape(-1, 1)\n",
    "print(X.shape, y.shape)"
   ]
  },
  {
   "cell_type": "code",
   "execution_count": 5,
   "metadata": {},
   "outputs": [
    {
     "data": {
      "text/html": [
       "<div>\n",
       "<style scoped>\n",
       "    .dataframe tbody tr th:only-of-type {\n",
       "        vertical-align: middle;\n",
       "    }\n",
       "\n",
       "    .dataframe tbody tr th {\n",
       "        vertical-align: top;\n",
       "    }\n",
       "\n",
       "    .dataframe thead th {\n",
       "        text-align: right;\n",
       "    }\n",
       "</style>\n",
       "<table border=\"1\" class=\"dataframe\">\n",
       "  <thead>\n",
       "    <tr style=\"text-align: right;\">\n",
       "      <th></th>\n",
       "      <th>t</th>\n",
       "    </tr>\n",
       "  </thead>\n",
       "  <tbody>\n",
       "    <tr>\n",
       "      <th>0</th>\n",
       "      <td>2017-07-10 13:30:00</td>\n",
       "    </tr>\n",
       "    <tr>\n",
       "      <th>1</th>\n",
       "      <td>2017-07-11 13:30:00</td>\n",
       "    </tr>\n",
       "    <tr>\n",
       "      <th>2</th>\n",
       "      <td>2017-07-12 13:30:00</td>\n",
       "    </tr>\n",
       "    <tr>\n",
       "      <th>3</th>\n",
       "      <td>2017-07-13 13:30:00</td>\n",
       "    </tr>\n",
       "    <tr>\n",
       "      <th>4</th>\n",
       "      <td>2017-07-14 13:30:00</td>\n",
       "    </tr>\n",
       "  </tbody>\n",
       "</table>\n",
       "</div>"
      ],
      "text/plain": [
       "                    t\n",
       "0 2017-07-10 13:30:00\n",
       "1 2017-07-11 13:30:00\n",
       "2 2017-07-12 13:30:00\n",
       "3 2017-07-13 13:30:00\n",
       "4 2017-07-14 13:30:00"
      ]
     },
     "execution_count": 5,
     "metadata": {},
     "output_type": "execute_result"
    }
   ],
   "source": [
    "data = X.copy()\n",
    "\n",
    "data_binary_encoded = pd.get_dummies(data)\n",
    "data_binary_encoded.head()"
   ]
  },
  {
   "cell_type": "code",
   "execution_count": 6,
   "metadata": {},
   "outputs": [
    {
     "data": {
      "text/html": [
       "<div>\n",
       "<style scoped>\n",
       "    .dataframe tbody tr th:only-of-type {\n",
       "        vertical-align: middle;\n",
       "    }\n",
       "\n",
       "    .dataframe tbody tr th {\n",
       "        vertical-align: top;\n",
       "    }\n",
       "\n",
       "    .dataframe thead th {\n",
       "        text-align: right;\n",
       "    }\n",
       "</style>\n",
       "<table border=\"1\" class=\"dataframe\">\n",
       "  <thead>\n",
       "    <tr style=\"text-align: right;\">\n",
       "      <th></th>\n",
       "      <th>t</th>\n",
       "    </tr>\n",
       "  </thead>\n",
       "  <tbody>\n",
       "    <tr>\n",
       "      <th>647</th>\n",
       "      <td>2020-02-04 14:30:00</td>\n",
       "    </tr>\n",
       "    <tr>\n",
       "      <th>163</th>\n",
       "      <td>2018-03-02 14:30:00</td>\n",
       "    </tr>\n",
       "    <tr>\n",
       "      <th>380</th>\n",
       "      <td>2019-01-11 14:30:00</td>\n",
       "    </tr>\n",
       "    <tr>\n",
       "      <th>603</th>\n",
       "      <td>2019-11-29 14:30:00</td>\n",
       "    </tr>\n",
       "    <tr>\n",
       "      <th>432</th>\n",
       "      <td>2019-03-28 13:30:00</td>\n",
       "    </tr>\n",
       "  </tbody>\n",
       "</table>\n",
       "</div>"
      ],
      "text/plain": [
       "                      t\n",
       "647 2020-02-04 14:30:00\n",
       "163 2018-03-02 14:30:00\n",
       "380 2019-01-11 14:30:00\n",
       "603 2019-11-29 14:30:00\n",
       "432 2019-03-28 13:30:00"
      ]
     },
     "execution_count": 6,
     "metadata": {},
     "output_type": "execute_result"
    }
   ],
   "source": [
    "from sklearn.model_selection import train_test_split\n",
    "\n",
    "X = pd.get_dummies(X)\n",
    "\n",
    "X_train, X_test, y_train, y_test = train_test_split(X, y, random_state=42)\n",
    "\n",
    "X_train.head()"
   ]
  },
  {
   "cell_type": "code",
   "execution_count": 7,
   "metadata": {},
   "outputs": [],
   "source": [
    "from sklearn.preprocessing import StandardScaler\n",
    "X_scaler = StandardScaler().fit(X_train)\n",
    "y_scaler = StandardScaler().fit(y_train)"
   ]
  },
  {
   "cell_type": "code",
   "execution_count": 8,
   "metadata": {},
   "outputs": [],
   "source": [
    "X_train_scaled = X_scaler.transform(X_train)\n",
    "X_test_scaled = X_scaler.transform(X_test)\n",
    "y_train_scaled = y_scaler.transform(y_train)\n",
    "y_test_scaled = y_scaler.transform(y_test)"
   ]
  },
  {
   "cell_type": "code",
   "execution_count": 9,
   "metadata": {},
   "outputs": [
    {
     "data": {
      "image/png": "[encoded data removed]",
      "text/plain": [
       "<Figure size 432x288 with 1 Axes>"
      ]
     },
     "metadata": {
      "needs_background": "light"
     },
     "output_type": "display_data"
    }
   ],
   "source": [
    "from sklearn.linear_model import LinearRegression\n",
    "model = LinearRegression()\n",
    "model.fit(X_train_scaled, y_train_scaled)\n",
    "plt.scatter(model.predict(X_train_scaled), model.predict(X_train_scaled) - y_train_scaled, c=\"blue\", label=\"Training Data\")\n",
    "plt.scatter(model.predict(X_test_scaled), model.predict(X_test_scaled) - y_test_scaled, c=\"orange\", label=\"Testing Data\")\n",
    "plt.legend()\n",
    "plt.hlines(y=0, xmin=y_test_scaled.min(), xmax=y_test_scaled.max())\n",
    "plt.title(\"Residual Plot\")\n",
    "plt.show()"
   ]
  },
  {
   "cell_type": "code",
   "execution_count": 10,
   "metadata": {},
   "outputs": [
    {
     "data": {
      "text/plain": [
       "array([[-0.28120753],\n",
       "       [ 0.74959879],\n",
       "       [-0.40966667],\n",
       "       [-0.05862334],\n",
       "       [-0.14021578],\n",
       "       [-0.62272087],\n",
       "       [ 1.25729962],\n",
       "       [-0.77937836],\n",
       "       [ 0.52087885],\n",
       "       [-0.41279982],\n",
       "       [ 1.43588917],\n",
       "       [-0.82624506],\n",
       "       [ 1.24163387],\n",
       "       [-1.2336851 ],\n",
       "       [ 1.49842162],\n",
       "       [ 0.68380264],\n",
       "       [ 1.52035367],\n",
       "       [-0.24674288],\n",
       "       [ 1.35442727],\n",
       "       [ 0.22649331],\n",
       "       [ 0.02910486],\n",
       "       [-0.07128648],\n",
       "       [-0.27180808],\n",
       "       [ 1.01904968],\n",
       "       [-0.30313958],\n",
       "       [-0.09948483],\n",
       "       [-0.44413132],\n",
       "       [-1.33394589],\n",
       "       [ 1.38889192],\n",
       "       [-0.06175649],\n",
       "       [-0.97350311],\n",
       "       [ 0.69633524],\n",
       "       [-0.95783736],\n",
       "       [-1.08942965],\n",
       "       [ 1.11317473],\n",
       "       [-0.51306062],\n",
       "       [-0.61958772],\n",
       "       [ 0.86239219],\n",
       "       [-0.47232967],\n",
       "       [-0.97663626],\n",
       "       [-0.44726447],\n",
       "       [-1.25875029],\n",
       "       [ 0.01657226],\n",
       "       [ 1.00025078],\n",
       "       [ 1.33249522],\n",
       "       [ 1.08184323],\n",
       "       [ 1.41395712],\n",
       "       [ 0.2578248 ],\n",
       "       [-1.2399514 ],\n",
       "       [ 0.5992076 ],\n",
       "       [-0.32193847],\n",
       "       [-1.17715785],\n",
       "       [ 1.46095437],\n",
       "       [-1.53133434],\n",
       "       [-1.29948124],\n",
       "       [ 0.15756401],\n",
       "       [ 1.03784858],\n",
       "       [-0.03355814],\n",
       "       [ 0.91565574],\n",
       "       [ 1.41709027],\n",
       "       [-1.44047299],\n",
       "       [-0.58198992],\n",
       "       [ 0.69006894],\n",
       "       [-1.23681825],\n",
       "       [ 1.17270457],\n",
       "       [ 1.00338393],\n",
       "       [-0.62585402],\n",
       "       [-1.33081274],\n",
       "       [-0.96097051],\n",
       "       [-0.17154728],\n",
       "       [-0.54439212],\n",
       "       [-1.56893213],\n",
       "       [ 0.47701475],\n",
       "       [-1.21801935],\n",
       "       [-0.20914508],\n",
       "       [ 1.53915257],\n",
       "       [-0.12768318],\n",
       "       [ 1.12257418],\n",
       "       [-1.03929925],\n",
       "       [ 1.47648957],\n",
       "       [-0.45666392],\n",
       "       [ 0.93758778],\n",
       "       [ 1.50155477],\n",
       "       [ 1.21656867],\n",
       "       [-0.97976941],\n",
       "       [ 0.05417006],\n",
       "       [-1.30888069],\n",
       "       [-0.90770696],\n",
       "       [-1.44360614],\n",
       "       [-1.26814974],\n",
       "       [ 0.66500374],\n",
       "       [-0.56319102],\n",
       "       [-1.37780999],\n",
       "       [ 0.81852809],\n",
       "       [-1.26501659],\n",
       "       [-0.75431316],\n",
       "       [-0.82937821],\n",
       "       [ 0.81539494],\n",
       "       [ 0.03537116],\n",
       "       [ 1.39829137],\n",
       "       [ 0.2703574 ],\n",
       "       [-0.12455003],\n",
       "       [-0.45353077],\n",
       "       [ 0.85925904],\n",
       "       [-1.28694864],\n",
       "       [ 0.80599549],\n",
       "       [-1.35587794],\n",
       "       [-1.04556555],\n",
       "       [-0.38146832],\n",
       "       [-1.40914149],\n",
       "       [ 1.21970182],\n",
       "       [-0.70731591],\n",
       "       [-1.55013324],\n",
       "       [-1.12702745],\n",
       "       [-0.87010916],\n",
       "       [-0.23421028],\n",
       "       [-0.53185952],\n",
       "       [-0.67285126],\n",
       "       [-0.29374013],\n",
       "       [-0.91710641],\n",
       "       [-0.03669129],\n",
       "       [ 0.05730321],\n",
       "       [-0.61018827],\n",
       "       [ 1.54228572],\n",
       "       [ 1.46408752],\n",
       "       [-1.19595675],\n",
       "       [ 0.02597171],\n",
       "       [ 1.19463662],\n",
       "       [ 0.95012038],\n",
       "       [-1.39347574],\n",
       "       [-1.0925628 ],\n",
       "       [ 1.32936207],\n",
       "       [-1.32767959],\n",
       "       [-0.07441963],\n",
       "       [ 0.73079989],\n",
       "       [-1.47493764],\n",
       "       [-0.86070971],\n",
       "       [ 0.77779714],\n",
       "       [-0.31880533],\n",
       "       [-1.0862965 ],\n",
       "       [-1.2148862 ],\n",
       "       [-1.34961164],\n",
       "       [-0.58825622],\n",
       "       [ 0.93132148],\n",
       "       [ 0.4488164 ],\n",
       "       [-0.25300918],\n",
       "       [-0.15901468],\n",
       "       [ 0.84672644],\n",
       "       [-1.50000284],\n",
       "       [ 1.37635932],\n",
       "       [ 0.63993854],\n",
       "       [ 0.3548219 ],\n",
       "       [ 1.17897087],\n",
       "       [-1.30574754],\n",
       "       [ 1.28863112],\n",
       "       [ 0.70573469],\n",
       "       [-1.45300559],\n",
       "       [-0.75744631],\n",
       "       [ 0.29855575],\n",
       "       [ 0.5428109 ],\n",
       "       [ 0.64933799],\n",
       "       [ 0.38302025],\n",
       "       [ 0.336023  ],\n",
       "       [ 0.06983581],\n",
       "       [-0.05235704],\n",
       "       [ 0.13876511],\n",
       "       [ 0.35795505],\n",
       "       [ 1.13510678],\n",
       "       [ 0.03850431],\n",
       "       [-0.60392197],\n",
       "       [ 1.28236482],\n",
       "       [ 0.20142811],\n",
       "       [-0.78564466]])"
      ]
     },
     "execution_count": 10,
     "metadata": {},
     "output_type": "execute_result"
    }
   ],
   "source": [
    "predictions = model.predict(X_test_scaled)\n",
    "predictions"
   ]
  },
  {
   "cell_type": "code",
   "execution_count": null,
   "metadata": {},
   "outputs": [],
   "source": []
  },
  {
   "cell_type": "code",
   "execution_count": null,
   "metadata": {},
   "outputs": [],
   "source": [
    "new_data['mon_fri'] = 0\n",
    "for i in range(0,len(new_data)):\n",
    "    if (new_data['Dayofweek'][i] == 0 or new_data['Dayofweek'][i] == 4):\n",
    "        new_data['mon_fri'][i] = 1\n",
    "    else:\n",
    "        new_data['mon_fri'][i] = 0"
   ]
  },
  {
   "cell_type": "code",
   "execution_count": null,
   "metadata": {},
   "outputs": [],
   "source": [
    "#split into train and validation\n",
    "train = new_data[:987]\n",
    "valid = new_data[987:]\n",
    "\n",
    "x_train = train.drop('Close', axis=1)\n",
    "y_train = train['Close']\n",
    "x_valid = valid.drop('Close', axis=1)\n",
    "y_valid = valid['Close']\n",
    "\n",
    "#implement linear regression\n",
    "from sklearn.linear_model import LinearRegression\n",
    "model = LinearRegression()\n",
    "model.fit(x_train,y_train)"
   ]
  },
  {
   "cell_type": "code",
   "execution_count": null,
   "metadata": {},
   "outputs": [],
   "source": [
    "#make predictions and find the rmse\n",
    "preds = model.predict(X_test_scaled)\n",
    "rms=np.sqrt(np.mean(np.power((np.array(y_test_scaled)-np.array(preds)),2)))\n",
    "rms"
   ]
  },
  {
   "cell_type": "code",
   "execution_count": null,
   "metadata": {},
   "outputs": [],
   "source": [
    "from sklearn.metrics import mean_squared_error\n",
    "\n",
    "predictions = model.predict(X_test_scaled)\n",
    "MSE = mean_squared_error(y_test_scaled, predictions)\n",
    "r2 = model.score(X_test_scaled, y_test_scaled)\n",
    "\n",
    "print(f\"MSE: {MSE}, R2: {r2}\")"
   ]
  },
  {
   "cell_type": "code",
   "execution_count": null,
   "metadata": {},
   "outputs": [],
   "source": [
    "#plot\n",
    "valid['Predictions'] = 0\n",
    "valid['Predictions'] = preds\n",
    "\n",
    "valid.index = new_data[987:].index\n",
    "train.index = new_data[:987].index\n",
    "\n",
    "plt.plot(train['Close'])\n",
    "plt.plot(valid[['Close', 'Predictions']])"
   ]
  },
  {
   "cell_type": "markdown",
   "metadata": {},
   "source": [
    "# K-Nearest Neighbours"
   ]
  },
  {
   "cell_type": "code",
   "execution_count": 11,
   "metadata": {},
   "outputs": [],
   "source": [
    "import matplotlib.pyplot as plt\n",
    "from sklearn.datasets import load_iris\n",
    "from sklearn.model_selection import train_test_split\n",
    "from sklearn.neighbors import KNeighborsClassifier\n",
    "from sklearn.metrics import accuracy_score"
   ]
  },
  {
   "cell_type": "code",
   "execution_count": 12,
   "metadata": {},
   "outputs": [
    {
     "data": {
      "text/html": [
       "<div>\n",
       "<style scoped>\n",
       "    .dataframe tbody tr th:only-of-type {\n",
       "        vertical-align: middle;\n",
       "    }\n",
       "\n",
       "    .dataframe tbody tr th {\n",
       "        vertical-align: top;\n",
       "    }\n",
       "\n",
       "    .dataframe thead th {\n",
       "        text-align: right;\n",
       "    }\n",
       "</style>\n",
       "<table border=\"1\" class=\"dataframe\">\n",
       "  <thead>\n",
       "    <tr style=\"text-align: right;\">\n",
       "      <th></th>\n",
       "      <th>c</th>\n",
       "      <th>h</th>\n",
       "      <th>l</th>\n",
       "      <th>o</th>\n",
       "      <th>s</th>\n",
       "      <th>t</th>\n",
       "      <th>v</th>\n",
       "    </tr>\n",
       "  </thead>\n",
       "  <tbody>\n",
       "    <tr>\n",
       "      <th>0</th>\n",
       "      <td>3.62</td>\n",
       "      <td>3.67</td>\n",
       "      <td>3.56</td>\n",
       "      <td>3.58</td>\n",
       "      <td>ok</td>\n",
       "      <td>1499693400</td>\n",
       "      <td>5603100</td>\n",
       "    </tr>\n",
       "    <tr>\n",
       "      <th>1</th>\n",
       "      <td>3.60</td>\n",
       "      <td>3.64</td>\n",
       "      <td>3.57</td>\n",
       "      <td>3.60</td>\n",
       "      <td>ok</td>\n",
       "      <td>1499779800</td>\n",
       "      <td>5023200</td>\n",
       "    </tr>\n",
       "    <tr>\n",
       "      <th>2</th>\n",
       "      <td>3.64</td>\n",
       "      <td>3.65</td>\n",
       "      <td>3.60</td>\n",
       "      <td>3.61</td>\n",
       "      <td>ok</td>\n",
       "      <td>1499866200</td>\n",
       "      <td>7218200</td>\n",
       "    </tr>\n",
       "    <tr>\n",
       "      <th>3</th>\n",
       "      <td>3.56</td>\n",
       "      <td>3.65</td>\n",
       "      <td>3.54</td>\n",
       "      <td>3.64</td>\n",
       "      <td>ok</td>\n",
       "      <td>1499952600</td>\n",
       "      <td>13526400</td>\n",
       "    </tr>\n",
       "    <tr>\n",
       "      <th>4</th>\n",
       "      <td>3.65</td>\n",
       "      <td>3.65</td>\n",
       "      <td>3.57</td>\n",
       "      <td>3.57</td>\n",
       "      <td>ok</td>\n",
       "      <td>1500039000</td>\n",
       "      <td>5939900</td>\n",
       "    </tr>\n",
       "    <tr>\n",
       "      <th>...</th>\n",
       "      <td>...</td>\n",
       "      <td>...</td>\n",
       "      <td>...</td>\n",
       "      <td>...</td>\n",
       "      <td>...</td>\n",
       "      <td>...</td>\n",
       "      <td>...</td>\n",
       "    </tr>\n",
       "    <tr>\n",
       "      <th>685</th>\n",
       "      <td>6.86</td>\n",
       "      <td>6.94</td>\n",
       "      <td>6.71</td>\n",
       "      <td>6.90</td>\n",
       "      <td>ok</td>\n",
       "      <td>1585575000</td>\n",
       "      <td>18205200</td>\n",
       "    </tr>\n",
       "    <tr>\n",
       "      <th>686</th>\n",
       "      <td>6.85</td>\n",
       "      <td>7.04</td>\n",
       "      <td>6.76</td>\n",
       "      <td>6.84</td>\n",
       "      <td>ok</td>\n",
       "      <td>1585661400</td>\n",
       "      <td>16357600</td>\n",
       "    </tr>\n",
       "    <tr>\n",
       "      <th>687</th>\n",
       "      <td>6.76</td>\n",
       "      <td>7.00</td>\n",
       "      <td>6.66</td>\n",
       "      <td>6.70</td>\n",
       "      <td>ok</td>\n",
       "      <td>1585747800</td>\n",
       "      <td>12252300</td>\n",
       "    </tr>\n",
       "    <tr>\n",
       "      <th>688</th>\n",
       "      <td>6.68</td>\n",
       "      <td>6.79</td>\n",
       "      <td>6.55</td>\n",
       "      <td>6.71</td>\n",
       "      <td>ok</td>\n",
       "      <td>1585834200</td>\n",
       "      <td>24294300</td>\n",
       "    </tr>\n",
       "    <tr>\n",
       "      <th>689</th>\n",
       "      <td>6.65</td>\n",
       "      <td>6.75</td>\n",
       "      <td>6.58</td>\n",
       "      <td>6.68</td>\n",
       "      <td>ok</td>\n",
       "      <td>1585920600</td>\n",
       "      <td>17778000</td>\n",
       "    </tr>\n",
       "  </tbody>\n",
       "</table>\n",
       "<p>690 rows × 7 columns</p>\n",
       "</div>"
      ],
      "text/plain": [
       "        c     h     l     o   s           t         v\n",
       "0    3.62  3.67  3.56  3.58  ok  1499693400   5603100\n",
       "1    3.60  3.64  3.57  3.60  ok  1499779800   5023200\n",
       "2    3.64  3.65  3.60  3.61  ok  1499866200   7218200\n",
       "3    3.56  3.65  3.54  3.64  ok  1499952600  13526400\n",
       "4    3.65  3.65  3.57  3.57  ok  1500039000   5939900\n",
       "..    ...   ...   ...   ...  ..         ...       ...\n",
       "685  6.86  6.94  6.71  6.90  ok  1585575000  18205200\n",
       "686  6.85  7.04  6.76  6.84  ok  1585661400  16357600\n",
       "687  6.76  7.00  6.66  6.70  ok  1585747800  12252300\n",
       "688  6.68  6.79  6.55  6.71  ok  1585834200  24294300\n",
       "689  6.65  6.75  6.58  6.68  ok  1585920600  17778000\n",
       "\n",
       "[690 rows x 7 columns]"
      ]
     },
     "execution_count": 12,
     "metadata": {},
     "output_type": "execute_result"
    }
   ],
   "source": [
    "#read the file\n",
    "df = pd.read_json (r'ZNGA.json')\n",
    "\n",
    "#print the head\n",
    "df"
   ]
  },
  {
   "cell_type": "code",
   "execution_count": 13,
   "metadata": {},
   "outputs": [
    {
     "data": {
      "text/html": [
       "<div>\n",
       "<style scoped>\n",
       "    .dataframe tbody tr th:only-of-type {\n",
       "        vertical-align: middle;\n",
       "    }\n",
       "\n",
       "    .dataframe tbody tr th {\n",
       "        vertical-align: top;\n",
       "    }\n",
       "\n",
       "    .dataframe thead th {\n",
       "        text-align: right;\n",
       "    }\n",
       "</style>\n",
       "<table border=\"1\" class=\"dataframe\">\n",
       "  <thead>\n",
       "    <tr style=\"text-align: right;\">\n",
       "      <th></th>\n",
       "      <th>Close</th>\n",
       "      <th>High</th>\n",
       "      <th>Low</th>\n",
       "      <th>Open</th>\n",
       "      <th>Status</th>\n",
       "      <th>Date</th>\n",
       "      <th>Volume</th>\n",
       "    </tr>\n",
       "  </thead>\n",
       "  <tbody>\n",
       "    <tr>\n",
       "      <th>0</th>\n",
       "      <td>3.62</td>\n",
       "      <td>3.67</td>\n",
       "      <td>3.56</td>\n",
       "      <td>3.58</td>\n",
       "      <td>ok</td>\n",
       "      <td>2017-07-10 13:30:00</td>\n",
       "      <td>5603100</td>\n",
       "    </tr>\n",
       "    <tr>\n",
       "      <th>1</th>\n",
       "      <td>3.60</td>\n",
       "      <td>3.64</td>\n",
       "      <td>3.57</td>\n",
       "      <td>3.60</td>\n",
       "      <td>ok</td>\n",
       "      <td>2017-07-11 13:30:00</td>\n",
       "      <td>5023200</td>\n",
       "    </tr>\n",
       "    <tr>\n",
       "      <th>2</th>\n",
       "      <td>3.64</td>\n",
       "      <td>3.65</td>\n",
       "      <td>3.60</td>\n",
       "      <td>3.61</td>\n",
       "      <td>ok</td>\n",
       "      <td>2017-07-12 13:30:00</td>\n",
       "      <td>7218200</td>\n",
       "    </tr>\n",
       "    <tr>\n",
       "      <th>3</th>\n",
       "      <td>3.56</td>\n",
       "      <td>3.65</td>\n",
       "      <td>3.54</td>\n",
       "      <td>3.64</td>\n",
       "      <td>ok</td>\n",
       "      <td>2017-07-13 13:30:00</td>\n",
       "      <td>13526400</td>\n",
       "    </tr>\n",
       "    <tr>\n",
       "      <th>4</th>\n",
       "      <td>3.65</td>\n",
       "      <td>3.65</td>\n",
       "      <td>3.57</td>\n",
       "      <td>3.57</td>\n",
       "      <td>ok</td>\n",
       "      <td>2017-07-14 13:30:00</td>\n",
       "      <td>5939900</td>\n",
       "    </tr>\n",
       "  </tbody>\n",
       "</table>\n",
       "</div>"
      ],
      "text/plain": [
       "   Close  High   Low  Open Status                Date    Volume\n",
       "0   3.62  3.67  3.56  3.58     ok 2017-07-10 13:30:00   5603100\n",
       "1   3.60  3.64  3.57  3.60     ok 2017-07-11 13:30:00   5023200\n",
       "2   3.64  3.65  3.60  3.61     ok 2017-07-12 13:30:00   7218200\n",
       "3   3.56  3.65  3.54  3.64     ok 2017-07-13 13:30:00  13526400\n",
       "4   3.65  3.65  3.57  3.57     ok 2017-07-14 13:30:00   5939900"
      ]
     },
     "execution_count": 13,
     "metadata": {},
     "output_type": "execute_result"
    }
   ],
   "source": [
    "df['t'] = pd.to_datetime(df['t'], unit='s')\n",
    "df = df.rename(columns={'c': 'Close', 'h': 'High', 'l':'Low',  'o': 'Open', 's': 'Status', 't': 'Date', 'v': 'Volume'})\n",
    "df.head()"
   ]
  },
  {
   "cell_type": "code",
   "execution_count": 14,
   "metadata": {},
   "outputs": [
    {
     "data": {
      "text/html": [
       "<div>\n",
       "<style scoped>\n",
       "    .dataframe tbody tr th:only-of-type {\n",
       "        vertical-align: middle;\n",
       "    }\n",
       "\n",
       "    .dataframe tbody tr th {\n",
       "        vertical-align: top;\n",
       "    }\n",
       "\n",
       "    .dataframe thead th {\n",
       "        text-align: right;\n",
       "    }\n",
       "</style>\n",
       "<table border=\"1\" class=\"dataframe\">\n",
       "  <thead>\n",
       "    <tr style=\"text-align: right;\">\n",
       "      <th></th>\n",
       "      <th>Open-Close</th>\n",
       "      <th>High-Low</th>\n",
       "    </tr>\n",
       "  </thead>\n",
       "  <tbody>\n",
       "    <tr>\n",
       "      <th>0</th>\n",
       "      <td>-0.04</td>\n",
       "      <td>0.11</td>\n",
       "    </tr>\n",
       "    <tr>\n",
       "      <th>1</th>\n",
       "      <td>0.00</td>\n",
       "      <td>0.07</td>\n",
       "    </tr>\n",
       "    <tr>\n",
       "      <th>2</th>\n",
       "      <td>-0.03</td>\n",
       "      <td>0.05</td>\n",
       "    </tr>\n",
       "    <tr>\n",
       "      <th>3</th>\n",
       "      <td>0.08</td>\n",
       "      <td>0.11</td>\n",
       "    </tr>\n",
       "    <tr>\n",
       "      <th>4</th>\n",
       "      <td>-0.08</td>\n",
       "      <td>0.08</td>\n",
       "    </tr>\n",
       "  </tbody>\n",
       "</table>\n",
       "</div>"
      ],
      "text/plain": [
       "   Open-Close  High-Low\n",
       "0       -0.04      0.11\n",
       "1        0.00      0.07\n",
       "2       -0.03      0.05\n",
       "3        0.08      0.11\n",
       "4       -0.08      0.08"
      ]
     },
     "execution_count": 14,
     "metadata": {},
     "output_type": "execute_result"
    }
   ],
   "source": [
    "# Predictor variables\n",
    "df['Open-Close']= df.Open -df.Close\n",
    "df['High-Low']  = df.High - df.Low\n",
    "df =df.dropna()\n",
    "X= df[['Open-Close', 'High-Low']]\n",
    "X.head()"
   ]
  },
  {
   "cell_type": "code",
   "execution_count": 15,
   "metadata": {},
   "outputs": [],
   "source": [
    "# Target variable\n",
    "Y= np.where(df['Close'].shift(-1)>df['Close'],1,-1)"
   ]
  },
  {
   "cell_type": "code",
   "execution_count": 16,
   "metadata": {},
   "outputs": [],
   "source": [
    "# Splitting the dataset\n",
    "split_percentage = 0.7\n",
    "split = int(split_percentage*len(df))\n",
    "\n",
    "X_train = X[:split]\n",
    "Y_train = Y[:split]\n",
    "\n",
    "X_test = X[split:]\n",
    "Y_test = Y[split:]"
   ]
  },
  {
   "cell_type": "code",
   "execution_count": null,
   "metadata": {},
   "outputs": [],
   "source": []
  },
  {
   "cell_type": "code",
   "execution_count": 17,
   "metadata": {},
   "outputs": [
    {
     "name": "stdout",
     "output_type": "stream",
     "text": [
      "k: 1, Train/Test Score: 0.894/0.462\n",
      "k: 3, Train/Test Score: 0.726/0.452\n",
      "k: 5, Train/Test Score: 0.683/0.471\n",
      "k: 7, Train/Test Score: 0.678/0.452\n",
      "k: 9, Train/Test Score: 0.641/0.438\n",
      "k: 11, Train/Test Score: 0.620/0.423\n",
      "k: 13, Train/Test Score: 0.598/0.428\n",
      "k: 15, Train/Test Score: 0.602/0.447\n",
      "k: 17, Train/Test Score: 0.587/0.519\n",
      "k: 19, Train/Test Score: 0.562/0.514\n",
      "k: 21, Train/Test Score: 0.556/0.524\n",
      "k: 23, Train/Test Score: 0.562/0.514\n",
      "k: 25, Train/Test Score: 0.575/0.529\n",
      "k: 27, Train/Test Score: 0.587/0.514\n",
      "k: 29, Train/Test Score: 0.568/0.543\n",
      "k: 31, Train/Test Score: 0.591/0.553\n",
      "k: 33, Train/Test Score: 0.571/0.500\n",
      "k: 35, Train/Test Score: 0.560/0.471\n",
      "k: 37, Train/Test Score: 0.558/0.481\n",
      "k: 39, Train/Test Score: 0.566/0.452\n",
      "k: 41, Train/Test Score: 0.568/0.457\n",
      "k: 43, Train/Test Score: 0.558/0.409\n",
      "k: 45, Train/Test Score: 0.552/0.409\n",
      "k: 47, Train/Test Score: 0.523/0.418\n",
      "k: 49, Train/Test Score: 0.546/0.428\n"
     ]
    }
   ],
   "source": [
    "train_scores = []\n",
    "test_scores = []\n",
    "for k in range(1, 50, 2):\n",
    "    knn = KNeighborsClassifier(n_neighbors=k)\n",
    "    knn.fit(X_train, Y_train)\n",
    "    train_score = knn.score(X_train, Y_train)\n",
    "    test_score = knn.score(X_test, Y_test)\n",
    "    train_scores.append(train_score)\n",
    "    test_scores.append(test_score)\n",
    "    print(f\"k: {k}, Train/Test Score: {train_score:.3f}/{test_score:.3f}\")"
   ]
  },
  {
   "cell_type": "code",
   "execution_count": 18,
   "metadata": {},
   "outputs": [
    {
     "data": {
      "image/png": "[encoded data removed]",
      "text/plain": [
       "<Figure size 432x288 with 1 Axes>"
      ]
     },
     "metadata": {
      "needs_background": "light"
     },
     "output_type": "display_data"
    }
   ],
   "source": [
    "plt.plot(range(1, 50, 2), train_scores, marker='o')\n",
    "plt.plot(range(1, 50, 2), test_scores, marker=\"x\")\n",
    "plt.xlabel(\"k neighbors\")\n",
    "plt.ylabel(\"Testing accuracy Score\")\n",
    "plt.show()"
   ]
  },
  {
   "cell_type": "code",
   "execution_count": 19,
   "metadata": {},
   "outputs": [
    {
     "name": "stdout",
     "output_type": "stream",
     "text": [
      "Train_data Accuracy: 0.60\n",
      "Test_data Accuracy: 0.45\n"
     ]
    }
   ],
   "source": [
    "# Instantiate KNN learning model(k=15)\n",
    "knn = KNeighborsClassifier(n_neighbors=15)\n",
    "# fit the model\n",
    "knn.fit(X_train, Y_train)\n",
    "\n",
    "# Accuracy Score\n",
    "accuracy_train = accuracy_score(Y_train, knn.predict(X_train))\n",
    "accuracy_test = accuracy_score(Y_test, knn.predict(X_test))\n",
    "\n",
    "print ('Train_data Accuracy: %.2f' %accuracy_train)\n",
    "print ('Test_data Accuracy: %.2f' %accuracy_test)"
   ]
  },
  {
   "cell_type": "code",
   "execution_count": 20,
   "metadata": {},
   "outputs": [
    {
     "data": {
      "text/plain": [
       "482"
      ]
     },
     "execution_count": 20,
     "metadata": {},
     "output_type": "execute_result"
    }
   ],
   "source": [
    "len(Y_train)"
   ]
  },
  {
   "cell_type": "code",
   "execution_count": 21,
   "metadata": {},
   "outputs": [
    {
     "data": {
      "text/plain": [
       "array([ 1,  1,  1,  1, -1,  1,  1,  1, -1, -1,  1,  1,  1,  1, -1,  1, -1,\n",
       "        1,  1,  1, -1,  1, -1,  1,  1,  1,  1, -1, -1, -1,  1, -1,  1,  1,\n",
       "        1,  1,  1,  1,  1,  1,  1, -1, -1,  1,  1,  1,  1,  1, -1,  1, -1,\n",
       "        1,  1, -1, -1, -1, -1,  1,  1,  1, -1, -1,  1,  1,  1, -1,  1,  1,\n",
       "       -1,  1, -1, -1,  1,  1,  1, -1, -1,  1, -1, -1, -1,  1,  1, -1,  1,\n",
       "       -1, -1,  1, -1,  1, -1,  1, -1,  1,  1, -1,  1,  1,  1,  1,  1,  1,\n",
       "        1,  1, -1,  1, -1, -1,  1, -1, -1,  1, -1, -1,  1, -1,  1,  1,  1,\n",
       "       -1,  1, -1,  1, -1, -1,  1,  1, -1, -1, -1,  1,  1, -1, -1, -1,  1,\n",
       "       -1,  1,  1,  1,  1,  1,  1,  1,  1, -1,  1,  1, -1,  1, -1,  1,  1,\n",
       "       -1,  1, -1,  1,  1,  1,  1,  1, -1, -1, -1,  1,  1,  1,  1,  1, -1,\n",
       "       -1,  1,  1, -1,  1,  1,  1, -1,  1,  1, -1,  1,  1, -1,  1,  1,  1,\n",
       "        1,  1,  1,  1,  1,  1,  1,  1,  1,  1,  1,  1,  1,  1,  1,  1,  1,\n",
       "        1,  1,  1, -1])"
      ]
     },
     "execution_count": 21,
     "metadata": {},
     "output_type": "execute_result"
    }
   ],
   "source": [
    "pred = knn.predict(X_test)\n",
    "pred"
   ]
  },
  {
   "cell_type": "code",
   "execution_count": 22,
   "metadata": {},
   "outputs": [
    {
     "data": {
      "text/html": [
       "<div>\n",
       "<style scoped>\n",
       "    .dataframe tbody tr th:only-of-type {\n",
       "        vertical-align: middle;\n",
       "    }\n",
       "\n",
       "    .dataframe tbody tr th {\n",
       "        vertical-align: top;\n",
       "    }\n",
       "\n",
       "    .dataframe thead th {\n",
       "        text-align: right;\n",
       "    }\n",
       "</style>\n",
       "<table border=\"1\" class=\"dataframe\">\n",
       "  <thead>\n",
       "    <tr style=\"text-align: right;\">\n",
       "      <th></th>\n",
       "      <th>Prediction</th>\n",
       "      <th>Actual</th>\n",
       "    </tr>\n",
       "  </thead>\n",
       "  <tbody>\n",
       "    <tr>\n",
       "      <th>0</th>\n",
       "      <td>1</td>\n",
       "      <td>-1</td>\n",
       "    </tr>\n",
       "    <tr>\n",
       "      <th>1</th>\n",
       "      <td>1</td>\n",
       "      <td>-1</td>\n",
       "    </tr>\n",
       "    <tr>\n",
       "      <th>2</th>\n",
       "      <td>1</td>\n",
       "      <td>1</td>\n",
       "    </tr>\n",
       "    <tr>\n",
       "      <th>3</th>\n",
       "      <td>1</td>\n",
       "      <td>-1</td>\n",
       "    </tr>\n",
       "    <tr>\n",
       "      <th>4</th>\n",
       "      <td>-1</td>\n",
       "      <td>-1</td>\n",
       "    </tr>\n",
       "    <tr>\n",
       "      <th>...</th>\n",
       "      <td>...</td>\n",
       "      <td>...</td>\n",
       "    </tr>\n",
       "    <tr>\n",
       "      <th>203</th>\n",
       "      <td>1</td>\n",
       "      <td>-1</td>\n",
       "    </tr>\n",
       "    <tr>\n",
       "      <th>204</th>\n",
       "      <td>1</td>\n",
       "      <td>-1</td>\n",
       "    </tr>\n",
       "    <tr>\n",
       "      <th>205</th>\n",
       "      <td>1</td>\n",
       "      <td>-1</td>\n",
       "    </tr>\n",
       "    <tr>\n",
       "      <th>206</th>\n",
       "      <td>1</td>\n",
       "      <td>-1</td>\n",
       "    </tr>\n",
       "    <tr>\n",
       "      <th>207</th>\n",
       "      <td>-1</td>\n",
       "      <td>-1</td>\n",
       "    </tr>\n",
       "  </tbody>\n",
       "</table>\n",
       "<p>208 rows × 2 columns</p>\n",
       "</div>"
      ],
      "text/plain": [
       "     Prediction  Actual\n",
       "0             1      -1\n",
       "1             1      -1\n",
       "2             1       1\n",
       "3             1      -1\n",
       "4            -1      -1\n",
       "..          ...     ...\n",
       "203           1      -1\n",
       "204           1      -1\n",
       "205           1      -1\n",
       "206           1      -1\n",
       "207          -1      -1\n",
       "\n",
       "[208 rows x 2 columns]"
      ]
     },
     "execution_count": 22,
     "metadata": {},
     "output_type": "execute_result"
    }
   ],
   "source": [
    "pd.DataFrame({\"Prediction\": pred, 'Actual': Y_test})"
   ]
  },
  {
   "cell_type": "code",
   "execution_count": 23,
   "metadata": {},
   "outputs": [
    {
     "data": {
      "image/png": "[encoded data removed]",
      "text/plain": [
       "<Figure size 720x360 with 1 Axes>"
      ]
     },
     "metadata": {
      "needs_background": "light"
     },
     "output_type": "display_data"
    }
   ],
   "source": [
    "# Predicted Signal\n",
    "df['Predicted_Signal'] = knn.predict(X)\n",
    "\n",
    "# SPY Cumulative Returns\n",
    "df['SPY_returns'] = np.log(df['Close']/df['Close'].shift(1))\n",
    "Cumulative_SPY_returns = df[split:]['SPY_returns'].cumsum()*100\n",
    "\n",
    "# Cumulative Strategy Returns \n",
    "df['Startegy_returns'] = df['SPY_returns']* df['Predicted_Signal'].shift(1)\n",
    "Cumulative_Strategy_returns = df[split:]['Startegy_returns'].cumsum()*100\n",
    "\n",
    "# Plot the results to visualize the performance\n",
    "\n",
    "plt.figure(figsize=(10,5))\n",
    "plt.plot(Cumulative_SPY_returns, color='r',label = 'SPY Returns')\n",
    "plt.plot(Cumulative_Strategy_returns, color='g', label = 'Strategy Returns')\n",
    "plt.legend()\n",
    "plt.show()"
   ]
  },
  {
   "cell_type": "code",
   "execution_count": 24,
   "metadata": {},
   "outputs": [
    {
     "data": {
      "text/html": [
       "<div>\n",
       "<style scoped>\n",
       "    .dataframe tbody tr th:only-of-type {\n",
       "        vertical-align: middle;\n",
       "    }\n",
       "\n",
       "    .dataframe tbody tr th {\n",
       "        vertical-align: top;\n",
       "    }\n",
       "\n",
       "    .dataframe thead th {\n",
       "        text-align: right;\n",
       "    }\n",
       "</style>\n",
       "<table border=\"1\" class=\"dataframe\">\n",
       "  <thead>\n",
       "    <tr style=\"text-align: right;\">\n",
       "      <th></th>\n",
       "      <th>Close</th>\n",
       "      <th>High</th>\n",
       "      <th>Low</th>\n",
       "      <th>Open</th>\n",
       "      <th>Status</th>\n",
       "      <th>Date</th>\n",
       "      <th>Volume</th>\n",
       "      <th>Open-Close</th>\n",
       "      <th>High-Low</th>\n",
       "      <th>Predicted_Signal</th>\n",
       "      <th>SPY_returns</th>\n",
       "      <th>Startegy_returns</th>\n",
       "    </tr>\n",
       "  </thead>\n",
       "  <tbody>\n",
       "    <tr>\n",
       "      <th>0</th>\n",
       "      <td>3.62</td>\n",
       "      <td>3.67</td>\n",
       "      <td>3.56</td>\n",
       "      <td>3.58</td>\n",
       "      <td>ok</td>\n",
       "      <td>2017-07-10 13:30:00</td>\n",
       "      <td>5603100</td>\n",
       "      <td>-0.04</td>\n",
       "      <td>0.11</td>\n",
       "      <td>-1</td>\n",
       "      <td>NaN</td>\n",
       "      <td>NaN</td>\n",
       "    </tr>\n",
       "    <tr>\n",
       "      <th>1</th>\n",
       "      <td>3.60</td>\n",
       "      <td>3.64</td>\n",
       "      <td>3.57</td>\n",
       "      <td>3.60</td>\n",
       "      <td>ok</td>\n",
       "      <td>2017-07-11 13:30:00</td>\n",
       "      <td>5023200</td>\n",
       "      <td>0.00</td>\n",
       "      <td>0.07</td>\n",
       "      <td>1</td>\n",
       "      <td>-0.005540</td>\n",
       "      <td>0.005540</td>\n",
       "    </tr>\n",
       "    <tr>\n",
       "      <th>2</th>\n",
       "      <td>3.64</td>\n",
       "      <td>3.65</td>\n",
       "      <td>3.60</td>\n",
       "      <td>3.61</td>\n",
       "      <td>ok</td>\n",
       "      <td>2017-07-12 13:30:00</td>\n",
       "      <td>7218200</td>\n",
       "      <td>-0.03</td>\n",
       "      <td>0.05</td>\n",
       "      <td>-1</td>\n",
       "      <td>0.011050</td>\n",
       "      <td>0.011050</td>\n",
       "    </tr>\n",
       "    <tr>\n",
       "      <th>3</th>\n",
       "      <td>3.56</td>\n",
       "      <td>3.65</td>\n",
       "      <td>3.54</td>\n",
       "      <td>3.64</td>\n",
       "      <td>ok</td>\n",
       "      <td>2017-07-13 13:30:00</td>\n",
       "      <td>13526400</td>\n",
       "      <td>0.08</td>\n",
       "      <td>0.11</td>\n",
       "      <td>1</td>\n",
       "      <td>-0.022223</td>\n",
       "      <td>0.022223</td>\n",
       "    </tr>\n",
       "    <tr>\n",
       "      <th>4</th>\n",
       "      <td>3.65</td>\n",
       "      <td>3.65</td>\n",
       "      <td>3.57</td>\n",
       "      <td>3.57</td>\n",
       "      <td>ok</td>\n",
       "      <td>2017-07-14 13:30:00</td>\n",
       "      <td>5939900</td>\n",
       "      <td>-0.08</td>\n",
       "      <td>0.08</td>\n",
       "      <td>-1</td>\n",
       "      <td>0.024967</td>\n",
       "      <td>0.024967</td>\n",
       "    </tr>\n",
       "    <tr>\n",
       "      <th>...</th>\n",
       "      <td>...</td>\n",
       "      <td>...</td>\n",
       "      <td>...</td>\n",
       "      <td>...</td>\n",
       "      <td>...</td>\n",
       "      <td>...</td>\n",
       "      <td>...</td>\n",
       "      <td>...</td>\n",
       "      <td>...</td>\n",
       "      <td>...</td>\n",
       "      <td>...</td>\n",
       "      <td>...</td>\n",
       "    </tr>\n",
       "    <tr>\n",
       "      <th>685</th>\n",
       "      <td>6.86</td>\n",
       "      <td>6.94</td>\n",
       "      <td>6.71</td>\n",
       "      <td>6.90</td>\n",
       "      <td>ok</td>\n",
       "      <td>2020-03-30 13:30:00</td>\n",
       "      <td>18205200</td>\n",
       "      <td>0.04</td>\n",
       "      <td>0.23</td>\n",
       "      <td>1</td>\n",
       "      <td>0.023600</td>\n",
       "      <td>0.023600</td>\n",
       "    </tr>\n",
       "    <tr>\n",
       "      <th>686</th>\n",
       "      <td>6.85</td>\n",
       "      <td>7.04</td>\n",
       "      <td>6.76</td>\n",
       "      <td>6.84</td>\n",
       "      <td>ok</td>\n",
       "      <td>2020-03-31 13:30:00</td>\n",
       "      <td>16357600</td>\n",
       "      <td>-0.01</td>\n",
       "      <td>0.28</td>\n",
       "      <td>1</td>\n",
       "      <td>-0.001459</td>\n",
       "      <td>-0.001459</td>\n",
       "    </tr>\n",
       "    <tr>\n",
       "      <th>687</th>\n",
       "      <td>6.76</td>\n",
       "      <td>7.00</td>\n",
       "      <td>6.66</td>\n",
       "      <td>6.70</td>\n",
       "      <td>ok</td>\n",
       "      <td>2020-04-01 13:30:00</td>\n",
       "      <td>12252300</td>\n",
       "      <td>-0.06</td>\n",
       "      <td>0.34</td>\n",
       "      <td>1</td>\n",
       "      <td>-0.013226</td>\n",
       "      <td>-0.013226</td>\n",
       "    </tr>\n",
       "    <tr>\n",
       "      <th>688</th>\n",
       "      <td>6.68</td>\n",
       "      <td>6.79</td>\n",
       "      <td>6.55</td>\n",
       "      <td>6.71</td>\n",
       "      <td>ok</td>\n",
       "      <td>2020-04-02 13:30:00</td>\n",
       "      <td>24294300</td>\n",
       "      <td>0.03</td>\n",
       "      <td>0.24</td>\n",
       "      <td>1</td>\n",
       "      <td>-0.011905</td>\n",
       "      <td>-0.011905</td>\n",
       "    </tr>\n",
       "    <tr>\n",
       "      <th>689</th>\n",
       "      <td>6.65</td>\n",
       "      <td>6.75</td>\n",
       "      <td>6.58</td>\n",
       "      <td>6.68</td>\n",
       "      <td>ok</td>\n",
       "      <td>2020-04-03 13:30:00</td>\n",
       "      <td>17778000</td>\n",
       "      <td>0.03</td>\n",
       "      <td>0.17</td>\n",
       "      <td>-1</td>\n",
       "      <td>-0.004501</td>\n",
       "      <td>-0.004501</td>\n",
       "    </tr>\n",
       "  </tbody>\n",
       "</table>\n",
       "<p>690 rows × 12 columns</p>\n",
       "</div>"
      ],
      "text/plain": [
       "     Close  High   Low  Open Status                Date    Volume  Open-Close  \\\n",
       "0     3.62  3.67  3.56  3.58     ok 2017-07-10 13:30:00   5603100       -0.04   \n",
       "1     3.60  3.64  3.57  3.60     ok 2017-07-11 13:30:00   5023200        0.00   \n",
       "2     3.64  3.65  3.60  3.61     ok 2017-07-12 13:30:00   7218200       -0.03   \n",
       "3     3.56  3.65  3.54  3.64     ok 2017-07-13 13:30:00  13526400        0.08   \n",
       "4     3.65  3.65  3.57  3.57     ok 2017-07-14 13:30:00   5939900       -0.08   \n",
       "..     ...   ...   ...   ...    ...                 ...       ...         ...   \n",
       "685   6.86  6.94  6.71  6.90     ok 2020-03-30 13:30:00  18205200        0.04   \n",
       "686   6.85  7.04  6.76  6.84     ok 2020-03-31 13:30:00  16357600       -0.01   \n",
       "687   6.76  7.00  6.66  6.70     ok 2020-04-01 13:30:00  12252300       -0.06   \n",
       "688   6.68  6.79  6.55  6.71     ok 2020-04-02 13:30:00  24294300        0.03   \n",
       "689   6.65  6.75  6.58  6.68     ok 2020-04-03 13:30:00  17778000        0.03   \n",
       "\n",
       "     High-Low  Predicted_Signal  SPY_returns  Startegy_returns  \n",
       "0        0.11                -1          NaN               NaN  \n",
       "1        0.07                 1    -0.005540          0.005540  \n",
       "2        0.05                -1     0.011050          0.011050  \n",
       "3        0.11                 1    -0.022223          0.022223  \n",
       "4        0.08                -1     0.024967          0.024967  \n",
       "..        ...               ...          ...               ...  \n",
       "685      0.23                 1     0.023600          0.023600  \n",
       "686      0.28                 1    -0.001459         -0.001459  \n",
       "687      0.34                 1    -0.013226         -0.013226  \n",
       "688      0.24                 1    -0.011905         -0.011905  \n",
       "689      0.17                -1    -0.004501         -0.004501  \n",
       "\n",
       "[690 rows x 12 columns]"
      ]
     },
     "execution_count": 24,
     "metadata": {},
     "output_type": "execute_result"
    }
   ],
   "source": [
    "df"
   ]
  },
  {
   "cell_type": "markdown",
   "metadata": {},
   "source": [
    "What is Sharpe Ratio?\n",
    "Sharpe ratio is a measure for calculating risk-adjusted return. It is the ratio of the excess expected return of investment (over risk-free rate) per unit of volatility or standard deviation.\n",
    "\n",
    "Let us see the formula for Sharpe ratio which will make things much clearer. The sharpe ratio calculation is done in the following manner\n",
    "\n",
    "Sharpe Ratio = (Rx – Rf) / StdDev(x)\n",
    "\n",
    "Where,\n",
    "x is the investment\n",
    "Rx is the average rate of return of x\n",
    "Rf is the risk-free rate of return\n",
    "StdDev(x) is the standard deviation of Rx\n",
    "Once you see the formula, you will understand that we deduct the risk-free rate of return as this helps us in figuring out if the strategy makes sense or not. If the Numerator turned out negative, wouldn’t it be better to invest in a government bond which guarantees you a risk-free rate of return? Some of you would recognise this as the risk-adjusted return.\n",
    "\n",
    "In the denominator, we have the standard deviation of the average return of the investment. It helps us in identifying the volatility as well as the risk associated with the investment.\n",
    "\n",
    "Thus, the Sharpe ratio helps us in identifying which strategy gives better returns in comparison to the volatility. There, that is all when it comes to sharpe ratio calculation.\n",
    "\n",
    "Let’s take an example now to see how the Sharpe ratio calculation helps us.\n",
    "\n",
    "You have devised a strategy and created a portfolio of different stocks. After backtesting, you observe that this portfolio, let’s call it Portfolio A, will give a return of 11%. However, you are concerned with the volatility at 8%. \n",
    "\n",
    "Now, you change certain parameters and pick different financial instruments to create another portfolio, Portfolio B. This portfolio gives an expected return of 8%, but the volatility now drops to 4%. "
   ]
  },
  {
   "cell_type": "code",
   "execution_count": 25,
   "metadata": {},
   "outputs": [
    {
     "name": "stdout",
     "output_type": "stream",
     "text": [
      "Sharpe ratio: -1.31\n"
     ]
    }
   ],
   "source": [
    "# Calculate Sharpe reatio\n",
    "Std = Cumulative_Strategy_returns.std()\n",
    "Sharpe = (Cumulative_Strategy_returns-Cumulative_SPY_returns)/Std\n",
    "Sharpe = Sharpe.mean()\n",
    "print ('Sharpe ratio: %.2f'%Sharpe )"
   ]
  },
  {
   "cell_type": "markdown",
   "metadata": {},
   "source": [
    "Tested many neighbours and the lowest sharpe ratio was for 15."
   ]
  },
  {
   "cell_type": "markdown",
   "metadata": {},
   "source": [
    "# Auto ARIMA"
   ]
  },
  {
   "cell_type": "code",
   "execution_count": 26,
   "metadata": {},
   "outputs": [],
   "source": [
    "import numpy as np \n",
    "import pandas as pd \n",
    "import matplotlib.pyplot as plt\n",
    "from pandas.plotting import lag_plot\n",
    "from pandas import datetime\n",
    "from statsmodels.tsa.arima_model import ARIMA\n",
    "from sklearn.metrics import mean_squared_error"
   ]
  },
  {
   "cell_type": "code",
   "execution_count": 27,
   "metadata": {},
   "outputs": [
    {
     "data": {
      "text/html": [
       "<div>\n",
       "<style scoped>\n",
       "    .dataframe tbody tr th:only-of-type {\n",
       "        vertical-align: middle;\n",
       "    }\n",
       "\n",
       "    .dataframe tbody tr th {\n",
       "        vertical-align: top;\n",
       "    }\n",
       "\n",
       "    .dataframe thead th {\n",
       "        text-align: right;\n",
       "    }\n",
       "</style>\n",
       "<table border=\"1\" class=\"dataframe\">\n",
       "  <thead>\n",
       "    <tr style=\"text-align: right;\">\n",
       "      <th></th>\n",
       "      <th>c</th>\n",
       "      <th>h</th>\n",
       "      <th>l</th>\n",
       "      <th>o</th>\n",
       "      <th>s</th>\n",
       "      <th>t</th>\n",
       "      <th>v</th>\n",
       "    </tr>\n",
       "  </thead>\n",
       "  <tbody>\n",
       "    <tr>\n",
       "      <th>0</th>\n",
       "      <td>3.62</td>\n",
       "      <td>3.67</td>\n",
       "      <td>3.56</td>\n",
       "      <td>3.58</td>\n",
       "      <td>ok</td>\n",
       "      <td>1499693400</td>\n",
       "      <td>5603100</td>\n",
       "    </tr>\n",
       "    <tr>\n",
       "      <th>1</th>\n",
       "      <td>3.60</td>\n",
       "      <td>3.64</td>\n",
       "      <td>3.57</td>\n",
       "      <td>3.60</td>\n",
       "      <td>ok</td>\n",
       "      <td>1499779800</td>\n",
       "      <td>5023200</td>\n",
       "    </tr>\n",
       "    <tr>\n",
       "      <th>2</th>\n",
       "      <td>3.64</td>\n",
       "      <td>3.65</td>\n",
       "      <td>3.60</td>\n",
       "      <td>3.61</td>\n",
       "      <td>ok</td>\n",
       "      <td>1499866200</td>\n",
       "      <td>7218200</td>\n",
       "    </tr>\n",
       "    <tr>\n",
       "      <th>3</th>\n",
       "      <td>3.56</td>\n",
       "      <td>3.65</td>\n",
       "      <td>3.54</td>\n",
       "      <td>3.64</td>\n",
       "      <td>ok</td>\n",
       "      <td>1499952600</td>\n",
       "      <td>13526400</td>\n",
       "    </tr>\n",
       "    <tr>\n",
       "      <th>4</th>\n",
       "      <td>3.65</td>\n",
       "      <td>3.65</td>\n",
       "      <td>3.57</td>\n",
       "      <td>3.57</td>\n",
       "      <td>ok</td>\n",
       "      <td>1500039000</td>\n",
       "      <td>5939900</td>\n",
       "    </tr>\n",
       "    <tr>\n",
       "      <th>...</th>\n",
       "      <td>...</td>\n",
       "      <td>...</td>\n",
       "      <td>...</td>\n",
       "      <td>...</td>\n",
       "      <td>...</td>\n",
       "      <td>...</td>\n",
       "      <td>...</td>\n",
       "    </tr>\n",
       "    <tr>\n",
       "      <th>685</th>\n",
       "      <td>6.86</td>\n",
       "      <td>6.94</td>\n",
       "      <td>6.71</td>\n",
       "      <td>6.90</td>\n",
       "      <td>ok</td>\n",
       "      <td>1585575000</td>\n",
       "      <td>18205200</td>\n",
       "    </tr>\n",
       "    <tr>\n",
       "      <th>686</th>\n",
       "      <td>6.85</td>\n",
       "      <td>7.04</td>\n",
       "      <td>6.76</td>\n",
       "      <td>6.84</td>\n",
       "      <td>ok</td>\n",
       "      <td>1585661400</td>\n",
       "      <td>16357600</td>\n",
       "    </tr>\n",
       "    <tr>\n",
       "      <th>687</th>\n",
       "      <td>6.76</td>\n",
       "      <td>7.00</td>\n",
       "      <td>6.66</td>\n",
       "      <td>6.70</td>\n",
       "      <td>ok</td>\n",
       "      <td>1585747800</td>\n",
       "      <td>12252300</td>\n",
       "    </tr>\n",
       "    <tr>\n",
       "      <th>688</th>\n",
       "      <td>6.68</td>\n",
       "      <td>6.79</td>\n",
       "      <td>6.55</td>\n",
       "      <td>6.71</td>\n",
       "      <td>ok</td>\n",
       "      <td>1585834200</td>\n",
       "      <td>24294300</td>\n",
       "    </tr>\n",
       "    <tr>\n",
       "      <th>689</th>\n",
       "      <td>6.65</td>\n",
       "      <td>6.75</td>\n",
       "      <td>6.58</td>\n",
       "      <td>6.68</td>\n",
       "      <td>ok</td>\n",
       "      <td>1585920600</td>\n",
       "      <td>17778000</td>\n",
       "    </tr>\n",
       "  </tbody>\n",
       "</table>\n",
       "<p>690 rows × 7 columns</p>\n",
       "</div>"
      ],
      "text/plain": [
       "        c     h     l     o   s           t         v\n",
       "0    3.62  3.67  3.56  3.58  ok  1499693400   5603100\n",
       "1    3.60  3.64  3.57  3.60  ok  1499779800   5023200\n",
       "2    3.64  3.65  3.60  3.61  ok  1499866200   7218200\n",
       "3    3.56  3.65  3.54  3.64  ok  1499952600  13526400\n",
       "4    3.65  3.65  3.57  3.57  ok  1500039000   5939900\n",
       "..    ...   ...   ...   ...  ..         ...       ...\n",
       "685  6.86  6.94  6.71  6.90  ok  1585575000  18205200\n",
       "686  6.85  7.04  6.76  6.84  ok  1585661400  16357600\n",
       "687  6.76  7.00  6.66  6.70  ok  1585747800  12252300\n",
       "688  6.68  6.79  6.55  6.71  ok  1585834200  24294300\n",
       "689  6.65  6.75  6.58  6.68  ok  1585920600  17778000\n",
       "\n",
       "[690 rows x 7 columns]"
      ]
     },
     "execution_count": 27,
     "metadata": {},
     "output_type": "execute_result"
    }
   ],
   "source": [
    "#read the file\n",
    "df = pd.read_json (r'ZNGA.json')\n",
    "\n",
    "#print the head\n",
    "df"
   ]
  },
  {
   "cell_type": "code",
   "execution_count": 28,
   "metadata": {},
   "outputs": [
    {
     "data": {
      "text/plain": [
       "Text(0.5, 1.0, 'Microsoft Autocorrelation plot')"
      ]
     },
     "execution_count": 28,
     "metadata": {},
     "output_type": "execute_result"
    },
    {
     "data": {
      "image/png": "[encoded data removed]",
      "text/plain": [
       "<Figure size 720x720 with 1 Axes>"
      ]
     },
     "metadata": {
      "needs_background": "light"
     },
     "output_type": "display_data"
    }
   ],
   "source": [
    "plt.figure(figsize=(10,10))\n",
    "lag_plot(df['c'], lag=5)\n",
    "plt.title('Microsoft Autocorrelation plot')"
   ]
  },
  {
   "cell_type": "code",
   "execution_count": 29,
   "metadata": {},
   "outputs": [],
   "source": [
    "size = len(df)"
   ]
  },
  {
   "cell_type": "code",
   "execution_count": 30,
   "metadata": {},
   "outputs": [
    {
     "data": {
      "text/plain": [
       "<matplotlib.legend.Legend at 0x1f7f5d7de48>"
      ]
     },
     "execution_count": 30,
     "metadata": {},
     "output_type": "execute_result"
    },
    {
     "data": {
      "image/png": "[encoded data removed]",
      "text/plain": [
       "<Figure size 864x504 with 1 Axes>"
      ]
     },
     "metadata": {
      "needs_background": "light"
     },
     "output_type": "display_data"
    }
   ],
   "source": [
    "train_data, test_data = df[0:int(len(df)*0.8)], df[int(len(df)*0.8):]\n",
    "plt.figure(figsize=(12,7))\n",
    "plt.title('Microsoft Prices')\n",
    "plt.xlabel('Dates')\n",
    "plt.ylabel('Prices')\n",
    "plt.plot(df['c'], 'blue', label='Training Data')\n",
    "plt.plot(test_data['c'], 'green', label='Testing Data')\n",
    "plt.xticks(np.arange(0,size, 300), df['t'][0:size:300])\n",
    "plt.legend()"
   ]
  },
  {
   "cell_type": "code",
   "execution_count": 31,
   "metadata": {},
   "outputs": [],
   "source": [
    "def smape_kun(y_true, y_pred):\n",
    "    return np.mean((np.abs(y_pred - y_true) * 200/ (np.abs(y_pred) +       np.abs(y_true))))"
   ]
  },
  {
   "cell_type": "code",
   "execution_count": 32,
   "metadata": {},
   "outputs": [
    {
     "name": "stdout",
     "output_type": "stream",
     "text": [
      "<class 'list'>\n",
      "Testing Mean Squared Error: 0.029\n",
      "Symmetric mean absolute percentage error: 5.807\n"
     ]
    }
   ],
   "source": [
    "train_ar = train_data['c'].values\n",
    "test_ar = test_data['c'].values\n",
    "history = [x for x in train_ar]\n",
    "print(type(history))\n",
    "predictions = list()\n",
    "for t in range(len(test_ar)):\n",
    "    model = ARIMA(history, order=(5,1,0))\n",
    "    model_fit = model.fit(disp=0)\n",
    "    output = model_fit.forecast()\n",
    "    yhat = output[0]\n",
    "    predictions.append(yhat)\n",
    "    obs = test_ar[t]\n",
    "    history.append(obs)\n",
    "error = mean_squared_error(test_ar, predictions)\n",
    "print('Testing Mean Squared Error: %.3f' % error)\n",
    "error2 = smape_kun(test_ar, predictions)\n",
    "print('Symmetric mean absolute percentage error: %.3f' % error2)"
   ]
  },
  {
   "cell_type": "code",
   "execution_count": 33,
   "metadata": {},
   "outputs": [
    {
     "data": {
      "text/html": [
       "<div>\n",
       "<style scoped>\n",
       "    .dataframe tbody tr th:only-of-type {\n",
       "        vertical-align: middle;\n",
       "    }\n",
       "\n",
       "    .dataframe tbody tr th {\n",
       "        vertical-align: top;\n",
       "    }\n",
       "\n",
       "    .dataframe thead th {\n",
       "        text-align: right;\n",
       "    }\n",
       "</style>\n",
       "<table border=\"1\" class=\"dataframe\">\n",
       "  <thead>\n",
       "    <tr style=\"text-align: right;\">\n",
       "      <th></th>\n",
       "      <th>Prediction</th>\n",
       "      <th>Actual</th>\n",
       "    </tr>\n",
       "  </thead>\n",
       "  <tbody>\n",
       "    <tr>\n",
       "      <th>0</th>\n",
       "      <td>[6.040721936074324]</td>\n",
       "      <td>6.04</td>\n",
       "    </tr>\n",
       "    <tr>\n",
       "      <th>1</th>\n",
       "      <td>[6.0296100575511336]</td>\n",
       "      <td>6.12</td>\n",
       "    </tr>\n",
       "    <tr>\n",
       "      <th>2</th>\n",
       "      <td>[6.114255856234885]</td>\n",
       "      <td>6.16</td>\n",
       "    </tr>\n",
       "    <tr>\n",
       "      <th>3</th>\n",
       "      <td>[6.158076332669877]</td>\n",
       "      <td>6.16</td>\n",
       "    </tr>\n",
       "    <tr>\n",
       "      <th>4</th>\n",
       "      <td>[6.152765257678843]</td>\n",
       "      <td>6.03</td>\n",
       "    </tr>\n",
       "    <tr>\n",
       "      <th>...</th>\n",
       "      <td>...</td>\n",
       "      <td>...</td>\n",
       "    </tr>\n",
       "    <tr>\n",
       "      <th>133</th>\n",
       "      <td>[6.691988165560411]</td>\n",
       "      <td>6.86</td>\n",
       "    </tr>\n",
       "    <tr>\n",
       "      <th>134</th>\n",
       "      <td>[6.852388625068157]</td>\n",
       "      <td>6.85</td>\n",
       "    </tr>\n",
       "    <tr>\n",
       "      <th>135</th>\n",
       "      <td>[6.856257439797362]</td>\n",
       "      <td>6.76</td>\n",
       "    </tr>\n",
       "    <tr>\n",
       "      <th>136</th>\n",
       "      <td>[6.757325468567815]</td>\n",
       "      <td>6.68</td>\n",
       "    </tr>\n",
       "    <tr>\n",
       "      <th>137</th>\n",
       "      <td>[6.692882425119274]</td>\n",
       "      <td>6.65</td>\n",
       "    </tr>\n",
       "  </tbody>\n",
       "</table>\n",
       "<p>138 rows × 2 columns</p>\n",
       "</div>"
      ],
      "text/plain": [
       "               Prediction  Actual\n",
       "0     [6.040721936074324]    6.04\n",
       "1    [6.0296100575511336]    6.12\n",
       "2     [6.114255856234885]    6.16\n",
       "3     [6.158076332669877]    6.16\n",
       "4     [6.152765257678843]    6.03\n",
       "..                    ...     ...\n",
       "133   [6.691988165560411]    6.86\n",
       "134   [6.852388625068157]    6.85\n",
       "135   [6.856257439797362]    6.76\n",
       "136   [6.757325468567815]    6.68\n",
       "137   [6.692882425119274]    6.65\n",
       "\n",
       "[138 rows x 2 columns]"
      ]
     },
     "execution_count": 33,
     "metadata": {},
     "output_type": "execute_result"
    }
   ],
   "source": [
    "pd.DataFrame({\"Prediction\": predictions, 'Actual': test_ar})"
   ]
  },
  {
   "cell_type": "code",
   "execution_count": 34,
   "metadata": {},
   "outputs": [
    {
     "data": {
      "text/plain": [
       "<matplotlib.legend.Legend at 0x1f7f61764a8>"
      ]
     },
     "execution_count": 34,
     "metadata": {},
     "output_type": "execute_result"
    },
    {
     "data": {
      "image/png": "[encoded data removed]",
      "text/plain": [
       "<Figure size 864x504 with 1 Axes>"
      ]
     },
     "metadata": {
      "needs_background": "light"
     },
     "output_type": "display_data"
    }
   ],
   "source": [
    "plt.figure(figsize=(12,7))\n",
    "plt.plot(df['c'], 'green', color='blue', label='Training Data')\n",
    "plt.plot(test_data.index, predictions, color='green', marker='o', linestyle='dashed', \n",
    "         label='Predicted Price')\n",
    "plt.plot(test_data.index, test_data['c'], color='red', label='Actual Price')\n",
    "plt.title('Microsoft Prices Prediction')\n",
    "plt.xlabel('Dates')\n",
    "plt.ylabel('Prices')\n",
    "plt.xticks(np.arange(0,size, 1300), df['t'][0:size:1300])\n",
    "plt.legend()"
   ]
  },
  {
   "cell_type": "markdown",
   "metadata": {},
   "source": [
    "# Prophet"
   ]
  },
  {
   "cell_type": "code",
   "execution_count": 35,
   "metadata": {},
   "outputs": [
    {
     "data": {
      "text/html": [
       "<div>\n",
       "<style scoped>\n",
       "    .dataframe tbody tr th:only-of-type {\n",
       "        vertical-align: middle;\n",
       "    }\n",
       "\n",
       "    .dataframe tbody tr th {\n",
       "        vertical-align: top;\n",
       "    }\n",
       "\n",
       "    .dataframe thead th {\n",
       "        text-align: right;\n",
       "    }\n",
       "</style>\n",
       "<table border=\"1\" class=\"dataframe\">\n",
       "  <thead>\n",
       "    <tr style=\"text-align: right;\">\n",
       "      <th></th>\n",
       "      <th>c</th>\n",
       "      <th>h</th>\n",
       "      <th>l</th>\n",
       "      <th>o</th>\n",
       "      <th>s</th>\n",
       "      <th>t</th>\n",
       "      <th>v</th>\n",
       "    </tr>\n",
       "  </thead>\n",
       "  <tbody>\n",
       "    <tr>\n",
       "      <th>0</th>\n",
       "      <td>3.62</td>\n",
       "      <td>3.67</td>\n",
       "      <td>3.56</td>\n",
       "      <td>3.58</td>\n",
       "      <td>ok</td>\n",
       "      <td>1499693400</td>\n",
       "      <td>5603100</td>\n",
       "    </tr>\n",
       "    <tr>\n",
       "      <th>1</th>\n",
       "      <td>3.60</td>\n",
       "      <td>3.64</td>\n",
       "      <td>3.57</td>\n",
       "      <td>3.60</td>\n",
       "      <td>ok</td>\n",
       "      <td>1499779800</td>\n",
       "      <td>5023200</td>\n",
       "    </tr>\n",
       "    <tr>\n",
       "      <th>2</th>\n",
       "      <td>3.64</td>\n",
       "      <td>3.65</td>\n",
       "      <td>3.60</td>\n",
       "      <td>3.61</td>\n",
       "      <td>ok</td>\n",
       "      <td>1499866200</td>\n",
       "      <td>7218200</td>\n",
       "    </tr>\n",
       "    <tr>\n",
       "      <th>3</th>\n",
       "      <td>3.56</td>\n",
       "      <td>3.65</td>\n",
       "      <td>3.54</td>\n",
       "      <td>3.64</td>\n",
       "      <td>ok</td>\n",
       "      <td>1499952600</td>\n",
       "      <td>13526400</td>\n",
       "    </tr>\n",
       "    <tr>\n",
       "      <th>4</th>\n",
       "      <td>3.65</td>\n",
       "      <td>3.65</td>\n",
       "      <td>3.57</td>\n",
       "      <td>3.57</td>\n",
       "      <td>ok</td>\n",
       "      <td>1500039000</td>\n",
       "      <td>5939900</td>\n",
       "    </tr>\n",
       "    <tr>\n",
       "      <th>...</th>\n",
       "      <td>...</td>\n",
       "      <td>...</td>\n",
       "      <td>...</td>\n",
       "      <td>...</td>\n",
       "      <td>...</td>\n",
       "      <td>...</td>\n",
       "      <td>...</td>\n",
       "    </tr>\n",
       "    <tr>\n",
       "      <th>685</th>\n",
       "      <td>6.86</td>\n",
       "      <td>6.94</td>\n",
       "      <td>6.71</td>\n",
       "      <td>6.90</td>\n",
       "      <td>ok</td>\n",
       "      <td>1585575000</td>\n",
       "      <td>18205200</td>\n",
       "    </tr>\n",
       "    <tr>\n",
       "      <th>686</th>\n",
       "      <td>6.85</td>\n",
       "      <td>7.04</td>\n",
       "      <td>6.76</td>\n",
       "      <td>6.84</td>\n",
       "      <td>ok</td>\n",
       "      <td>1585661400</td>\n",
       "      <td>16357600</td>\n",
       "    </tr>\n",
       "    <tr>\n",
       "      <th>687</th>\n",
       "      <td>6.76</td>\n",
       "      <td>7.00</td>\n",
       "      <td>6.66</td>\n",
       "      <td>6.70</td>\n",
       "      <td>ok</td>\n",
       "      <td>1585747800</td>\n",
       "      <td>12252300</td>\n",
       "    </tr>\n",
       "    <tr>\n",
       "      <th>688</th>\n",
       "      <td>6.68</td>\n",
       "      <td>6.79</td>\n",
       "      <td>6.55</td>\n",
       "      <td>6.71</td>\n",
       "      <td>ok</td>\n",
       "      <td>1585834200</td>\n",
       "      <td>24294300</td>\n",
       "    </tr>\n",
       "    <tr>\n",
       "      <th>689</th>\n",
       "      <td>6.65</td>\n",
       "      <td>6.75</td>\n",
       "      <td>6.58</td>\n",
       "      <td>6.68</td>\n",
       "      <td>ok</td>\n",
       "      <td>1585920600</td>\n",
       "      <td>17778000</td>\n",
       "    </tr>\n",
       "  </tbody>\n",
       "</table>\n",
       "<p>690 rows × 7 columns</p>\n",
       "</div>"
      ],
      "text/plain": [
       "        c     h     l     o   s           t         v\n",
       "0    3.62  3.67  3.56  3.58  ok  1499693400   5603100\n",
       "1    3.60  3.64  3.57  3.60  ok  1499779800   5023200\n",
       "2    3.64  3.65  3.60  3.61  ok  1499866200   7218200\n",
       "3    3.56  3.65  3.54  3.64  ok  1499952600  13526400\n",
       "4    3.65  3.65  3.57  3.57  ok  1500039000   5939900\n",
       "..    ...   ...   ...   ...  ..         ...       ...\n",
       "685  6.86  6.94  6.71  6.90  ok  1585575000  18205200\n",
       "686  6.85  7.04  6.76  6.84  ok  1585661400  16357600\n",
       "687  6.76  7.00  6.66  6.70  ok  1585747800  12252300\n",
       "688  6.68  6.79  6.55  6.71  ok  1585834200  24294300\n",
       "689  6.65  6.75  6.58  6.68  ok  1585920600  17778000\n",
       "\n",
       "[690 rows x 7 columns]"
      ]
     },
     "execution_count": 35,
     "metadata": {},
     "output_type": "execute_result"
    }
   ],
   "source": [
    "#read the file\n",
    "df = pd.read_json (r'ZNGA.json')\n",
    "\n",
    "#print the head\n",
    "df"
   ]
  },
  {
   "cell_type": "code",
   "execution_count": 36,
   "metadata": {},
   "outputs": [
    {
     "data": {
      "text/html": [
       "<div>\n",
       "<style scoped>\n",
       "    .dataframe tbody tr th:only-of-type {\n",
       "        vertical-align: middle;\n",
       "    }\n",
       "\n",
       "    .dataframe tbody tr th {\n",
       "        vertical-align: top;\n",
       "    }\n",
       "\n",
       "    .dataframe thead th {\n",
       "        text-align: right;\n",
       "    }\n",
       "</style>\n",
       "<table border=\"1\" class=\"dataframe\">\n",
       "  <thead>\n",
       "    <tr style=\"text-align: right;\">\n",
       "      <th></th>\n",
       "      <th>Close</th>\n",
       "      <th>High</th>\n",
       "      <th>Low</th>\n",
       "      <th>Open</th>\n",
       "      <th>Status</th>\n",
       "      <th>Date</th>\n",
       "      <th>Volume</th>\n",
       "    </tr>\n",
       "  </thead>\n",
       "  <tbody>\n",
       "    <tr>\n",
       "      <th>0</th>\n",
       "      <td>3.62</td>\n",
       "      <td>3.67</td>\n",
       "      <td>3.56</td>\n",
       "      <td>3.58</td>\n",
       "      <td>ok</td>\n",
       "      <td>2017-07-10 13:30:00</td>\n",
       "      <td>5603100</td>\n",
       "    </tr>\n",
       "    <tr>\n",
       "      <th>1</th>\n",
       "      <td>3.60</td>\n",
       "      <td>3.64</td>\n",
       "      <td>3.57</td>\n",
       "      <td>3.60</td>\n",
       "      <td>ok</td>\n",
       "      <td>2017-07-11 13:30:00</td>\n",
       "      <td>5023200</td>\n",
       "    </tr>\n",
       "    <tr>\n",
       "      <th>2</th>\n",
       "      <td>3.64</td>\n",
       "      <td>3.65</td>\n",
       "      <td>3.60</td>\n",
       "      <td>3.61</td>\n",
       "      <td>ok</td>\n",
       "      <td>2017-07-12 13:30:00</td>\n",
       "      <td>7218200</td>\n",
       "    </tr>\n",
       "    <tr>\n",
       "      <th>3</th>\n",
       "      <td>3.56</td>\n",
       "      <td>3.65</td>\n",
       "      <td>3.54</td>\n",
       "      <td>3.64</td>\n",
       "      <td>ok</td>\n",
       "      <td>2017-07-13 13:30:00</td>\n",
       "      <td>13526400</td>\n",
       "    </tr>\n",
       "    <tr>\n",
       "      <th>4</th>\n",
       "      <td>3.65</td>\n",
       "      <td>3.65</td>\n",
       "      <td>3.57</td>\n",
       "      <td>3.57</td>\n",
       "      <td>ok</td>\n",
       "      <td>2017-07-14 13:30:00</td>\n",
       "      <td>5939900</td>\n",
       "    </tr>\n",
       "  </tbody>\n",
       "</table>\n",
       "</div>"
      ],
      "text/plain": [
       "   Close  High   Low  Open Status                Date    Volume\n",
       "0   3.62  3.67  3.56  3.58     ok 2017-07-10 13:30:00   5603100\n",
       "1   3.60  3.64  3.57  3.60     ok 2017-07-11 13:30:00   5023200\n",
       "2   3.64  3.65  3.60  3.61     ok 2017-07-12 13:30:00   7218200\n",
       "3   3.56  3.65  3.54  3.64     ok 2017-07-13 13:30:00  13526400\n",
       "4   3.65  3.65  3.57  3.57     ok 2017-07-14 13:30:00   5939900"
      ]
     },
     "execution_count": 36,
     "metadata": {},
     "output_type": "execute_result"
    }
   ],
   "source": [
    "df['t'] = pd.to_datetime(df['t'], unit='s')\n",
    "df = df.rename(columns={'c': 'Close', 'h': 'High', 'l':'Low',  'o': 'Open', 's': 'Status', 't': 'Date', 'v': 'Volume'})\n",
    "df.head()"
   ]
  },
  {
   "cell_type": "code",
   "execution_count": 37,
   "metadata": {},
   "outputs": [],
   "source": [
    "size = len(df)"
   ]
  },
  {
   "cell_type": "code",
   "execution_count": 38,
   "metadata": {},
   "outputs": [
    {
     "name": "stderr",
     "output_type": "stream",
     "text": [
      "Importing plotly failed. Interactive plots will not work.\n"
     ]
    }
   ],
   "source": [
    "#importing prophet\n",
    "from fbprophet import Prophet\n",
    "\n",
    "#creating dataframe\n",
    "new_data = pd.DataFrame(index=range(0,len(df)),columns=['Date', 'Close'])\n",
    "\n",
    "for i in range(0,len(df)):\n",
    "    new_data['Date'][i] = df['Date'][i]\n",
    "    new_data['Close'][i] = df['Close'][i]\n",
    "\n",
    "new_data['Date'] = pd.to_datetime(new_data.Date,format='%Y-%m-%d')\n",
    "new_data.index = new_data['Date']\n",
    "\n",
    "#preparing data\n",
    "new_data.rename(columns={'Close': 'y', 'Date': 'ds'}, inplace=True)"
   ]
  },
  {
   "cell_type": "code",
   "execution_count": 39,
   "metadata": {
    "scrolled": true
   },
   "outputs": [
    {
     "data": {
      "text/html": [
       "<div>\n",
       "<style scoped>\n",
       "    .dataframe tbody tr th:only-of-type {\n",
       "        vertical-align: middle;\n",
       "    }\n",
       "\n",
       "    .dataframe tbody tr th {\n",
       "        vertical-align: top;\n",
       "    }\n",
       "\n",
       "    .dataframe thead th {\n",
       "        text-align: right;\n",
       "    }\n",
       "</style>\n",
       "<table border=\"1\" class=\"dataframe\">\n",
       "  <thead>\n",
       "    <tr style=\"text-align: right;\">\n",
       "      <th></th>\n",
       "      <th>ds</th>\n",
       "      <th>y</th>\n",
       "    </tr>\n",
       "    <tr>\n",
       "      <th>Date</th>\n",
       "      <th></th>\n",
       "      <th></th>\n",
       "    </tr>\n",
       "  </thead>\n",
       "  <tbody>\n",
       "    <tr>\n",
       "      <th>2017-07-10 13:30:00</th>\n",
       "      <td>2017-07-10 13:30:00</td>\n",
       "      <td>3.62</td>\n",
       "    </tr>\n",
       "    <tr>\n",
       "      <th>2017-07-11 13:30:00</th>\n",
       "      <td>2017-07-11 13:30:00</td>\n",
       "      <td>3.6</td>\n",
       "    </tr>\n",
       "    <tr>\n",
       "      <th>2017-07-12 13:30:00</th>\n",
       "      <td>2017-07-12 13:30:00</td>\n",
       "      <td>3.64</td>\n",
       "    </tr>\n",
       "    <tr>\n",
       "      <th>2017-07-13 13:30:00</th>\n",
       "      <td>2017-07-13 13:30:00</td>\n",
       "      <td>3.56</td>\n",
       "    </tr>\n",
       "    <tr>\n",
       "      <th>2017-07-14 13:30:00</th>\n",
       "      <td>2017-07-14 13:30:00</td>\n",
       "      <td>3.65</td>\n",
       "    </tr>\n",
       "    <tr>\n",
       "      <th>...</th>\n",
       "      <td>...</td>\n",
       "      <td>...</td>\n",
       "    </tr>\n",
       "    <tr>\n",
       "      <th>2020-03-30 13:30:00</th>\n",
       "      <td>2020-03-30 13:30:00</td>\n",
       "      <td>6.86</td>\n",
       "    </tr>\n",
       "    <tr>\n",
       "      <th>2020-03-31 13:30:00</th>\n",
       "      <td>2020-03-31 13:30:00</td>\n",
       "      <td>6.85</td>\n",
       "    </tr>\n",
       "    <tr>\n",
       "      <th>2020-04-01 13:30:00</th>\n",
       "      <td>2020-04-01 13:30:00</td>\n",
       "      <td>6.76</td>\n",
       "    </tr>\n",
       "    <tr>\n",
       "      <th>2020-04-02 13:30:00</th>\n",
       "      <td>2020-04-02 13:30:00</td>\n",
       "      <td>6.68</td>\n",
       "    </tr>\n",
       "    <tr>\n",
       "      <th>2020-04-03 13:30:00</th>\n",
       "      <td>2020-04-03 13:30:00</td>\n",
       "      <td>6.65</td>\n",
       "    </tr>\n",
       "  </tbody>\n",
       "</table>\n",
       "<p>690 rows × 2 columns</p>\n",
       "</div>"
      ],
      "text/plain": [
       "                                     ds     y\n",
       "Date                                         \n",
       "2017-07-10 13:30:00 2017-07-10 13:30:00  3.62\n",
       "2017-07-11 13:30:00 2017-07-11 13:30:00   3.6\n",
       "2017-07-12 13:30:00 2017-07-12 13:30:00  3.64\n",
       "2017-07-13 13:30:00 2017-07-13 13:30:00  3.56\n",
       "2017-07-14 13:30:00 2017-07-14 13:30:00  3.65\n",
       "...                                 ...   ...\n",
       "2020-03-30 13:30:00 2020-03-30 13:30:00  6.86\n",
       "2020-03-31 13:30:00 2020-03-31 13:30:00  6.85\n",
       "2020-04-01 13:30:00 2020-04-01 13:30:00  6.76\n",
       "2020-04-02 13:30:00 2020-04-02 13:30:00  6.68\n",
       "2020-04-03 13:30:00 2020-04-03 13:30:00  6.65\n",
       "\n",
       "[690 rows x 2 columns]"
      ]
     },
     "execution_count": 39,
     "metadata": {},
     "output_type": "execute_result"
    }
   ],
   "source": [
    "new_data[:size]"
   ]
  },
  {
   "cell_type": "code",
   "execution_count": 40,
   "metadata": {},
   "outputs": [],
   "source": [
    "#train and validation\n",
    "train = new_data[:size]\n",
    "valid = new_data[size:]"
   ]
  },
  {
   "cell_type": "code",
   "execution_count": 41,
   "metadata": {},
   "outputs": [
    {
     "data": {
      "text/plain": [
       "0"
      ]
     },
     "execution_count": 41,
     "metadata": {},
     "output_type": "execute_result"
    }
   ],
   "source": [
    "len(valid)"
   ]
  },
  {
   "cell_type": "code",
   "execution_count": 42,
   "metadata": {},
   "outputs": [
    {
     "name": "stderr",
     "output_type": "stream",
     "text": [
      "INFO:fbprophet:Disabling daily seasonality. Run prophet with daily_seasonality=True to override this.\n"
     ]
    }
   ],
   "source": [
    "#fit the model\n",
    "model = Prophet()\n",
    "model.fit(train)\n",
    "\n",
    "#predictions\n",
    "close_prices = model.make_future_dataframe(periods=size)\n",
    "forecast = model.predict(close_prices)"
   ]
  },
  {
   "cell_type": "code",
   "execution_count": 43,
   "metadata": {},
   "outputs": [
    {
     "data": {
      "text/html": [
       "<div>\n",
       "<style scoped>\n",
       "    .dataframe tbody tr th:only-of-type {\n",
       "        vertical-align: middle;\n",
       "    }\n",
       "\n",
       "    .dataframe tbody tr th {\n",
       "        vertical-align: top;\n",
       "    }\n",
       "\n",
       "    .dataframe thead th {\n",
       "        text-align: right;\n",
       "    }\n",
       "</style>\n",
       "<table border=\"1\" class=\"dataframe\">\n",
       "  <thead>\n",
       "    <tr style=\"text-align: right;\">\n",
       "      <th></th>\n",
       "      <th>ds</th>\n",
       "    </tr>\n",
       "  </thead>\n",
       "  <tbody>\n",
       "    <tr>\n",
       "      <th>1378</th>\n",
       "      <td>2022-02-21 13:30:00</td>\n",
       "    </tr>\n",
       "    <tr>\n",
       "      <th>1379</th>\n",
       "      <td>2022-02-22 13:30:00</td>\n",
       "    </tr>\n",
       "  </tbody>\n",
       "</table>\n",
       "</div>"
      ],
      "text/plain": [
       "                      ds\n",
       "1378 2022-02-21 13:30:00\n",
       "1379 2022-02-22 13:30:00"
      ]
     },
     "execution_count": 43,
     "metadata": {},
     "output_type": "execute_result"
    }
   ],
   "source": [
    "close_prices.tail(2)"
   ]
  },
  {
   "cell_type": "code",
   "execution_count": 44,
   "metadata": {},
   "outputs": [],
   "source": [
    "#rmse\n",
    "forecast_valid = forecast['yhat'][size:]"
   ]
  },
  {
   "cell_type": "code",
   "execution_count": 45,
   "metadata": {},
   "outputs": [
    {
     "name": "stdout",
     "output_type": "stream",
     "text": [
      "(690,) (0,)\n"
     ]
    }
   ],
   "source": [
    "print(forecast_valid.shape, valid['y'].shape)"
   ]
  },
  {
   "cell_type": "code",
   "execution_count": 46,
   "metadata": {},
   "outputs": [
    {
     "data": {
      "text/plain": [
       "3.7628734000089183"
      ]
     },
     "execution_count": 46,
     "metadata": {},
     "output_type": "execute_result"
    }
   ],
   "source": [
    "rms=np.sqrt(np.mean(np.power((np.array(new_data['y'])-np.array(forecast_valid)),2)))\n",
    "rms"
   ]
  },
  {
   "cell_type": "code",
   "execution_count": 47,
   "metadata": {},
   "outputs": [],
   "source": [
    "new_data['yhat'] = forecast['yhat']"
   ]
  },
  {
   "cell_type": "code",
   "execution_count": 48,
   "metadata": {},
   "outputs": [
    {
     "data": {
      "text/plain": [
       "[<matplotlib.lines.Line2D at 0x1f7f56fe320>,\n",
       " <matplotlib.lines.Line2D at 0x1f7f8ccb390>]"
      ]
     },
     "execution_count": 48,
     "metadata": {},
     "output_type": "execute_result"
    },
    {
     "data": {
      "image/png": "[encoded data removed]",
      "text/plain": [
       "<Figure size 432x288 with 1 Axes>"
      ]
     },
     "metadata": {
      "needs_background": "light"
     },
     "output_type": "display_data"
    }
   ],
   "source": [
    "#plot\n",
    "new_data['Predictions'] = 0\n",
    "new_data['Predictions'] = forecast_valid.values\n",
    "\n",
    "plt.plot(train['y'])\n",
    "plt.plot(new_data[['y', 'Predictions']])"
   ]
  },
  {
   "cell_type": "code",
   "execution_count": 49,
   "metadata": {},
   "outputs": [
    {
     "data": {
      "text/plain": [
       "Date\n",
       "2017-07-10 13:30:00     6.501735\n",
       "2017-07-11 13:30:00     6.616687\n",
       "2017-07-12 13:30:00     6.643813\n",
       "2017-07-13 13:30:00     6.656512\n",
       "2017-07-14 13:30:00     6.661807\n",
       "                         ...    \n",
       "2020-03-30 13:30:00    10.203437\n",
       "2020-03-31 13:30:00    10.039783\n",
       "2020-04-01 13:30:00    10.172096\n",
       "2020-04-02 13:30:00    10.214186\n",
       "2020-04-03 13:30:00    10.239188\n",
       "Name: Predictions, Length: 690, dtype: float64"
      ]
     },
     "execution_count": 49,
     "metadata": {},
     "output_type": "execute_result"
    }
   ],
   "source": [
    "new_data['Predictions']"
   ]
  },
  {
   "cell_type": "code",
   "execution_count": 50,
   "metadata": {},
   "outputs": [
    {
     "data": {
      "text/html": [
       "<div>\n",
       "<style scoped>\n",
       "    .dataframe tbody tr th:only-of-type {\n",
       "        vertical-align: middle;\n",
       "    }\n",
       "\n",
       "    .dataframe tbody tr th {\n",
       "        vertical-align: top;\n",
       "    }\n",
       "\n",
       "    .dataframe thead th {\n",
       "        text-align: right;\n",
       "    }\n",
       "</style>\n",
       "<table border=\"1\" class=\"dataframe\">\n",
       "  <thead>\n",
       "    <tr style=\"text-align: right;\">\n",
       "      <th></th>\n",
       "      <th>Prediction</th>\n",
       "      <th>Actual</th>\n",
       "    </tr>\n",
       "    <tr>\n",
       "      <th>Date</th>\n",
       "      <th></th>\n",
       "      <th></th>\n",
       "    </tr>\n",
       "  </thead>\n",
       "  <tbody>\n",
       "    <tr>\n",
       "      <th>2017-07-10 13:30:00</th>\n",
       "      <td>6.501735</td>\n",
       "      <td>3.62</td>\n",
       "    </tr>\n",
       "    <tr>\n",
       "      <th>2017-07-11 13:30:00</th>\n",
       "      <td>6.616687</td>\n",
       "      <td>3.6</td>\n",
       "    </tr>\n",
       "    <tr>\n",
       "      <th>2017-07-12 13:30:00</th>\n",
       "      <td>6.643813</td>\n",
       "      <td>3.64</td>\n",
       "    </tr>\n",
       "    <tr>\n",
       "      <th>2017-07-13 13:30:00</th>\n",
       "      <td>6.656512</td>\n",
       "      <td>3.56</td>\n",
       "    </tr>\n",
       "    <tr>\n",
       "      <th>2017-07-14 13:30:00</th>\n",
       "      <td>6.661807</td>\n",
       "      <td>3.65</td>\n",
       "    </tr>\n",
       "    <tr>\n",
       "      <th>...</th>\n",
       "      <td>...</td>\n",
       "      <td>...</td>\n",
       "    </tr>\n",
       "    <tr>\n",
       "      <th>2020-03-30 13:30:00</th>\n",
       "      <td>10.203437</td>\n",
       "      <td>6.86</td>\n",
       "    </tr>\n",
       "    <tr>\n",
       "      <th>2020-03-31 13:30:00</th>\n",
       "      <td>10.039783</td>\n",
       "      <td>6.85</td>\n",
       "    </tr>\n",
       "    <tr>\n",
       "      <th>2020-04-01 13:30:00</th>\n",
       "      <td>10.172096</td>\n",
       "      <td>6.76</td>\n",
       "    </tr>\n",
       "    <tr>\n",
       "      <th>2020-04-02 13:30:00</th>\n",
       "      <td>10.214186</td>\n",
       "      <td>6.68</td>\n",
       "    </tr>\n",
       "    <tr>\n",
       "      <th>2020-04-03 13:30:00</th>\n",
       "      <td>10.239188</td>\n",
       "      <td>6.65</td>\n",
       "    </tr>\n",
       "  </tbody>\n",
       "</table>\n",
       "<p>690 rows × 2 columns</p>\n",
       "</div>"
      ],
      "text/plain": [
       "                     Prediction Actual\n",
       "Date                                  \n",
       "2017-07-10 13:30:00    6.501735   3.62\n",
       "2017-07-11 13:30:00    6.616687    3.6\n",
       "2017-07-12 13:30:00    6.643813   3.64\n",
       "2017-07-13 13:30:00    6.656512   3.56\n",
       "2017-07-14 13:30:00    6.661807   3.65\n",
       "...                         ...    ...\n",
       "2020-03-30 13:30:00   10.203437   6.86\n",
       "2020-03-31 13:30:00   10.039783   6.85\n",
       "2020-04-01 13:30:00   10.172096   6.76\n",
       "2020-04-02 13:30:00   10.214186   6.68\n",
       "2020-04-03 13:30:00   10.239188   6.65\n",
       "\n",
       "[690 rows x 2 columns]"
      ]
     },
     "execution_count": 50,
     "metadata": {},
     "output_type": "execute_result"
    }
   ],
   "source": [
    "pd.DataFrame({\"Prediction\": new_data['Predictions'], \"Actual\": new_data['y']})"
   ]
  },
  {
   "cell_type": "code",
   "execution_count": 51,
   "metadata": {},
   "outputs": [
    {
     "data": {
      "image/png": "[encoded data removed]",
      "text/plain": [
       "<Figure size 720x432 with 1 Axes>"
      ]
     },
     "metadata": {},
     "output_type": "display_data"
    }
   ],
   "source": [
    "fig1 =model.plot(forecast)"
   ]
  },
  {
   "cell_type": "code",
   "execution_count": 52,
   "metadata": {},
   "outputs": [
    {
     "data": {
      "image/png": "[encoded data removed]",
      "text/plain": [
       "<Figure size 648x648 with 3 Axes>"
      ]
     },
     "metadata": {},
     "output_type": "display_data"
    }
   ],
   "source": [
    "# to view  the forecast components\n",
    "fig1 = model.plot_components(forecast)"
   ]
  },
  {
   "cell_type": "code",
   "execution_count": null,
   "metadata": {},
   "outputs": [],
   "source": []
  }
 ],
 "metadata": {
  "kernelspec": {
   "display_name": "PythonData",
   "language": "python",
   "name": "pythondata"
  },
  "language_info": {
   "codemirror_mode": {
    "name": "ipython",
    "version": 3
   },
   "file_extension": ".py",
   "mimetype": "text/x-python",
   "name": "python",
   "nbconvert_exporter": "python",
   "pygments_lexer": "ipython3",
   "version": "3.6.9"
  }
 },
 "nbformat": 4,
 "nbformat_minor": 2
}
