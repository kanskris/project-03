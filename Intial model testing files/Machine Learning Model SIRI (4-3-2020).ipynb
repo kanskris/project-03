{
 "cells": [
  {
   "cell_type": "code",
   "execution_count": 2,
   "metadata": {},
   "outputs": [],
   "source": [
    "import pandas as pd\n",
    "import numpy as np\n",
    "import matplotlib.pyplot as plt"
   ]
  },
  {
   "cell_type": "code",
   "execution_count": null,
   "metadata": {},
   "outputs": [],
   "source": [
    "#read the file\n",
    "df = pd.read_json (r'SIRI.json')\n",
    "\n",
    "#print the head\n",
    "df"
   ]
  },
  {
   "cell_type": "code",
   "execution_count": null,
   "metadata": {},
   "outputs": [],
   "source": [
    "df['t'] = pd.to_datetime(df['t'], unit='s')\n",
    "df = df.rename(columns={'c': 'Close', 'h': 'High', 'l':'Low',  'o': 'Open', 's': 'Status', 't': 'Date', 'v': 'Volume'})\n",
    "df.head()"
   ]
  },
  {
   "cell_type": "markdown",
   "metadata": {},
   "source": [
    "# Linear Regression"
   ]
  },
  {
   "cell_type": "code",
   "execution_count": 62,
   "metadata": {},
   "outputs": [
    {
     "data": {
      "text/html": [
       "<div>\n",
       "<style scoped>\n",
       "    .dataframe tbody tr th:only-of-type {\n",
       "        vertical-align: middle;\n",
       "    }\n",
       "\n",
       "    .dataframe tbody tr th {\n",
       "        vertical-align: top;\n",
       "    }\n",
       "\n",
       "    .dataframe thead th {\n",
       "        text-align: right;\n",
       "    }\n",
       "</style>\n",
       "<table border=\"1\" class=\"dataframe\">\n",
       "  <thead>\n",
       "    <tr style=\"text-align: right;\">\n",
       "      <th></th>\n",
       "      <th>c</th>\n",
       "      <th>h</th>\n",
       "      <th>l</th>\n",
       "      <th>o</th>\n",
       "      <th>s</th>\n",
       "      <th>t</th>\n",
       "      <th>v</th>\n",
       "    </tr>\n",
       "  </thead>\n",
       "  <tbody>\n",
       "    <tr>\n",
       "      <th>0</th>\n",
       "      <td>5.34</td>\n",
       "      <td>5.40</td>\n",
       "      <td>5.32</td>\n",
       "      <td>5.36</td>\n",
       "      <td>ok</td>\n",
       "      <td>1499693400</td>\n",
       "      <td>24026100</td>\n",
       "    </tr>\n",
       "    <tr>\n",
       "      <th>1</th>\n",
       "      <td>5.39</td>\n",
       "      <td>5.40</td>\n",
       "      <td>5.32</td>\n",
       "      <td>5.35</td>\n",
       "      <td>ok</td>\n",
       "      <td>1499779800</td>\n",
       "      <td>12586800</td>\n",
       "    </tr>\n",
       "    <tr>\n",
       "      <th>2</th>\n",
       "      <td>5.41</td>\n",
       "      <td>5.44</td>\n",
       "      <td>5.38</td>\n",
       "      <td>5.41</td>\n",
       "      <td>ok</td>\n",
       "      <td>1499866200</td>\n",
       "      <td>17006500</td>\n",
       "    </tr>\n",
       "    <tr>\n",
       "      <th>3</th>\n",
       "      <td>5.43</td>\n",
       "      <td>5.47</td>\n",
       "      <td>5.39</td>\n",
       "      <td>5.39</td>\n",
       "      <td>ok</td>\n",
       "      <td>1499952600</td>\n",
       "      <td>17455600</td>\n",
       "    </tr>\n",
       "    <tr>\n",
       "      <th>4</th>\n",
       "      <td>5.48</td>\n",
       "      <td>5.48</td>\n",
       "      <td>5.43</td>\n",
       "      <td>5.46</td>\n",
       "      <td>ok</td>\n",
       "      <td>1500039000</td>\n",
       "      <td>13135200</td>\n",
       "    </tr>\n",
       "    <tr>\n",
       "      <th>...</th>\n",
       "      <td>...</td>\n",
       "      <td>...</td>\n",
       "      <td>...</td>\n",
       "      <td>...</td>\n",
       "      <td>...</td>\n",
       "      <td>...</td>\n",
       "      <td>...</td>\n",
       "    </tr>\n",
       "    <tr>\n",
       "      <th>685</th>\n",
       "      <td>4.81</td>\n",
       "      <td>5.08</td>\n",
       "      <td>4.76</td>\n",
       "      <td>4.96</td>\n",
       "      <td>ok</td>\n",
       "      <td>1585575000</td>\n",
       "      <td>34793000</td>\n",
       "    </tr>\n",
       "    <tr>\n",
       "      <th>686</th>\n",
       "      <td>4.94</td>\n",
       "      <td>5.12</td>\n",
       "      <td>4.80</td>\n",
       "      <td>4.84</td>\n",
       "      <td>ok</td>\n",
       "      <td>1585661400</td>\n",
       "      <td>29402000</td>\n",
       "    </tr>\n",
       "    <tr>\n",
       "      <th>687</th>\n",
       "      <td>4.64</td>\n",
       "      <td>4.91</td>\n",
       "      <td>4.60</td>\n",
       "      <td>4.76</td>\n",
       "      <td>ok</td>\n",
       "      <td>1585747800</td>\n",
       "      <td>26473100</td>\n",
       "    </tr>\n",
       "    <tr>\n",
       "      <th>688</th>\n",
       "      <td>4.75</td>\n",
       "      <td>4.85</td>\n",
       "      <td>4.51</td>\n",
       "      <td>4.59</td>\n",
       "      <td>ok</td>\n",
       "      <td>1585834200</td>\n",
       "      <td>23163200</td>\n",
       "    </tr>\n",
       "    <tr>\n",
       "      <th>689</th>\n",
       "      <td>4.50</td>\n",
       "      <td>4.76</td>\n",
       "      <td>4.41</td>\n",
       "      <td>4.73</td>\n",
       "      <td>ok</td>\n",
       "      <td>1585920600</td>\n",
       "      <td>20750100</td>\n",
       "    </tr>\n",
       "  </tbody>\n",
       "</table>\n",
       "<p>690 rows × 7 columns</p>\n",
       "</div>"
      ],
      "text/plain": [
       "        c     h     l     o   s           t         v\n",
       "0    5.34  5.40  5.32  5.36  ok  1499693400  24026100\n",
       "1    5.39  5.40  5.32  5.35  ok  1499779800  12586800\n",
       "2    5.41  5.44  5.38  5.41  ok  1499866200  17006500\n",
       "3    5.43  5.47  5.39  5.39  ok  1499952600  17455600\n",
       "4    5.48  5.48  5.43  5.46  ok  1500039000  13135200\n",
       "..    ...   ...   ...   ...  ..         ...       ...\n",
       "685  4.81  5.08  4.76  4.96  ok  1585575000  34793000\n",
       "686  4.94  5.12  4.80  4.84  ok  1585661400  29402000\n",
       "687  4.64  4.91  4.60  4.76  ok  1585747800  26473100\n",
       "688  4.75  4.85  4.51  4.59  ok  1585834200  23163200\n",
       "689  4.50  4.76  4.41  4.73  ok  1585920600  20750100\n",
       "\n",
       "[690 rows x 7 columns]"
      ]
     },
     "execution_count": 62,
     "metadata": {},
     "output_type": "execute_result"
    }
   ],
   "source": [
    "#read the file\n",
    "df = pd.read_json (r'SIRI.json')\n",
    "\n",
    "#print the head\n",
    "df"
   ]
  },
  {
   "cell_type": "code",
   "execution_count": 63,
   "metadata": {},
   "outputs": [],
   "source": [
    "df['t'] = pd.to_datetime(df['t'], unit='s')"
   ]
  },
  {
   "cell_type": "code",
   "execution_count": 64,
   "metadata": {},
   "outputs": [
    {
     "name": "stdout",
     "output_type": "stream",
     "text": [
      "(690, 1) (690, 1)\n"
     ]
    }
   ],
   "source": [
    "X = df[['t']]\n",
    "y = df['c'].values.reshape(-1, 1)\n",
    "print(X.shape, y.shape)"
   ]
  },
  {
   "cell_type": "code",
   "execution_count": 65,
   "metadata": {},
   "outputs": [
    {
     "data": {
      "text/html": [
       "<div>\n",
       "<style scoped>\n",
       "    .dataframe tbody tr th:only-of-type {\n",
       "        vertical-align: middle;\n",
       "    }\n",
       "\n",
       "    .dataframe tbody tr th {\n",
       "        vertical-align: top;\n",
       "    }\n",
       "\n",
       "    .dataframe thead th {\n",
       "        text-align: right;\n",
       "    }\n",
       "</style>\n",
       "<table border=\"1\" class=\"dataframe\">\n",
       "  <thead>\n",
       "    <tr style=\"text-align: right;\">\n",
       "      <th></th>\n",
       "      <th>t</th>\n",
       "    </tr>\n",
       "  </thead>\n",
       "  <tbody>\n",
       "    <tr>\n",
       "      <th>0</th>\n",
       "      <td>2017-07-10 13:30:00</td>\n",
       "    </tr>\n",
       "    <tr>\n",
       "      <th>1</th>\n",
       "      <td>2017-07-11 13:30:00</td>\n",
       "    </tr>\n",
       "    <tr>\n",
       "      <th>2</th>\n",
       "      <td>2017-07-12 13:30:00</td>\n",
       "    </tr>\n",
       "    <tr>\n",
       "      <th>3</th>\n",
       "      <td>2017-07-13 13:30:00</td>\n",
       "    </tr>\n",
       "    <tr>\n",
       "      <th>4</th>\n",
       "      <td>2017-07-14 13:30:00</td>\n",
       "    </tr>\n",
       "  </tbody>\n",
       "</table>\n",
       "</div>"
      ],
      "text/plain": [
       "                    t\n",
       "0 2017-07-10 13:30:00\n",
       "1 2017-07-11 13:30:00\n",
       "2 2017-07-12 13:30:00\n",
       "3 2017-07-13 13:30:00\n",
       "4 2017-07-14 13:30:00"
      ]
     },
     "execution_count": 65,
     "metadata": {},
     "output_type": "execute_result"
    }
   ],
   "source": [
    "data = X.copy()\n",
    "\n",
    "data_binary_encoded = pd.get_dummies(data)\n",
    "data_binary_encoded.head()"
   ]
  },
  {
   "cell_type": "code",
   "execution_count": 66,
   "metadata": {},
   "outputs": [
    {
     "data": {
      "text/html": [
       "<div>\n",
       "<style scoped>\n",
       "    .dataframe tbody tr th:only-of-type {\n",
       "        vertical-align: middle;\n",
       "    }\n",
       "\n",
       "    .dataframe tbody tr th {\n",
       "        vertical-align: top;\n",
       "    }\n",
       "\n",
       "    .dataframe thead th {\n",
       "        text-align: right;\n",
       "    }\n",
       "</style>\n",
       "<table border=\"1\" class=\"dataframe\">\n",
       "  <thead>\n",
       "    <tr style=\"text-align: right;\">\n",
       "      <th></th>\n",
       "      <th>t</th>\n",
       "    </tr>\n",
       "  </thead>\n",
       "  <tbody>\n",
       "    <tr>\n",
       "      <th>647</th>\n",
       "      <td>2020-02-04 14:30:00</td>\n",
       "    </tr>\n",
       "    <tr>\n",
       "      <th>163</th>\n",
       "      <td>2018-03-02 14:30:00</td>\n",
       "    </tr>\n",
       "    <tr>\n",
       "      <th>380</th>\n",
       "      <td>2019-01-11 14:30:00</td>\n",
       "    </tr>\n",
       "    <tr>\n",
       "      <th>603</th>\n",
       "      <td>2019-11-29 14:30:00</td>\n",
       "    </tr>\n",
       "    <tr>\n",
       "      <th>432</th>\n",
       "      <td>2019-03-28 13:30:00</td>\n",
       "    </tr>\n",
       "  </tbody>\n",
       "</table>\n",
       "</div>"
      ],
      "text/plain": [
       "                      t\n",
       "647 2020-02-04 14:30:00\n",
       "163 2018-03-02 14:30:00\n",
       "380 2019-01-11 14:30:00\n",
       "603 2019-11-29 14:30:00\n",
       "432 2019-03-28 13:30:00"
      ]
     },
     "execution_count": 66,
     "metadata": {},
     "output_type": "execute_result"
    }
   ],
   "source": [
    "from sklearn.model_selection import train_test_split\n",
    "\n",
    "X = pd.get_dummies(X)\n",
    "\n",
    "X_train, X_test, y_train, y_test = train_test_split(X, y, random_state=42)\n",
    "\n",
    "X_train.head()"
   ]
  },
  {
   "cell_type": "code",
   "execution_count": 67,
   "metadata": {},
   "outputs": [],
   "source": [
    "from sklearn.preprocessing import StandardScaler\n",
    "X_scaler = StandardScaler().fit(X_train)\n",
    "y_scaler = StandardScaler().fit(y_train)"
   ]
  },
  {
   "cell_type": "code",
   "execution_count": 68,
   "metadata": {},
   "outputs": [],
   "source": [
    "X_train_scaled = X_scaler.transform(X_train)\n",
    "X_test_scaled = X_scaler.transform(X_test)\n",
    "y_train_scaled = y_scaler.transform(y_train)\n",
    "y_test_scaled = y_scaler.transform(y_test)"
   ]
  },
  {
   "cell_type": "code",
   "execution_count": 69,
   "metadata": {},
   "outputs": [
    {
     "data": {
      "image/png": "[encoded data removed]",
      "text/plain": [
       "<Figure size 432x288 with 1 Axes>"
      ]
     },
     "metadata": {
      "needs_background": "light"
     },
     "output_type": "display_data"
    }
   ],
   "source": [
    "from sklearn.linear_model import LinearRegression\n",
    "model = LinearRegression()\n",
    "model.fit(X_train_scaled, y_train_scaled)\n",
    "plt.scatter(model.predict(X_train_scaled), model.predict(X_train_scaled) - y_train_scaled, c=\"blue\", label=\"Training Data\")\n",
    "plt.scatter(model.predict(X_test_scaled), model.predict(X_test_scaled) - y_test_scaled, c=\"orange\", label=\"Testing Data\")\n",
    "plt.legend()\n",
    "plt.hlines(y=0, xmin=y_test_scaled.min(), xmax=y_test_scaled.max())\n",
    "plt.title(\"Residual Plot\")\n",
    "plt.show()"
   ]
  },
  {
   "cell_type": "code",
   "execution_count": null,
   "metadata": {},
   "outputs": [],
   "source": [
    "predictions = model.predict(X_test_scaled)\n",
    "predictions"
   ]
  },
  {
   "cell_type": "code",
   "execution_count": null,
   "metadata": {},
   "outputs": [],
   "source": []
  },
  {
   "cell_type": "code",
   "execution_count": null,
   "metadata": {},
   "outputs": [],
   "source": [
    "new_data['mon_fri'] = 0\n",
    "for i in range(0,len(new_data)):\n",
    "    if (new_data['Dayofweek'][i] == 0 or new_data['Dayofweek'][i] == 4):\n",
    "        new_data['mon_fri'][i] = 1\n",
    "    else:\n",
    "        new_data['mon_fri'][i] = 0"
   ]
  },
  {
   "cell_type": "code",
   "execution_count": null,
   "metadata": {},
   "outputs": [],
   "source": [
    "#split into train and validation\n",
    "train = new_data[:987]\n",
    "valid = new_data[987:]\n",
    "\n",
    "x_train = train.drop('Close', axis=1)\n",
    "y_train = train['Close']\n",
    "x_valid = valid.drop('Close', axis=1)\n",
    "y_valid = valid['Close']\n",
    "\n",
    "#implement linear regression\n",
    "from sklearn.linear_model import LinearRegression\n",
    "model = LinearRegression()\n",
    "model.fit(x_train,y_train)"
   ]
  },
  {
   "cell_type": "code",
   "execution_count": null,
   "metadata": {},
   "outputs": [],
   "source": [
    "#make predictions and find the rmse\n",
    "preds = model.predict(X_test_scaled)\n",
    "rms=np.sqrt(np.mean(np.power((np.array(y_test_scaled)-np.array(preds)),2)))\n",
    "rms"
   ]
  },
  {
   "cell_type": "code",
   "execution_count": null,
   "metadata": {},
   "outputs": [],
   "source": [
    "from sklearn.metrics import mean_squared_error\n",
    "\n",
    "predictions = model.predict(X_test_scaled)\n",
    "MSE = mean_squared_error(y_test_scaled, predictions)\n",
    "r2 = model.score(X_test_scaled, y_test_scaled)\n",
    "\n",
    "print(f\"MSE: {MSE}, R2: {r2}\")"
   ]
  },
  {
   "cell_type": "code",
   "execution_count": null,
   "metadata": {},
   "outputs": [],
   "source": [
    "#plot\n",
    "valid['Predictions'] = 0\n",
    "valid['Predictions'] = preds\n",
    "\n",
    "valid.index = new_data[987:].index\n",
    "train.index = new_data[:987].index\n",
    "\n",
    "plt.plot(train['Close'])\n",
    "plt.plot(valid[['Close', 'Predictions']])"
   ]
  },
  {
   "cell_type": "markdown",
   "metadata": {},
   "source": [
    "# K-Nearest Neighbours"
   ]
  },
  {
   "cell_type": "code",
   "execution_count": 89,
   "metadata": {},
   "outputs": [],
   "source": [
    "import matplotlib.pyplot as plt\n",
    "from sklearn.datasets import load_iris\n",
    "from sklearn.model_selection import train_test_split\n",
    "from sklearn.neighbors import KNeighborsClassifier\n",
    "from sklearn.metrics import accuracy_score"
   ]
  },
  {
   "cell_type": "code",
   "execution_count": 90,
   "metadata": {},
   "outputs": [
    {
     "data": {
      "text/html": [
       "<div>\n",
       "<style scoped>\n",
       "    .dataframe tbody tr th:only-of-type {\n",
       "        vertical-align: middle;\n",
       "    }\n",
       "\n",
       "    .dataframe tbody tr th {\n",
       "        vertical-align: top;\n",
       "    }\n",
       "\n",
       "    .dataframe thead th {\n",
       "        text-align: right;\n",
       "    }\n",
       "</style>\n",
       "<table border=\"1\" class=\"dataframe\">\n",
       "  <thead>\n",
       "    <tr style=\"text-align: right;\">\n",
       "      <th></th>\n",
       "      <th>c</th>\n",
       "      <th>h</th>\n",
       "      <th>l</th>\n",
       "      <th>o</th>\n",
       "      <th>s</th>\n",
       "      <th>t</th>\n",
       "      <th>v</th>\n",
       "    </tr>\n",
       "  </thead>\n",
       "  <tbody>\n",
       "    <tr>\n",
       "      <th>0</th>\n",
       "      <td>5.34</td>\n",
       "      <td>5.40</td>\n",
       "      <td>5.32</td>\n",
       "      <td>5.36</td>\n",
       "      <td>ok</td>\n",
       "      <td>1499693400</td>\n",
       "      <td>24026100</td>\n",
       "    </tr>\n",
       "    <tr>\n",
       "      <th>1</th>\n",
       "      <td>5.39</td>\n",
       "      <td>5.40</td>\n",
       "      <td>5.32</td>\n",
       "      <td>5.35</td>\n",
       "      <td>ok</td>\n",
       "      <td>1499779800</td>\n",
       "      <td>12586800</td>\n",
       "    </tr>\n",
       "    <tr>\n",
       "      <th>2</th>\n",
       "      <td>5.41</td>\n",
       "      <td>5.44</td>\n",
       "      <td>5.38</td>\n",
       "      <td>5.41</td>\n",
       "      <td>ok</td>\n",
       "      <td>1499866200</td>\n",
       "      <td>17006500</td>\n",
       "    </tr>\n",
       "    <tr>\n",
       "      <th>3</th>\n",
       "      <td>5.43</td>\n",
       "      <td>5.47</td>\n",
       "      <td>5.39</td>\n",
       "      <td>5.39</td>\n",
       "      <td>ok</td>\n",
       "      <td>1499952600</td>\n",
       "      <td>17455600</td>\n",
       "    </tr>\n",
       "    <tr>\n",
       "      <th>4</th>\n",
       "      <td>5.48</td>\n",
       "      <td>5.48</td>\n",
       "      <td>5.43</td>\n",
       "      <td>5.46</td>\n",
       "      <td>ok</td>\n",
       "      <td>1500039000</td>\n",
       "      <td>13135200</td>\n",
       "    </tr>\n",
       "    <tr>\n",
       "      <th>...</th>\n",
       "      <td>...</td>\n",
       "      <td>...</td>\n",
       "      <td>...</td>\n",
       "      <td>...</td>\n",
       "      <td>...</td>\n",
       "      <td>...</td>\n",
       "      <td>...</td>\n",
       "    </tr>\n",
       "    <tr>\n",
       "      <th>685</th>\n",
       "      <td>4.81</td>\n",
       "      <td>5.08</td>\n",
       "      <td>4.76</td>\n",
       "      <td>4.96</td>\n",
       "      <td>ok</td>\n",
       "      <td>1585575000</td>\n",
       "      <td>34793000</td>\n",
       "    </tr>\n",
       "    <tr>\n",
       "      <th>686</th>\n",
       "      <td>4.94</td>\n",
       "      <td>5.12</td>\n",
       "      <td>4.80</td>\n",
       "      <td>4.84</td>\n",
       "      <td>ok</td>\n",
       "      <td>1585661400</td>\n",
       "      <td>29402000</td>\n",
       "    </tr>\n",
       "    <tr>\n",
       "      <th>687</th>\n",
       "      <td>4.64</td>\n",
       "      <td>4.91</td>\n",
       "      <td>4.60</td>\n",
       "      <td>4.76</td>\n",
       "      <td>ok</td>\n",
       "      <td>1585747800</td>\n",
       "      <td>26473100</td>\n",
       "    </tr>\n",
       "    <tr>\n",
       "      <th>688</th>\n",
       "      <td>4.75</td>\n",
       "      <td>4.85</td>\n",
       "      <td>4.51</td>\n",
       "      <td>4.59</td>\n",
       "      <td>ok</td>\n",
       "      <td>1585834200</td>\n",
       "      <td>23163200</td>\n",
       "    </tr>\n",
       "    <tr>\n",
       "      <th>689</th>\n",
       "      <td>4.50</td>\n",
       "      <td>4.76</td>\n",
       "      <td>4.41</td>\n",
       "      <td>4.73</td>\n",
       "      <td>ok</td>\n",
       "      <td>1585920600</td>\n",
       "      <td>20750100</td>\n",
       "    </tr>\n",
       "  </tbody>\n",
       "</table>\n",
       "<p>690 rows × 7 columns</p>\n",
       "</div>"
      ],
      "text/plain": [
       "        c     h     l     o   s           t         v\n",
       "0    5.34  5.40  5.32  5.36  ok  1499693400  24026100\n",
       "1    5.39  5.40  5.32  5.35  ok  1499779800  12586800\n",
       "2    5.41  5.44  5.38  5.41  ok  1499866200  17006500\n",
       "3    5.43  5.47  5.39  5.39  ok  1499952600  17455600\n",
       "4    5.48  5.48  5.43  5.46  ok  1500039000  13135200\n",
       "..    ...   ...   ...   ...  ..         ...       ...\n",
       "685  4.81  5.08  4.76  4.96  ok  1585575000  34793000\n",
       "686  4.94  5.12  4.80  4.84  ok  1585661400  29402000\n",
       "687  4.64  4.91  4.60  4.76  ok  1585747800  26473100\n",
       "688  4.75  4.85  4.51  4.59  ok  1585834200  23163200\n",
       "689  4.50  4.76  4.41  4.73  ok  1585920600  20750100\n",
       "\n",
       "[690 rows x 7 columns]"
      ]
     },
     "execution_count": 90,
     "metadata": {},
     "output_type": "execute_result"
    }
   ],
   "source": [
    "#read the file\n",
    "df = pd.read_json (r'SIRI.json')\n",
    "\n",
    "#print the head\n",
    "df"
   ]
  },
  {
   "cell_type": "code",
   "execution_count": 91,
   "metadata": {},
   "outputs": [
    {
     "data": {
      "text/html": [
       "<div>\n",
       "<style scoped>\n",
       "    .dataframe tbody tr th:only-of-type {\n",
       "        vertical-align: middle;\n",
       "    }\n",
       "\n",
       "    .dataframe tbody tr th {\n",
       "        vertical-align: top;\n",
       "    }\n",
       "\n",
       "    .dataframe thead th {\n",
       "        text-align: right;\n",
       "    }\n",
       "</style>\n",
       "<table border=\"1\" class=\"dataframe\">\n",
       "  <thead>\n",
       "    <tr style=\"text-align: right;\">\n",
       "      <th></th>\n",
       "      <th>Close</th>\n",
       "      <th>High</th>\n",
       "      <th>Low</th>\n",
       "      <th>Open</th>\n",
       "      <th>Status</th>\n",
       "      <th>Date</th>\n",
       "      <th>Volume</th>\n",
       "    </tr>\n",
       "  </thead>\n",
       "  <tbody>\n",
       "    <tr>\n",
       "      <th>0</th>\n",
       "      <td>5.34</td>\n",
       "      <td>5.40</td>\n",
       "      <td>5.32</td>\n",
       "      <td>5.36</td>\n",
       "      <td>ok</td>\n",
       "      <td>2017-07-10 13:30:00</td>\n",
       "      <td>24026100</td>\n",
       "    </tr>\n",
       "    <tr>\n",
       "      <th>1</th>\n",
       "      <td>5.39</td>\n",
       "      <td>5.40</td>\n",
       "      <td>5.32</td>\n",
       "      <td>5.35</td>\n",
       "      <td>ok</td>\n",
       "      <td>2017-07-11 13:30:00</td>\n",
       "      <td>12586800</td>\n",
       "    </tr>\n",
       "    <tr>\n",
       "      <th>2</th>\n",
       "      <td>5.41</td>\n",
       "      <td>5.44</td>\n",
       "      <td>5.38</td>\n",
       "      <td>5.41</td>\n",
       "      <td>ok</td>\n",
       "      <td>2017-07-12 13:30:00</td>\n",
       "      <td>17006500</td>\n",
       "    </tr>\n",
       "    <tr>\n",
       "      <th>3</th>\n",
       "      <td>5.43</td>\n",
       "      <td>5.47</td>\n",
       "      <td>5.39</td>\n",
       "      <td>5.39</td>\n",
       "      <td>ok</td>\n",
       "      <td>2017-07-13 13:30:00</td>\n",
       "      <td>17455600</td>\n",
       "    </tr>\n",
       "    <tr>\n",
       "      <th>4</th>\n",
       "      <td>5.48</td>\n",
       "      <td>5.48</td>\n",
       "      <td>5.43</td>\n",
       "      <td>5.46</td>\n",
       "      <td>ok</td>\n",
       "      <td>2017-07-14 13:30:00</td>\n",
       "      <td>13135200</td>\n",
       "    </tr>\n",
       "  </tbody>\n",
       "</table>\n",
       "</div>"
      ],
      "text/plain": [
       "   Close  High   Low  Open Status                Date    Volume\n",
       "0   5.34  5.40  5.32  5.36     ok 2017-07-10 13:30:00  24026100\n",
       "1   5.39  5.40  5.32  5.35     ok 2017-07-11 13:30:00  12586800\n",
       "2   5.41  5.44  5.38  5.41     ok 2017-07-12 13:30:00  17006500\n",
       "3   5.43  5.47  5.39  5.39     ok 2017-07-13 13:30:00  17455600\n",
       "4   5.48  5.48  5.43  5.46     ok 2017-07-14 13:30:00  13135200"
      ]
     },
     "execution_count": 91,
     "metadata": {},
     "output_type": "execute_result"
    }
   ],
   "source": [
    "df['t'] = pd.to_datetime(df['t'], unit='s')\n",
    "df = df.rename(columns={'c': 'Close', 'h': 'High', 'l':'Low',  'o': 'Open', 's': 'Status', 't': 'Date', 'v': 'Volume'})\n",
    "df.head()"
   ]
  },
  {
   "cell_type": "code",
   "execution_count": 92,
   "metadata": {},
   "outputs": [
    {
     "data": {
      "text/html": [
       "<div>\n",
       "<style scoped>\n",
       "    .dataframe tbody tr th:only-of-type {\n",
       "        vertical-align: middle;\n",
       "    }\n",
       "\n",
       "    .dataframe tbody tr th {\n",
       "        vertical-align: top;\n",
       "    }\n",
       "\n",
       "    .dataframe thead th {\n",
       "        text-align: right;\n",
       "    }\n",
       "</style>\n",
       "<table border=\"1\" class=\"dataframe\">\n",
       "  <thead>\n",
       "    <tr style=\"text-align: right;\">\n",
       "      <th></th>\n",
       "      <th>Open-Close</th>\n",
       "      <th>High-Low</th>\n",
       "    </tr>\n",
       "  </thead>\n",
       "  <tbody>\n",
       "    <tr>\n",
       "      <th>0</th>\n",
       "      <td>0.02</td>\n",
       "      <td>0.08</td>\n",
       "    </tr>\n",
       "    <tr>\n",
       "      <th>1</th>\n",
       "      <td>-0.04</td>\n",
       "      <td>0.08</td>\n",
       "    </tr>\n",
       "    <tr>\n",
       "      <th>2</th>\n",
       "      <td>0.00</td>\n",
       "      <td>0.06</td>\n",
       "    </tr>\n",
       "    <tr>\n",
       "      <th>3</th>\n",
       "      <td>-0.04</td>\n",
       "      <td>0.08</td>\n",
       "    </tr>\n",
       "    <tr>\n",
       "      <th>4</th>\n",
       "      <td>-0.02</td>\n",
       "      <td>0.05</td>\n",
       "    </tr>\n",
       "  </tbody>\n",
       "</table>\n",
       "</div>"
      ],
      "text/plain": [
       "   Open-Close  High-Low\n",
       "0        0.02      0.08\n",
       "1       -0.04      0.08\n",
       "2        0.00      0.06\n",
       "3       -0.04      0.08\n",
       "4       -0.02      0.05"
      ]
     },
     "execution_count": 92,
     "metadata": {},
     "output_type": "execute_result"
    }
   ],
   "source": [
    "# Predictor variables\n",
    "df['Open-Close']= df.Open -df.Close\n",
    "df['High-Low']  = df.High - df.Low\n",
    "df =df.dropna()\n",
    "X= df[['Open-Close', 'High-Low']]\n",
    "X.head()"
   ]
  },
  {
   "cell_type": "code",
   "execution_count": 93,
   "metadata": {},
   "outputs": [],
   "source": [
    "# Target variable\n",
    "Y= np.where(df['Close'].shift(-1)>df['Close'],1,-1)"
   ]
  },
  {
   "cell_type": "code",
   "execution_count": 102,
   "metadata": {},
   "outputs": [],
   "source": [
    "# Splitting the dataset\n",
    "split_percentage = 0.7\n",
    "split = int(split_percentage*len(df))\n",
    "\n",
    "X_train = X[:split]\n",
    "Y_train = Y[:split]\n",
    "\n",
    "X_test = X[split:]\n",
    "Y_test = Y[split:]"
   ]
  },
  {
   "cell_type": "code",
   "execution_count": 103,
   "metadata": {},
   "outputs": [
    {
     "data": {
      "text/plain": [
       "482"
      ]
     },
     "execution_count": 103,
     "metadata": {},
     "output_type": "execute_result"
    }
   ],
   "source": []
  },
  {
   "cell_type": "code",
   "execution_count": 123,
   "metadata": {},
   "outputs": [
    {
     "name": "stdout",
     "output_type": "stream",
     "text": [
      "k: 1, Train/Test Score: 0.884/0.510\n",
      "k: 3, Train/Test Score: 0.726/0.486\n",
      "k: 5, Train/Test Score: 0.678/0.486\n",
      "k: 7, Train/Test Score: 0.631/0.481\n",
      "k: 9, Train/Test Score: 0.627/0.524\n",
      "k: 11, Train/Test Score: 0.606/0.514\n",
      "k: 13, Train/Test Score: 0.612/0.519\n",
      "k: 15, Train/Test Score: 0.598/0.514\n",
      "k: 17, Train/Test Score: 0.602/0.524\n",
      "k: 19, Train/Test Score: 0.612/0.548\n",
      "k: 21, Train/Test Score: 0.604/0.572\n",
      "k: 23, Train/Test Score: 0.585/0.534\n",
      "k: 25, Train/Test Score: 0.581/0.543\n",
      "k: 27, Train/Test Score: 0.583/0.500\n",
      "k: 29, Train/Test Score: 0.571/0.529\n",
      "k: 31, Train/Test Score: 0.562/0.534\n",
      "k: 33, Train/Test Score: 0.546/0.548\n",
      "k: 35, Train/Test Score: 0.548/0.510\n",
      "k: 37, Train/Test Score: 0.529/0.510\n",
      "k: 39, Train/Test Score: 0.539/0.519\n",
      "k: 41, Train/Test Score: 0.548/0.495\n",
      "k: 43, Train/Test Score: 0.554/0.510\n",
      "k: 45, Train/Test Score: 0.527/0.495\n",
      "k: 47, Train/Test Score: 0.519/0.490\n",
      "k: 49, Train/Test Score: 0.527/0.505\n"
     ]
    }
   ],
   "source": [
    "train_scores = []\n",
    "test_scores = []\n",
    "for k in range(1, 50, 2):\n",
    "    knn = KNeighborsClassifier(n_neighbors=k)\n",
    "    knn.fit(X_train, Y_train)\n",
    "    train_score = knn.score(X_train, Y_train)\n",
    "    test_score = knn.score(X_test, Y_test)\n",
    "    train_scores.append(train_score)\n",
    "    test_scores.append(test_score)\n",
    "    print(f\"k: {k}, Train/Test Score: {train_score:.3f}/{test_score:.3f}\")"
   ]
  },
  {
   "cell_type": "code",
   "execution_count": 124,
   "metadata": {},
   "outputs": [
    {
     "data": {
      "image/png": "[encoded data removed]",
      "text/plain": [
       "<Figure size 432x288 with 1 Axes>"
      ]
     },
     "metadata": {
      "needs_background": "light"
     },
     "output_type": "display_data"
    }
   ],
   "source": [
    "plt.plot(range(1, 50, 2), train_scores, marker='o')\n",
    "plt.plot(range(1, 50, 2), test_scores, marker=\"x\")\n",
    "plt.xlabel(\"k neighbors\")\n",
    "plt.ylabel(\"Testing accuracy Score\")\n",
    "plt.show()"
   ]
  },
  {
   "cell_type": "code",
   "execution_count": 140,
   "metadata": {},
   "outputs": [
    {
     "name": "stdout",
     "output_type": "stream",
     "text": [
      "Train_data Accuracy: 0.61\n",
      "Test_data Accuracy: 0.51\n"
     ]
    }
   ],
   "source": [
    "# Instantiate KNN learning model(k=15)\n",
    "knn = KNeighborsClassifier(n_neighbors=11)\n",
    "# fit the model\n",
    "knn.fit(X_train, Y_train)\n",
    "\n",
    "# Accuracy Score\n",
    "accuracy_train = accuracy_score(Y_train, knn.predict(X_train))\n",
    "accuracy_test = accuracy_score(Y_test, knn.predict(X_test))\n",
    "\n",
    "print ('Train_data Accuracy: %.2f' %accuracy_train)\n",
    "print ('Test_data Accuracy: %.2f' %accuracy_test)"
   ]
  },
  {
   "cell_type": "code",
   "execution_count": 141,
   "metadata": {},
   "outputs": [
    {
     "data": {
      "text/plain": [
       "482"
      ]
     },
     "execution_count": 141,
     "metadata": {},
     "output_type": "execute_result"
    }
   ],
   "source": [
    "len(Y_train)"
   ]
  },
  {
   "cell_type": "code",
   "execution_count": 142,
   "metadata": {},
   "outputs": [
    {
     "data": {
      "text/plain": [
       "array([ 1, -1, -1, -1,  1,  1,  1,  1, -1,  1,  1,  1,  1,  1, -1, -1,  1,\n",
       "       -1, -1,  1, -1, -1, -1,  1, -1, -1, -1,  1, -1,  1, -1, -1, -1,  1,\n",
       "        1, -1,  1,  1,  1, -1,  1,  1, -1, -1,  1, -1, -1,  1,  1, -1,  1,\n",
       "        1, -1,  1, -1,  1,  1,  1,  1,  1,  1, -1, -1, -1, -1,  1, -1, -1,\n",
       "       -1,  1, -1, -1,  1,  1,  1,  1,  1,  1, -1,  1, -1,  1, -1,  1,  1,\n",
       "       -1, -1, -1, -1,  1, -1,  1,  1,  1, -1, -1, -1,  1, -1, -1, -1, -1,\n",
       "        1,  1,  1,  1, -1, -1,  1, -1,  1,  1,  1, -1, -1, -1, -1,  1, -1,\n",
       "        1, -1,  1,  1,  1, -1, -1,  1, -1, -1, -1, -1, -1, -1, -1, -1, -1,\n",
       "       -1,  1, -1, -1,  1,  1, -1,  1,  1, -1, -1,  1, -1,  1,  1,  1,  1,\n",
       "        1, -1,  1,  1, -1,  1,  1,  1,  1,  1, -1,  1,  1,  1, -1, -1, -1,\n",
       "       -1, -1, -1, -1, -1, -1,  1,  1,  1, -1, -1,  1, -1, -1, -1, -1,  1,\n",
       "        1,  1, -1,  1,  1, -1,  1, -1,  1, -1,  1, -1, -1, -1,  1,  1,  1,\n",
       "       -1,  1, -1,  1])"
      ]
     },
     "execution_count": 142,
     "metadata": {},
     "output_type": "execute_result"
    }
   ],
   "source": [
    "pred = knn.predict(X_test)\n",
    "pred"
   ]
  },
  {
   "cell_type": "code",
   "execution_count": 143,
   "metadata": {},
   "outputs": [
    {
     "data": {
      "text/html": [
       "<div>\n",
       "<style scoped>\n",
       "    .dataframe tbody tr th:only-of-type {\n",
       "        vertical-align: middle;\n",
       "    }\n",
       "\n",
       "    .dataframe tbody tr th {\n",
       "        vertical-align: top;\n",
       "    }\n",
       "\n",
       "    .dataframe thead th {\n",
       "        text-align: right;\n",
       "    }\n",
       "</style>\n",
       "<table border=\"1\" class=\"dataframe\">\n",
       "  <thead>\n",
       "    <tr style=\"text-align: right;\">\n",
       "      <th></th>\n",
       "      <th>Prediction</th>\n",
       "      <th>Actual</th>\n",
       "    </tr>\n",
       "  </thead>\n",
       "  <tbody>\n",
       "    <tr>\n",
       "      <th>0</th>\n",
       "      <td>1</td>\n",
       "      <td>1</td>\n",
       "    </tr>\n",
       "    <tr>\n",
       "      <th>1</th>\n",
       "      <td>-1</td>\n",
       "      <td>1</td>\n",
       "    </tr>\n",
       "    <tr>\n",
       "      <th>2</th>\n",
       "      <td>-1</td>\n",
       "      <td>1</td>\n",
       "    </tr>\n",
       "    <tr>\n",
       "      <th>3</th>\n",
       "      <td>-1</td>\n",
       "      <td>-1</td>\n",
       "    </tr>\n",
       "    <tr>\n",
       "      <th>4</th>\n",
       "      <td>1</td>\n",
       "      <td>1</td>\n",
       "    </tr>\n",
       "    <tr>\n",
       "      <th>...</th>\n",
       "      <td>...</td>\n",
       "      <td>...</td>\n",
       "    </tr>\n",
       "    <tr>\n",
       "      <th>203</th>\n",
       "      <td>1</td>\n",
       "      <td>1</td>\n",
       "    </tr>\n",
       "    <tr>\n",
       "      <th>204</th>\n",
       "      <td>-1</td>\n",
       "      <td>-1</td>\n",
       "    </tr>\n",
       "    <tr>\n",
       "      <th>205</th>\n",
       "      <td>1</td>\n",
       "      <td>1</td>\n",
       "    </tr>\n",
       "    <tr>\n",
       "      <th>206</th>\n",
       "      <td>-1</td>\n",
       "      <td>-1</td>\n",
       "    </tr>\n",
       "    <tr>\n",
       "      <th>207</th>\n",
       "      <td>1</td>\n",
       "      <td>-1</td>\n",
       "    </tr>\n",
       "  </tbody>\n",
       "</table>\n",
       "<p>208 rows × 2 columns</p>\n",
       "</div>"
      ],
      "text/plain": [
       "     Prediction  Actual\n",
       "0             1       1\n",
       "1            -1       1\n",
       "2            -1       1\n",
       "3            -1      -1\n",
       "4             1       1\n",
       "..          ...     ...\n",
       "203           1       1\n",
       "204          -1      -1\n",
       "205           1       1\n",
       "206          -1      -1\n",
       "207           1      -1\n",
       "\n",
       "[208 rows x 2 columns]"
      ]
     },
     "execution_count": 143,
     "metadata": {},
     "output_type": "execute_result"
    }
   ],
   "source": [
    "pd.DataFrame({\"Prediction\": pred, 'Actual': Y_test})"
   ]
  },
  {
   "cell_type": "code",
   "execution_count": 144,
   "metadata": {},
   "outputs": [
    {
     "data": {
      "image/png": "[encoded data removed]",
      "text/plain": [
       "<Figure size 720x360 with 1 Axes>"
      ]
     },
     "metadata": {
      "needs_background": "light"
     },
     "output_type": "display_data"
    }
   ],
   "source": [
    "# Predicted Signal\n",
    "df['Predicted_Signal'] = knn.predict(X)\n",
    "\n",
    "# SPY Cumulative Returns\n",
    "df['SPY_returns'] = np.log(df['Close']/df['Close'].shift(1))\n",
    "Cumulative_SPY_returns = df[split:]['SPY_returns'].cumsum()*100\n",
    "\n",
    "# Cumulative Strategy Returns \n",
    "df['Startegy_returns'] = df['SPY_returns']* df['Predicted_Signal'].shift(1)\n",
    "Cumulative_Strategy_returns = df[split:]['Startegy_returns'].cumsum()*100\n",
    "\n",
    "# Plot the results to visualize the performance\n",
    "\n",
    "plt.figure(figsize=(10,5))\n",
    "plt.plot(Cumulative_SPY_returns, color='r',label = 'SPY Returns')\n",
    "plt.plot(Cumulative_Strategy_returns, color='g', label = 'Strategy Returns')\n",
    "plt.legend()\n",
    "plt.show()"
   ]
  },
  {
   "cell_type": "code",
   "execution_count": 145,
   "metadata": {},
   "outputs": [
    {
     "data": {
      "text/html": [
       "<div>\n",
       "<style scoped>\n",
       "    .dataframe tbody tr th:only-of-type {\n",
       "        vertical-align: middle;\n",
       "    }\n",
       "\n",
       "    .dataframe tbody tr th {\n",
       "        vertical-align: top;\n",
       "    }\n",
       "\n",
       "    .dataframe thead th {\n",
       "        text-align: right;\n",
       "    }\n",
       "</style>\n",
       "<table border=\"1\" class=\"dataframe\">\n",
       "  <thead>\n",
       "    <tr style=\"text-align: right;\">\n",
       "      <th></th>\n",
       "      <th>Close</th>\n",
       "      <th>High</th>\n",
       "      <th>Low</th>\n",
       "      <th>Open</th>\n",
       "      <th>Status</th>\n",
       "      <th>Date</th>\n",
       "      <th>Volume</th>\n",
       "      <th>Open-Close</th>\n",
       "      <th>High-Low</th>\n",
       "      <th>Predicted_Signal</th>\n",
       "      <th>SPY_returns</th>\n",
       "      <th>Startegy_returns</th>\n",
       "    </tr>\n",
       "  </thead>\n",
       "  <tbody>\n",
       "    <tr>\n",
       "      <th>0</th>\n",
       "      <td>5.34</td>\n",
       "      <td>5.40</td>\n",
       "      <td>5.32</td>\n",
       "      <td>5.36</td>\n",
       "      <td>ok</td>\n",
       "      <td>2017-07-10 13:30:00</td>\n",
       "      <td>24026100</td>\n",
       "      <td>0.02</td>\n",
       "      <td>0.08</td>\n",
       "      <td>-1</td>\n",
       "      <td>NaN</td>\n",
       "      <td>NaN</td>\n",
       "    </tr>\n",
       "    <tr>\n",
       "      <th>1</th>\n",
       "      <td>5.39</td>\n",
       "      <td>5.40</td>\n",
       "      <td>5.32</td>\n",
       "      <td>5.35</td>\n",
       "      <td>ok</td>\n",
       "      <td>2017-07-11 13:30:00</td>\n",
       "      <td>12586800</td>\n",
       "      <td>-0.04</td>\n",
       "      <td>0.08</td>\n",
       "      <td>1</td>\n",
       "      <td>0.009320</td>\n",
       "      <td>-0.009320</td>\n",
       "    </tr>\n",
       "    <tr>\n",
       "      <th>2</th>\n",
       "      <td>5.41</td>\n",
       "      <td>5.44</td>\n",
       "      <td>5.38</td>\n",
       "      <td>5.41</td>\n",
       "      <td>ok</td>\n",
       "      <td>2017-07-12 13:30:00</td>\n",
       "      <td>17006500</td>\n",
       "      <td>0.00</td>\n",
       "      <td>0.06</td>\n",
       "      <td>1</td>\n",
       "      <td>0.003704</td>\n",
       "      <td>0.003704</td>\n",
       "    </tr>\n",
       "    <tr>\n",
       "      <th>3</th>\n",
       "      <td>5.43</td>\n",
       "      <td>5.47</td>\n",
       "      <td>5.39</td>\n",
       "      <td>5.39</td>\n",
       "      <td>ok</td>\n",
       "      <td>2017-07-13 13:30:00</td>\n",
       "      <td>17455600</td>\n",
       "      <td>-0.04</td>\n",
       "      <td>0.08</td>\n",
       "      <td>1</td>\n",
       "      <td>0.003690</td>\n",
       "      <td>0.003690</td>\n",
       "    </tr>\n",
       "    <tr>\n",
       "      <th>4</th>\n",
       "      <td>5.48</td>\n",
       "      <td>5.48</td>\n",
       "      <td>5.43</td>\n",
       "      <td>5.46</td>\n",
       "      <td>ok</td>\n",
       "      <td>2017-07-14 13:30:00</td>\n",
       "      <td>13135200</td>\n",
       "      <td>-0.02</td>\n",
       "      <td>0.05</td>\n",
       "      <td>-1</td>\n",
       "      <td>0.009166</td>\n",
       "      <td>0.009166</td>\n",
       "    </tr>\n",
       "    <tr>\n",
       "      <th>...</th>\n",
       "      <td>...</td>\n",
       "      <td>...</td>\n",
       "      <td>...</td>\n",
       "      <td>...</td>\n",
       "      <td>...</td>\n",
       "      <td>...</td>\n",
       "      <td>...</td>\n",
       "      <td>...</td>\n",
       "      <td>...</td>\n",
       "      <td>...</td>\n",
       "      <td>...</td>\n",
       "      <td>...</td>\n",
       "    </tr>\n",
       "    <tr>\n",
       "      <th>685</th>\n",
       "      <td>4.81</td>\n",
       "      <td>5.08</td>\n",
       "      <td>4.76</td>\n",
       "      <td>4.96</td>\n",
       "      <td>ok</td>\n",
       "      <td>2020-03-30 13:30:00</td>\n",
       "      <td>34793000</td>\n",
       "      <td>0.15</td>\n",
       "      <td>0.32</td>\n",
       "      <td>1</td>\n",
       "      <td>-0.024642</td>\n",
       "      <td>-0.024642</td>\n",
       "    </tr>\n",
       "    <tr>\n",
       "      <th>686</th>\n",
       "      <td>4.94</td>\n",
       "      <td>5.12</td>\n",
       "      <td>4.80</td>\n",
       "      <td>4.84</td>\n",
       "      <td>ok</td>\n",
       "      <td>2020-03-31 13:30:00</td>\n",
       "      <td>29402000</td>\n",
       "      <td>-0.10</td>\n",
       "      <td>0.32</td>\n",
       "      <td>-1</td>\n",
       "      <td>0.026668</td>\n",
       "      <td>0.026668</td>\n",
       "    </tr>\n",
       "    <tr>\n",
       "      <th>687</th>\n",
       "      <td>4.64</td>\n",
       "      <td>4.91</td>\n",
       "      <td>4.60</td>\n",
       "      <td>4.76</td>\n",
       "      <td>ok</td>\n",
       "      <td>2020-04-01 13:30:00</td>\n",
       "      <td>26473100</td>\n",
       "      <td>0.12</td>\n",
       "      <td>0.31</td>\n",
       "      <td>1</td>\n",
       "      <td>-0.062651</td>\n",
       "      <td>0.062651</td>\n",
       "    </tr>\n",
       "    <tr>\n",
       "      <th>688</th>\n",
       "      <td>4.75</td>\n",
       "      <td>4.85</td>\n",
       "      <td>4.51</td>\n",
       "      <td>4.59</td>\n",
       "      <td>ok</td>\n",
       "      <td>2020-04-02 13:30:00</td>\n",
       "      <td>23163200</td>\n",
       "      <td>-0.16</td>\n",
       "      <td>0.34</td>\n",
       "      <td>-1</td>\n",
       "      <td>0.023430</td>\n",
       "      <td>0.023430</td>\n",
       "    </tr>\n",
       "    <tr>\n",
       "      <th>689</th>\n",
       "      <td>4.50</td>\n",
       "      <td>4.76</td>\n",
       "      <td>4.41</td>\n",
       "      <td>4.73</td>\n",
       "      <td>ok</td>\n",
       "      <td>2020-04-03 13:30:00</td>\n",
       "      <td>20750100</td>\n",
       "      <td>0.23</td>\n",
       "      <td>0.35</td>\n",
       "      <td>1</td>\n",
       "      <td>-0.054067</td>\n",
       "      <td>0.054067</td>\n",
       "    </tr>\n",
       "  </tbody>\n",
       "</table>\n",
       "<p>690 rows × 12 columns</p>\n",
       "</div>"
      ],
      "text/plain": [
       "     Close  High   Low  Open Status                Date    Volume  Open-Close  \\\n",
       "0     5.34  5.40  5.32  5.36     ok 2017-07-10 13:30:00  24026100        0.02   \n",
       "1     5.39  5.40  5.32  5.35     ok 2017-07-11 13:30:00  12586800       -0.04   \n",
       "2     5.41  5.44  5.38  5.41     ok 2017-07-12 13:30:00  17006500        0.00   \n",
       "3     5.43  5.47  5.39  5.39     ok 2017-07-13 13:30:00  17455600       -0.04   \n",
       "4     5.48  5.48  5.43  5.46     ok 2017-07-14 13:30:00  13135200       -0.02   \n",
       "..     ...   ...   ...   ...    ...                 ...       ...         ...   \n",
       "685   4.81  5.08  4.76  4.96     ok 2020-03-30 13:30:00  34793000        0.15   \n",
       "686   4.94  5.12  4.80  4.84     ok 2020-03-31 13:30:00  29402000       -0.10   \n",
       "687   4.64  4.91  4.60  4.76     ok 2020-04-01 13:30:00  26473100        0.12   \n",
       "688   4.75  4.85  4.51  4.59     ok 2020-04-02 13:30:00  23163200       -0.16   \n",
       "689   4.50  4.76  4.41  4.73     ok 2020-04-03 13:30:00  20750100        0.23   \n",
       "\n",
       "     High-Low  Predicted_Signal  SPY_returns  Startegy_returns  \n",
       "0        0.08                -1          NaN               NaN  \n",
       "1        0.08                 1     0.009320         -0.009320  \n",
       "2        0.06                 1     0.003704          0.003704  \n",
       "3        0.08                 1     0.003690          0.003690  \n",
       "4        0.05                -1     0.009166          0.009166  \n",
       "..        ...               ...          ...               ...  \n",
       "685      0.32                 1    -0.024642         -0.024642  \n",
       "686      0.32                -1     0.026668          0.026668  \n",
       "687      0.31                 1    -0.062651          0.062651  \n",
       "688      0.34                -1     0.023430          0.023430  \n",
       "689      0.35                 1    -0.054067          0.054067  \n",
       "\n",
       "[690 rows x 12 columns]"
      ]
     },
     "execution_count": 145,
     "metadata": {},
     "output_type": "execute_result"
    }
   ],
   "source": [
    "df"
   ]
  },
  {
   "cell_type": "markdown",
   "metadata": {},
   "source": [
    "What is Sharpe Ratio?\n",
    "Sharpe ratio is a measure for calculating risk-adjusted return. It is the ratio of the excess expected return of investment (over risk-free rate) per unit of volatility or standard deviation.\n",
    "\n",
    "Let us see the formula for Sharpe ratio which will make things much clearer. The sharpe ratio calculation is done in the following manner\n",
    "\n",
    "Sharpe Ratio = (Rx – Rf) / StdDev(x)\n",
    "\n",
    "Where,\n",
    "x is the investment\n",
    "Rx is the average rate of return of x\n",
    "Rf is the risk-free rate of return\n",
    "StdDev(x) is the standard deviation of Rx\n",
    "Once you see the formula, you will understand that we deduct the risk-free rate of return as this helps us in figuring out if the strategy makes sense or not. If the Numerator turned out negative, wouldn’t it be better to invest in a government bond which guarantees you a risk-free rate of return? Some of you would recognise this as the risk-adjusted return.\n",
    "\n",
    "In the denominator, we have the standard deviation of the average return of the investment. It helps us in identifying the volatility as well as the risk associated with the investment.\n",
    "\n",
    "Thus, the Sharpe ratio helps us in identifying which strategy gives better returns in comparison to the volatility. There, that is all when it comes to sharpe ratio calculation.\n",
    "\n",
    "Let’s take an example now to see how the Sharpe ratio calculation helps us.\n",
    "\n",
    "You have devised a strategy and created a portfolio of different stocks. After backtesting, you observe that this portfolio, let’s call it Portfolio A, will give a return of 11%. However, you are concerned with the volatility at 8%. \n",
    "\n",
    "Now, you change certain parameters and pick different financial instruments to create another portfolio, Portfolio B. This portfolio gives an expected return of 8%, but the volatility now drops to 4%. "
   ]
  },
  {
   "cell_type": "code",
   "execution_count": 146,
   "metadata": {},
   "outputs": [
    {
     "name": "stdout",
     "output_type": "stream",
     "text": [
      "Sharpe ratio: -1.97\n"
     ]
    }
   ],
   "source": [
    "# Calculate Sharpe reatio\n",
    "Std = Cumulative_Strategy_returns.std()\n",
    "Sharpe = (Cumulative_Strategy_returns-Cumulative_SPY_returns)/Std\n",
    "Sharpe = Sharpe.mean()\n",
    "print ('Sharpe ratio: %.2f'%Sharpe )"
   ]
  },
  {
   "cell_type": "markdown",
   "metadata": {},
   "source": [
    "Tested many neighbours and the lowest sharpe ratio was for 11."
   ]
  },
  {
   "cell_type": "markdown",
   "metadata": {},
   "source": [
    "# Auto ARIMA"
   ]
  },
  {
   "cell_type": "code",
   "execution_count": 79,
   "metadata": {},
   "outputs": [],
   "source": [
    "import numpy as np \n",
    "import pandas as pd \n",
    "import matplotlib.pyplot as plt\n",
    "from pandas.plotting import lag_plot\n",
    "from pandas import datetime\n",
    "from statsmodels.tsa.arima_model import ARIMA\n",
    "from sklearn.metrics import mean_squared_error"
   ]
  },
  {
   "cell_type": "code",
   "execution_count": 80,
   "metadata": {},
   "outputs": [
    {
     "data": {
      "text/html": [
       "<div>\n",
       "<style scoped>\n",
       "    .dataframe tbody tr th:only-of-type {\n",
       "        vertical-align: middle;\n",
       "    }\n",
       "\n",
       "    .dataframe tbody tr th {\n",
       "        vertical-align: top;\n",
       "    }\n",
       "\n",
       "    .dataframe thead th {\n",
       "        text-align: right;\n",
       "    }\n",
       "</style>\n",
       "<table border=\"1\" class=\"dataframe\">\n",
       "  <thead>\n",
       "    <tr style=\"text-align: right;\">\n",
       "      <th></th>\n",
       "      <th>c</th>\n",
       "      <th>h</th>\n",
       "      <th>l</th>\n",
       "      <th>o</th>\n",
       "      <th>s</th>\n",
       "      <th>t</th>\n",
       "      <th>v</th>\n",
       "    </tr>\n",
       "  </thead>\n",
       "  <tbody>\n",
       "    <tr>\n",
       "      <th>0</th>\n",
       "      <td>5.34</td>\n",
       "      <td>5.40</td>\n",
       "      <td>5.32</td>\n",
       "      <td>5.36</td>\n",
       "      <td>ok</td>\n",
       "      <td>1499693400</td>\n",
       "      <td>24026100</td>\n",
       "    </tr>\n",
       "    <tr>\n",
       "      <th>1</th>\n",
       "      <td>5.39</td>\n",
       "      <td>5.40</td>\n",
       "      <td>5.32</td>\n",
       "      <td>5.35</td>\n",
       "      <td>ok</td>\n",
       "      <td>1499779800</td>\n",
       "      <td>12586800</td>\n",
       "    </tr>\n",
       "    <tr>\n",
       "      <th>2</th>\n",
       "      <td>5.41</td>\n",
       "      <td>5.44</td>\n",
       "      <td>5.38</td>\n",
       "      <td>5.41</td>\n",
       "      <td>ok</td>\n",
       "      <td>1499866200</td>\n",
       "      <td>17006500</td>\n",
       "    </tr>\n",
       "    <tr>\n",
       "      <th>3</th>\n",
       "      <td>5.43</td>\n",
       "      <td>5.47</td>\n",
       "      <td>5.39</td>\n",
       "      <td>5.39</td>\n",
       "      <td>ok</td>\n",
       "      <td>1499952600</td>\n",
       "      <td>17455600</td>\n",
       "    </tr>\n",
       "    <tr>\n",
       "      <th>4</th>\n",
       "      <td>5.48</td>\n",
       "      <td>5.48</td>\n",
       "      <td>5.43</td>\n",
       "      <td>5.46</td>\n",
       "      <td>ok</td>\n",
       "      <td>1500039000</td>\n",
       "      <td>13135200</td>\n",
       "    </tr>\n",
       "    <tr>\n",
       "      <th>...</th>\n",
       "      <td>...</td>\n",
       "      <td>...</td>\n",
       "      <td>...</td>\n",
       "      <td>...</td>\n",
       "      <td>...</td>\n",
       "      <td>...</td>\n",
       "      <td>...</td>\n",
       "    </tr>\n",
       "    <tr>\n",
       "      <th>685</th>\n",
       "      <td>4.81</td>\n",
       "      <td>5.08</td>\n",
       "      <td>4.76</td>\n",
       "      <td>4.96</td>\n",
       "      <td>ok</td>\n",
       "      <td>1585575000</td>\n",
       "      <td>34793000</td>\n",
       "    </tr>\n",
       "    <tr>\n",
       "      <th>686</th>\n",
       "      <td>4.94</td>\n",
       "      <td>5.12</td>\n",
       "      <td>4.80</td>\n",
       "      <td>4.84</td>\n",
       "      <td>ok</td>\n",
       "      <td>1585661400</td>\n",
       "      <td>29402000</td>\n",
       "    </tr>\n",
       "    <tr>\n",
       "      <th>687</th>\n",
       "      <td>4.64</td>\n",
       "      <td>4.91</td>\n",
       "      <td>4.60</td>\n",
       "      <td>4.76</td>\n",
       "      <td>ok</td>\n",
       "      <td>1585747800</td>\n",
       "      <td>26473100</td>\n",
       "    </tr>\n",
       "    <tr>\n",
       "      <th>688</th>\n",
       "      <td>4.75</td>\n",
       "      <td>4.85</td>\n",
       "      <td>4.51</td>\n",
       "      <td>4.59</td>\n",
       "      <td>ok</td>\n",
       "      <td>1585834200</td>\n",
       "      <td>23163200</td>\n",
       "    </tr>\n",
       "    <tr>\n",
       "      <th>689</th>\n",
       "      <td>4.50</td>\n",
       "      <td>4.76</td>\n",
       "      <td>4.41</td>\n",
       "      <td>4.73</td>\n",
       "      <td>ok</td>\n",
       "      <td>1585920600</td>\n",
       "      <td>20750100</td>\n",
       "    </tr>\n",
       "  </tbody>\n",
       "</table>\n",
       "<p>690 rows × 7 columns</p>\n",
       "</div>"
      ],
      "text/plain": [
       "        c     h     l     o   s           t         v\n",
       "0    5.34  5.40  5.32  5.36  ok  1499693400  24026100\n",
       "1    5.39  5.40  5.32  5.35  ok  1499779800  12586800\n",
       "2    5.41  5.44  5.38  5.41  ok  1499866200  17006500\n",
       "3    5.43  5.47  5.39  5.39  ok  1499952600  17455600\n",
       "4    5.48  5.48  5.43  5.46  ok  1500039000  13135200\n",
       "..    ...   ...   ...   ...  ..         ...       ...\n",
       "685  4.81  5.08  4.76  4.96  ok  1585575000  34793000\n",
       "686  4.94  5.12  4.80  4.84  ok  1585661400  29402000\n",
       "687  4.64  4.91  4.60  4.76  ok  1585747800  26473100\n",
       "688  4.75  4.85  4.51  4.59  ok  1585834200  23163200\n",
       "689  4.50  4.76  4.41  4.73  ok  1585920600  20750100\n",
       "\n",
       "[690 rows x 7 columns]"
      ]
     },
     "execution_count": 80,
     "metadata": {},
     "output_type": "execute_result"
    }
   ],
   "source": [
    "#read the file\n",
    "df = pd.read_json (r'SIRI.json')\n",
    "\n",
    "#print the head\n",
    "df"
   ]
  },
  {
   "cell_type": "code",
   "execution_count": 81,
   "metadata": {},
   "outputs": [
    {
     "data": {
      "text/plain": [
       "Text(0.5, 1.0, 'Microsoft Autocorrelation plot')"
      ]
     },
     "execution_count": 81,
     "metadata": {},
     "output_type": "execute_result"
    },
    {
     "data": {
      "image/png": "[encoded data removed]",
      "text/plain": [
       "<Figure size 720x720 with 1 Axes>"
      ]
     },
     "metadata": {
      "needs_background": "light"
     },
     "output_type": "display_data"
    }
   ],
   "source": [
    "plt.figure(figsize=(10,10))\n",
    "lag_plot(df['c'], lag=5)\n",
    "plt.title('Microsoft Autocorrelation plot')"
   ]
  },
  {
   "cell_type": "code",
   "execution_count": 82,
   "metadata": {},
   "outputs": [],
   "source": [
    "size = len(df)"
   ]
  },
  {
   "cell_type": "code",
   "execution_count": 83,
   "metadata": {},
   "outputs": [
    {
     "data": {
      "text/plain": [
       "<matplotlib.legend.Legend at 0x21199aa6240>"
      ]
     },
     "execution_count": 83,
     "metadata": {},
     "output_type": "execute_result"
    },
    {
     "data": {
      "image/png": "[encoded data removed]",
      "text/plain": [
       "<Figure size 864x504 with 1 Axes>"
      ]
     },
     "metadata": {
      "needs_background": "light"
     },
     "output_type": "display_data"
    }
   ],
   "source": [
    "train_data, test_data = df[0:int(len(df)*0.8)], df[int(len(df)*0.8):]\n",
    "plt.figure(figsize=(12,7))\n",
    "plt.title('Microsoft Prices')\n",
    "plt.xlabel('Dates')\n",
    "plt.ylabel('Prices')\n",
    "plt.plot(df['c'], 'blue', label='Training Data')\n",
    "plt.plot(test_data['c'], 'green', label='Testing Data')\n",
    "plt.xticks(np.arange(0,size, 300), df['t'][0:size:300])\n",
    "plt.legend()"
   ]
  },
  {
   "cell_type": "code",
   "execution_count": 84,
   "metadata": {},
   "outputs": [],
   "source": [
    "def smape_kun(y_true, y_pred):\n",
    "    return np.mean((np.abs(y_pred - y_true) * 200/ (np.abs(y_pred) +       np.abs(y_true))))"
   ]
  },
  {
   "cell_type": "code",
   "execution_count": 85,
   "metadata": {},
   "outputs": [
    {
     "name": "stdout",
     "output_type": "stream",
     "text": [
      "<class 'list'>\n",
      "Testing Mean Squared Error: 0.023\n",
      "Symmetric mean absolute percentage error: 11.189\n"
     ]
    }
   ],
   "source": [
    "train_ar = train_data['c'].values\n",
    "test_ar = test_data['c'].values\n",
    "history = [x for x in train_ar]\n",
    "print(type(history))\n",
    "predictions = list()\n",
    "for t in range(len(test_ar)):\n",
    "    model = ARIMA(history, order=(5,1,0))\n",
    "    model_fit = model.fit(disp=0)\n",
    "    output = model_fit.forecast()\n",
    "    yhat = output[0]\n",
    "    predictions.append(yhat)\n",
    "    obs = test_ar[t]\n",
    "    history.append(obs)\n",
    "error = mean_squared_error(test_ar, predictions)\n",
    "print('Testing Mean Squared Error: %.3f' % error)\n",
    "error2 = smape_kun(test_ar, predictions)\n",
    "print('Symmetric mean absolute percentage error: %.3f' % error2)"
   ]
  },
  {
   "cell_type": "code",
   "execution_count": 86,
   "metadata": {},
   "outputs": [
    {
     "data": {
      "text/html": [
       "<div>\n",
       "<style scoped>\n",
       "    .dataframe tbody tr th:only-of-type {\n",
       "        vertical-align: middle;\n",
       "    }\n",
       "\n",
       "    .dataframe tbody tr th {\n",
       "        vertical-align: top;\n",
       "    }\n",
       "\n",
       "    .dataframe thead th {\n",
       "        text-align: right;\n",
       "    }\n",
       "</style>\n",
       "<table border=\"1\" class=\"dataframe\">\n",
       "  <thead>\n",
       "    <tr style=\"text-align: right;\">\n",
       "      <th></th>\n",
       "      <th>Prediction</th>\n",
       "      <th>Actual</th>\n",
       "    </tr>\n",
       "  </thead>\n",
       "  <tbody>\n",
       "    <tr>\n",
       "      <th>0</th>\n",
       "      <td>[6.467491741991609]</td>\n",
       "      <td>6.39</td>\n",
       "    </tr>\n",
       "    <tr>\n",
       "      <th>1</th>\n",
       "      <td>[6.396465307685424]</td>\n",
       "      <td>6.34</td>\n",
       "    </tr>\n",
       "    <tr>\n",
       "      <th>2</th>\n",
       "      <td>[6.344233690726262]</td>\n",
       "      <td>6.26</td>\n",
       "    </tr>\n",
       "    <tr>\n",
       "      <th>3</th>\n",
       "      <td>[6.264781712060437]</td>\n",
       "      <td>6.29</td>\n",
       "    </tr>\n",
       "    <tr>\n",
       "      <th>4</th>\n",
       "      <td>[6.289849217454442]</td>\n",
       "      <td>6.23</td>\n",
       "    </tr>\n",
       "    <tr>\n",
       "      <th>...</th>\n",
       "      <td>...</td>\n",
       "      <td>...</td>\n",
       "    </tr>\n",
       "    <tr>\n",
       "      <th>133</th>\n",
       "      <td>[4.97538234387751]</td>\n",
       "      <td>4.81</td>\n",
       "    </tr>\n",
       "    <tr>\n",
       "      <th>134</th>\n",
       "      <td>[4.807876661707446]</td>\n",
       "      <td>4.94</td>\n",
       "    </tr>\n",
       "    <tr>\n",
       "      <th>135</th>\n",
       "      <td>[4.904859102699367]</td>\n",
       "      <td>4.64</td>\n",
       "    </tr>\n",
       "    <tr>\n",
       "      <th>136</th>\n",
       "      <td>[4.711130096422524]</td>\n",
       "      <td>4.75</td>\n",
       "    </tr>\n",
       "    <tr>\n",
       "      <th>137</th>\n",
       "      <td>[4.691008836927014]</td>\n",
       "      <td>4.50</td>\n",
       "    </tr>\n",
       "  </tbody>\n",
       "</table>\n",
       "<p>138 rows × 2 columns</p>\n",
       "</div>"
      ],
      "text/plain": [
       "              Prediction  Actual\n",
       "0    [6.467491741991609]    6.39\n",
       "1    [6.396465307685424]    6.34\n",
       "2    [6.344233690726262]    6.26\n",
       "3    [6.264781712060437]    6.29\n",
       "4    [6.289849217454442]    6.23\n",
       "..                   ...     ...\n",
       "133   [4.97538234387751]    4.81\n",
       "134  [4.807876661707446]    4.94\n",
       "135  [4.904859102699367]    4.64\n",
       "136  [4.711130096422524]    4.75\n",
       "137  [4.691008836927014]    4.50\n",
       "\n",
       "[138 rows x 2 columns]"
      ]
     },
     "execution_count": 86,
     "metadata": {},
     "output_type": "execute_result"
    }
   ],
   "source": [
    "pd.DataFrame({\"Prediction\": predictions, 'Actual': test_ar})"
   ]
  },
  {
   "cell_type": "code",
   "execution_count": 87,
   "metadata": {},
   "outputs": [
    {
     "data": {
      "text/plain": [
       "<matplotlib.legend.Legend at 0x211998e8ba8>"
      ]
     },
     "execution_count": 87,
     "metadata": {},
     "output_type": "execute_result"
    },
    {
     "data": {
      "image/png": "[encoded data removed]",
      "text/plain": [
       "<Figure size 864x504 with 1 Axes>"
      ]
     },
     "metadata": {
      "needs_background": "light"
     },
     "output_type": "display_data"
    }
   ],
   "source": [
    "plt.figure(figsize=(12,7))\n",
    "plt.plot(df['c'], 'green', color='blue', label='Training Data')\n",
    "plt.plot(test_data.index, predictions, color='green', marker='o', linestyle='dashed', \n",
    "         label='Predicted Price')\n",
    "plt.plot(test_data.index, test_data['c'], color='red', label='Actual Price')\n",
    "plt.title('Microsoft Prices Prediction')\n",
    "plt.xlabel('Dates')\n",
    "plt.ylabel('Prices')\n",
    "plt.xticks(np.arange(0,size, 1300), df['t'][0:size:1300])\n",
    "plt.legend()"
   ]
  },
  {
   "cell_type": "markdown",
   "metadata": {},
   "source": [
    "# Prophet"
   ]
  },
  {
   "cell_type": "code",
   "execution_count": 3,
   "metadata": {},
   "outputs": [
    {
     "data": {
      "text/html": [
       "<div>\n",
       "<style scoped>\n",
       "    .dataframe tbody tr th:only-of-type {\n",
       "        vertical-align: middle;\n",
       "    }\n",
       "\n",
       "    .dataframe tbody tr th {\n",
       "        vertical-align: top;\n",
       "    }\n",
       "\n",
       "    .dataframe thead th {\n",
       "        text-align: right;\n",
       "    }\n",
       "</style>\n",
       "<table border=\"1\" class=\"dataframe\">\n",
       "  <thead>\n",
       "    <tr style=\"text-align: right;\">\n",
       "      <th></th>\n",
       "      <th>c</th>\n",
       "      <th>h</th>\n",
       "      <th>l</th>\n",
       "      <th>o</th>\n",
       "      <th>s</th>\n",
       "      <th>t</th>\n",
       "      <th>v</th>\n",
       "    </tr>\n",
       "  </thead>\n",
       "  <tbody>\n",
       "    <tr>\n",
       "      <th>0</th>\n",
       "      <td>5.34</td>\n",
       "      <td>5.40</td>\n",
       "      <td>5.32</td>\n",
       "      <td>5.36</td>\n",
       "      <td>ok</td>\n",
       "      <td>1499693400</td>\n",
       "      <td>24026100</td>\n",
       "    </tr>\n",
       "    <tr>\n",
       "      <th>1</th>\n",
       "      <td>5.39</td>\n",
       "      <td>5.40</td>\n",
       "      <td>5.32</td>\n",
       "      <td>5.35</td>\n",
       "      <td>ok</td>\n",
       "      <td>1499779800</td>\n",
       "      <td>12586800</td>\n",
       "    </tr>\n",
       "    <tr>\n",
       "      <th>2</th>\n",
       "      <td>5.41</td>\n",
       "      <td>5.44</td>\n",
       "      <td>5.38</td>\n",
       "      <td>5.41</td>\n",
       "      <td>ok</td>\n",
       "      <td>1499866200</td>\n",
       "      <td>17006500</td>\n",
       "    </tr>\n",
       "    <tr>\n",
       "      <th>3</th>\n",
       "      <td>5.43</td>\n",
       "      <td>5.47</td>\n",
       "      <td>5.39</td>\n",
       "      <td>5.39</td>\n",
       "      <td>ok</td>\n",
       "      <td>1499952600</td>\n",
       "      <td>17455600</td>\n",
       "    </tr>\n",
       "    <tr>\n",
       "      <th>4</th>\n",
       "      <td>5.48</td>\n",
       "      <td>5.48</td>\n",
       "      <td>5.43</td>\n",
       "      <td>5.46</td>\n",
       "      <td>ok</td>\n",
       "      <td>1500039000</td>\n",
       "      <td>13135200</td>\n",
       "    </tr>\n",
       "    <tr>\n",
       "      <th>...</th>\n",
       "      <td>...</td>\n",
       "      <td>...</td>\n",
       "      <td>...</td>\n",
       "      <td>...</td>\n",
       "      <td>...</td>\n",
       "      <td>...</td>\n",
       "      <td>...</td>\n",
       "    </tr>\n",
       "    <tr>\n",
       "      <th>685</th>\n",
       "      <td>4.81</td>\n",
       "      <td>5.08</td>\n",
       "      <td>4.76</td>\n",
       "      <td>4.96</td>\n",
       "      <td>ok</td>\n",
       "      <td>1585575000</td>\n",
       "      <td>34793000</td>\n",
       "    </tr>\n",
       "    <tr>\n",
       "      <th>686</th>\n",
       "      <td>4.94</td>\n",
       "      <td>5.12</td>\n",
       "      <td>4.80</td>\n",
       "      <td>4.84</td>\n",
       "      <td>ok</td>\n",
       "      <td>1585661400</td>\n",
       "      <td>29402000</td>\n",
       "    </tr>\n",
       "    <tr>\n",
       "      <th>687</th>\n",
       "      <td>4.64</td>\n",
       "      <td>4.91</td>\n",
       "      <td>4.60</td>\n",
       "      <td>4.76</td>\n",
       "      <td>ok</td>\n",
       "      <td>1585747800</td>\n",
       "      <td>26473100</td>\n",
       "    </tr>\n",
       "    <tr>\n",
       "      <th>688</th>\n",
       "      <td>4.75</td>\n",
       "      <td>4.85</td>\n",
       "      <td>4.51</td>\n",
       "      <td>4.59</td>\n",
       "      <td>ok</td>\n",
       "      <td>1585834200</td>\n",
       "      <td>23163200</td>\n",
       "    </tr>\n",
       "    <tr>\n",
       "      <th>689</th>\n",
       "      <td>4.50</td>\n",
       "      <td>4.76</td>\n",
       "      <td>4.41</td>\n",
       "      <td>4.73</td>\n",
       "      <td>ok</td>\n",
       "      <td>1585920600</td>\n",
       "      <td>20750100</td>\n",
       "    </tr>\n",
       "  </tbody>\n",
       "</table>\n",
       "<p>690 rows × 7 columns</p>\n",
       "</div>"
      ],
      "text/plain": [
       "        c     h     l     o   s           t         v\n",
       "0    5.34  5.40  5.32  5.36  ok  1499693400  24026100\n",
       "1    5.39  5.40  5.32  5.35  ok  1499779800  12586800\n",
       "2    5.41  5.44  5.38  5.41  ok  1499866200  17006500\n",
       "3    5.43  5.47  5.39  5.39  ok  1499952600  17455600\n",
       "4    5.48  5.48  5.43  5.46  ok  1500039000  13135200\n",
       "..    ...   ...   ...   ...  ..         ...       ...\n",
       "685  4.81  5.08  4.76  4.96  ok  1585575000  34793000\n",
       "686  4.94  5.12  4.80  4.84  ok  1585661400  29402000\n",
       "687  4.64  4.91  4.60  4.76  ok  1585747800  26473100\n",
       "688  4.75  4.85  4.51  4.59  ok  1585834200  23163200\n",
       "689  4.50  4.76  4.41  4.73  ok  1585920600  20750100\n",
       "\n",
       "[690 rows x 7 columns]"
      ]
     },
     "execution_count": 3,
     "metadata": {},
     "output_type": "execute_result"
    }
   ],
   "source": [
    "#read the file\n",
    "df = pd.read_json (r'SIRI.json')\n",
    "\n",
    "#print the head\n",
    "df"
   ]
  },
  {
   "cell_type": "code",
   "execution_count": 4,
   "metadata": {},
   "outputs": [
    {
     "data": {
      "text/html": [
       "<div>\n",
       "<style scoped>\n",
       "    .dataframe tbody tr th:only-of-type {\n",
       "        vertical-align: middle;\n",
       "    }\n",
       "\n",
       "    .dataframe tbody tr th {\n",
       "        vertical-align: top;\n",
       "    }\n",
       "\n",
       "    .dataframe thead th {\n",
       "        text-align: right;\n",
       "    }\n",
       "</style>\n",
       "<table border=\"1\" class=\"dataframe\">\n",
       "  <thead>\n",
       "    <tr style=\"text-align: right;\">\n",
       "      <th></th>\n",
       "      <th>Close</th>\n",
       "      <th>High</th>\n",
       "      <th>Low</th>\n",
       "      <th>Open</th>\n",
       "      <th>Status</th>\n",
       "      <th>Date</th>\n",
       "      <th>Volume</th>\n",
       "    </tr>\n",
       "  </thead>\n",
       "  <tbody>\n",
       "    <tr>\n",
       "      <th>0</th>\n",
       "      <td>5.34</td>\n",
       "      <td>5.40</td>\n",
       "      <td>5.32</td>\n",
       "      <td>5.36</td>\n",
       "      <td>ok</td>\n",
       "      <td>2017-07-10 13:30:00</td>\n",
       "      <td>24026100</td>\n",
       "    </tr>\n",
       "    <tr>\n",
       "      <th>1</th>\n",
       "      <td>5.39</td>\n",
       "      <td>5.40</td>\n",
       "      <td>5.32</td>\n",
       "      <td>5.35</td>\n",
       "      <td>ok</td>\n",
       "      <td>2017-07-11 13:30:00</td>\n",
       "      <td>12586800</td>\n",
       "    </tr>\n",
       "    <tr>\n",
       "      <th>2</th>\n",
       "      <td>5.41</td>\n",
       "      <td>5.44</td>\n",
       "      <td>5.38</td>\n",
       "      <td>5.41</td>\n",
       "      <td>ok</td>\n",
       "      <td>2017-07-12 13:30:00</td>\n",
       "      <td>17006500</td>\n",
       "    </tr>\n",
       "    <tr>\n",
       "      <th>3</th>\n",
       "      <td>5.43</td>\n",
       "      <td>5.47</td>\n",
       "      <td>5.39</td>\n",
       "      <td>5.39</td>\n",
       "      <td>ok</td>\n",
       "      <td>2017-07-13 13:30:00</td>\n",
       "      <td>17455600</td>\n",
       "    </tr>\n",
       "    <tr>\n",
       "      <th>4</th>\n",
       "      <td>5.48</td>\n",
       "      <td>5.48</td>\n",
       "      <td>5.43</td>\n",
       "      <td>5.46</td>\n",
       "      <td>ok</td>\n",
       "      <td>2017-07-14 13:30:00</td>\n",
       "      <td>13135200</td>\n",
       "    </tr>\n",
       "  </tbody>\n",
       "</table>\n",
       "</div>"
      ],
      "text/plain": [
       "   Close  High   Low  Open Status                Date    Volume\n",
       "0   5.34  5.40  5.32  5.36     ok 2017-07-10 13:30:00  24026100\n",
       "1   5.39  5.40  5.32  5.35     ok 2017-07-11 13:30:00  12586800\n",
       "2   5.41  5.44  5.38  5.41     ok 2017-07-12 13:30:00  17006500\n",
       "3   5.43  5.47  5.39  5.39     ok 2017-07-13 13:30:00  17455600\n",
       "4   5.48  5.48  5.43  5.46     ok 2017-07-14 13:30:00  13135200"
      ]
     },
     "execution_count": 4,
     "metadata": {},
     "output_type": "execute_result"
    }
   ],
   "source": [
    "df['t'] = pd.to_datetime(df['t'], unit='s')\n",
    "df = df.rename(columns={'c': 'Close', 'h': 'High', 'l':'Low',  'o': 'Open', 's': 'Status', 't': 'Date', 'v': 'Volume'})\n",
    "df.head()"
   ]
  },
  {
   "cell_type": "code",
   "execution_count": 5,
   "metadata": {},
   "outputs": [],
   "source": [
    "size = len(df)"
   ]
  },
  {
   "cell_type": "code",
   "execution_count": 6,
   "metadata": {},
   "outputs": [
    {
     "name": "stderr",
     "output_type": "stream",
     "text": [
      "Importing plotly failed. Interactive plots will not work.\n"
     ]
    }
   ],
   "source": [
    "#importing prophet\n",
    "from fbprophet import Prophet\n",
    "\n",
    "#creating dataframe\n",
    "new_data = pd.DataFrame(index=range(0,len(df)),columns=['Date', 'Close'])\n",
    "\n",
    "for i in range(0,len(df)):\n",
    "    new_data['Date'][i] = df['Date'][i]\n",
    "    new_data['Close'][i] = df['Close'][i]\n",
    "\n",
    "new_data['Date'] = pd.to_datetime(new_data.Date,format='%Y-%m-%d')\n",
    "new_data.index = new_data['Date']\n",
    "\n",
    "#preparing data\n",
    "new_data.rename(columns={'Close': 'y', 'Date': 'ds'}, inplace=True)"
   ]
  },
  {
   "cell_type": "code",
   "execution_count": 7,
   "metadata": {},
   "outputs": [
    {
     "data": {
      "text/html": [
       "<div>\n",
       "<style scoped>\n",
       "    .dataframe tbody tr th:only-of-type {\n",
       "        vertical-align: middle;\n",
       "    }\n",
       "\n",
       "    .dataframe tbody tr th {\n",
       "        vertical-align: top;\n",
       "    }\n",
       "\n",
       "    .dataframe thead th {\n",
       "        text-align: right;\n",
       "    }\n",
       "</style>\n",
       "<table border=\"1\" class=\"dataframe\">\n",
       "  <thead>\n",
       "    <tr style=\"text-align: right;\">\n",
       "      <th></th>\n",
       "      <th>ds</th>\n",
       "      <th>y</th>\n",
       "    </tr>\n",
       "    <tr>\n",
       "      <th>Date</th>\n",
       "      <th></th>\n",
       "      <th></th>\n",
       "    </tr>\n",
       "  </thead>\n",
       "  <tbody>\n",
       "    <tr>\n",
       "      <th>2017-07-10 13:30:00</th>\n",
       "      <td>2017-07-10 13:30:00</td>\n",
       "      <td>5.34</td>\n",
       "    </tr>\n",
       "    <tr>\n",
       "      <th>2017-07-11 13:30:00</th>\n",
       "      <td>2017-07-11 13:30:00</td>\n",
       "      <td>5.39</td>\n",
       "    </tr>\n",
       "    <tr>\n",
       "      <th>2017-07-12 13:30:00</th>\n",
       "      <td>2017-07-12 13:30:00</td>\n",
       "      <td>5.41</td>\n",
       "    </tr>\n",
       "    <tr>\n",
       "      <th>2017-07-13 13:30:00</th>\n",
       "      <td>2017-07-13 13:30:00</td>\n",
       "      <td>5.43</td>\n",
       "    </tr>\n",
       "    <tr>\n",
       "      <th>2017-07-14 13:30:00</th>\n",
       "      <td>2017-07-14 13:30:00</td>\n",
       "      <td>5.48</td>\n",
       "    </tr>\n",
       "    <tr>\n",
       "      <th>...</th>\n",
       "      <td>...</td>\n",
       "      <td>...</td>\n",
       "    </tr>\n",
       "    <tr>\n",
       "      <th>2020-03-30 13:30:00</th>\n",
       "      <td>2020-03-30 13:30:00</td>\n",
       "      <td>4.81</td>\n",
       "    </tr>\n",
       "    <tr>\n",
       "      <th>2020-03-31 13:30:00</th>\n",
       "      <td>2020-03-31 13:30:00</td>\n",
       "      <td>4.94</td>\n",
       "    </tr>\n",
       "    <tr>\n",
       "      <th>2020-04-01 13:30:00</th>\n",
       "      <td>2020-04-01 13:30:00</td>\n",
       "      <td>4.64</td>\n",
       "    </tr>\n",
       "    <tr>\n",
       "      <th>2020-04-02 13:30:00</th>\n",
       "      <td>2020-04-02 13:30:00</td>\n",
       "      <td>4.75</td>\n",
       "    </tr>\n",
       "    <tr>\n",
       "      <th>2020-04-03 13:30:00</th>\n",
       "      <td>2020-04-03 13:30:00</td>\n",
       "      <td>4.5</td>\n",
       "    </tr>\n",
       "  </tbody>\n",
       "</table>\n",
       "<p>690 rows × 2 columns</p>\n",
       "</div>"
      ],
      "text/plain": [
       "                                     ds     y\n",
       "Date                                         \n",
       "2017-07-10 13:30:00 2017-07-10 13:30:00  5.34\n",
       "2017-07-11 13:30:00 2017-07-11 13:30:00  5.39\n",
       "2017-07-12 13:30:00 2017-07-12 13:30:00  5.41\n",
       "2017-07-13 13:30:00 2017-07-13 13:30:00  5.43\n",
       "2017-07-14 13:30:00 2017-07-14 13:30:00  5.48\n",
       "...                                 ...   ...\n",
       "2020-03-30 13:30:00 2020-03-30 13:30:00  4.81\n",
       "2020-03-31 13:30:00 2020-03-31 13:30:00  4.94\n",
       "2020-04-01 13:30:00 2020-04-01 13:30:00  4.64\n",
       "2020-04-02 13:30:00 2020-04-02 13:30:00  4.75\n",
       "2020-04-03 13:30:00 2020-04-03 13:30:00   4.5\n",
       "\n",
       "[690 rows x 2 columns]"
      ]
     },
     "execution_count": 7,
     "metadata": {},
     "output_type": "execute_result"
    }
   ],
   "source": [
    "new_data[:size]"
   ]
  },
  {
   "cell_type": "code",
   "execution_count": 43,
   "metadata": {},
   "outputs": [],
   "source": [
    "#train and validation\n",
    "train = new_data[:size]\n",
    "valid = new_data[size:]"
   ]
  },
  {
   "cell_type": "code",
   "execution_count": 44,
   "metadata": {},
   "outputs": [
    {
     "data": {
      "text/plain": [
       "0"
      ]
     },
     "execution_count": 44,
     "metadata": {},
     "output_type": "execute_result"
    }
   ],
   "source": [
    "len(valid)"
   ]
  },
  {
   "cell_type": "code",
   "execution_count": 45,
   "metadata": {},
   "outputs": [
    {
     "name": "stderr",
     "output_type": "stream",
     "text": [
      "INFO:fbprophet:Disabling daily seasonality. Run prophet with daily_seasonality=True to override this.\n"
     ]
    }
   ],
   "source": [
    "#fit the model\n",
    "model = Prophet()\n",
    "model.fit(train)\n",
    "\n",
    "#predictions\n",
    "close_prices = model.make_future_dataframe(periods=size)\n",
    "forecast = model.predict(close_prices)"
   ]
  },
  {
   "cell_type": "code",
   "execution_count": 46,
   "metadata": {},
   "outputs": [
    {
     "data": {
      "text/html": [
       "<div>\n",
       "<style scoped>\n",
       "    .dataframe tbody tr th:only-of-type {\n",
       "        vertical-align: middle;\n",
       "    }\n",
       "\n",
       "    .dataframe tbody tr th {\n",
       "        vertical-align: top;\n",
       "    }\n",
       "\n",
       "    .dataframe thead th {\n",
       "        text-align: right;\n",
       "    }\n",
       "</style>\n",
       "<table border=\"1\" class=\"dataframe\">\n",
       "  <thead>\n",
       "    <tr style=\"text-align: right;\">\n",
       "      <th></th>\n",
       "      <th>ds</th>\n",
       "    </tr>\n",
       "  </thead>\n",
       "  <tbody>\n",
       "    <tr>\n",
       "      <th>1378</th>\n",
       "      <td>2022-02-21 13:30:00</td>\n",
       "    </tr>\n",
       "    <tr>\n",
       "      <th>1379</th>\n",
       "      <td>2022-02-22 13:30:00</td>\n",
       "    </tr>\n",
       "  </tbody>\n",
       "</table>\n",
       "</div>"
      ],
      "text/plain": [
       "                      ds\n",
       "1378 2022-02-21 13:30:00\n",
       "1379 2022-02-22 13:30:00"
      ]
     },
     "execution_count": 46,
     "metadata": {},
     "output_type": "execute_result"
    }
   ],
   "source": [
    "close_prices.tail(2)"
   ]
  },
  {
   "cell_type": "code",
   "execution_count": 47,
   "metadata": {},
   "outputs": [],
   "source": [
    "#rmse\n",
    "forecast_valid = forecast['yhat'][size:]"
   ]
  },
  {
   "cell_type": "code",
   "execution_count": 48,
   "metadata": {},
   "outputs": [
    {
     "name": "stdout",
     "output_type": "stream",
     "text": [
      "(690,) (0,)\n"
     ]
    }
   ],
   "source": [
    "print(forecast_valid.shape, valid['y'].shape)"
   ]
  },
  {
   "cell_type": "code",
   "execution_count": 51,
   "metadata": {},
   "outputs": [
    {
     "data": {
      "text/plain": [
       "0.6177578595680238"
      ]
     },
     "execution_count": 51,
     "metadata": {},
     "output_type": "execute_result"
    }
   ],
   "source": [
    "rms=np.sqrt(np.mean(np.power((np.array(new_data['y'])-np.array(forecast_valid)),2)))\n",
    "rms"
   ]
  },
  {
   "cell_type": "code",
   "execution_count": 58,
   "metadata": {},
   "outputs": [],
   "source": [
    "new_data['yhat'] = forecast['yhat']"
   ]
  },
  {
   "cell_type": "code",
   "execution_count": 60,
   "metadata": {},
   "outputs": [
    {
     "data": {
      "text/plain": [
       "[<matplotlib.lines.Line2D at 0x21195a49710>,\n",
       " <matplotlib.lines.Line2D at 0x21195a497b8>]"
      ]
     },
     "execution_count": 60,
     "metadata": {},
     "output_type": "execute_result"
    },
    {
     "data": {
      "image/png": "[encoded data removed]",
      "text/plain": [
       "<Figure size 432x288 with 1 Axes>"
      ]
     },
     "metadata": {
      "needs_background": "light"
     },
     "output_type": "display_data"
    }
   ],
   "source": [
    "#plot\n",
    "new_data['Predictions'] = 0\n",
    "new_data['Predictions'] = forecast_valid.values\n",
    "\n",
    "plt.plot(train['y'])\n",
    "plt.plot(new_data[['y', 'Predictions']])"
   ]
  },
  {
   "cell_type": "code",
   "execution_count": 61,
   "metadata": {},
   "outputs": [
    {
     "data": {
      "text/html": [
       "<div>\n",
       "<style scoped>\n",
       "    .dataframe tbody tr th:only-of-type {\n",
       "        vertical-align: middle;\n",
       "    }\n",
       "\n",
       "    .dataframe tbody tr th {\n",
       "        vertical-align: top;\n",
       "    }\n",
       "\n",
       "    .dataframe thead th {\n",
       "        text-align: right;\n",
       "    }\n",
       "</style>\n",
       "<table border=\"1\" class=\"dataframe\">\n",
       "  <thead>\n",
       "    <tr style=\"text-align: right;\">\n",
       "      <th></th>\n",
       "      <th>Prediction</th>\n",
       "      <th>Actual</th>\n",
       "    </tr>\n",
       "  </thead>\n",
       "  <tbody>\n",
       "    <tr>\n",
       "      <th>0</th>\n",
       "      <td>5.847893</td>\n",
       "      <td>NaN</td>\n",
       "    </tr>\n",
       "    <tr>\n",
       "      <th>1</th>\n",
       "      <td>5.813537</td>\n",
       "      <td>NaN</td>\n",
       "    </tr>\n",
       "    <tr>\n",
       "      <th>2</th>\n",
       "      <td>5.787295</td>\n",
       "      <td>NaN</td>\n",
       "    </tr>\n",
       "    <tr>\n",
       "      <th>3</th>\n",
       "      <td>5.816628</td>\n",
       "      <td>NaN</td>\n",
       "    </tr>\n",
       "    <tr>\n",
       "      <th>4</th>\n",
       "      <td>5.825252</td>\n",
       "      <td>NaN</td>\n",
       "    </tr>\n",
       "    <tr>\n",
       "      <th>...</th>\n",
       "      <td>...</td>\n",
       "      <td>...</td>\n",
       "    </tr>\n",
       "    <tr>\n",
       "      <th>2020-03-30 13:30:00</th>\n",
       "      <td>NaN</td>\n",
       "      <td>4.81</td>\n",
       "    </tr>\n",
       "    <tr>\n",
       "      <th>2020-03-31 13:30:00</th>\n",
       "      <td>NaN</td>\n",
       "      <td>4.94</td>\n",
       "    </tr>\n",
       "    <tr>\n",
       "      <th>2020-04-01 13:30:00</th>\n",
       "      <td>NaN</td>\n",
       "      <td>4.64</td>\n",
       "    </tr>\n",
       "    <tr>\n",
       "      <th>2020-04-02 13:30:00</th>\n",
       "      <td>NaN</td>\n",
       "      <td>4.75</td>\n",
       "    </tr>\n",
       "    <tr>\n",
       "      <th>2020-04-03 13:30:00</th>\n",
       "      <td>NaN</td>\n",
       "      <td>4.5</td>\n",
       "    </tr>\n",
       "  </tbody>\n",
       "</table>\n",
       "<p>1380 rows × 2 columns</p>\n",
       "</div>"
      ],
      "text/plain": [
       "                     Prediction Actual\n",
       "0                      5.847893    NaN\n",
       "1                      5.813537    NaN\n",
       "2                      5.787295    NaN\n",
       "3                      5.816628    NaN\n",
       "4                      5.825252    NaN\n",
       "...                         ...    ...\n",
       "2020-03-30 13:30:00         NaN   4.81\n",
       "2020-03-31 13:30:00         NaN   4.94\n",
       "2020-04-01 13:30:00         NaN   4.64\n",
       "2020-04-02 13:30:00         NaN   4.75\n",
       "2020-04-03 13:30:00         NaN    4.5\n",
       "\n",
       "[1380 rows x 2 columns]"
      ]
     },
     "execution_count": 61,
     "metadata": {},
     "output_type": "execute_result"
    }
   ],
   "source": [
    "pd.DataFrame({\"Prediction\": valid['Predictions'], \"Actual\": new_data['y']})"
   ]
  },
  {
   "cell_type": "code",
   "execution_count": null,
   "metadata": {},
   "outputs": [],
   "source": []
  }
 ],
 "metadata": {
  "kernelspec": {
   "display_name": "PythonData",
   "language": "python",
   "name": "pythondata"
  },
  "language_info": {
   "codemirror_mode": {
    "name": "ipython",
    "version": 3
   },
   "file_extension": ".py",
   "mimetype": "text/x-python",
   "name": "python",
   "nbconvert_exporter": "python",
   "pygments_lexer": "ipython3",
   "version": "3.6.9"
  }
 },
 "nbformat": 4,
 "nbformat_minor": 2
}
