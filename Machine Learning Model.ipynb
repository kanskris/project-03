{
 "cells": [
  {
   "cell_type": "markdown",
   "metadata": {},
   "source": [
    "# Linear Regression"
   ]
  },
  {
   "cell_type": "code",
   "execution_count": 11,
   "metadata": {},
   "outputs": [
    {
     "data": {
      "text/html": [
       "<div>\n",
       "<style scoped>\n",
       "    .dataframe tbody tr th:only-of-type {\n",
       "        vertical-align: middle;\n",
       "    }\n",
       "\n",
       "    .dataframe tbody tr th {\n",
       "        vertical-align: top;\n",
       "    }\n",
       "\n",
       "    .dataframe thead th {\n",
       "        text-align: right;\n",
       "    }\n",
       "</style>\n",
       "<table border=\"1\" class=\"dataframe\">\n",
       "  <thead>\n",
       "    <tr style=\"text-align: right;\">\n",
       "      <th></th>\n",
       "      <th>c</th>\n",
       "      <th>h</th>\n",
       "      <th>l</th>\n",
       "      <th>o</th>\n",
       "      <th>s</th>\n",
       "      <th>t</th>\n",
       "      <th>v</th>\n",
       "    </tr>\n",
       "  </thead>\n",
       "  <tbody>\n",
       "    <tr>\n",
       "      <th>0</th>\n",
       "      <td>6.95</td>\n",
       "      <td>7.00</td>\n",
       "      <td>6.94</td>\n",
       "      <td>6.96</td>\n",
       "      <td>ok</td>\n",
       "      <td>1534167000</td>\n",
       "      <td>9981200</td>\n",
       "    </tr>\n",
       "    <tr>\n",
       "      <th>1</th>\n",
       "      <td>6.96</td>\n",
       "      <td>7.01</td>\n",
       "      <td>6.95</td>\n",
       "      <td>6.95</td>\n",
       "      <td>ok</td>\n",
       "      <td>1534253400</td>\n",
       "      <td>11320000</td>\n",
       "    </tr>\n",
       "    <tr>\n",
       "      <th>2</th>\n",
       "      <td>6.90</td>\n",
       "      <td>6.96</td>\n",
       "      <td>6.84</td>\n",
       "      <td>6.94</td>\n",
       "      <td>ok</td>\n",
       "      <td>1534339800</td>\n",
       "      <td>12260900</td>\n",
       "    </tr>\n",
       "    <tr>\n",
       "      <th>3</th>\n",
       "      <td>6.94</td>\n",
       "      <td>7.01</td>\n",
       "      <td>6.93</td>\n",
       "      <td>6.93</td>\n",
       "      <td>ok</td>\n",
       "      <td>1534426200</td>\n",
       "      <td>9581200</td>\n",
       "    </tr>\n",
       "    <tr>\n",
       "      <th>4</th>\n",
       "      <td>6.97</td>\n",
       "      <td>7.02</td>\n",
       "      <td>6.91</td>\n",
       "      <td>6.94</td>\n",
       "      <td>ok</td>\n",
       "      <td>1534512600</td>\n",
       "      <td>11454400</td>\n",
       "    </tr>\n",
       "    <tr>\n",
       "      <th>...</th>\n",
       "      <td>...</td>\n",
       "      <td>...</td>\n",
       "      <td>...</td>\n",
       "      <td>...</td>\n",
       "      <td>...</td>\n",
       "      <td>...</td>\n",
       "      <td>...</td>\n",
       "    </tr>\n",
       "    <tr>\n",
       "      <th>407</th>\n",
       "      <td>5.20</td>\n",
       "      <td>5.35</td>\n",
       "      <td>5.07</td>\n",
       "      <td>5.07</td>\n",
       "      <td>ok</td>\n",
       "      <td>1585229400</td>\n",
       "      <td>27208100</td>\n",
       "    </tr>\n",
       "    <tr>\n",
       "      <th>408</th>\n",
       "      <td>4.93</td>\n",
       "      <td>5.06</td>\n",
       "      <td>4.90</td>\n",
       "      <td>5.04</td>\n",
       "      <td>ok</td>\n",
       "      <td>1585315800</td>\n",
       "      <td>24632800</td>\n",
       "    </tr>\n",
       "    <tr>\n",
       "      <th>409</th>\n",
       "      <td>4.81</td>\n",
       "      <td>5.08</td>\n",
       "      <td>4.76</td>\n",
       "      <td>4.96</td>\n",
       "      <td>ok</td>\n",
       "      <td>1585575000</td>\n",
       "      <td>34793000</td>\n",
       "    </tr>\n",
       "    <tr>\n",
       "      <th>410</th>\n",
       "      <td>4.94</td>\n",
       "      <td>5.12</td>\n",
       "      <td>4.80</td>\n",
       "      <td>4.84</td>\n",
       "      <td>ok</td>\n",
       "      <td>1585661400</td>\n",
       "      <td>29402000</td>\n",
       "    </tr>\n",
       "    <tr>\n",
       "      <th>411</th>\n",
       "      <td>4.66</td>\n",
       "      <td>4.91</td>\n",
       "      <td>4.60</td>\n",
       "      <td>4.76</td>\n",
       "      <td>ok</td>\n",
       "      <td>1585747800</td>\n",
       "      <td>26468000</td>\n",
       "    </tr>\n",
       "  </tbody>\n",
       "</table>\n",
       "<p>412 rows × 7 columns</p>\n",
       "</div>"
      ],
      "text/plain": [
       "        c     h     l     o   s           t         v\n",
       "0    6.95  7.00  6.94  6.96  ok  1534167000   9981200\n",
       "1    6.96  7.01  6.95  6.95  ok  1534253400  11320000\n",
       "2    6.90  6.96  6.84  6.94  ok  1534339800  12260900\n",
       "3    6.94  7.01  6.93  6.93  ok  1534426200   9581200\n",
       "4    6.97  7.02  6.91  6.94  ok  1534512600  11454400\n",
       "..    ...   ...   ...   ...  ..         ...       ...\n",
       "407  5.20  5.35  5.07  5.07  ok  1585229400  27208100\n",
       "408  4.93  5.06  4.90  5.04  ok  1585315800  24632800\n",
       "409  4.81  5.08  4.76  4.96  ok  1585575000  34793000\n",
       "410  4.94  5.12  4.80  4.84  ok  1585661400  29402000\n",
       "411  4.66  4.91  4.60  4.76  ok  1585747800  26468000\n",
       "\n",
       "[412 rows x 7 columns]"
      ]
     },
     "execution_count": 11,
     "metadata": {},
     "output_type": "execute_result"
    }
   ],
   "source": [
    "#read the file\n",
    "df = pd.read_json (r'SIRI.json')\n",
    "\n",
    "#print the head\n",
    "df"
   ]
  },
  {
   "cell_type": "code",
   "execution_count": 12,
   "metadata": {},
   "outputs": [
    {
     "name": "stdout",
     "output_type": "stream",
     "text": [
      "(412, 1) (412, 1)\n"
     ]
    }
   ],
   "source": [
    "X = df[['t']]\n",
    "y = df['c'].values.reshape(-1, 1)\n",
    "print(X.shape, y.shape)"
   ]
  },
  {
   "cell_type": "code",
   "execution_count": 13,
   "metadata": {},
   "outputs": [
    {
     "data": {
      "text/html": [
       "<div>\n",
       "<style scoped>\n",
       "    .dataframe tbody tr th:only-of-type {\n",
       "        vertical-align: middle;\n",
       "    }\n",
       "\n",
       "    .dataframe tbody tr th {\n",
       "        vertical-align: top;\n",
       "    }\n",
       "\n",
       "    .dataframe thead th {\n",
       "        text-align: right;\n",
       "    }\n",
       "</style>\n",
       "<table border=\"1\" class=\"dataframe\">\n",
       "  <thead>\n",
       "    <tr style=\"text-align: right;\">\n",
       "      <th></th>\n",
       "      <th>t</th>\n",
       "    </tr>\n",
       "  </thead>\n",
       "  <tbody>\n",
       "    <tr>\n",
       "      <th>0</th>\n",
       "      <td>1534167000</td>\n",
       "    </tr>\n",
       "    <tr>\n",
       "      <th>1</th>\n",
       "      <td>1534253400</td>\n",
       "    </tr>\n",
       "    <tr>\n",
       "      <th>2</th>\n",
       "      <td>1534339800</td>\n",
       "    </tr>\n",
       "    <tr>\n",
       "      <th>3</th>\n",
       "      <td>1534426200</td>\n",
       "    </tr>\n",
       "    <tr>\n",
       "      <th>4</th>\n",
       "      <td>1534512600</td>\n",
       "    </tr>\n",
       "  </tbody>\n",
       "</table>\n",
       "</div>"
      ],
      "text/plain": [
       "            t\n",
       "0  1534167000\n",
       "1  1534253400\n",
       "2  1534339800\n",
       "3  1534426200\n",
       "4  1534512600"
      ]
     },
     "execution_count": 13,
     "metadata": {},
     "output_type": "execute_result"
    }
   ],
   "source": [
    "data = X.copy()\n",
    "\n",
    "data_binary_encoded = pd.get_dummies(data)\n",
    "data_binary_encoded.head()"
   ]
  },
  {
   "cell_type": "code",
   "execution_count": 14,
   "metadata": {},
   "outputs": [
    {
     "data": {
      "text/html": [
       "<div>\n",
       "<style scoped>\n",
       "    .dataframe tbody tr th:only-of-type {\n",
       "        vertical-align: middle;\n",
       "    }\n",
       "\n",
       "    .dataframe tbody tr th {\n",
       "        vertical-align: top;\n",
       "    }\n",
       "\n",
       "    .dataframe thead th {\n",
       "        text-align: right;\n",
       "    }\n",
       "</style>\n",
       "<table border=\"1\" class=\"dataframe\">\n",
       "  <thead>\n",
       "    <tr style=\"text-align: right;\">\n",
       "      <th></th>\n",
       "      <th>t</th>\n",
       "    </tr>\n",
       "  </thead>\n",
       "  <tbody>\n",
       "    <tr>\n",
       "      <th>104</th>\n",
       "      <td>1547217000</td>\n",
       "    </tr>\n",
       "    <tr>\n",
       "      <th>287</th>\n",
       "      <td>1570109400</td>\n",
       "    </tr>\n",
       "    <tr>\n",
       "      <th>403</th>\n",
       "      <td>1584711000</td>\n",
       "    </tr>\n",
       "    <tr>\n",
       "      <th>237</th>\n",
       "      <td>1563975000</td>\n",
       "    </tr>\n",
       "    <tr>\n",
       "      <th>231</th>\n",
       "      <td>1563283800</td>\n",
       "    </tr>\n",
       "  </tbody>\n",
       "</table>\n",
       "</div>"
      ],
      "text/plain": [
       "              t\n",
       "104  1547217000\n",
       "287  1570109400\n",
       "403  1584711000\n",
       "237  1563975000\n",
       "231  1563283800"
      ]
     },
     "execution_count": 14,
     "metadata": {},
     "output_type": "execute_result"
    }
   ],
   "source": [
    "from sklearn.model_selection import train_test_split\n",
    "\n",
    "X = pd.get_dummies(X)\n",
    "\n",
    "X_train, X_test, y_train, y_test = train_test_split(X, y, random_state=42)\n",
    "\n",
    "X_train.head()"
   ]
  },
  {
   "cell_type": "code",
   "execution_count": 15,
   "metadata": {},
   "outputs": [],
   "source": [
    "from sklearn.preprocessing import StandardScaler\n",
    "X_scaler = StandardScaler().fit(X_train)\n",
    "y_scaler = StandardScaler().fit(y_train)"
   ]
  },
  {
   "cell_type": "code",
   "execution_count": 16,
   "metadata": {},
   "outputs": [],
   "source": [
    "X_train_scaled = X_scaler.transform(X_train)\n",
    "X_test_scaled = X_scaler.transform(X_test)\n",
    "y_train_scaled = y_scaler.transform(y_train)\n",
    "y_test_scaled = y_scaler.transform(y_test)"
   ]
  },
  {
   "cell_type": "code",
   "execution_count": 17,
   "metadata": {},
   "outputs": [
    {
     "data": {
      "image/png": "[encoded data removed]",
      "text/plain": [
       "<Figure size 432x288 with 1 Axes>"
      ]
     },
     "metadata": {
      "needs_background": "light"
     },
     "output_type": "display_data"
    }
   ],
   "source": [
    "from sklearn.linear_model import LinearRegression\n",
    "model = LinearRegression()\n",
    "model.fit(X_train_scaled, y_train_scaled)\n",
    "plt.scatter(model.predict(X_train_scaled), model.predict(X_train_scaled) - y_train_scaled, c=\"blue\", label=\"Training Data\")\n",
    "plt.scatter(model.predict(X_test_scaled), model.predict(X_test_scaled) - y_test_scaled, c=\"orange\", label=\"Testing Data\")\n",
    "plt.legend()\n",
    "plt.hlines(y=0, xmin=y_test_scaled.min(), xmax=y_test_scaled.max())\n",
    "plt.title(\"Residual Plot\")\n",
    "plt.show()"
   ]
  },
  {
   "cell_type": "code",
   "execution_count": 32,
   "metadata": {},
   "outputs": [
    {
     "data": {
      "text/plain": [
       "array([[ 0.13617888],\n",
       "       [-0.32604245],\n",
       "       [ 0.06473142],\n",
       "       [-0.37270202],\n",
       "       [ 0.16534111],\n",
       "       [ 0.3476658 ],\n",
       "       [ 0.10555854],\n",
       "       [-0.21079089],\n",
       "       [ 0.09535176],\n",
       "       [-0.00817415],\n",
       "       [-0.37707635],\n",
       "       [ 0.11430721],\n",
       "       [ 0.32141979],\n",
       "       [-0.26619913],\n",
       "       [-0.28661269],\n",
       "       [-0.32458434],\n",
       "       [ 0.20762634],\n",
       "       [ 0.17263167],\n",
       "       [ 0.21643577],\n",
       "       [-0.2749478 ],\n",
       "       [ 0.37099558],\n",
       "       [-0.42373592],\n",
       "       [ 0.42925928],\n",
       "       [-0.29536136],\n",
       "       [ 0.02536241],\n",
       "       [-0.199126  ],\n",
       "       [ 0.32725224],\n",
       "       [ 0.31704546],\n",
       "       [ 0.38995103],\n",
       "       [-0.04900127],\n",
       "       [ 0.42196873],\n",
       "       [-0.05774994],\n",
       "       [-0.27640591],\n",
       "       [ 0.20471012],\n",
       "       [ 0.16242489],\n",
       "       [ 0.22955877],\n",
       "       [ 0.21497765],\n",
       "       [-0.17142188],\n",
       "       [-0.40769669],\n",
       "       [ 0.31558734],\n",
       "       [-0.43977515],\n",
       "       [-0.05629183],\n",
       "       [ 0.26746967],\n",
       "       [ 0.07639631],\n",
       "       [ 0.27038589],\n",
       "       [ 0.3097549 ],\n",
       "       [-0.29098702],\n",
       "       [-0.25161801],\n",
       "       [-0.19475167],\n",
       "       [-0.24141123],\n",
       "       [ 0.13472077],\n",
       "       [ 0.40738761],\n",
       "       [-0.24286934],\n",
       "       [-0.35374657],\n",
       "       [-0.07087295],\n",
       "       [-0.14080154],\n",
       "       [-0.3581209 ],\n",
       "       [ 0.40884572],\n",
       "       [-0.38728313],\n",
       "       [-0.11024196],\n",
       "       [-0.0271296 ],\n",
       "       [-0.1480921 ],\n",
       "       [-0.28078024],\n",
       "       [ 0.04577597],\n",
       "       [-0.39457369],\n",
       "       [-0.3449979 ],\n",
       "       [-0.28223835],\n",
       "       [ 0.23684933],\n",
       "       [ 0.00349074],\n",
       "       [-0.12336496],\n",
       "       [-0.32312623],\n",
       "       [ 0.42342684],\n",
       "       [-0.38874124],\n",
       "       [-0.40478047],\n",
       "       [ 0.38266047],\n",
       "       [ 0.38849292],\n",
       "       [-0.37561824],\n",
       "       [ 0.15513433],\n",
       "       [-0.11315818],\n",
       "       [-0.01838093],\n",
       "       [-0.2632829 ],\n",
       "       [ 0.42051061],\n",
       "       [-0.07233106],\n",
       "       [-0.42956836],\n",
       "       [-0.34645601],\n",
       "       [ 0.41030383],\n",
       "       [ 0.39140914],\n",
       "       [-0.18891922],\n",
       "       [ 0.36807936],\n",
       "       [ 0.06618953],\n",
       "       [ 0.18283845],\n",
       "       [-0.43540081],\n",
       "       [-0.40332236],\n",
       "       [-0.19183544],\n",
       "       [-0.31577492],\n",
       "       [ 0.23976555],\n",
       "       [ 0.40301328],\n",
       "       [-0.31140058],\n",
       "       [ 0.36953747],\n",
       "       [-0.03004583],\n",
       "       [-0.20350033],\n",
       "       [ 0.20325201],\n",
       "       [ 0.0239043 ]])"
      ]
     },
     "execution_count": 32,
     "metadata": {},
     "output_type": "execute_result"
    }
   ],
   "source": [
    "predictions = model.predict(X_test_scaled)\n",
    "predictions"
   ]
  },
  {
   "cell_type": "code",
   "execution_count": null,
   "metadata": {},
   "outputs": [],
   "source": []
  },
  {
   "cell_type": "code",
   "execution_count": null,
   "metadata": {},
   "outputs": [],
   "source": [
    "new_data['mon_fri'] = 0\n",
    "for i in range(0,len(new_data)):\n",
    "    if (new_data['Dayofweek'][i] == 0 or new_data['Dayofweek'][i] == 4):\n",
    "        new_data['mon_fri'][i] = 1\n",
    "    else:\n",
    "        new_data['mon_fri'][i] = 0"
   ]
  },
  {
   "cell_type": "code",
   "execution_count": null,
   "metadata": {},
   "outputs": [],
   "source": [
    "#split into train and validation\n",
    "train = new_data[:987]\n",
    "valid = new_data[987:]\n",
    "\n",
    "x_train = train.drop('Close', axis=1)\n",
    "y_train = train['Close']\n",
    "x_valid = valid.drop('Close', axis=1)\n",
    "y_valid = valid['Close']\n",
    "\n",
    "#implement linear regression\n",
    "from sklearn.linear_model import LinearRegression\n",
    "model = LinearRegression()\n",
    "model.fit(x_train,y_train)"
   ]
  },
  {
   "cell_type": "code",
   "execution_count": null,
   "metadata": {},
   "outputs": [],
   "source": [
    "#make predictions and find the rmse\n",
    "preds = model.predict(X_test_scaled)\n",
    "rms=np.sqrt(np.mean(np.power((np.array(y_test_scaled)-np.array(preds)),2)))\n",
    "rms"
   ]
  },
  {
   "cell_type": "code",
   "execution_count": 33,
   "metadata": {},
   "outputs": [
    {
     "name": "stdout",
     "output_type": "stream",
     "text": [
      "MSE: 1.2252289232218518, R2: -0.09345626029037213\n"
     ]
    }
   ],
   "source": [
    "from sklearn.metrics import mean_squared_error\n",
    "\n",
    "predictions = model.predict(X_test_scaled)\n",
    "MSE = mean_squared_error(y_test_scaled, predictions)\n",
    "r2 = model.score(X_test_scaled, y_test_scaled)\n",
    "\n",
    "print(f\"MSE: {MSE}, R2: {r2}\")"
   ]
  },
  {
   "cell_type": "code",
   "execution_count": null,
   "metadata": {},
   "outputs": [],
   "source": [
    "#plot\n",
    "valid['Predictions'] = 0\n",
    "valid['Predictions'] = preds\n",
    "\n",
    "valid.index = new_data[987:].index\n",
    "train.index = new_data[:987].index\n",
    "\n",
    "plt.plot(train['Close'])\n",
    "plt.plot(valid[['Close', 'Predictions']])"
   ]
  },
  {
   "cell_type": "markdown",
   "metadata": {},
   "source": [
    "# K-Nearest Neighbours"
   ]
  },
  {
   "cell_type": "code",
   "execution_count": 27,
   "metadata": {},
   "outputs": [],
   "source": [
    "import matplotlib.pyplot as plt\n",
    "from sklearn.datasets import load_iris\n",
    "from sklearn.model_selection import train_test_split\n",
    "from sklearn.neighbors import KNeighborsClassifier\n",
    "from sklearn.metrics import accuracy_score"
   ]
  },
  {
   "cell_type": "code",
   "execution_count": 19,
   "metadata": {},
   "outputs": [
    {
     "data": {
      "text/html": [
       "<div>\n",
       "<style scoped>\n",
       "    .dataframe tbody tr th:only-of-type {\n",
       "        vertical-align: middle;\n",
       "    }\n",
       "\n",
       "    .dataframe tbody tr th {\n",
       "        vertical-align: top;\n",
       "    }\n",
       "\n",
       "    .dataframe thead th {\n",
       "        text-align: right;\n",
       "    }\n",
       "</style>\n",
       "<table border=\"1\" class=\"dataframe\">\n",
       "  <thead>\n",
       "    <tr style=\"text-align: right;\">\n",
       "      <th></th>\n",
       "      <th>c</th>\n",
       "      <th>h</th>\n",
       "      <th>l</th>\n",
       "      <th>o</th>\n",
       "      <th>s</th>\n",
       "      <th>t</th>\n",
       "      <th>v</th>\n",
       "    </tr>\n",
       "  </thead>\n",
       "  <tbody>\n",
       "    <tr>\n",
       "      <th>0</th>\n",
       "      <td>6.95</td>\n",
       "      <td>7.00</td>\n",
       "      <td>6.94</td>\n",
       "      <td>6.96</td>\n",
       "      <td>ok</td>\n",
       "      <td>1534167000</td>\n",
       "      <td>9981200</td>\n",
       "    </tr>\n",
       "    <tr>\n",
       "      <th>1</th>\n",
       "      <td>6.96</td>\n",
       "      <td>7.01</td>\n",
       "      <td>6.95</td>\n",
       "      <td>6.95</td>\n",
       "      <td>ok</td>\n",
       "      <td>1534253400</td>\n",
       "      <td>11320000</td>\n",
       "    </tr>\n",
       "    <tr>\n",
       "      <th>2</th>\n",
       "      <td>6.90</td>\n",
       "      <td>6.96</td>\n",
       "      <td>6.84</td>\n",
       "      <td>6.94</td>\n",
       "      <td>ok</td>\n",
       "      <td>1534339800</td>\n",
       "      <td>12260900</td>\n",
       "    </tr>\n",
       "    <tr>\n",
       "      <th>3</th>\n",
       "      <td>6.94</td>\n",
       "      <td>7.01</td>\n",
       "      <td>6.93</td>\n",
       "      <td>6.93</td>\n",
       "      <td>ok</td>\n",
       "      <td>1534426200</td>\n",
       "      <td>9581200</td>\n",
       "    </tr>\n",
       "    <tr>\n",
       "      <th>4</th>\n",
       "      <td>6.97</td>\n",
       "      <td>7.02</td>\n",
       "      <td>6.91</td>\n",
       "      <td>6.94</td>\n",
       "      <td>ok</td>\n",
       "      <td>1534512600</td>\n",
       "      <td>11454400</td>\n",
       "    </tr>\n",
       "    <tr>\n",
       "      <th>...</th>\n",
       "      <td>...</td>\n",
       "      <td>...</td>\n",
       "      <td>...</td>\n",
       "      <td>...</td>\n",
       "      <td>...</td>\n",
       "      <td>...</td>\n",
       "      <td>...</td>\n",
       "    </tr>\n",
       "    <tr>\n",
       "      <th>407</th>\n",
       "      <td>5.20</td>\n",
       "      <td>5.35</td>\n",
       "      <td>5.07</td>\n",
       "      <td>5.07</td>\n",
       "      <td>ok</td>\n",
       "      <td>1585229400</td>\n",
       "      <td>27208100</td>\n",
       "    </tr>\n",
       "    <tr>\n",
       "      <th>408</th>\n",
       "      <td>4.93</td>\n",
       "      <td>5.06</td>\n",
       "      <td>4.90</td>\n",
       "      <td>5.04</td>\n",
       "      <td>ok</td>\n",
       "      <td>1585315800</td>\n",
       "      <td>24632800</td>\n",
       "    </tr>\n",
       "    <tr>\n",
       "      <th>409</th>\n",
       "      <td>4.81</td>\n",
       "      <td>5.08</td>\n",
       "      <td>4.76</td>\n",
       "      <td>4.96</td>\n",
       "      <td>ok</td>\n",
       "      <td>1585575000</td>\n",
       "      <td>34793000</td>\n",
       "    </tr>\n",
       "    <tr>\n",
       "      <th>410</th>\n",
       "      <td>4.94</td>\n",
       "      <td>5.12</td>\n",
       "      <td>4.80</td>\n",
       "      <td>4.84</td>\n",
       "      <td>ok</td>\n",
       "      <td>1585661400</td>\n",
       "      <td>29402000</td>\n",
       "    </tr>\n",
       "    <tr>\n",
       "      <th>411</th>\n",
       "      <td>4.66</td>\n",
       "      <td>4.91</td>\n",
       "      <td>4.60</td>\n",
       "      <td>4.76</td>\n",
       "      <td>ok</td>\n",
       "      <td>1585747800</td>\n",
       "      <td>26468000</td>\n",
       "    </tr>\n",
       "  </tbody>\n",
       "</table>\n",
       "<p>412 rows × 7 columns</p>\n",
       "</div>"
      ],
      "text/plain": [
       "        c     h     l     o   s           t         v\n",
       "0    6.95  7.00  6.94  6.96  ok  1534167000   9981200\n",
       "1    6.96  7.01  6.95  6.95  ok  1534253400  11320000\n",
       "2    6.90  6.96  6.84  6.94  ok  1534339800  12260900\n",
       "3    6.94  7.01  6.93  6.93  ok  1534426200   9581200\n",
       "4    6.97  7.02  6.91  6.94  ok  1534512600  11454400\n",
       "..    ...   ...   ...   ...  ..         ...       ...\n",
       "407  5.20  5.35  5.07  5.07  ok  1585229400  27208100\n",
       "408  4.93  5.06  4.90  5.04  ok  1585315800  24632800\n",
       "409  4.81  5.08  4.76  4.96  ok  1585575000  34793000\n",
       "410  4.94  5.12  4.80  4.84  ok  1585661400  29402000\n",
       "411  4.66  4.91  4.60  4.76  ok  1585747800  26468000\n",
       "\n",
       "[412 rows x 7 columns]"
      ]
     },
     "execution_count": 19,
     "metadata": {},
     "output_type": "execute_result"
    }
   ],
   "source": [
    "#read the file\n",
    "df = pd.read_json (r'SIRI.json')\n",
    "\n",
    "#print the head\n",
    "df"
   ]
  },
  {
   "cell_type": "code",
   "execution_count": 20,
   "metadata": {},
   "outputs": [],
   "source": [
    "X = df.t\n",
    "y = df.c"
   ]
  },
  {
   "cell_type": "code",
   "execution_count": 21,
   "metadata": {},
   "outputs": [
    {
     "ename": "ValueError",
     "evalue": "The least populated class in y has only 1 member, which is too few. The minimum number of groups for any class cannot be less than 2.",
     "output_type": "error",
     "traceback": [
      "\u001b[1;31m---------------------------------------------------------------------------\u001b[0m",
      "\u001b[1;31mValueError\u001b[0m                                Traceback (most recent call last)",
      "\u001b[1;32m<ipython-input-21-b12d3c70124b>\u001b[0m in \u001b[0;36m<module>\u001b[1;34m\u001b[0m\n\u001b[1;32m----> 1\u001b[1;33m \u001b[0mX_train\u001b[0m\u001b[1;33m,\u001b[0m \u001b[0mX_test\u001b[0m\u001b[1;33m,\u001b[0m \u001b[0my_train\u001b[0m\u001b[1;33m,\u001b[0m \u001b[0my_test\u001b[0m \u001b[1;33m=\u001b[0m \u001b[0mtrain_test_split\u001b[0m\u001b[1;33m(\u001b[0m\u001b[0mX\u001b[0m\u001b[1;33m,\u001b[0m \u001b[0my\u001b[0m\u001b[1;33m,\u001b[0m \u001b[0mrandom_state\u001b[0m\u001b[1;33m=\u001b[0m\u001b[1;36m42\u001b[0m\u001b[1;33m,\u001b[0m \u001b[0mstratify\u001b[0m\u001b[1;33m=\u001b[0m\u001b[0my\u001b[0m\u001b[1;33m)\u001b[0m\u001b[1;33m\u001b[0m\u001b[1;33m\u001b[0m\u001b[0m\n\u001b[0m",
      "\u001b[1;32m~\\anaconda\\envs\\PythonData\\lib\\site-packages\\sklearn\\model_selection\\_split.py\u001b[0m in \u001b[0;36mtrain_test_split\u001b[1;34m(*arrays, **options)\u001b[0m\n\u001b[0;32m   2119\u001b[0m                      random_state=random_state)\n\u001b[0;32m   2120\u001b[0m \u001b[1;33m\u001b[0m\u001b[0m\n\u001b[1;32m-> 2121\u001b[1;33m         \u001b[0mtrain\u001b[0m\u001b[1;33m,\u001b[0m \u001b[0mtest\u001b[0m \u001b[1;33m=\u001b[0m \u001b[0mnext\u001b[0m\u001b[1;33m(\u001b[0m\u001b[0mcv\u001b[0m\u001b[1;33m.\u001b[0m\u001b[0msplit\u001b[0m\u001b[1;33m(\u001b[0m\u001b[0mX\u001b[0m\u001b[1;33m=\u001b[0m\u001b[0marrays\u001b[0m\u001b[1;33m[\u001b[0m\u001b[1;36m0\u001b[0m\u001b[1;33m]\u001b[0m\u001b[1;33m,\u001b[0m \u001b[0my\u001b[0m\u001b[1;33m=\u001b[0m\u001b[0mstratify\u001b[0m\u001b[1;33m)\u001b[0m\u001b[1;33m)\u001b[0m\u001b[1;33m\u001b[0m\u001b[1;33m\u001b[0m\u001b[0m\n\u001b[0m\u001b[0;32m   2122\u001b[0m \u001b[1;33m\u001b[0m\u001b[0m\n\u001b[0;32m   2123\u001b[0m     return list(chain.from_iterable((safe_indexing(a, train),\n",
      "\u001b[1;32m~\\anaconda\\envs\\PythonData\\lib\\site-packages\\sklearn\\model_selection\\_split.py\u001b[0m in \u001b[0;36msplit\u001b[1;34m(self, X, y, groups)\u001b[0m\n\u001b[0;32m   1321\u001b[0m         \"\"\"\n\u001b[0;32m   1322\u001b[0m         \u001b[0mX\u001b[0m\u001b[1;33m,\u001b[0m \u001b[0my\u001b[0m\u001b[1;33m,\u001b[0m \u001b[0mgroups\u001b[0m \u001b[1;33m=\u001b[0m \u001b[0mindexable\u001b[0m\u001b[1;33m(\u001b[0m\u001b[0mX\u001b[0m\u001b[1;33m,\u001b[0m \u001b[0my\u001b[0m\u001b[1;33m,\u001b[0m \u001b[0mgroups\u001b[0m\u001b[1;33m)\u001b[0m\u001b[1;33m\u001b[0m\u001b[1;33m\u001b[0m\u001b[0m\n\u001b[1;32m-> 1323\u001b[1;33m         \u001b[1;32mfor\u001b[0m \u001b[0mtrain\u001b[0m\u001b[1;33m,\u001b[0m \u001b[0mtest\u001b[0m \u001b[1;32min\u001b[0m \u001b[0mself\u001b[0m\u001b[1;33m.\u001b[0m\u001b[0m_iter_indices\u001b[0m\u001b[1;33m(\u001b[0m\u001b[0mX\u001b[0m\u001b[1;33m,\u001b[0m \u001b[0my\u001b[0m\u001b[1;33m,\u001b[0m \u001b[0mgroups\u001b[0m\u001b[1;33m)\u001b[0m\u001b[1;33m:\u001b[0m\u001b[1;33m\u001b[0m\u001b[1;33m\u001b[0m\u001b[0m\n\u001b[0m\u001b[0;32m   1324\u001b[0m             \u001b[1;32myield\u001b[0m \u001b[0mtrain\u001b[0m\u001b[1;33m,\u001b[0m \u001b[0mtest\u001b[0m\u001b[1;33m\u001b[0m\u001b[1;33m\u001b[0m\u001b[0m\n\u001b[0;32m   1325\u001b[0m \u001b[1;33m\u001b[0m\u001b[0m\n",
      "\u001b[1;32m~\\anaconda\\envs\\PythonData\\lib\\site-packages\\sklearn\\model_selection\\_split.py\u001b[0m in \u001b[0;36m_iter_indices\u001b[1;34m(self, X, y, groups)\u001b[0m\n\u001b[0;32m   1634\u001b[0m         \u001b[0mclass_counts\u001b[0m \u001b[1;33m=\u001b[0m \u001b[0mnp\u001b[0m\u001b[1;33m.\u001b[0m\u001b[0mbincount\u001b[0m\u001b[1;33m(\u001b[0m\u001b[0my_indices\u001b[0m\u001b[1;33m)\u001b[0m\u001b[1;33m\u001b[0m\u001b[1;33m\u001b[0m\u001b[0m\n\u001b[0;32m   1635\u001b[0m         \u001b[1;32mif\u001b[0m \u001b[0mnp\u001b[0m\u001b[1;33m.\u001b[0m\u001b[0mmin\u001b[0m\u001b[1;33m(\u001b[0m\u001b[0mclass_counts\u001b[0m\u001b[1;33m)\u001b[0m \u001b[1;33m<\u001b[0m \u001b[1;36m2\u001b[0m\u001b[1;33m:\u001b[0m\u001b[1;33m\u001b[0m\u001b[1;33m\u001b[0m\u001b[0m\n\u001b[1;32m-> 1636\u001b[1;33m             raise ValueError(\"The least populated class in y has only 1\"\n\u001b[0m\u001b[0;32m   1637\u001b[0m                              \u001b[1;34m\" member, which is too few. The minimum\"\u001b[0m\u001b[1;33m\u001b[0m\u001b[1;33m\u001b[0m\u001b[0m\n\u001b[0;32m   1638\u001b[0m                              \u001b[1;34m\" number of groups for any class cannot\"\u001b[0m\u001b[1;33m\u001b[0m\u001b[1;33m\u001b[0m\u001b[0m\n",
      "\u001b[1;31mValueError\u001b[0m: The least populated class in y has only 1 member, which is too few. The minimum number of groups for any class cannot be less than 2."
     ]
    }
   ],
   "source": [
    "X_train, X_test, y_train, y_test = train_test_split(X, y, random_state=42, stratify=y)"
   ]
  },
  {
   "cell_type": "code",
   "execution_count": null,
   "metadata": {},
   "outputs": [],
   "source": [
    "from sklearn.preprocessing import StandardScaler\n",
    "\n",
    "# Create a StandardScater model and fit it to the training data\n",
    "\n",
    "X_scaler = StandardScaler().fit(X_train.reshape(-1, 1))"
   ]
  },
  {
   "cell_type": "code",
   "execution_count": null,
   "metadata": {},
   "outputs": [],
   "source": [
    "# Transform the training and testing data using the X_scaler and y_scaler models\n",
    "\n",
    "X_train_scaled = X_scaler.transform(X_train)\n",
    "X_test_scaled = X_scaler.transform(X_test)"
   ]
  },
  {
   "cell_type": "code",
   "execution_count": null,
   "metadata": {},
   "outputs": [],
   "source": [
    "# Loop through different k values to see which has the highest accuracy\n",
    "# Note: We only use odd numbers because we don't want any ties\n",
    "train_scores = []\n",
    "test_scores = []\n",
    "for k in range(1, 20, 2):\n",
    "    knn = KNeighborsClassifier(n_neighbors=k)\n",
    "    knn.fit(X_train_scaled, y_train)\n",
    "    train_score = knn.score(X_train_scaled, y_train)\n",
    "    test_score = knn.score(X_test_scaled, y_test)\n",
    "    train_scores.append(train_score)\n",
    "    test_scores.append(test_score)\n",
    "    print(f\"k: {k}, Train/Test Score: {train_score:.3f}/{test_score:.3f}\")"
   ]
  },
  {
   "cell_type": "code",
   "execution_count": 22,
   "metadata": {},
   "outputs": [],
   "source": [
    "#importing libraries\n",
    "from sklearn import neighbors\n",
    "from sklearn.model_selection import GridSearchCV\n",
    "from sklearn.preprocessing import MinMaxScaler\n",
    "scaler = MinMaxScaler(feature_range=(0, 1))"
   ]
  },
  {
   "cell_type": "code",
   "execution_count": null,
   "metadata": {},
   "outputs": [],
   "source": [
    "#scaling data\n",
    "x_train_scaled = scaler.fit_transform(X_train)\n",
    "x_train = pd.DataFrame(x_train_scaled)\n",
    "x_test_scaled = scaler.fit_transform(X_test)\n",
    "x_valid = pd.DataFrame(x_test_scaled)\n",
    "\n",
    "#using gridsearch to find the best parameter\n",
    "params = {'n_neighbors':[2,3,4,5,6,7,8,9]}\n",
    "knn = neighbors.KNeighborsRegressor()\n",
    "model = GridSearchCV(knn, params, cv=5)\n",
    "\n",
    "#fit the model and make predictions\n",
    "model.fit(x_train,y_train)\n",
    "preds = model.predict(x_test)"
   ]
  },
  {
   "cell_type": "code",
   "execution_count": null,
   "metadata": {},
   "outputs": [],
   "source": [
    "#rmse\n",
    "rms=np.sqrt(np.mean(np.power((np.array(y_valid)-np.array(preds)),2)))\n",
    "rms"
   ]
  },
  {
   "cell_type": "code",
   "execution_count": null,
   "metadata": {},
   "outputs": [],
   "source": [
    "#plot\n",
    "valid['Predictions'] = 0\n",
    "valid['Predictions'] = preds\n",
    "plt.plot(valid[['Close', 'Predictions']])\n",
    "plt.plot(train['Close'])"
   ]
  },
  {
   "cell_type": "code",
   "execution_count": null,
   "metadata": {},
   "outputs": [],
   "source": []
  },
  {
   "cell_type": "code",
   "execution_count": 23,
   "metadata": {},
   "outputs": [
    {
     "data": {
      "text/html": [
       "<div>\n",
       "<style scoped>\n",
       "    .dataframe tbody tr th:only-of-type {\n",
       "        vertical-align: middle;\n",
       "    }\n",
       "\n",
       "    .dataframe tbody tr th {\n",
       "        vertical-align: top;\n",
       "    }\n",
       "\n",
       "    .dataframe thead th {\n",
       "        text-align: right;\n",
       "    }\n",
       "</style>\n",
       "<table border=\"1\" class=\"dataframe\">\n",
       "  <thead>\n",
       "    <tr style=\"text-align: right;\">\n",
       "      <th></th>\n",
       "      <th>Open-Close</th>\n",
       "      <th>High-Low</th>\n",
       "    </tr>\n",
       "  </thead>\n",
       "  <tbody>\n",
       "    <tr>\n",
       "      <th>0</th>\n",
       "      <td>0.01</td>\n",
       "      <td>0.06</td>\n",
       "    </tr>\n",
       "    <tr>\n",
       "      <th>1</th>\n",
       "      <td>-0.01</td>\n",
       "      <td>0.06</td>\n",
       "    </tr>\n",
       "    <tr>\n",
       "      <th>2</th>\n",
       "      <td>0.04</td>\n",
       "      <td>0.12</td>\n",
       "    </tr>\n",
       "    <tr>\n",
       "      <th>3</th>\n",
       "      <td>-0.01</td>\n",
       "      <td>0.08</td>\n",
       "    </tr>\n",
       "    <tr>\n",
       "      <th>4</th>\n",
       "      <td>-0.03</td>\n",
       "      <td>0.11</td>\n",
       "    </tr>\n",
       "  </tbody>\n",
       "</table>\n",
       "</div>"
      ],
      "text/plain": [
       "   Open-Close  High-Low\n",
       "0        0.01      0.06\n",
       "1       -0.01      0.06\n",
       "2        0.04      0.12\n",
       "3       -0.01      0.08\n",
       "4       -0.03      0.11"
      ]
     },
     "execution_count": 23,
     "metadata": {},
     "output_type": "execute_result"
    }
   ],
   "source": [
    "# Predictor variables\n",
    "df['Open-Close']= df.o -df.c\n",
    "df['High-Low']  = df.h - df.l\n",
    "df =df.dropna()\n",
    "X= df[['Open-Close', 'High-Low']]\n",
    "X.head()"
   ]
  },
  {
   "cell_type": "code",
   "execution_count": 24,
   "metadata": {},
   "outputs": [],
   "source": [
    "# Target variable\n",
    "Y= np.where(df['c'].shift(-1)>df['c'],1,-1)"
   ]
  },
  {
   "cell_type": "code",
   "execution_count": 25,
   "metadata": {},
   "outputs": [],
   "source": [
    "# Splitting the dataset\n",
    "split_percentage = 0.7\n",
    "split = int(split_percentage*len(df))\n",
    "\n",
    "X_train = X[:split]\n",
    "Y_train = Y[:split]\n",
    "\n",
    "X_test = X[split:]\n",
    "Y_test = Y[split:]"
   ]
  },
  {
   "cell_type": "code",
   "execution_count": 28,
   "metadata": {},
   "outputs": [
    {
     "name": "stdout",
     "output_type": "stream",
     "text": [
      "Train_data Accuracy: 0.63\n",
      "Test_data Accuracy: 0.50\n"
     ]
    }
   ],
   "source": [
    "# Instantiate KNN learning model(k=15)\n",
    "knn = KNeighborsClassifier(n_neighbors=15)\n",
    "\n",
    "# fit the model\n",
    "knn.fit(X_train, Y_train)\n",
    "\n",
    "# Accuracy Score\n",
    "accuracy_train = accuracy_score(Y_train, knn.predict(X_train))\n",
    "accuracy_test = accuracy_score(Y_test, knn.predict(X_test))\n",
    "\n",
    "print ('Train_data Accuracy: %.2f' %accuracy_train)\n",
    "print ('Test_data Accuracy: %.2f' %accuracy_test)"
   ]
  },
  {
   "cell_type": "code",
   "execution_count": 30,
   "metadata": {},
   "outputs": [
    {
     "data": {
      "image/png": "[encoded data removed]",
      "text/plain": [
       "<Figure size 720x360 with 1 Axes>"
      ]
     },
     "metadata": {
      "needs_background": "light"
     },
     "output_type": "display_data"
    }
   ],
   "source": [
    "# Predicted Signal\n",
    "df['Predicted_Signal'] = knn.predict(X)\n",
    "\n",
    "# SPY Cumulative Returns\n",
    "df['SPY_returns'] = np.log(df['c']/df['c'].shift(1))\n",
    "Cumulative_SPY_returns = df[split:]['SPY_returns'].cumsum()*100\n",
    "\n",
    "# Cumulative Strategy Returns \n",
    "df['Startegy_returns'] = df['SPY_returns']* df['Predicted_Signal'].shift(1)\n",
    "Cumulative_Strategy_returns = df[split:]['Startegy_returns'].cumsum()*100\n",
    "\n",
    "# Plot the results to visualize the performance\n",
    "\n",
    "plt.figure(figsize=(10,5))\n",
    "plt.plot(Cumulative_SPY_returns, color='r',label = 'SPY Returns')\n",
    "plt.plot(Cumulative_Strategy_returns, color='g', label = 'Strategy Returns')\n",
    "plt.legend()\n",
    "plt.show()"
   ]
  },
  {
   "cell_type": "code",
   "execution_count": 31,
   "metadata": {},
   "outputs": [
    {
     "name": "stdout",
     "output_type": "stream",
     "text": [
      "Sharpe ratio: 0.31\n"
     ]
    }
   ],
   "source": [
    "# Calculate Sharpe reatio\n",
    "Std = Cumulative_Strategy_returns.std()\n",
    "Sharpe = (Cumulative_Strategy_returns-Cumulative_SPY_returns)/Std\n",
    "Sharpe = Sharpe.mean()\n",
    "print ('Sharpe ratio: %.2f'%Sharpe )"
   ]
  },
  {
   "cell_type": "markdown",
   "metadata": {},
   "source": [
    "# Auto ARIMA"
   ]
  },
  {
   "cell_type": "code",
   "execution_count": 1,
   "metadata": {},
   "outputs": [],
   "source": [
    "import numpy as np \n",
    "import pandas as pd \n",
    "import matplotlib.pyplot as plt\n",
    "from pandas.plotting import lag_plot\n",
    "from pandas import datetime\n",
    "from statsmodels.tsa.arima_model import ARIMA\n",
    "from sklearn.metrics import mean_squared_error"
   ]
  },
  {
   "cell_type": "code",
   "execution_count": 3,
   "metadata": {},
   "outputs": [
    {
     "data": {
      "text/html": [
       "<div>\n",
       "<style scoped>\n",
       "    .dataframe tbody tr th:only-of-type {\n",
       "        vertical-align: middle;\n",
       "    }\n",
       "\n",
       "    .dataframe tbody tr th {\n",
       "        vertical-align: top;\n",
       "    }\n",
       "\n",
       "    .dataframe thead th {\n",
       "        text-align: right;\n",
       "    }\n",
       "</style>\n",
       "<table border=\"1\" class=\"dataframe\">\n",
       "  <thead>\n",
       "    <tr style=\"text-align: right;\">\n",
       "      <th></th>\n",
       "      <th>c</th>\n",
       "      <th>h</th>\n",
       "      <th>l</th>\n",
       "      <th>o</th>\n",
       "      <th>s</th>\n",
       "      <th>t</th>\n",
       "      <th>v</th>\n",
       "    </tr>\n",
       "  </thead>\n",
       "  <tbody>\n",
       "    <tr>\n",
       "      <th>0</th>\n",
       "      <td>6.95</td>\n",
       "      <td>7.00</td>\n",
       "      <td>6.94</td>\n",
       "      <td>6.96</td>\n",
       "      <td>ok</td>\n",
       "      <td>1534167000</td>\n",
       "      <td>9981200</td>\n",
       "    </tr>\n",
       "    <tr>\n",
       "      <th>1</th>\n",
       "      <td>6.96</td>\n",
       "      <td>7.01</td>\n",
       "      <td>6.95</td>\n",
       "      <td>6.95</td>\n",
       "      <td>ok</td>\n",
       "      <td>1534253400</td>\n",
       "      <td>11320000</td>\n",
       "    </tr>\n",
       "    <tr>\n",
       "      <th>2</th>\n",
       "      <td>6.90</td>\n",
       "      <td>6.96</td>\n",
       "      <td>6.84</td>\n",
       "      <td>6.94</td>\n",
       "      <td>ok</td>\n",
       "      <td>1534339800</td>\n",
       "      <td>12260900</td>\n",
       "    </tr>\n",
       "    <tr>\n",
       "      <th>3</th>\n",
       "      <td>6.94</td>\n",
       "      <td>7.01</td>\n",
       "      <td>6.93</td>\n",
       "      <td>6.93</td>\n",
       "      <td>ok</td>\n",
       "      <td>1534426200</td>\n",
       "      <td>9581200</td>\n",
       "    </tr>\n",
       "    <tr>\n",
       "      <th>4</th>\n",
       "      <td>6.97</td>\n",
       "      <td>7.02</td>\n",
       "      <td>6.91</td>\n",
       "      <td>6.94</td>\n",
       "      <td>ok</td>\n",
       "      <td>1534512600</td>\n",
       "      <td>11454400</td>\n",
       "    </tr>\n",
       "    <tr>\n",
       "      <th>...</th>\n",
       "      <td>...</td>\n",
       "      <td>...</td>\n",
       "      <td>...</td>\n",
       "      <td>...</td>\n",
       "      <td>...</td>\n",
       "      <td>...</td>\n",
       "      <td>...</td>\n",
       "    </tr>\n",
       "    <tr>\n",
       "      <th>407</th>\n",
       "      <td>5.20</td>\n",
       "      <td>5.35</td>\n",
       "      <td>5.07</td>\n",
       "      <td>5.07</td>\n",
       "      <td>ok</td>\n",
       "      <td>1585229400</td>\n",
       "      <td>27208100</td>\n",
       "    </tr>\n",
       "    <tr>\n",
       "      <th>408</th>\n",
       "      <td>4.93</td>\n",
       "      <td>5.06</td>\n",
       "      <td>4.90</td>\n",
       "      <td>5.04</td>\n",
       "      <td>ok</td>\n",
       "      <td>1585315800</td>\n",
       "      <td>24632800</td>\n",
       "    </tr>\n",
       "    <tr>\n",
       "      <th>409</th>\n",
       "      <td>4.81</td>\n",
       "      <td>5.08</td>\n",
       "      <td>4.76</td>\n",
       "      <td>4.96</td>\n",
       "      <td>ok</td>\n",
       "      <td>1585575000</td>\n",
       "      <td>34793000</td>\n",
       "    </tr>\n",
       "    <tr>\n",
       "      <th>410</th>\n",
       "      <td>4.94</td>\n",
       "      <td>5.12</td>\n",
       "      <td>4.80</td>\n",
       "      <td>4.84</td>\n",
       "      <td>ok</td>\n",
       "      <td>1585661400</td>\n",
       "      <td>29402000</td>\n",
       "    </tr>\n",
       "    <tr>\n",
       "      <th>411</th>\n",
       "      <td>4.66</td>\n",
       "      <td>4.91</td>\n",
       "      <td>4.60</td>\n",
       "      <td>4.76</td>\n",
       "      <td>ok</td>\n",
       "      <td>1585747800</td>\n",
       "      <td>26468000</td>\n",
       "    </tr>\n",
       "  </tbody>\n",
       "</table>\n",
       "<p>412 rows × 7 columns</p>\n",
       "</div>"
      ],
      "text/plain": [
       "        c     h     l     o   s           t         v\n",
       "0    6.95  7.00  6.94  6.96  ok  1534167000   9981200\n",
       "1    6.96  7.01  6.95  6.95  ok  1534253400  11320000\n",
       "2    6.90  6.96  6.84  6.94  ok  1534339800  12260900\n",
       "3    6.94  7.01  6.93  6.93  ok  1534426200   9581200\n",
       "4    6.97  7.02  6.91  6.94  ok  1534512600  11454400\n",
       "..    ...   ...   ...   ...  ..         ...       ...\n",
       "407  5.20  5.35  5.07  5.07  ok  1585229400  27208100\n",
       "408  4.93  5.06  4.90  5.04  ok  1585315800  24632800\n",
       "409  4.81  5.08  4.76  4.96  ok  1585575000  34793000\n",
       "410  4.94  5.12  4.80  4.84  ok  1585661400  29402000\n",
       "411  4.66  4.91  4.60  4.76  ok  1585747800  26468000\n",
       "\n",
       "[412 rows x 7 columns]"
      ]
     },
     "execution_count": 3,
     "metadata": {},
     "output_type": "execute_result"
    }
   ],
   "source": [
    "#read the file\n",
    "df = pd.read_json (r'SIRI.json')\n",
    "\n",
    "#print the head\n",
    "df"
   ]
  },
  {
   "cell_type": "code",
   "execution_count": 4,
   "metadata": {},
   "outputs": [
    {
     "data": {
      "text/plain": [
       "Text(0.5, 1.0, 'Microsoft Autocorrelation plot')"
      ]
     },
     "execution_count": 4,
     "metadata": {},
     "output_type": "execute_result"
    },
    {
     "data": {
      "image/png": "[encoded data removed]",
      "text/plain": [
       "<Figure size 720x720 with 1 Axes>"
      ]
     },
     "metadata": {
      "needs_background": "light"
     },
     "output_type": "display_data"
    }
   ],
   "source": [
    "plt.figure(figsize=(10,10))\n",
    "lag_plot(df['c'], lag=5)\n",
    "plt.title('Microsoft Autocorrelation plot')"
   ]
  },
  {
   "cell_type": "code",
   "execution_count": 5,
   "metadata": {},
   "outputs": [
    {
     "data": {
      "text/plain": [
       "1585747800"
      ]
     },
     "execution_count": 5,
     "metadata": {},
     "output_type": "execute_result"
    }
   ],
   "source": [
    "df['t'][411]"
   ]
  },
  {
   "cell_type": "code",
   "execution_count": 6,
   "metadata": {},
   "outputs": [
    {
     "data": {
      "text/plain": [
       "<matplotlib.legend.Legend at 0x174edea8cc0>"
      ]
     },
     "execution_count": 6,
     "metadata": {},
     "output_type": "execute_result"
    },
    {
     "data": {
      "image/png": "[encoded data removed]",
      "text/plain": [
       "<Figure size 864x504 with 1 Axes>"
      ]
     },
     "metadata": {
      "needs_background": "light"
     },
     "output_type": "display_data"
    }
   ],
   "source": [
    "train_data, test_data = df[0:int(len(df)*0.8)], df[int(len(df)*0.8):]\n",
    "plt.figure(figsize=(12,7))\n",
    "plt.title('Microsoft Prices')\n",
    "plt.xlabel('Dates')\n",
    "plt.ylabel('Prices')\n",
    "plt.plot(df['c'], 'blue', label='Training Data')\n",
    "plt.plot(test_data['c'], 'green', label='Testing Data')\n",
    "plt.xticks(np.arange(0,411, 300), df['t'][0:411:300])\n",
    "plt.legend()"
   ]
  },
  {
   "cell_type": "code",
   "execution_count": 7,
   "metadata": {},
   "outputs": [],
   "source": [
    "def smape_kun(y_true, y_pred):\n",
    "    return np.mean((np.abs(y_pred - y_true) * 200/ (np.abs(y_pred) +       np.abs(y_true))))"
   ]
  },
  {
   "cell_type": "code",
   "execution_count": 8,
   "metadata": {},
   "outputs": [
    {
     "name": "stdout",
     "output_type": "stream",
     "text": [
      "<class 'list'>\n",
      "Testing Mean Squared Error: 0.035\n",
      "Symmetric mean absolute percentage error: 12.569\n"
     ]
    }
   ],
   "source": [
    "train_ar = train_data['c'].values\n",
    "test_ar = test_data['c'].values\n",
    "history = [x for x in train_ar]\n",
    "print(type(history))\n",
    "predictions = list()\n",
    "for t in range(len(test_ar)):\n",
    "    model = ARIMA(history, order=(5,1,0))\n",
    "    model_fit = model.fit(disp=0)\n",
    "    output = model_fit.forecast()\n",
    "    yhat = output[0]\n",
    "    predictions.append(yhat)\n",
    "    obs = test_ar[t]\n",
    "    history.append(obs)\n",
    "error = mean_squared_error(test_ar, predictions)\n",
    "print('Testing Mean Squared Error: %.3f' % error)\n",
    "error2 = smape_kun(test_ar, predictions)\n",
    "print('Symmetric mean absolute percentage error: %.3f' % error2)"
   ]
  },
  {
   "cell_type": "code",
   "execution_count": 9,
   "metadata": {},
   "outputs": [
    {
     "data": {
      "text/html": [
       "<div>\n",
       "<style scoped>\n",
       "    .dataframe tbody tr th:only-of-type {\n",
       "        vertical-align: middle;\n",
       "    }\n",
       "\n",
       "    .dataframe tbody tr th {\n",
       "        vertical-align: top;\n",
       "    }\n",
       "\n",
       "    .dataframe thead th {\n",
       "        text-align: right;\n",
       "    }\n",
       "</style>\n",
       "<table border=\"1\" class=\"dataframe\">\n",
       "  <thead>\n",
       "    <tr style=\"text-align: right;\">\n",
       "      <th></th>\n",
       "      <th>Prediction</th>\n",
       "      <th>Actual</th>\n",
       "    </tr>\n",
       "  </thead>\n",
       "  <tbody>\n",
       "    <tr>\n",
       "      <th>0</th>\n",
       "      <td>[6.893045059838072]</td>\n",
       "      <td>6.78</td>\n",
       "    </tr>\n",
       "    <tr>\n",
       "      <th>1</th>\n",
       "      <td>[6.787690157724871]</td>\n",
       "      <td>6.87</td>\n",
       "    </tr>\n",
       "    <tr>\n",
       "      <th>2</th>\n",
       "      <td>[6.868924265142332]</td>\n",
       "      <td>6.86</td>\n",
       "    </tr>\n",
       "    <tr>\n",
       "      <th>3</th>\n",
       "      <td>[6.865206004527933]</td>\n",
       "      <td>6.83</td>\n",
       "    </tr>\n",
       "    <tr>\n",
       "      <th>4</th>\n",
       "      <td>[6.8298774877577255]</td>\n",
       "      <td>6.87</td>\n",
       "    </tr>\n",
       "    <tr>\n",
       "      <th>...</th>\n",
       "      <td>...</td>\n",
       "      <td>...</td>\n",
       "    </tr>\n",
       "    <tr>\n",
       "      <th>78</th>\n",
       "      <td>[5.121866063680507]</td>\n",
       "      <td>5.20</td>\n",
       "    </tr>\n",
       "    <tr>\n",
       "      <th>79</th>\n",
       "      <td>[5.169776297833784]</td>\n",
       "      <td>4.93</td>\n",
       "    </tr>\n",
       "    <tr>\n",
       "      <th>80</th>\n",
       "      <td>[4.97324672000541]</td>\n",
       "      <td>4.81</td>\n",
       "    </tr>\n",
       "    <tr>\n",
       "      <th>81</th>\n",
       "      <td>[4.81324569100674]</td>\n",
       "      <td>4.94</td>\n",
       "    </tr>\n",
       "    <tr>\n",
       "      <th>82</th>\n",
       "      <td>[4.895697717094647]</td>\n",
       "      <td>4.66</td>\n",
       "    </tr>\n",
       "  </tbody>\n",
       "</table>\n",
       "<p>83 rows × 2 columns</p>\n",
       "</div>"
      ],
      "text/plain": [
       "              Prediction  Actual\n",
       "0    [6.893045059838072]    6.78\n",
       "1    [6.787690157724871]    6.87\n",
       "2    [6.868924265142332]    6.86\n",
       "3    [6.865206004527933]    6.83\n",
       "4   [6.8298774877577255]    6.87\n",
       "..                   ...     ...\n",
       "78   [5.121866063680507]    5.20\n",
       "79   [5.169776297833784]    4.93\n",
       "80    [4.97324672000541]    4.81\n",
       "81    [4.81324569100674]    4.94\n",
       "82   [4.895697717094647]    4.66\n",
       "\n",
       "[83 rows x 2 columns]"
      ]
     },
     "execution_count": 9,
     "metadata": {},
     "output_type": "execute_result"
    }
   ],
   "source": [
    "pd.DataFrame({\"Prediction\": predictions, 'Actual': test_ar})"
   ]
  },
  {
   "cell_type": "code",
   "execution_count": 10,
   "metadata": {},
   "outputs": [
    {
     "data": {
      "text/plain": [
       "<matplotlib.legend.Legend at 0x174ee29bd30>"
      ]
     },
     "execution_count": 10,
     "metadata": {},
     "output_type": "execute_result"
    },
    {
     "data": {
      "image/png": "[encoded data removed]",
      "text/plain": [
       "<Figure size 864x504 with 1 Axes>"
      ]
     },
     "metadata": {
      "needs_background": "light"
     },
     "output_type": "display_data"
    }
   ],
   "source": [
    "plt.figure(figsize=(12,7))\n",
    "plt.plot(df['c'], 'green', color='blue', label='Training Data')\n",
    "plt.plot(test_data.index, predictions, color='green', marker='o', linestyle='dashed', \n",
    "         label='Predicted Price')\n",
    "plt.plot(test_data.index, test_data['c'], color='red', label='Actual Price')\n",
    "plt.title('Microsoft Prices Prediction')\n",
    "plt.xlabel('Dates')\n",
    "plt.ylabel('Prices')\n",
    "plt.xticks(np.arange(0,412, 1300), df['t'][0:412:1300])\n",
    "plt.legend()"
   ]
  },
  {
   "cell_type": "markdown",
   "metadata": {},
   "source": [
    "# Prophet"
   ]
  },
  {
   "cell_type": "code",
   "execution_count": null,
   "metadata": {},
   "outputs": [],
   "source": [
    "#importing prophet\n",
    "from fbprophet import Prophet\n",
    "\n",
    "#creating dataframe\n",
    "new_data = pd.DataFrame(index=range(0,len(df)),columns=['Date', 'Close'])\n",
    "\n",
    "for i in range(0,len(data)):\n",
    "    new_data['Date'][i] = data['Date'][i]\n",
    "    new_data['Close'][i] = data['Close'][i]\n",
    "\n",
    "new_data['Date'] = pd.to_datetime(new_data.Date,format='%Y-%m-%d')\n",
    "new_data.index = new_data['Date']\n",
    "\n",
    "#preparing data\n",
    "new_data.rename(columns={'Close': 'y', 'Date': 'ds'}, inplace=True)\n",
    "\n",
    "#train and validation\n",
    "train = new_data[:987]\n",
    "valid = new_data[987:]\n",
    "\n",
    "#fit the model\n",
    "model = Prophet()\n",
    "model.fit(train)\n",
    "\n",
    "#predictions\n",
    "close_prices = model.make_future_dataframe(periods=len(valid))\n",
    "forecast = model.predict(close_prices)"
   ]
  },
  {
   "cell_type": "code",
   "execution_count": null,
   "metadata": {},
   "outputs": [],
   "source": [
    "#rmse\n",
    "forecast_valid = forecast['yhat'][987:]\n",
    "rms=np.sqrt(np.mean(np.power((np.array(valid['y'])-np.array(forecast_valid)),2)))\n",
    "rms"
   ]
  },
  {
   "cell_type": "code",
   "execution_count": null,
   "metadata": {},
   "outputs": [],
   "source": [
    "#plot\n",
    "valid['Predictions'] = 0\n",
    "valid['Predictions'] = forecast_valid.values\n",
    "\n",
    "plt.plot(train['y'])\n",
    "plt.plot(valid[['y', 'Predictions']])"
   ]
  },
  {
   "cell_type": "markdown",
   "metadata": {},
   "source": [
    "# Long Short Term Memory"
   ]
  },
  {
   "cell_type": "code",
   "execution_count": null,
   "metadata": {},
   "outputs": [],
   "source": [
    "#importing required libraries\n",
    "from sklearn.preprocessing import MinMaxScaler\n",
    "from keras.models import Sequential\n",
    "from keras.layers import Dense, Dropout, LSTM\n",
    "\n",
    "#creating dataframe\n",
    "data = df.sort_index(ascending=True, axis=0)\n",
    "new_data = pd.DataFrame(index=range(0,len(df)),columns=['t', 'c'])\n",
    "for i in range(0,len(data)):\n",
    "    new_data['t'][i] = data['c'][i]\n",
    "    new_data['c'][i] = data['c'][i]\n",
    "\n",
    "#setting index\n",
    "new_data.index = new_data.t\n",
    "new_data.drop('t', axis=1, inplace=True)\n",
    "\n",
    "#creating train and test sets\n",
    "dataset = new_data.values\n",
    "\n",
    "train = dataset[0:987,:]\n",
    "valid = dataset[987:,:]\n",
    "\n",
    "#converting dataset into x_train and y_train\n",
    "scaler = MinMaxScaler(feature_range=(0, 1))\n",
    "scaled_data = scaler.fit_transform(dataset)\n",
    "\n",
    "x_train, y_train = [], []\n",
    "for i in range(60,len(train)):\n",
    "    x_train.append(scaled_data[i-60:i,0])\n",
    "    y_train.append(scaled_data[i,0])\n",
    "x_train, y_train = np.array(x_train), np.array(y_train)\n",
    "\n",
    "x_train = np.reshape(x_train, (x_train.shape[0],x_train.shape[1],1))\n",
    "\n",
    "# create and fit the LSTM network\n",
    "model = Sequential()\n",
    "model.add(LSTM(units=50, return_sequences=True, input_shape=(x_train.shape[1],1)))\n",
    "model.add(LSTM(units=50))\n",
    "model.add(Dense(1))\n",
    "\n",
    "model.compile(loss='mean_squared_error', optimizer='adam')\n",
    "model.fit(x_train, y_train, epochs=1, batch_size=1, verbose=2)\n",
    "\n",
    "#predicting 246 values, using past 60 from the train data\n",
    "inputs = new_data[len(new_data) - len(valid) - 60:].values\n",
    "inputs = inputs.reshape(-1,1)\n",
    "inputs  = scaler.transform(inputs)\n",
    "\n",
    "X_test = []\n",
    "for i in range(60,inputs.shape[0]):\n",
    "    X_test.append(inputs[i-60:i,0])\n",
    "X_test = np.array(X_test)\n",
    "\n",
    "X_test = np.reshape(X_test, (X_test.shape[0],X_test.shape[1],1))\n",
    "closing_price = model.predict(X_test)\n",
    "closing_price = scaler.inverse_transform(closing_price)"
   ]
  },
  {
   "cell_type": "code",
   "execution_count": null,
   "metadata": {},
   "outputs": [],
   "source": [
    "rms=np.sqrt(np.mean(np.power((valid-closing_price),2)))\n",
    "rms"
   ]
  },
  {
   "cell_type": "code",
   "execution_count": null,
   "metadata": {},
   "outputs": [],
   "source": [
    "#for plotting\n",
    "train = new_data[:987]\n",
    "valid = new_data[987:]\n",
    "valid['Predictions'] = closing_price\n",
    "plt.plot(train['c'])\n",
    "plt.plot(valid[['Close','Predictions']])"
   ]
  }
 ],
 "metadata": {
  "kernelspec": {
   "display_name": "PythonData",
   "language": "python",
   "name": "pythondata"
  },
  "language_info": {
   "codemirror_mode": {
    "name": "ipython",
    "version": 3
   },
   "file_extension": ".py",
   "mimetype": "text/x-python",
   "name": "python",
   "nbconvert_exporter": "python",
   "pygments_lexer": "ipython3",
   "version": "3.6.9"
  }
 },
 "nbformat": 4,
 "nbformat_minor": 2
}
