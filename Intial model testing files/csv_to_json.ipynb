{
 "nbformat": 4,
 "nbformat_minor": 2,
 "metadata": {
  "language_info": {
   "name": "python",
   "codemirror_mode": {
    "name": "ipython",
    "version": 3
   },
   "version": "3.7.3-final"
  },
  "orig_nbformat": 2,
  "file_extension": ".py",
  "mimetype": "text/x-python",
  "name": "python",
  "npconvert_exporter": "python",
  "pygments_lexer": "ipython3",
  "version": 3,
  "kernelspec": {
   "name": "python3",
   "display_name": "Python 3"
  }
 },
 "cells": [
  {
   "cell_type": "code",
   "execution_count": 28,
   "metadata": {},
   "outputs": [
    {
     "output_type": "execute_result",
     "data": {
      "text/plain": "  Symbol                                        Name         Market Cap\n0   ATVI      Activision Blizzard, Inc. Common Stock    46,13,79,07,010\n1   ADBE                     Adobe Inc. Common Stock  1,41,46,15,47,569\n2    AMD   Advanced Micro Devices, Inc. Common Stock    49,86,65,99,329\n3   ALXN  Alexion Pharmaceuticals, Inc. Common Stock    19,93,79,17,000\n4   ALGN         Align Technology, Inc. Common Stock    12,14,37,37,426",
      "text/html": "<div>\n<style scoped>\n    .dataframe tbody tr th:only-of-type {\n        vertical-align: middle;\n    }\n\n    .dataframe tbody tr th {\n        vertical-align: top;\n    }\n\n    .dataframe thead th {\n        text-align: right;\n    }\n</style>\n<table border=\"1\" class=\"dataframe\">\n  <thead>\n    <tr style=\"text-align: right;\">\n      <th></th>\n      <th>Symbol</th>\n      <th>Name</th>\n      <th>Market Cap</th>\n    </tr>\n  </thead>\n  <tbody>\n    <tr>\n      <th>0</th>\n      <td>ATVI</td>\n      <td>Activision Blizzard, Inc. Common Stock</td>\n      <td>46,13,79,07,010</td>\n    </tr>\n    <tr>\n      <th>1</th>\n      <td>ADBE</td>\n      <td>Adobe Inc. Common Stock</td>\n      <td>1,41,46,15,47,569</td>\n    </tr>\n    <tr>\n      <th>2</th>\n      <td>AMD</td>\n      <td>Advanced Micro Devices, Inc. Common Stock</td>\n      <td>49,86,65,99,329</td>\n    </tr>\n    <tr>\n      <th>3</th>\n      <td>ALXN</td>\n      <td>Alexion Pharmaceuticals, Inc. Common Stock</td>\n      <td>19,93,79,17,000</td>\n    </tr>\n    <tr>\n      <th>4</th>\n      <td>ALGN</td>\n      <td>Align Technology, Inc. Common Stock</td>\n      <td>12,14,37,37,426</td>\n    </tr>\n  </tbody>\n</table>\n</div>"
     },
     "metadata": {},
     "execution_count": 28
    }
   ],
   "source": [
    "import pandas as pd \n",
    "import json\n",
    "\n",
    "stocks_df = pd.read_csv(\"Nasdaq-100.csv\")\n",
    "stocks_df.head()"
   ]
  },
  {
   "cell_type": "code",
   "execution_count": 23,
   "metadata": {},
   "outputs": [],
   "source": [
    "stocks_json = stocks_df.to_json(\"Nasdaq-100.json\", orient = 'split')"
   ]
  },
  {
   "cell_type": "code",
   "execution_count": 15,
   "metadata": {},
   "outputs": [],
   "source": [
    "with open('Nasdaq-100.json', 'w') as outfile:\n",
    "    json.dump(stocks_json,outfile)"
   ]
  },
  {
   "cell_type": "code",
   "execution_count": 29,
   "metadata": {},
   "outputs": [],
   "source": [
    "stocks_df.to_json(\"Nasdaq-100.json\")"
   ]
  },
  {
   "cell_type": "code",
   "execution_count": null,
   "metadata": {},
   "outputs": [],
   "source": []
  }
 ]
}